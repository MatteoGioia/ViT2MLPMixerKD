{
  "nbformat": 4,
  "nbformat_minor": 0,
  "metadata": {
    "colab": {
      "provenance": [],
      "collapsed_sections": [
        "ES_z2lrFzS4Q"
      ]
    },
    "kernelspec": {
      "name": "python3",
      "display_name": "Python 3"
    },
    "language_info": {
      "name": "python"
    },
    "gpuClass": "standard",
    "accelerator": "GPU"
  },
  "cells": [
    {
      "cell_type": "markdown",
      "source": [
        "# Knowledge distillation\n",
        "In this notebook, we will try to distill the knowledge of a Vision Transformer into a MLP Mixer."
      ],
      "metadata": {
        "id": "dL7l7ZJI61rQ"
      }
    },
    {
      "cell_type": "markdown",
      "source": [
        "##0. Downloads and imports"
      ],
      "metadata": {
        "id": "ES_z2lrFzS4Q"
      }
    },
    {
      "cell_type": "code",
      "source": [
        "#@title Downloads\n",
        "!pip install -q transformers datasets[vision] pytorch-lightning\n",
        "!pip install einops"
      ],
      "metadata": {
        "cellView": "form",
        "id": "4Ol5yDer7LaO",
        "outputId": "9e4c6951-71d5-41ec-d6bf-365aba06e3a1",
        "colab": {
          "base_uri": "https://localhost:8080/"
        }
      },
      "execution_count": 1,
      "outputs": [
        {
          "output_type": "stream",
          "name": "stdout",
          "text": [
            "\u001b[K     |████████████████████████████████| 5.8 MB 13.4 MB/s \n",
            "\u001b[K     |████████████████████████████████| 451 kB 62.2 MB/s \n",
            "\u001b[K     |████████████████████████████████| 798 kB 29.4 MB/s \n",
            "\u001b[K     |████████████████████████████████| 182 kB 61.3 MB/s \n",
            "\u001b[K     |████████████████████████████████| 7.6 MB 51.7 MB/s \n",
            "\u001b[K     |████████████████████████████████| 512 kB 55.2 MB/s \n",
            "\u001b[K     |████████████████████████████████| 125 kB 49.1 MB/s \n",
            "\u001b[K     |████████████████████████████████| 87 kB 2.0 MB/s \n",
            "\u001b[K     |████████████████████████████████| 132 kB 19.5 MB/s \n",
            "\u001b[K     |████████████████████████████████| 212 kB 51.6 MB/s \n",
            "\u001b[K     |████████████████████████████████| 127 kB 53.2 MB/s \n",
            "\u001b[?25h  Building wheel for fire (setup.py) ... \u001b[?25l\u001b[?25hdone\n",
            "Looking in indexes: https://pypi.org/simple, https://us-python.pkg.dev/colab-wheels/public/simple/\n",
            "Collecting einops\n",
            "  Downloading einops-0.6.0-py3-none-any.whl (41 kB)\n",
            "\u001b[K     |████████████████████████████████| 41 kB 492 kB/s \n",
            "\u001b[?25hInstalling collected packages: einops\n",
            "Successfully installed einops-0.6.0\n"
          ]
        }
      ]
    },
    {
      "cell_type": "code",
      "source": [
        "#@title Imports\n",
        "\n",
        "# general imports\n",
        "from typing import *\n",
        "from google.colab import drive\n",
        "import os\n",
        "from pathlib import Path\n",
        "import matplotlib.pyplot as plt\n",
        "from tqdm import tqdm\n",
        "\n",
        "# pytorch imports\n",
        "import torchvision\n",
        "import transformers\n",
        "#from transformers import ViTFeatureExtractor, ViTForImageClassification\n",
        "import torch\n",
        "import numpy as np\n",
        "import einops\n",
        "import torch.nn as nn\n",
        "import torch.nn.functional as F\n",
        "\n",
        "device : str = \"cuda\" if torch.cuda.is_available() else \"cpu\""
      ],
      "metadata": {
        "cellView": "form",
        "id": "WumRkwLd7SKG"
      },
      "execution_count": 2,
      "outputs": []
    },
    {
      "cell_type": "code",
      "source": [
        "#@title Move to the project folder\n",
        "drive.mount('/content/drive', force_remount=True)\n",
        "\n",
        "%cd /content/drive/MyDrive\n",
        "\n",
        "if not os.path.exists(\"ViT2MLP\"):\n",
        "  os.mkdir(\"ViT2MLP\")\n",
        "\n",
        "%cd ViT2MLP"
      ],
      "metadata": {
        "id": "GdzEa5BqwFOy",
        "cellView": "form",
        "outputId": "b3f61576-3dfb-402b-a548-ac7c568a41b5",
        "colab": {
          "base_uri": "https://localhost:8080/"
        }
      },
      "execution_count": 3,
      "outputs": [
        {
          "output_type": "stream",
          "name": "stdout",
          "text": [
            "Mounted at /content/drive\n",
            "/content/drive/MyDrive\n",
            "/content/drive/MyDrive/ViT2MLP\n"
          ]
        }
      ]
    },
    {
      "cell_type": "code",
      "source": [
        "#@title Download the datasets\n",
        "# TODO need to download it\n",
        "#imagenet = torchvision.datasets.ImageNet(root = \".\",split = \"val\")\n",
        "\n",
        "cifar100_test = torchvision.datasets.CIFAR100(root = \".\", train = False, download = True)\n",
        "cifar100_train = torchvision.datasets.CIFAR100(root = \".\", train = True, download = True)"
      ],
      "metadata": {
        "id": "_yAlyRDW8fwM",
        "outputId": "fc08960b-2ba2-4c29-e7e6-9dc7fa22fb39",
        "colab": {
          "base_uri": "https://localhost:8080/"
        }
      },
      "execution_count": 4,
      "outputs": [
        {
          "output_type": "stream",
          "name": "stdout",
          "text": [
            "Files already downloaded and verified\n",
            "Files already downloaded and verified\n"
          ]
        }
      ]
    },
    {
      "cell_type": "code",
      "source": [
        "#@title Visualization function\n",
        "def visualize(datapoint : int, dataset : torchvision.datasets):\n",
        "    image, label = dataset[datapoint]\n",
        "    plt.title(f\"Ground truth: {dataset.classes[label]}\")\n",
        "    plt.imshow(image)"
      ],
      "metadata": {
        "cellView": "form",
        "id": "MLtary4p_Z_B"
      },
      "execution_count": 5,
      "outputs": []
    },
    {
      "cell_type": "markdown",
      "source": [
        "##1. Code for the pre-trained transformer"
      ],
      "metadata": {
        "id": "AjYPKIo8zW_7"
      }
    },
    {
      "cell_type": "markdown",
      "source": [
        "References:\n",
        "- [main transformer docs](https:huggingface.co/docs/transformers/index) \n",
        "- [ViT Docs](https://huggingface.co/docs/transformers/model_doc/vit)\n",
        "- [lighting finetuning example](https://github.com/NielsRogge/Transformers-Tutorials/tree/master/VisionTransformer)"
      ],
      "metadata": {
        "id": "AcazhnqFv0Lx"
      }
    },
    {
      "cell_type": "markdown",
      "source": [
        "### Example of transformer model\n",
        "\n",
        "Load ViT finetuned on Imagenet1k or CIFAR100. To load the non fine-tuned version use **\"google/vit-base-patch16-224-im21k\"**"
      ],
      "metadata": {
        "id": "MKpdGxL59-Is"
      }
    },
    {
      "cell_type": "code",
      "source": [
        "#@title Load the model\n",
        "cifar100_vit = \"Ahmed9275/Vit-Cifar100\"\n",
        "imagenet1k_vit = \"google/vit-base-patch16-224\"\n",
        "tuned_on : str = \"cifar100\" #@param['cifar100', 'imagenet1k']\n",
        "if tuned_on == \"cifar100\":\n",
        "    model_str = cifar100_vit\n",
        "else:\n",
        "    model_str = imagenet1k_vit\n",
        "\n",
        "\n",
        "feature_extractor = transformers.ViTFeatureExtractor.from_pretrained(model_str)\n",
        "\n",
        "model = transformers.ViTForImageClassification.from_pretrained(model_str).to(device)"
      ],
      "metadata": {
        "cellView": "form",
        "id": "WsSKp30aAMah"
      },
      "execution_count": 6,
      "outputs": []
    },
    {
      "cell_type": "code",
      "source": [
        "#@title Function to predict\n",
        "def predict(image, only_label : bool = False) -> str:\n",
        "    inputs = feature_extractor(image, return_tensors=\"pt\").to(device)\n",
        "    with torch.no_grad():\n",
        "        logits = model(**inputs).logits\n",
        "\n",
        "    # model predicts one of the 1000 ImageNet classes\n",
        "    predicted_label : int = logits.argmax(-1).item()\n",
        "    if only_label:\n",
        "        return predicted_label\n",
        "    return model.config.id2label[predicted_label]\n"
      ],
      "metadata": {
        "cellView": "form",
        "id": "qW2bXu6dAYls"
      },
      "execution_count": 7,
      "outputs": []
    },
    {
      "cell_type": "code",
      "source": [
        "#@title Qualitative comparison with ground truth {run : \"auto\"}\n",
        "datapoint_number : int = 1200 #@param{type:\"integer\"}\n",
        "\n",
        "dataset = cifar100_test if tuned_on == \"cifar100\" else imagenet1k\n",
        "try:\n",
        "    visualize(datapoint_number, dataset)\n",
        "    print(f\"Predicted: {predict(dataset[datapoint_number][0])}\")\n",
        "except IndexError:\n",
        "    print(f\"The dataset max index is {len(dataset)-1}\")\n"
      ],
      "metadata": {
        "colab": {
          "base_uri": "https://localhost:8080/",
          "height": 299
        },
        "id": "RBCle0TPyy2b",
        "outputId": "1c1862a3-09d1-453c-9150-48c30a001335",
        "cellView": "form"
      },
      "execution_count": 8,
      "outputs": [
        {
          "output_type": "stream",
          "name": "stdout",
          "text": [
            "Predicted: lion\n"
          ]
        },
        {
          "output_type": "display_data",
          "data": {
            "text/plain": [
              "<Figure size 432x288 with 1 Axes>"
            ],
            "image/png": "[encoded data removed]"
          },
          "metadata": {
            "needs_background": "light"
          }
        }
      ]
    },
    {
      "cell_type": "code",
      "source": [
        "#@title Quantitative result: Accuracy\n",
        "correct = 0\n",
        "for i in tqdm(range(len(dataset))):\n",
        "    pr_label = predict(dataset[i][0], only_label=True)\n",
        "    gt_label = dataset[i][1]\n",
        "    if pr_label == gt_label:\n",
        "        correct += 1\n",
        "accuracy = round(correct*100 / len(dataset),2)\n",
        "print(f\"The accuracy of the model for the dataset {tuned_on} is: {accuracy}%\")"
      ],
      "metadata": {
        "id": "jCqhJyWDHUgL",
        "outputId": "d0a81117-b41c-4bb0-8b68-b5330d6bec2d",
        "colab": {
          "base_uri": "https://localhost:8080/"
        },
        "cellView": "form"
      },
      "execution_count": 9,
      "outputs": [
        {
          "output_type": "stream",
          "name": "stderr",
          "text": [
            "100%|██████████| 10000/10000 [03:08<00:00, 53.03it/s]"
          ]
        },
        {
          "output_type": "stream",
          "name": "stdout",
          "text": [
            "The accuracy of the model for the dataset cifar100 is: 89.85%\n"
          ]
        },
        {
          "output_type": "stream",
          "name": "stderr",
          "text": [
            "\n"
          ]
        }
      ]
    },
    {
      "cell_type": "markdown",
      "source": [
        "##2. Code for MLP mixer"
      ],
      "metadata": {
        "id": "0m4IdUu7-7QI"
      }
    },
    {
      "cell_type": "code",
      "source": [
        "#tentative pytorch implementation for https://github.com/google-research/vision_transformer/blob/main/vit_jax/models_mixer.py\n",
        "#to include: apache license lol\n",
        "\n",
        "class MlpBlock(nn.Module):\n",
        "\n",
        "  #TODO: implement with sequential\n",
        "  def __init__(self, mlp_dim):\n",
        "    super().__init__()\n",
        "    #dense implementation only has out features specified, need to check input dim\n",
        "    self.mlp1 = nn.Linear(in_features=mlp_dim, out_features = mlp_dim)\n",
        "    self.mlp2 = nn.Linear(in_features=mlp_dim, out_features = mlp_dim)\n",
        "    self.activation = F.gelu\n",
        "\n",
        "  def forward(self, x):\n",
        "    y = self.mlp1(x)\n",
        "    y = self.activation(y)\n",
        "    y = self.mlp2(y)\n",
        "    return y\n",
        "\n",
        "class MixerBlock(nn.Module):\n",
        "\n",
        "  #TODO:??\n",
        "  def __init__(self, tokens_mlp_dim, channels_mlp_dim):\n",
        "    super().__init__()\n",
        "    self.layer_norm = torch.nn.LayerNorm([200,2])\n",
        "    self.mlpblock_token_mixer = MlpBlock(tokens_mlp_dim)\n",
        "    self.mlpblock_channel_mixer = MlpBlock(channels_mlp_dim)\n",
        "\n",
        "  def forward(self,x):\n",
        "    y = self.layer_norm(x)\n",
        "    y = np.swapaxes(y,1,2)\n",
        "    y = self.mlpblock_token_mixer(y)\n",
        "    y = np.swapaxes(y,1,2)\n",
        "    x = x + y\n",
        "    y = self.layer_norm(x)\n",
        "    return x + self.mlpblock_channel_mixer(y)\n",
        "\n",
        "class MlpMixer(nn.Module):\n",
        "  \"\"\"Mixer architecture\"\"\"\n",
        "\n",
        "  def __init__(self, hidden_dim : int, patches_size : int,\n",
        "               num_blocks: int, tokens_mlp_dim : int,\n",
        "               channels_mlp_dim : int, num_classes: int):\n",
        "    super().__init__()\n",
        "    self.hidden_dim = hidden_dim\n",
        "    #self.patches_size = patches_size\n",
        "    self.num_blocks = num_blocks\n",
        "    self.num_classes = num_classes\n",
        "    #per patch fully connected?\n",
        "    self.stem = nn.Conv2d(in_channels = 3, \n",
        "                          out_channels = self.hidden_dim,\n",
        "                          kernel_size = (patches_size,patches_size),\n",
        "                          stride = patches_size)\n",
        "    self.mixer_block = MixerBlock(tokens_mlp_dim, channels_mlp_dim)\n",
        "    self.layer_norm = torch.nn.LayerNorm([200,2])\n",
        "    #What is kernel init? Does it initialize everything to 0?\n",
        "    self.fc = nn.Linear(in_features = channels_mlp_dim, out_features = self.num_classes)\n",
        "\n",
        "  #what is * ?\n",
        "  def forward(self, inputs, *, train):\n",
        "    #why delete train?\n",
        "    del train\n",
        "    x = self.stem(inputs)\n",
        "    x = einops.rearrange(x, 'n h w c -> n (h w) c')\n",
        "    for _ in range(self.num_blocks):\n",
        "      x = self.mixer_block(x)\n",
        "    x = self.layer_norm(x)\n",
        "    x = x.mean(dim = 1)\n",
        "    if self.num_classes:\n",
        "      #add classification layer if num classes is specified\n",
        "      x = self.fc(x)\n",
        "    return x"
      ],
      "metadata": {
        "id": "Iqamb0Jj_ZjN"
      },
      "execution_count": null,
      "outputs": []
    },
    {
      "cell_type": "code",
      "source": [
        "net = MlpMixer(hidden_dim = 100,\n",
        "               patches_size = 16,\n",
        "               num_blocks = 1,\n",
        "               tokens_mlp_dim = 200,\n",
        "               channels_mlp_dim = 2,\n",
        "               num_classes = 100)"
      ],
      "metadata": {
        "id": "XMb4Dxiaxg4k"
      },
      "execution_count": null,
      "outputs": []
    },
    {
      "cell_type": "code",
      "source": [
        "import torchvision\n",
        "t = torchvision.transforms.functional.pil_to_tensor(cifar100[0][0]).float().unsqueeze(0)\n",
        "\n",
        "net(t,train=False)"
      ],
      "metadata": {
        "colab": {
          "base_uri": "https://localhost:8080/"
        },
        "id": "NiTeILzTzowd",
        "outputId": "fd6e9c10-c1eb-4c2e-bdf2-5232e3679bb0"
      },
      "execution_count": null,
      "outputs": [
        {
          "output_type": "execute_result",
          "data": {
            "text/plain": [
              "tensor([[-2.8227e-02,  2.4850e-01, -7.0823e-01,  8.8886e-02, -4.6152e-04,\n",
              "          3.6857e-01, -1.8585e-01, -4.2545e-01, -5.2763e-02,  2.9510e-02,\n",
              "         -2.2258e-01,  4.6731e-01,  2.2371e-01,  1.9726e-01, -3.3305e-02,\n",
              "          4.7737e-01,  3.1394e-01, -2.4279e-01, -6.9914e-01, -1.6508e-01,\n",
              "          5.9465e-01, -3.1115e-01,  7.6890e-02,  5.5939e-01,  2.3915e-01,\n",
              "         -3.9857e-01,  5.3749e-01,  2.4786e-01, -6.9891e-01, -1.3914e-01,\n",
              "         -6.5187e-01,  4.0456e-01, -4.2853e-01, -1.3425e-01,  4.6789e-01,\n",
              "         -6.4191e-01, -2.5745e-01,  6.0629e-01,  2.9037e-01, -6.9886e-01,\n",
              "         -2.6686e-01,  1.3916e-01,  6.8655e-01, -6.8173e-01,  5.8004e-01,\n",
              "         -4.0788e-02,  4.6059e-01,  3.2788e-01,  3.9768e-01, -5.9938e-01,\n",
              "         -9.1302e-02,  4.5215e-01,  5.9707e-01,  1.3698e-01,  5.5988e-01,\n",
              "          4.3595e-01, -3.9343e-02, -3.7967e-01, -5.6208e-01, -7.4624e-03,\n",
              "          5.4092e-01, -3.8611e-01, -4.3657e-01, -6.3130e-01,  5.0859e-01,\n",
              "         -2.5943e-01,  9.8461e-02, -3.2540e-01,  3.0056e-01,  4.6065e-01,\n",
              "          6.3910e-01,  6.2798e-01, -6.1148e-01, -4.3509e-01, -1.9812e-01,\n",
              "          7.0235e-01,  4.0821e-01,  1.2846e-01,  6.2010e-01,  3.2825e-01,\n",
              "          4.9844e-01, -4.9055e-01, -6.9825e-01, -3.6006e-02,  4.0774e-01,\n",
              "          2.4553e-01,  1.2937e-01, -3.2408e-01, -3.6259e-01, -5.4480e-01,\n",
              "          3.0182e-01,  4.3494e-01, -4.7824e-01,  5.4890e-01, -2.3671e-01,\n",
              "          2.9464e-01,  4.8293e-01,  6.0004e-01,  7.0910e-01, -5.0180e-01]],\n",
              "       grad_fn=<AddmmBackward0>)"
            ]
          },
          "metadata": {},
          "execution_count": 123
        }
      ]
    },
    {
      "cell_type": "markdown",
      "source": [
        "##3. Distillation"
      ],
      "metadata": {
        "id": "xzwRW42KdMsj"
      }
    },
    {
      "cell_type": "markdown",
      "source": [
        "First of all we want to compute once and for all the teacher scores of the images:"
      ],
      "metadata": {
        "id": "QryLx7P6dckq"
      }
    },
    {
      "cell_type": "code",
      "source": [
        "cifar100_train_tensors = torchvision.datasets.CIFAR100(root = \".\", train = True, download = True, transform=torchvision.transforms.functional.pil_to_tensor)"
      ],
      "metadata": {
        "id": "LAm8oZ1AgTIO",
        "outputId": "3608cdb9-1ddf-49b0-ce68-bfffcadb39c4",
        "colab": {
          "base_uri": "https://localhost:8080/"
        }
      },
      "execution_count": 10,
      "outputs": [
        {
          "output_type": "stream",
          "name": "stdout",
          "text": [
            "Files already downloaded and verified\n"
          ]
        }
      ]
    },
    {
      "cell_type": "code",
      "source": [
        "def compute_scores(dataset : torch.utils.data.Dataset,\n",
        "                   teacher : torch.nn.Module, \n",
        "                   teacher_extractor : Any, # a feature extractor\n",
        "                   num_classes : int) -> torch.Tensor:\n",
        "    teacher_label = torch.zeros(len(dataset), num_classes)\n",
        "    for i,(image,_) in tqdm(enumerate(dataset)):\n",
        "        features = teacher_extractor(image,return_tensors=\"pt\").to(device)\n",
        "        with torch.no_grad():\n",
        "            label = teacher(**features).logits\n",
        "        teacher_label[i,:] = label\n",
        "    return teacher_label"
      ],
      "metadata": {
        "id": "oS1uIiojdb3D"
      },
      "execution_count": 12,
      "outputs": []
    },
    {
      "cell_type": "code",
      "source": [
        "tl = compute_scores(cifar100_train_tensors,model,feature_extractor,100)"
      ],
      "metadata": {
        "id": "bU8afQ8WmfgO",
        "outputId": "442607b6-802f-4697-c7b7-355bf9624f01",
        "colab": {
          "base_uri": "https://localhost:8080/"
        }
      },
      "execution_count": 13,
      "outputs": [
        {
          "output_type": "stream",
          "name": "stderr",
          "text": [
            "50000it [15:58, 52.16it/s]\n"
          ]
        }
      ]
    },
    {
      "cell_type": "code",
      "source": [
        "class DistillDataset(torch.utils.data.Dataset):\n",
        "    '''\n",
        "    A dataset for the distillation training.\n",
        "    This dataset wraps the original dataset toghether with the teacher ground truth.\n",
        "    '''\n",
        "    def __init__(self, \n",
        "                 original_dataset : torch.utils.data.Dataset,\n",
        "                 teacher_label_path : Path = None,\n",
        "                 teacher_model : torch.nn.Module = None,\n",
        "                 teacher_extractor : Any = None,\n",
        "                 save : bool = False\n",
        "                 ):\n",
        "        assert(teacher_label_path is not None or teacher_model is not None)\n",
        "        super().__init__()\n",
        "        self.dataset = original_dataset\n",
        "        try:\n",
        "            with open(teacher_label_path, \"rb\") as dl:\n",
        "                self.teacher_label = torch.load(dl)\n",
        "        except:\n",
        "            self.teacher_label = compute_scores(self.dataset, \n",
        "                                                teacher_model,\n",
        "                                                teacher_extractor,\n",
        "                                                len(self.dataset.classes)\n",
        "                                                )\n",
        "            if save:\n",
        "                with open(teacher_label_path, \"wb\") as tl:\n",
        "                    torch.save(self.teacher_label,tl)\n",
        "    \n",
        "    def __len__(self):\n",
        "        return len(self.dataset)\n",
        "    \n",
        "    def __getitem__(self, index):\n",
        "        return self.dataset[index][0], self.dataset[index][1] , self.teacher_label[index]"
      ],
      "metadata": {
        "id": "dpwMnJ1j6ODN"
      },
      "execution_count": 70,
      "outputs": []
    },
    {
      "cell_type": "code",
      "source": [
        "dataset = DistillDataset(cifar100_train_tensors, \n",
        "                         \"teacher_labels/cifar100.pt\"\n",
        "                         )"
      ],
      "metadata": {
        "id": "E3gGWUDJxw9H"
      },
      "execution_count": 71,
      "outputs": []
    },
    {
      "cell_type": "code",
      "source": [
        "dataset[0]"
      ],
      "metadata": {
        "id": "5hYbJen4yEGv"
      },
      "execution_count": null,
      "outputs": []
    },
    {
      "cell_type": "code",
      "source": [
        "!wget --user Ale99 --password Vitmlpmixer99 https://huggingface.co/datasets/imagenet-1k/resolve/main/data/val_images.tar.gz"
      ],
      "metadata": {
        "id": "zZSrAlsIyF3l"
      },
      "execution_count": null,
      "outputs": []
    },
    {
      "cell_type": "code",
      "source": [
        "!mkdir imagenet_val\n",
        "!tar -xvf val_images.tar.gz -C imagenet_val"
      ],
      "metadata": {
        "id": "9OBoo-ad6082"
      },
      "execution_count": null,
      "outputs": []
    }
  ]
}