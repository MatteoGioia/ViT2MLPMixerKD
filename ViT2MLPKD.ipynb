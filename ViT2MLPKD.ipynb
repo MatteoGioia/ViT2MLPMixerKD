{
  "cells": [
    {
      "cell_type": "markdown",
      "metadata": {
        "id": "dL7l7ZJI61rQ"
      },
      "source": [
        "# Knowledge distillation\n",
        "In this notebook, we will try to distill the knowledge of a Vision Transformer into a MLP Mixer."
      ]
    },
    {
      "cell_type": "markdown",
      "metadata": {
        "id": "ES_z2lrFzS4Q"
      },
      "source": [
        "##0. Downloads and imports"
      ]
    },
    {
      "cell_type": "code",
      "execution_count": null,
      "metadata": {
        "colab": {
          "base_uri": "https://localhost:8080/"
        },
        "id": "4Ol5yDer7LaO",
        "outputId": "1c4ae6e8-e502-4486-bc13-a6858eeb5a5d"
      },
      "outputs": [
        {
          "output_type": "stream",
          "name": "stdout",
          "text": [
            "Looking in indexes: https://pypi.org/simple, https://us-python.pkg.dev/colab-wheels/public/simple/\n",
            "Requirement already satisfied: einops in /usr/local/lib/python3.8/dist-packages (0.6.0)\n"
          ]
        }
      ],
      "source": [
        "#@title Downloads\n",
        "!pip install -q transformers datasets[vision] pytorch-lightning\n",
        "!pip install einops"
      ]
    },
    {
      "cell_type": "code",
      "execution_count": null,
      "metadata": {
        "cellView": "form",
        "id": "WumRkwLd7SKG",
        "colab": {
          "base_uri": "https://localhost:8080/"
        },
        "outputId": "52e6720a-7fbe-48c8-c00c-fa9b8f0834ba"
      },
      "outputs": [
        {
          "output_type": "stream",
          "name": "stdout",
          "text": [
            "cuda\n"
          ]
        }
      ],
      "source": [
        "#@title Imports\n",
        "\n",
        "# general imports\n",
        "from typing import *\n",
        "from google.colab import drive\n",
        "import os\n",
        "from pathlib import Path\n",
        "import matplotlib.pyplot as plt\n",
        "from tqdm import tqdm\n",
        "\n",
        "# pytorch imports\n",
        "import torchvision\n",
        "import transformers\n",
        "#from transformers import ViTFeatureExtractor, ViTForImageClassification\n",
        "import torch\n",
        "import numpy as np\n",
        "import einops\n",
        "import torch.nn as nn\n",
        "import torch.nn.functional as F\n",
        "\n",
        "device : str = \"cuda\" if torch.cuda.is_available() else \"cpu\"\n",
        "print(device)"
      ]
    },
    {
      "cell_type": "code",
      "execution_count": null,
      "metadata": {
        "cellView": "form",
        "colab": {
          "base_uri": "https://localhost:8080/"
        },
        "id": "GdzEa5BqwFOy",
        "outputId": "a7dbfafb-764a-4499-9fcd-20cc4253e594"
      },
      "outputs": [
        {
          "output_type": "stream",
          "name": "stdout",
          "text": [
            "Mounted at /content/drive\n",
            "/content/drive/MyDrive\n",
            "/content/drive/MyDrive/ViT2MLP\n"
          ]
        }
      ],
      "source": [
        "#@title Move to the project folder\n",
        "drive.mount('/content/drive', force_remount=True)\n",
        "\n",
        "%cd /content/drive/MyDrive\n",
        "\n",
        "if not os.path.exists(\"ViT2MLP\"):\n",
        "  os.mkdir(\"ViT2MLP\")\n",
        "\n",
        "%cd ViT2MLP"
      ]
    },
    {
      "cell_type": "code",
      "execution_count": null,
      "metadata": {
        "colab": {
          "base_uri": "https://localhost:8080/"
        },
        "id": "_yAlyRDW8fwM",
        "outputId": "81db3acf-c5ef-4937-e2ce-2f351c95d682",
        "cellView": "form"
      },
      "outputs": [
        {
          "output_type": "stream",
          "name": "stdout",
          "text": [
            "Files already downloaded and verified\n",
            "Files already downloaded and verified\n"
          ]
        }
      ],
      "source": [
        "#@title Download the datasets\n",
        "# TODO need to download it\n",
        "#imagenet = torchvision.datasets.ImageNet(root = \".\",split = \"val\")\n",
        "\n",
        "cifar100_test = torchvision.datasets.CIFAR100(root = \".\", train = False, download = True)\n",
        "cifar100_train = torchvision.datasets.CIFAR100(root = \".\", train = True, download = True)"
      ]
    },
    {
      "cell_type": "code",
      "execution_count": null,
      "metadata": {
        "cellView": "form",
        "id": "MLtary4p_Z_B"
      },
      "outputs": [],
      "source": [
        "#@title Visualization function\n",
        "def visualize(datapoint : int, dataset : torchvision.datasets):\n",
        "    image, label = dataset[datapoint]\n",
        "    plt.title(f\"Ground truth: {dataset.classes[label]}\")\n",
        "    plt.imshow(image)"
      ]
    },
    {
      "cell_type": "markdown",
      "metadata": {
        "id": "AjYPKIo8zW_7"
      },
      "source": [
        "##1. Code for the pre-trained transformer"
      ]
    },
    {
      "cell_type": "markdown",
      "metadata": {
        "id": "AcazhnqFv0Lx"
      },
      "source": [
        "References:\n",
        "- [main transformer docs](https:huggingface.co/docs/transformers/index) \n",
        "- [ViT Docs](https://huggingface.co/docs/transformers/model_doc/vit)\n",
        "- [lighting finetuning example](https://github.com/NielsRogge/Transformers-Tutorials/tree/master/VisionTransformer)"
      ]
    },
    {
      "cell_type": "markdown",
      "metadata": {
        "id": "MKpdGxL59-Is"
      },
      "source": [
        "### Example of transformer model\n",
        "\n",
        "Load ViT finetuned on Imagenet1k or CIFAR100. To load the non fine-tuned version use **\"google/vit-base-patch16-224-im21k\"**"
      ]
    },
    {
      "cell_type": "code",
      "execution_count": null,
      "metadata": {
        "cellView": "form",
        "id": "WsSKp30aAMah"
      },
      "outputs": [],
      "source": [
        "#@title Load the model\n",
        "cifar100_vit = \"Ahmed9275/Vit-Cifar100\"\n",
        "imagenet1k_vit = \"google/vit-base-patch16-224\"\n",
        "tuned_on : str = \"cifar100\" #@param['cifar100', 'imagenet1k']\n",
        "if tuned_on == \"cifar100\":\n",
        "    model_str = cifar100_vit\n",
        "else:\n",
        "    model_str = imagenet1k_vit\n",
        "\n",
        "\n",
        "feature_extractor = transformers.ViTFeatureExtractor.from_pretrained(model_str)\n",
        "\n",
        "transformer_model = transformers.ViTForImageClassification.from_pretrained(model_str).to(device)"
      ]
    },
    {
      "cell_type": "code",
      "execution_count": null,
      "metadata": {
        "cellView": "form",
        "id": "qW2bXu6dAYls"
      },
      "outputs": [],
      "source": [
        "#@title Function to predict - a questa funzione dovremmo anche passare il modello :)\n",
        "def predict(image, only_label : bool = False) -> str:\n",
        "    inputs = feature_extractor(image, return_tensors=\"pt\").to(device)\n",
        "    with torch.no_grad():\n",
        "        logits = transformer_model(**inputs).logits\n",
        "\n",
        "    # model predicts one of the 1000 ImageNet classes\n",
        "    predicted_label : int = logits.argmax(-1).item()\n",
        "    if only_label:\n",
        "        return predicted_label\n",
        "    return transformer_model.config.id2label[predicted_label]\n"
      ]
    },
    {
      "cell_type": "code",
      "execution_count": null,
      "metadata": {
        "cellView": "form",
        "colab": {
          "base_uri": "https://localhost:8080/",
          "height": 299
        },
        "id": "RBCle0TPyy2b",
        "outputId": "92468a84-8b9b-4c2d-a185-405f97f8fd76"
      },
      "outputs": [
        {
          "output_type": "stream",
          "name": "stdout",
          "text": [
            "Predicted: lion\n"
          ]
        },
        {
          "output_type": "display_data",
          "data": {
            "text/plain": [
              "<Figure size 432x288 with 1 Axes>"
            ],
            "image/png": "[encoded data removed]"
          },
          "metadata": {
            "needs_background": "light"
          }
        }
      ],
      "source": [
        "#@title Qualitative comparison with ground truth {run : \"auto\"}\n",
        "datapoint_number : int = 1200 #@param{type:\"integer\"}\n",
        "\n",
        "dataset = cifar100_test if tuned_on == \"cifar100\" else imagenet1k\n",
        "try:\n",
        "    visualize(datapoint_number, dataset)\n",
        "    print(f\"Predicted: {predict(dataset[datapoint_number][0])}\")\n",
        "except IndexError:\n",
        "    print(f\"The dataset max index is {len(dataset)-1}\")\n"
      ]
    },
    {
      "cell_type": "code",
      "execution_count": null,
      "metadata": {
        "cellView": "form",
        "id": "jCqhJyWDHUgL"
      },
      "outputs": [],
      "source": [
        "#@title Quantitative result: Accuracy\n",
        "correct = 0\n",
        "for i in tqdm(range(len(dataset))):\n",
        "    pr_label = predict(dataset[i][0], only_label=True)\n",
        "    gt_label = dataset[i][1]\n",
        "    if pr_label == gt_label:\n",
        "        correct += 1\n",
        "accuracy = round(correct*100 / len(dataset),2)\n",
        "print(f\"The accuracy of the model for the dataset {tuned_on} is: {accuracy}%\")"
      ]
    },
    {
      "cell_type": "markdown",
      "metadata": {
        "id": "0m4IdUu7-7QI"
      },
      "source": [
        "##2. Code for MLP mixer"
      ]
    },
    {
      "cell_type": "code",
      "execution_count": null,
      "metadata": {
        "id": "Iqamb0Jj_ZjN"
      },
      "outputs": [],
      "source": [
        "#tentative pytorch implementation for https://github.com/google-research/vision_transformer/blob/main/vit_jax/models_mixer.py\n",
        "#to include: apache license lol\n",
        "\n",
        "class MlpBlock(nn.Module):\n",
        "  \"\"\"\n",
        "  MlpBlock for MixerBlock\n",
        "  \"\"\"\n",
        "\n",
        "  def __init__(self, dim, mlp_dim):\n",
        "    super().__init__()\n",
        "    #dense implementation only has out features specified, need to check input dim\n",
        "    self.mlp1 = nn.Linear(in_features=dim, out_features = mlp_dim)\n",
        "    self.mlp2 = nn.Linear(in_features=mlp_dim, out_features = dim)\n",
        "    self.activation = F.gelu\n",
        "\n",
        "  def forward(self, x):\n",
        "    y = self.mlp1(x)\n",
        "    y = self.activation(y)\n",
        "    y = self.mlp2(y)\n",
        "    return y\n",
        "\n",
        "class MixerBlock(nn.Module):\n",
        "  \"\"\"\n",
        "  Mixer block for the mlp mixer\n",
        "  \"\"\"\n",
        "\n",
        "  def __init__(self, num_patches, hidden_dim,\n",
        "               tokens_mlp_dim, channels_mlp_dim):\n",
        "    super().__init__()\n",
        "    self.layer_norm = torch.nn.LayerNorm([num_patches, hidden_dim])\n",
        "    self.mlpblock_token_mixer = MlpBlock(num_patches, tokens_mlp_dim)\n",
        "    self.mlpblock_channel_mixer = MlpBlock(hidden_dim, channels_mlp_dim)\n",
        "\n",
        "  def forward(self,x):\n",
        "    y = self.layer_norm(x)\n",
        "    y = np.swapaxes(y,1,2)\n",
        "    y = self.mlpblock_token_mixer(y)\n",
        "    y = np.swapaxes(y,1,2)\n",
        "    x = x + y\n",
        "    y = self.layer_norm(x)\n",
        "    return x + self.mlpblock_channel_mixer(y)\n",
        "\n",
        "class MlpMixer(nn.Module):\n",
        "  \"\"\"\n",
        "  Mixer architecture\n",
        "  hidden_dim : number of hidden channels\n",
        "  img_size : the height/width of the image\n",
        "  patches_size : dimension of patches, must be a multiple of img_size\n",
        "  num_blocks : number of mixer blocks\n",
        "  hidden_dim : hidden dimensionality\n",
        "  tokens_mlp_dim : dimensionality of token mixer\n",
        "  channels_mlp_dim : dimensionality of channel mixer\n",
        "  \"\"\"\n",
        "\n",
        "  def __init__(self, hidden_dim : int, patches_size : int,\n",
        "               num_blocks: int, tokens_mlp_dim : int,\n",
        "               channels_mlp_dim : int, num_classes: int,\n",
        "               input_channels : int, img_size :int):\n",
        "    super().__init__()\n",
        "    self.hidden_dim = hidden_dim\n",
        "    self.num_blocks = num_blocks\n",
        "    self.num_classes = num_classes\n",
        "    self.num_patches = int((img_size / patches_size)*2)\n",
        "    #Per patch fully connected\n",
        "    self.stem = nn.Conv2d(in_channels = input_channels, \n",
        "                          out_channels = self.hidden_dim,\n",
        "                          kernel_size = (patches_size,patches_size),\n",
        "                          stride = patches_size)\n",
        "    self.mixer_blocks = nn.ModuleList([]) \n",
        "    for _ in range(num_blocks):\n",
        "      self.mixer_blocks.append(MixerBlock(num_patches = self.num_patches,\n",
        "                                  hidden_dim = hidden_dim,\n",
        "                                  tokens_mlp_dim = tokens_mlp_dim,\n",
        "                                  channels_mlp_dim = channels_mlp_dim))\n",
        "    self.layer_norm = torch.nn.LayerNorm([self.num_patches, hidden_dim])\n",
        "    #What is kernel init? Does it initialize everything to 0?\n",
        "    self.fc = nn.Linear(in_features = hidden_dim, out_features = self.num_classes)\n",
        "    self.softmax = F.softmax\n",
        "\n",
        "  def forward(self, inputs, *, train):\n",
        "    del train\n",
        "    x = self.stem(inputs)\n",
        "    x = einops.rearrange(x, 'n c h w -> n h w c')\n",
        "    x = einops.rearrange(x, 'n h w c -> n (h w) c')\n",
        "    for mixer_block in self.mixer_blocks:\n",
        "      x = mixer_block(x)\n",
        "    x = self.layer_norm(x)\n",
        "    x = x.mean(dim = 1)\n",
        "    if self.num_classes:\n",
        "      #add classification layer if num classes is specified\n",
        "      x = self.softmax(self.fc(x), dim=-1)\n",
        "    return x"
      ]
    },
    {
      "cell_type": "code",
      "execution_count": null,
      "metadata": {
        "id": "XMb4Dxiaxg4k",
        "colab": {
          "base_uri": "https://localhost:8080/"
        },
        "outputId": "6e954847-d451-4da8-d90a-28500f4c490d"
      },
      "outputs": [
        {
          "output_type": "stream",
          "name": "stdout",
          "text": [
            "MlpMixer(\n",
            "  (stem): Conv2d(3, 512, kernel_size=(16, 16), stride=(16, 16))\n",
            "  (mixer_blocks): ModuleList(\n",
            "    (0): MixerBlock(\n",
            "      (layer_norm): LayerNorm((4, 512), eps=1e-05, elementwise_affine=True)\n",
            "      (mlpblock_token_mixer): MlpBlock(\n",
            "        (mlp1): Linear(in_features=4, out_features=256, bias=True)\n",
            "        (mlp2): Linear(in_features=256, out_features=4, bias=True)\n",
            "      )\n",
            "      (mlpblock_channel_mixer): MlpBlock(\n",
            "        (mlp1): Linear(in_features=512, out_features=2048, bias=True)\n",
            "        (mlp2): Linear(in_features=2048, out_features=512, bias=True)\n",
            "      )\n",
            "    )\n",
            "    (1): MixerBlock(\n",
            "      (layer_norm): LayerNorm((4, 512), eps=1e-05, elementwise_affine=True)\n",
            "      (mlpblock_token_mixer): MlpBlock(\n",
            "        (mlp1): Linear(in_features=4, out_features=256, bias=True)\n",
            "        (mlp2): Linear(in_features=256, out_features=4, bias=True)\n",
            "      )\n",
            "      (mlpblock_channel_mixer): MlpBlock(\n",
            "        (mlp1): Linear(in_features=512, out_features=2048, bias=True)\n",
            "        (mlp2): Linear(in_features=2048, out_features=512, bias=True)\n",
            "      )\n",
            "    )\n",
            "    (2): MixerBlock(\n",
            "      (layer_norm): LayerNorm((4, 512), eps=1e-05, elementwise_affine=True)\n",
            "      (mlpblock_token_mixer): MlpBlock(\n",
            "        (mlp1): Linear(in_features=4, out_features=256, bias=True)\n",
            "        (mlp2): Linear(in_features=256, out_features=4, bias=True)\n",
            "      )\n",
            "      (mlpblock_channel_mixer): MlpBlock(\n",
            "        (mlp1): Linear(in_features=512, out_features=2048, bias=True)\n",
            "        (mlp2): Linear(in_features=2048, out_features=512, bias=True)\n",
            "      )\n",
            "    )\n",
            "    (3): MixerBlock(\n",
            "      (layer_norm): LayerNorm((4, 512), eps=1e-05, elementwise_affine=True)\n",
            "      (mlpblock_token_mixer): MlpBlock(\n",
            "        (mlp1): Linear(in_features=4, out_features=256, bias=True)\n",
            "        (mlp2): Linear(in_features=256, out_features=4, bias=True)\n",
            "      )\n",
            "      (mlpblock_channel_mixer): MlpBlock(\n",
            "        (mlp1): Linear(in_features=512, out_features=2048, bias=True)\n",
            "        (mlp2): Linear(in_features=2048, out_features=512, bias=True)\n",
            "      )\n",
            "    )\n",
            "    (4): MixerBlock(\n",
            "      (layer_norm): LayerNorm((4, 512), eps=1e-05, elementwise_affine=True)\n",
            "      (mlpblock_token_mixer): MlpBlock(\n",
            "        (mlp1): Linear(in_features=4, out_features=256, bias=True)\n",
            "        (mlp2): Linear(in_features=256, out_features=4, bias=True)\n",
            "      )\n",
            "      (mlpblock_channel_mixer): MlpBlock(\n",
            "        (mlp1): Linear(in_features=512, out_features=2048, bias=True)\n",
            "        (mlp2): Linear(in_features=2048, out_features=512, bias=True)\n",
            "      )\n",
            "    )\n",
            "    (5): MixerBlock(\n",
            "      (layer_norm): LayerNorm((4, 512), eps=1e-05, elementwise_affine=True)\n",
            "      (mlpblock_token_mixer): MlpBlock(\n",
            "        (mlp1): Linear(in_features=4, out_features=256, bias=True)\n",
            "        (mlp2): Linear(in_features=256, out_features=4, bias=True)\n",
            "      )\n",
            "      (mlpblock_channel_mixer): MlpBlock(\n",
            "        (mlp1): Linear(in_features=512, out_features=2048, bias=True)\n",
            "        (mlp2): Linear(in_features=2048, out_features=512, bias=True)\n",
            "      )\n",
            "    )\n",
            "    (6): MixerBlock(\n",
            "      (layer_norm): LayerNorm((4, 512), eps=1e-05, elementwise_affine=True)\n",
            "      (mlpblock_token_mixer): MlpBlock(\n",
            "        (mlp1): Linear(in_features=4, out_features=256, bias=True)\n",
            "        (mlp2): Linear(in_features=256, out_features=4, bias=True)\n",
            "      )\n",
            "      (mlpblock_channel_mixer): MlpBlock(\n",
            "        (mlp1): Linear(in_features=512, out_features=2048, bias=True)\n",
            "        (mlp2): Linear(in_features=2048, out_features=512, bias=True)\n",
            "      )\n",
            "    )\n",
            "    (7): MixerBlock(\n",
            "      (layer_norm): LayerNorm((4, 512), eps=1e-05, elementwise_affine=True)\n",
            "      (mlpblock_token_mixer): MlpBlock(\n",
            "        (mlp1): Linear(in_features=4, out_features=256, bias=True)\n",
            "        (mlp2): Linear(in_features=256, out_features=4, bias=True)\n",
            "      )\n",
            "      (mlpblock_channel_mixer): MlpBlock(\n",
            "        (mlp1): Linear(in_features=512, out_features=2048, bias=True)\n",
            "        (mlp2): Linear(in_features=2048, out_features=512, bias=True)\n",
            "      )\n",
            "    )\n",
            "  )\n",
            "  (layer_norm): LayerNorm((4, 512), eps=1e-05, elementwise_affine=True)\n",
            "  (fc): Linear(in_features=512, out_features=100, bias=True)\n",
            ")\n",
            "Trainable Parameters: 17.298M\n"
          ]
        }
      ],
      "source": [
        "student = MlpMixer(hidden_dim = 512,\n",
        "               patches_size = 16,\n",
        "               num_blocks = 8,\n",
        "               tokens_mlp_dim = 256,\n",
        "               channels_mlp_dim = 2048,\n",
        "               num_classes = 100,\n",
        "               input_channels = 3,\n",
        "               img_size = 32)\n",
        "print(student)\n",
        "parameters = filter(lambda p: p.requires_grad, student.parameters())\n",
        "parameters = sum([np.prod(p.size()) for p in parameters]) / 1_000_000\n",
        "print('Trainable Parameters: %.3fM' % parameters)"
      ]
    },
    {
      "cell_type": "code",
      "execution_count": null,
      "metadata": {
        "colab": {
          "base_uri": "https://localhost:8080/"
        },
        "id": "NiTeILzTzowd",
        "outputId": "eb9783ca-c112-4831-bffd-623aa53b264a"
      },
      "outputs": [
        {
          "output_type": "stream",
          "name": "stdout",
          "text": [
            "torch.Size([1, 3, 32, 32])\n",
            "tensor(1., grad_fn=<SumBackward0>)\n"
          ]
        }
      ],
      "source": [
        "import torchvision\n",
        "t = torchvision.transforms.functional.pil_to_tensor(dataset[0][0]).float().unsqueeze(0)\n",
        "\n",
        "print(t.shape)\n",
        "\n",
        "pred = student(t,train=False)\n",
        "\n",
        "print(pred.sum())"
      ]
    },
    {
      "cell_type": "markdown",
      "metadata": {
        "id": "xzwRW42KdMsj"
      },
      "source": [
        "##3. Distillation"
      ]
    },
    {
      "cell_type": "markdown",
      "source": [
        "### 3.1 Computing labels\n"
      ],
      "metadata": {
        "id": "Td1p_uw8x7Pi"
      }
    },
    {
      "cell_type": "markdown",
      "metadata": {
        "id": "QryLx7P6dckq"
      },
      "source": [
        "First of all we want to compute once and for all the teacher scores of the images:"
      ]
    },
    {
      "cell_type": "code",
      "execution_count": null,
      "metadata": {
        "colab": {
          "base_uri": "https://localhost:8080/"
        },
        "id": "LAm8oZ1AgTIO",
        "outputId": "759ce518-372d-47e9-d4ce-3a5b7009ac6f"
      },
      "outputs": [
        {
          "output_type": "stream",
          "name": "stdout",
          "text": [
            "Files already downloaded and verified\n"
          ]
        }
      ],
      "source": [
        "cifar100_train_tensors = torchvision.datasets.CIFAR100(root = \".\", train = True, download = True, transform=torchvision.transforms.functional.pil_to_tensor)"
      ]
    },
    {
      "cell_type": "code",
      "execution_count": null,
      "metadata": {
        "id": "oS1uIiojdb3D"
      },
      "outputs": [],
      "source": [
        "def compute_scores(dataset : torch.utils.data.Dataset,\n",
        "                   teacher : torch.nn.Module, \n",
        "                   teacher_extractor : Any, # a feature extractor\n",
        "                   num_classes : int) -> torch.Tensor:\n",
        "    teacher_label = torch.zeros(len(dataset), num_classes)\n",
        "    for i,(image,_) in tqdm(enumerate(dataset)):\n",
        "        features = teacher_extractor(image,return_tensors=\"pt\").to(device)\n",
        "        with torch.no_grad():\n",
        "            label = teacher(**features).logits\n",
        "        teacher_label[i,:] = label\n",
        "    return teacher_label"
      ]
    },
    {
      "cell_type": "code",
      "execution_count": null,
      "metadata": {
        "colab": {
          "base_uri": "https://localhost:8080/"
        },
        "id": "bU8afQ8WmfgO",
        "outputId": "b5a6ee6e-c9be-41e9-9902-42ef9b1a411d"
      },
      "outputs": [
        {
          "output_type": "stream",
          "name": "stderr",
          "text": [
            "50000it [17:30, 47.60it/s]\n"
          ]
        }
      ],
      "source": [
        "#tl = compute_scores(cifar100_train_tensors,transformer_model,feature_extractor,100)"
      ]
    },
    {
      "cell_type": "markdown",
      "source": [
        "### 3.2 Creating custom datasets"
      ],
      "metadata": {
        "id": "jOcxWqXqzGXK"
      }
    },
    {
      "cell_type": "code",
      "execution_count": null,
      "metadata": {
        "id": "dpwMnJ1j6ODN"
      },
      "outputs": [],
      "source": [
        "class DistillDataset(torch.utils.data.Dataset):\n",
        "    '''\n",
        "    A dataset for the distillation training.\n",
        "    This dataset wraps the original dataset toghether with the teacher ground truth.\n",
        "    '''\n",
        "    def __init__(self, \n",
        "                 original_dataset : torch.utils.data.Dataset,\n",
        "                 teacher_label_path : Path = None,\n",
        "                 teacher_model : torch.nn.Module = None,\n",
        "                 teacher_extractor : Any = None,\n",
        "                 save : bool = False\n",
        "                 ):\n",
        "        assert(teacher_label_path is not None or teacher_model is not None)\n",
        "        super().__init__()\n",
        "        self.dataset = original_dataset\n",
        "        try:\n",
        "            with open(teacher_label_path, \"rb\") as dl:\n",
        "                self.teacher_label = torch.load(dl)\n",
        "        except:\n",
        "            self.teacher_label = compute_scores(self.dataset, \n",
        "                                                teacher_model,\n",
        "                                                teacher_extractor,\n",
        "                                                len(self.dataset.classes)\n",
        "                                                )\n",
        "            if save:\n",
        "                #create directory if it does not exist\n",
        "                if not os.path.exists(teacher_label_path):\n",
        "                   os.mkdirs(teacher_label_path)\n",
        "\n",
        "                with open(teacher_label_path, \"wb\") as tl:\n",
        "                    torch.save(self.teacher_label,tl)\n",
        "    \n",
        "    def __len__(self):\n",
        "        return len(self.dataset)\n",
        "    \n",
        "    def __getitem__(self, index):\n",
        "        return self.dataset[index][0], self.dataset[index][1] , self.teacher_label[index]"
      ]
    },
    {
      "cell_type": "code",
      "execution_count": null,
      "metadata": {
        "id": "E3gGWUDJxw9H"
      },
      "outputs": [],
      "source": [
        "dataset = DistillDataset(cifar100_train_tensors, \n",
        "                         \"teacher_labels/cifar100.pt\"\n",
        "                         )"
      ]
    },
    {
      "cell_type": "code",
      "execution_count": null,
      "metadata": {
        "id": "zZSrAlsIyF3l"
      },
      "outputs": [],
      "source": [
        "!wget --user Ale99 --password Vitmlpmixer99 https://huggingface.co/datasets/imagenet-1k/resolve/main/data/val_images.tar.gz"
      ]
    },
    {
      "cell_type": "code",
      "execution_count": null,
      "metadata": {
        "id": "9OBoo-ad6082"
      },
      "outputs": [],
      "source": [
        "!mkdir imagenet_val\n",
        "!tar -xvf val_images.tar.gz -C imagenet_val"
      ]
    },
    {
      "cell_type": "markdown",
      "source": [
        "### 3.3 Training the student"
      ],
      "metadata": {
        "id": "89YUomqmx-pH"
      }
    },
    {
      "cell_type": "code",
      "source": [
        "#TODO: reorganize\n",
        "\n",
        "from torch.utils.data import DataLoader\n",
        "from torch.optim import SGD\n",
        "\n",
        "\n",
        "#pinnare memoria?\n",
        "train_dl = DataLoader(dataset, batch_size = 512, shuffle = True, num_workers = 0,\n",
        "                      pin_memory = False)\n",
        "\n",
        "criterion1 = nn.CrossEntropyLoss()\n",
        "optimizer = SGD(student.parameters(), lr=0.0025, momentum=0.75)\n",
        "\n",
        "for i in range(5):\n",
        "  for iteration, data in tqdm(enumerate(train_dl)):\n",
        "\n",
        "    optimizer.zero_grad()\n",
        "\n",
        "    teacher_gt = F.softmax(data[2], dim=-1)\n",
        "    hard_gt = (teacher_gt.argmax(-1)).float()\n",
        "    preds = student(data[0].float(), train=False)\n",
        "    hard_labels = (preds.argmax(-1)).float()\n",
        "\n",
        "    loss = criterion1(preds, teacher_gt) \n",
        "\n",
        "    if iteration % 20 == 0:\n",
        "      print(\"Current batch loss: \",loss)\n",
        "\n",
        "    loss.backward()\n",
        "    optimizer.step()\n"
      ],
      "metadata": {
        "colab": {
          "base_uri": "https://localhost:8080/"
        },
        "id": "eBULRavFyNgK",
        "outputId": "34b30662-50f5-4191-a538-c2697a0d2837"
      },
      "execution_count": null,
      "outputs": [
        {
          "output_type": "stream",
          "name": "stderr",
          "text": [
            "\r0it [00:00, ?it/s]"
          ]
        },
        {
          "output_type": "stream",
          "name": "stdout",
          "text": [
            "Current batch loss:  tensor(4.6001, grad_fn=<DivBackward1>)\n"
          ]
        },
        {
          "output_type": "stream",
          "name": "stderr",
          "text": [
            "20it [02:26,  6.83s/it]"
          ]
        },
        {
          "output_type": "stream",
          "name": "stdout",
          "text": [
            "Current batch loss:  tensor(4.5986, grad_fn=<DivBackward1>)\n"
          ]
        },
        {
          "output_type": "stream",
          "name": "stderr",
          "text": [
            "40it [04:43,  6.76s/it]"
          ]
        },
        {
          "output_type": "stream",
          "name": "stdout",
          "text": [
            "Current batch loss:  tensor(4.5787, grad_fn=<DivBackward1>)\n"
          ]
        },
        {
          "output_type": "stream",
          "name": "stderr",
          "text": [
            "60it [06:57,  6.65s/it]"
          ]
        },
        {
          "output_type": "stream",
          "name": "stdout",
          "text": [
            "Current batch loss:  tensor(4.5856, grad_fn=<DivBackward1>)\n"
          ]
        },
        {
          "output_type": "stream",
          "name": "stderr",
          "text": [
            "80it [09:13,  6.72s/it]"
          ]
        },
        {
          "output_type": "stream",
          "name": "stdout",
          "text": [
            "Current batch loss:  tensor(4.5838, grad_fn=<DivBackward1>)\n"
          ]
        },
        {
          "output_type": "stream",
          "name": "stderr",
          "text": [
            "98it [11:12,  6.86s/it]\n",
            "0it [00:00, ?it/s]"
          ]
        },
        {
          "output_type": "stream",
          "name": "stdout",
          "text": [
            "Current batch loss:  tensor(4.5910, grad_fn=<DivBackward1>)\n"
          ]
        },
        {
          "output_type": "stream",
          "name": "stderr",
          "text": [
            "20it [02:14,  6.66s/it]"
          ]
        },
        {
          "output_type": "stream",
          "name": "stdout",
          "text": [
            "Current batch loss:  tensor(4.5912, grad_fn=<DivBackward1>)\n"
          ]
        },
        {
          "output_type": "stream",
          "name": "stderr",
          "text": [
            "40it [04:28,  6.67s/it]"
          ]
        },
        {
          "output_type": "stream",
          "name": "stdout",
          "text": [
            "Current batch loss:  tensor(4.5804, grad_fn=<DivBackward1>)\n"
          ]
        },
        {
          "output_type": "stream",
          "name": "stderr",
          "text": [
            "60it [06:43,  6.67s/it]"
          ]
        },
        {
          "output_type": "stream",
          "name": "stdout",
          "text": [
            "Current batch loss:  tensor(4.5810, grad_fn=<DivBackward1>)\n"
          ]
        },
        {
          "output_type": "stream",
          "name": "stderr",
          "text": [
            "80it [08:56,  6.73s/it]"
          ]
        },
        {
          "output_type": "stream",
          "name": "stdout",
          "text": [
            "Current batch loss:  tensor(4.5958, grad_fn=<DivBackward1>)\n"
          ]
        },
        {
          "output_type": "stream",
          "name": "stderr",
          "text": [
            "98it [10:58,  6.72s/it]\n",
            "0it [00:00, ?it/s]"
          ]
        },
        {
          "output_type": "stream",
          "name": "stdout",
          "text": [
            "Current batch loss:  tensor(4.5894, grad_fn=<DivBackward1>)\n"
          ]
        },
        {
          "output_type": "stream",
          "name": "stderr",
          "text": [
            "20it [02:21,  7.08s/it]"
          ]
        },
        {
          "output_type": "stream",
          "name": "stdout",
          "text": [
            "Current batch loss:  tensor(4.5964, grad_fn=<DivBackward1>)\n"
          ]
        },
        {
          "output_type": "stream",
          "name": "stderr",
          "text": [
            "40it [04:43,  6.98s/it]"
          ]
        },
        {
          "output_type": "stream",
          "name": "stdout",
          "text": [
            "Current batch loss:  tensor(4.6022, grad_fn=<DivBackward1>)\n"
          ]
        },
        {
          "output_type": "stream",
          "name": "stderr",
          "text": [
            "60it [07:03,  6.97s/it]"
          ]
        },
        {
          "output_type": "stream",
          "name": "stdout",
          "text": [
            "Current batch loss:  tensor(4.5976, grad_fn=<DivBackward1>)\n"
          ]
        },
        {
          "output_type": "stream",
          "name": "stderr",
          "text": [
            "80it [09:24,  6.96s/it]"
          ]
        },
        {
          "output_type": "stream",
          "name": "stdout",
          "text": [
            "Current batch loss:  tensor(4.5953, grad_fn=<DivBackward1>)\n"
          ]
        },
        {
          "output_type": "stream",
          "name": "stderr",
          "text": [
            "98it [11:28,  7.03s/it]\n",
            "0it [00:00, ?it/s]"
          ]
        },
        {
          "output_type": "stream",
          "name": "stdout",
          "text": [
            "Current batch loss:  tensor(4.5923, grad_fn=<DivBackward1>)\n"
          ]
        },
        {
          "output_type": "stream",
          "name": "stderr",
          "text": [
            "20it [02:24,  7.18s/it]"
          ]
        },
        {
          "output_type": "stream",
          "name": "stdout",
          "text": [
            "Current batch loss:  tensor(4.5854, grad_fn=<DivBackward1>)\n"
          ]
        },
        {
          "output_type": "stream",
          "name": "stderr",
          "text": [
            "40it [04:45,  7.08s/it]"
          ]
        },
        {
          "output_type": "stream",
          "name": "stdout",
          "text": [
            "Current batch loss:  tensor(4.5894, grad_fn=<DivBackward1>)\n"
          ]
        },
        {
          "output_type": "stream",
          "name": "stderr",
          "text": [
            "60it [07:07,  7.01s/it]"
          ]
        },
        {
          "output_type": "stream",
          "name": "stdout",
          "text": [
            "Current batch loss:  tensor(4.5984, grad_fn=<DivBackward1>)\n"
          ]
        },
        {
          "output_type": "stream",
          "name": "stderr",
          "text": [
            "80it [09:26,  6.88s/it]"
          ]
        },
        {
          "output_type": "stream",
          "name": "stdout",
          "text": [
            "Current batch loss:  tensor(4.5894, grad_fn=<DivBackward1>)\n"
          ]
        },
        {
          "output_type": "stream",
          "name": "stderr",
          "text": [
            "98it [11:31,  7.05s/it]\n",
            "0it [00:00, ?it/s]"
          ]
        },
        {
          "output_type": "stream",
          "name": "stdout",
          "text": [
            "Current batch loss:  tensor(4.5894, grad_fn=<DivBackward1>)\n"
          ]
        },
        {
          "output_type": "stream",
          "name": "stderr",
          "text": [
            "20it [02:21,  7.54s/it]"
          ]
        },
        {
          "output_type": "stream",
          "name": "stdout",
          "text": [
            "Current batch loss:  tensor(4.5914, grad_fn=<DivBackward1>)\n"
          ]
        },
        {
          "output_type": "stream",
          "name": "stderr",
          "text": [
            "40it [04:39,  6.94s/it]"
          ]
        },
        {
          "output_type": "stream",
          "name": "stdout",
          "text": [
            "Current batch loss:  tensor(4.5890, grad_fn=<DivBackward1>)\n"
          ]
        },
        {
          "output_type": "stream",
          "name": "stderr",
          "text": [
            "60it [07:00,  7.10s/it]"
          ]
        },
        {
          "output_type": "stream",
          "name": "stdout",
          "text": [
            "Current batch loss:  tensor(4.5906, grad_fn=<DivBackward1>)\n"
          ]
        },
        {
          "output_type": "stream",
          "name": "stderr",
          "text": [
            "80it [09:20,  6.97s/it]"
          ]
        },
        {
          "output_type": "stream",
          "name": "stdout",
          "text": [
            "Current batch loss:  tensor(4.5958, grad_fn=<DivBackward1>)\n"
          ]
        },
        {
          "output_type": "stream",
          "name": "stderr",
          "text": [
            "98it [11:26,  7.00s/it]\n"
          ]
        }
      ]
    }
  ],
  "metadata": {
    "accelerator": "GPU",
    "colab": {
      "provenance": [],
      "toc_visible": true
    },
    "gpuClass": "standard",
    "kernelspec": {
      "display_name": "Python 3.9.9 64-bit",
      "language": "python",
      "name": "python3"
    },
    "language_info": {
      "name": "python",
      "version": "3.9.9"
    },
    "vscode": {
      "interpreter": {
        "hash": "aee8b7b246df8f9039afb4144a1f6fd8d2ca17a180786b69acc140d282b71a49"
      }
    }
  },
  "nbformat": 4,
  "nbformat_minor": 0
}