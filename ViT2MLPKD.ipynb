{
  "nbformat": 4,
  "nbformat_minor": 0,
  "metadata": {
    "colab": {
      "provenance": [],
      "collapsed_sections": [
        "ES_z2lrFzS4Q"
      ]
    },
    "kernelspec": {
      "name": "python3",
      "display_name": "Python 3"
    },
    "language_info": {
      "name": "python"
    },
    "gpuClass": "standard",
    "widgets": {
      "application/vnd.jupyter.widget-state+json": {
        "a0fbe94b71e44e3b861c79c9b8cb8aed": {
          "model_module": "@jupyter-widgets/controls",
          "model_name": "HBoxModel",
          "model_module_version": "1.5.0",
          "state": {
            "_dom_classes": [],
            "_model_module": "@jupyter-widgets/controls",
            "_model_module_version": "1.5.0",
            "_model_name": "HBoxModel",
            "_view_count": null,
            "_view_module": "@jupyter-widgets/controls",
            "_view_module_version": "1.5.0",
            "_view_name": "HBoxView",
            "box_style": "",
            "children": [
              "IPY_MODEL_25824fbcbbe9454e997378ab98f7e3df",
              "IPY_MODEL_06e24d0ed3ee416faefc51e7b6ec827d",
              "IPY_MODEL_6310d725ba9745598b60fcfd3095d3c2"
            ],
            "layout": "IPY_MODEL_87e5e4b8b68544e1a7482a9ac47d33d3"
          }
        },
        "25824fbcbbe9454e997378ab98f7e3df": {
          "model_module": "@jupyter-widgets/controls",
          "model_name": "HTMLModel",
          "model_module_version": "1.5.0",
          "state": {
            "_dom_classes": [],
            "_model_module": "@jupyter-widgets/controls",
            "_model_module_version": "1.5.0",
            "_model_name": "HTMLModel",
            "_view_count": null,
            "_view_module": "@jupyter-widgets/controls",
            "_view_module_version": "1.5.0",
            "_view_name": "HTMLView",
            "description": "",
            "description_tooltip": null,
            "layout": "IPY_MODEL_1efde901c1544699baacb81b85b40b64",
            "placeholder": "​",
            "style": "IPY_MODEL_dae8db137fa84efd8bde0bc5cfe65680",
            "value": "Downloading: 100%"
          }
        },
        "06e24d0ed3ee416faefc51e7b6ec827d": {
          "model_module": "@jupyter-widgets/controls",
          "model_name": "FloatProgressModel",
          "model_module_version": "1.5.0",
          "state": {
            "_dom_classes": [],
            "_model_module": "@jupyter-widgets/controls",
            "_model_module_version": "1.5.0",
            "_model_name": "FloatProgressModel",
            "_view_count": null,
            "_view_module": "@jupyter-widgets/controls",
            "_view_module_version": "1.5.0",
            "_view_name": "ProgressView",
            "bar_style": "success",
            "description": "",
            "description_tooltip": null,
            "layout": "IPY_MODEL_34742849c4e44ff2b938bbb777bcfbc8",
            "max": 228,
            "min": 0,
            "orientation": "horizontal",
            "style": "IPY_MODEL_c7c855eed5af4bb7bfd18d6b6a21399c",
            "value": 228
          }
        },
        "6310d725ba9745598b60fcfd3095d3c2": {
          "model_module": "@jupyter-widgets/controls",
          "model_name": "HTMLModel",
          "model_module_version": "1.5.0",
          "state": {
            "_dom_classes": [],
            "_model_module": "@jupyter-widgets/controls",
            "_model_module_version": "1.5.0",
            "_model_name": "HTMLModel",
            "_view_count": null,
            "_view_module": "@jupyter-widgets/controls",
            "_view_module_version": "1.5.0",
            "_view_name": "HTMLView",
            "description": "",
            "description_tooltip": null,
            "layout": "IPY_MODEL_7823f37c280944958885d4df2b831e60",
            "placeholder": "​",
            "style": "IPY_MODEL_7b1378f3a3264ea083745a0145082214",
            "value": " 228/228 [00:00&lt;00:00, 5.89kB/s]"
          }
        },
        "87e5e4b8b68544e1a7482a9ac47d33d3": {
          "model_module": "@jupyter-widgets/base",
          "model_name": "LayoutModel",
          "model_module_version": "1.2.0",
          "state": {
            "_model_module": "@jupyter-widgets/base",
            "_model_module_version": "1.2.0",
            "_model_name": "LayoutModel",
            "_view_count": null,
            "_view_module": "@jupyter-widgets/base",
            "_view_module_version": "1.2.0",
            "_view_name": "LayoutView",
            "align_content": null,
            "align_items": null,
            "align_self": null,
            "border": null,
            "bottom": null,
            "display": null,
            "flex": null,
            "flex_flow": null,
            "grid_area": null,
            "grid_auto_columns": null,
            "grid_auto_flow": null,
            "grid_auto_rows": null,
            "grid_column": null,
            "grid_gap": null,
            "grid_row": null,
            "grid_template_areas": null,
            "grid_template_columns": null,
            "grid_template_rows": null,
            "height": null,
            "justify_content": null,
            "justify_items": null,
            "left": null,
            "margin": null,
            "max_height": null,
            "max_width": null,
            "min_height": null,
            "min_width": null,
            "object_fit": null,
            "object_position": null,
            "order": null,
            "overflow": null,
            "overflow_x": null,
            "overflow_y": null,
            "padding": null,
            "right": null,
            "top": null,
            "visibility": null,
            "width": null
          }
        },
        "1efde901c1544699baacb81b85b40b64": {
          "model_module": "@jupyter-widgets/base",
          "model_name": "LayoutModel",
          "model_module_version": "1.2.0",
          "state": {
            "_model_module": "@jupyter-widgets/base",
            "_model_module_version": "1.2.0",
            "_model_name": "LayoutModel",
            "_view_count": null,
            "_view_module": "@jupyter-widgets/base",
            "_view_module_version": "1.2.0",
            "_view_name": "LayoutView",
            "align_content": null,
            "align_items": null,
            "align_self": null,
            "border": null,
            "bottom": null,
            "display": null,
            "flex": null,
            "flex_flow": null,
            "grid_area": null,
            "grid_auto_columns": null,
            "grid_auto_flow": null,
            "grid_auto_rows": null,
            "grid_column": null,
            "grid_gap": null,
            "grid_row": null,
            "grid_template_areas": null,
            "grid_template_columns": null,
            "grid_template_rows": null,
            "height": null,
            "justify_content": null,
            "justify_items": null,
            "left": null,
            "margin": null,
            "max_height": null,
            "max_width": null,
            "min_height": null,
            "min_width": null,
            "object_fit": null,
            "object_position": null,
            "order": null,
            "overflow": null,
            "overflow_x": null,
            "overflow_y": null,
            "padding": null,
            "right": null,
            "top": null,
            "visibility": null,
            "width": null
          }
        },
        "dae8db137fa84efd8bde0bc5cfe65680": {
          "model_module": "@jupyter-widgets/controls",
          "model_name": "DescriptionStyleModel",
          "model_module_version": "1.5.0",
          "state": {
            "_model_module": "@jupyter-widgets/controls",
            "_model_module_version": "1.5.0",
            "_model_name": "DescriptionStyleModel",
            "_view_count": null,
            "_view_module": "@jupyter-widgets/base",
            "_view_module_version": "1.2.0",
            "_view_name": "StyleView",
            "description_width": ""
          }
        },
        "34742849c4e44ff2b938bbb777bcfbc8": {
          "model_module": "@jupyter-widgets/base",
          "model_name": "LayoutModel",
          "model_module_version": "1.2.0",
          "state": {
            "_model_module": "@jupyter-widgets/base",
            "_model_module_version": "1.2.0",
            "_model_name": "LayoutModel",
            "_view_count": null,
            "_view_module": "@jupyter-widgets/base",
            "_view_module_version": "1.2.0",
            "_view_name": "LayoutView",
            "align_content": null,
            "align_items": null,
            "align_self": null,
            "border": null,
            "bottom": null,
            "display": null,
            "flex": null,
            "flex_flow": null,
            "grid_area": null,
            "grid_auto_columns": null,
            "grid_auto_flow": null,
            "grid_auto_rows": null,
            "grid_column": null,
            "grid_gap": null,
            "grid_row": null,
            "grid_template_areas": null,
            "grid_template_columns": null,
            "grid_template_rows": null,
            "height": null,
            "justify_content": null,
            "justify_items": null,
            "left": null,
            "margin": null,
            "max_height": null,
            "max_width": null,
            "min_height": null,
            "min_width": null,
            "object_fit": null,
            "object_position": null,
            "order": null,
            "overflow": null,
            "overflow_x": null,
            "overflow_y": null,
            "padding": null,
            "right": null,
            "top": null,
            "visibility": null,
            "width": null
          }
        },
        "c7c855eed5af4bb7bfd18d6b6a21399c": {
          "model_module": "@jupyter-widgets/controls",
          "model_name": "ProgressStyleModel",
          "model_module_version": "1.5.0",
          "state": {
            "_model_module": "@jupyter-widgets/controls",
            "_model_module_version": "1.5.0",
            "_model_name": "ProgressStyleModel",
            "_view_count": null,
            "_view_module": "@jupyter-widgets/base",
            "_view_module_version": "1.2.0",
            "_view_name": "StyleView",
            "bar_color": null,
            "description_width": ""
          }
        },
        "7823f37c280944958885d4df2b831e60": {
          "model_module": "@jupyter-widgets/base",
          "model_name": "LayoutModel",
          "model_module_version": "1.2.0",
          "state": {
            "_model_module": "@jupyter-widgets/base",
            "_model_module_version": "1.2.0",
            "_model_name": "LayoutModel",
            "_view_count": null,
            "_view_module": "@jupyter-widgets/base",
            "_view_module_version": "1.2.0",
            "_view_name": "LayoutView",
            "align_content": null,
            "align_items": null,
            "align_self": null,
            "border": null,
            "bottom": null,
            "display": null,
            "flex": null,
            "flex_flow": null,
            "grid_area": null,
            "grid_auto_columns": null,
            "grid_auto_flow": null,
            "grid_auto_rows": null,
            "grid_column": null,
            "grid_gap": null,
            "grid_row": null,
            "grid_template_areas": null,
            "grid_template_columns": null,
            "grid_template_rows": null,
            "height": null,
            "justify_content": null,
            "justify_items": null,
            "left": null,
            "margin": null,
            "max_height": null,
            "max_width": null,
            "min_height": null,
            "min_width": null,
            "object_fit": null,
            "object_position": null,
            "order": null,
            "overflow": null,
            "overflow_x": null,
            "overflow_y": null,
            "padding": null,
            "right": null,
            "top": null,
            "visibility": null,
            "width": null
          }
        },
        "7b1378f3a3264ea083745a0145082214": {
          "model_module": "@jupyter-widgets/controls",
          "model_name": "DescriptionStyleModel",
          "model_module_version": "1.5.0",
          "state": {
            "_model_module": "@jupyter-widgets/controls",
            "_model_module_version": "1.5.0",
            "_model_name": "DescriptionStyleModel",
            "_view_count": null,
            "_view_module": "@jupyter-widgets/base",
            "_view_module_version": "1.2.0",
            "_view_name": "StyleView",
            "description_width": ""
          }
        },
        "ddac4fca45d34f02af20dbe4c5acec25": {
          "model_module": "@jupyter-widgets/controls",
          "model_name": "HBoxModel",
          "model_module_version": "1.5.0",
          "state": {
            "_dom_classes": [],
            "_model_module": "@jupyter-widgets/controls",
            "_model_module_version": "1.5.0",
            "_model_name": "HBoxModel",
            "_view_count": null,
            "_view_module": "@jupyter-widgets/controls",
            "_view_module_version": "1.5.0",
            "_view_name": "HBoxView",
            "box_style": "",
            "children": [
              "IPY_MODEL_7f2e63e049c24c1695e2c7c11a70e75a",
              "IPY_MODEL_60b20e00bd2d4cba86e43cc63397b605",
              "IPY_MODEL_e873c884de1647fc8efae36f7e11052c"
            ],
            "layout": "IPY_MODEL_2a8fc5eb262f4672adf000cde07f36b1"
          }
        },
        "7f2e63e049c24c1695e2c7c11a70e75a": {
          "model_module": "@jupyter-widgets/controls",
          "model_name": "HTMLModel",
          "model_module_version": "1.5.0",
          "state": {
            "_dom_classes": [],
            "_model_module": "@jupyter-widgets/controls",
            "_model_module_version": "1.5.0",
            "_model_name": "HTMLModel",
            "_view_count": null,
            "_view_module": "@jupyter-widgets/controls",
            "_view_module_version": "1.5.0",
            "_view_name": "HTMLView",
            "description": "",
            "description_tooltip": null,
            "layout": "IPY_MODEL_1aae04972c4f47909bca544830ecc60c",
            "placeholder": "​",
            "style": "IPY_MODEL_7b1537cc3e4a40b0874edde6242441c2",
            "value": "Downloading: 100%"
          }
        },
        "60b20e00bd2d4cba86e43cc63397b605": {
          "model_module": "@jupyter-widgets/controls",
          "model_name": "FloatProgressModel",
          "model_module_version": "1.5.0",
          "state": {
            "_dom_classes": [],
            "_model_module": "@jupyter-widgets/controls",
            "_model_module_version": "1.5.0",
            "_model_name": "FloatProgressModel",
            "_view_count": null,
            "_view_module": "@jupyter-widgets/controls",
            "_view_module_version": "1.5.0",
            "_view_name": "ProgressView",
            "bar_style": "success",
            "description": "",
            "description_tooltip": null,
            "layout": "IPY_MODEL_c24e0cf3fe2547618541428e3ec6d52b",
            "max": 4683,
            "min": 0,
            "orientation": "horizontal",
            "style": "IPY_MODEL_187e098caa354532a4a1b775c3b41395",
            "value": 4683
          }
        },
        "e873c884de1647fc8efae36f7e11052c": {
          "model_module": "@jupyter-widgets/controls",
          "model_name": "HTMLModel",
          "model_module_version": "1.5.0",
          "state": {
            "_dom_classes": [],
            "_model_module": "@jupyter-widgets/controls",
            "_model_module_version": "1.5.0",
            "_model_name": "HTMLModel",
            "_view_count": null,
            "_view_module": "@jupyter-widgets/controls",
            "_view_module_version": "1.5.0",
            "_view_name": "HTMLView",
            "description": "",
            "description_tooltip": null,
            "layout": "IPY_MODEL_6359880880c64c9b8d35a1b12c8d0d20",
            "placeholder": "​",
            "style": "IPY_MODEL_b786ee6e189748c89c53f586fa3f79e3",
            "value": " 4.68k/4.68k [00:00&lt;00:00, 107kB/s]"
          }
        },
        "2a8fc5eb262f4672adf000cde07f36b1": {
          "model_module": "@jupyter-widgets/base",
          "model_name": "LayoutModel",
          "model_module_version": "1.2.0",
          "state": {
            "_model_module": "@jupyter-widgets/base",
            "_model_module_version": "1.2.0",
            "_model_name": "LayoutModel",
            "_view_count": null,
            "_view_module": "@jupyter-widgets/base",
            "_view_module_version": "1.2.0",
            "_view_name": "LayoutView",
            "align_content": null,
            "align_items": null,
            "align_self": null,
            "border": null,
            "bottom": null,
            "display": null,
            "flex": null,
            "flex_flow": null,
            "grid_area": null,
            "grid_auto_columns": null,
            "grid_auto_flow": null,
            "grid_auto_rows": null,
            "grid_column": null,
            "grid_gap": null,
            "grid_row": null,
            "grid_template_areas": null,
            "grid_template_columns": null,
            "grid_template_rows": null,
            "height": null,
            "justify_content": null,
            "justify_items": null,
            "left": null,
            "margin": null,
            "max_height": null,
            "max_width": null,
            "min_height": null,
            "min_width": null,
            "object_fit": null,
            "object_position": null,
            "order": null,
            "overflow": null,
            "overflow_x": null,
            "overflow_y": null,
            "padding": null,
            "right": null,
            "top": null,
            "visibility": null,
            "width": null
          }
        },
        "1aae04972c4f47909bca544830ecc60c": {
          "model_module": "@jupyter-widgets/base",
          "model_name": "LayoutModel",
          "model_module_version": "1.2.0",
          "state": {
            "_model_module": "@jupyter-widgets/base",
            "_model_module_version": "1.2.0",
            "_model_name": "LayoutModel",
            "_view_count": null,
            "_view_module": "@jupyter-widgets/base",
            "_view_module_version": "1.2.0",
            "_view_name": "LayoutView",
            "align_content": null,
            "align_items": null,
            "align_self": null,
            "border": null,
            "bottom": null,
            "display": null,
            "flex": null,
            "flex_flow": null,
            "grid_area": null,
            "grid_auto_columns": null,
            "grid_auto_flow": null,
            "grid_auto_rows": null,
            "grid_column": null,
            "grid_gap": null,
            "grid_row": null,
            "grid_template_areas": null,
            "grid_template_columns": null,
            "grid_template_rows": null,
            "height": null,
            "justify_content": null,
            "justify_items": null,
            "left": null,
            "margin": null,
            "max_height": null,
            "max_width": null,
            "min_height": null,
            "min_width": null,
            "object_fit": null,
            "object_position": null,
            "order": null,
            "overflow": null,
            "overflow_x": null,
            "overflow_y": null,
            "padding": null,
            "right": null,
            "top": null,
            "visibility": null,
            "width": null
          }
        },
        "7b1537cc3e4a40b0874edde6242441c2": {
          "model_module": "@jupyter-widgets/controls",
          "model_name": "DescriptionStyleModel",
          "model_module_version": "1.5.0",
          "state": {
            "_model_module": "@jupyter-widgets/controls",
            "_model_module_version": "1.5.0",
            "_model_name": "DescriptionStyleModel",
            "_view_count": null,
            "_view_module": "@jupyter-widgets/base",
            "_view_module_version": "1.2.0",
            "_view_name": "StyleView",
            "description_width": ""
          }
        },
        "c24e0cf3fe2547618541428e3ec6d52b": {
          "model_module": "@jupyter-widgets/base",
          "model_name": "LayoutModel",
          "model_module_version": "1.2.0",
          "state": {
            "_model_module": "@jupyter-widgets/base",
            "_model_module_version": "1.2.0",
            "_model_name": "LayoutModel",
            "_view_count": null,
            "_view_module": "@jupyter-widgets/base",
            "_view_module_version": "1.2.0",
            "_view_name": "LayoutView",
            "align_content": null,
            "align_items": null,
            "align_self": null,
            "border": null,
            "bottom": null,
            "display": null,
            "flex": null,
            "flex_flow": null,
            "grid_area": null,
            "grid_auto_columns": null,
            "grid_auto_flow": null,
            "grid_auto_rows": null,
            "grid_column": null,
            "grid_gap": null,
            "grid_row": null,
            "grid_template_areas": null,
            "grid_template_columns": null,
            "grid_template_rows": null,
            "height": null,
            "justify_content": null,
            "justify_items": null,
            "left": null,
            "margin": null,
            "max_height": null,
            "max_width": null,
            "min_height": null,
            "min_width": null,
            "object_fit": null,
            "object_position": null,
            "order": null,
            "overflow": null,
            "overflow_x": null,
            "overflow_y": null,
            "padding": null,
            "right": null,
            "top": null,
            "visibility": null,
            "width": null
          }
        },
        "187e098caa354532a4a1b775c3b41395": {
          "model_module": "@jupyter-widgets/controls",
          "model_name": "ProgressStyleModel",
          "model_module_version": "1.5.0",
          "state": {
            "_model_module": "@jupyter-widgets/controls",
            "_model_module_version": "1.5.0",
            "_model_name": "ProgressStyleModel",
            "_view_count": null,
            "_view_module": "@jupyter-widgets/base",
            "_view_module_version": "1.2.0",
            "_view_name": "StyleView",
            "bar_color": null,
            "description_width": ""
          }
        },
        "6359880880c64c9b8d35a1b12c8d0d20": {
          "model_module": "@jupyter-widgets/base",
          "model_name": "LayoutModel",
          "model_module_version": "1.2.0",
          "state": {
            "_model_module": "@jupyter-widgets/base",
            "_model_module_version": "1.2.0",
            "_model_name": "LayoutModel",
            "_view_count": null,
            "_view_module": "@jupyter-widgets/base",
            "_view_module_version": "1.2.0",
            "_view_name": "LayoutView",
            "align_content": null,
            "align_items": null,
            "align_self": null,
            "border": null,
            "bottom": null,
            "display": null,
            "flex": null,
            "flex_flow": null,
            "grid_area": null,
            "grid_auto_columns": null,
            "grid_auto_flow": null,
            "grid_auto_rows": null,
            "grid_column": null,
            "grid_gap": null,
            "grid_row": null,
            "grid_template_areas": null,
            "grid_template_columns": null,
            "grid_template_rows": null,
            "height": null,
            "justify_content": null,
            "justify_items": null,
            "left": null,
            "margin": null,
            "max_height": null,
            "max_width": null,
            "min_height": null,
            "min_width": null,
            "object_fit": null,
            "object_position": null,
            "order": null,
            "overflow": null,
            "overflow_x": null,
            "overflow_y": null,
            "padding": null,
            "right": null,
            "top": null,
            "visibility": null,
            "width": null
          }
        },
        "b786ee6e189748c89c53f586fa3f79e3": {
          "model_module": "@jupyter-widgets/controls",
          "model_name": "DescriptionStyleModel",
          "model_module_version": "1.5.0",
          "state": {
            "_model_module": "@jupyter-widgets/controls",
            "_model_module_version": "1.5.0",
            "_model_name": "DescriptionStyleModel",
            "_view_count": null,
            "_view_module": "@jupyter-widgets/base",
            "_view_module_version": "1.2.0",
            "_view_name": "StyleView",
            "description_width": ""
          }
        },
        "2d5cf6c081b64b0fa0dc7195bc4c26c0": {
          "model_module": "@jupyter-widgets/controls",
          "model_name": "HBoxModel",
          "model_module_version": "1.5.0",
          "state": {
            "_dom_classes": [],
            "_model_module": "@jupyter-widgets/controls",
            "_model_module_version": "1.5.0",
            "_model_name": "HBoxModel",
            "_view_count": null,
            "_view_module": "@jupyter-widgets/controls",
            "_view_module_version": "1.5.0",
            "_view_name": "HBoxView",
            "box_style": "",
            "children": [
              "IPY_MODEL_d5786231a7fb492e9990e561c8cb09ce",
              "IPY_MODEL_819b0f9dbb494e359a5804f95bdc6ec5",
              "IPY_MODEL_b3f6cf752027430d80a9f56f9d2b7e9b"
            ],
            "layout": "IPY_MODEL_08d29792452f4315946e7d3dc07f739c"
          }
        },
        "d5786231a7fb492e9990e561c8cb09ce": {
          "model_module": "@jupyter-widgets/controls",
          "model_name": "HTMLModel",
          "model_module_version": "1.5.0",
          "state": {
            "_dom_classes": [],
            "_model_module": "@jupyter-widgets/controls",
            "_model_module_version": "1.5.0",
            "_model_name": "HTMLModel",
            "_view_count": null,
            "_view_module": "@jupyter-widgets/controls",
            "_view_module_version": "1.5.0",
            "_view_name": "HTMLView",
            "description": "",
            "description_tooltip": null,
            "layout": "IPY_MODEL_8d5fb855045b41c3b3b72f641051f7c8",
            "placeholder": "​",
            "style": "IPY_MODEL_91d195dfc00547f3a6d0293fad6217b4",
            "value": "Downloading: 100%"
          }
        },
        "819b0f9dbb494e359a5804f95bdc6ec5": {
          "model_module": "@jupyter-widgets/controls",
          "model_name": "FloatProgressModel",
          "model_module_version": "1.5.0",
          "state": {
            "_dom_classes": [],
            "_model_module": "@jupyter-widgets/controls",
            "_model_module_version": "1.5.0",
            "_model_name": "FloatProgressModel",
            "_view_count": null,
            "_view_module": "@jupyter-widgets/controls",
            "_view_module_version": "1.5.0",
            "_view_name": "ProgressView",
            "bar_style": "success",
            "description": "",
            "description_tooltip": null,
            "layout": "IPY_MODEL_6ba96a550ae84a129f7775b7d1a32a08",
            "max": 343568433,
            "min": 0,
            "orientation": "horizontal",
            "style": "IPY_MODEL_eb411755ccf446609071694c4d960f53",
            "value": 343568433
          }
        },
        "b3f6cf752027430d80a9f56f9d2b7e9b": {
          "model_module": "@jupyter-widgets/controls",
          "model_name": "HTMLModel",
          "model_module_version": "1.5.0",
          "state": {
            "_dom_classes": [],
            "_model_module": "@jupyter-widgets/controls",
            "_model_module_version": "1.5.0",
            "_model_name": "HTMLModel",
            "_view_count": null,
            "_view_module": "@jupyter-widgets/controls",
            "_view_module_version": "1.5.0",
            "_view_name": "HTMLView",
            "description": "",
            "description_tooltip": null,
            "layout": "IPY_MODEL_438ef72fe3ef4622b19181bec075eccc",
            "placeholder": "​",
            "style": "IPY_MODEL_72ea4c5eaffb400cab890b4a7556c95c",
            "value": " 344M/344M [00:06&lt;00:00, 58.0MB/s]"
          }
        },
        "08d29792452f4315946e7d3dc07f739c": {
          "model_module": "@jupyter-widgets/base",
          "model_name": "LayoutModel",
          "model_module_version": "1.2.0",
          "state": {
            "_model_module": "@jupyter-widgets/base",
            "_model_module_version": "1.2.0",
            "_model_name": "LayoutModel",
            "_view_count": null,
            "_view_module": "@jupyter-widgets/base",
            "_view_module_version": "1.2.0",
            "_view_name": "LayoutView",
            "align_content": null,
            "align_items": null,
            "align_self": null,
            "border": null,
            "bottom": null,
            "display": null,
            "flex": null,
            "flex_flow": null,
            "grid_area": null,
            "grid_auto_columns": null,
            "grid_auto_flow": null,
            "grid_auto_rows": null,
            "grid_column": null,
            "grid_gap": null,
            "grid_row": null,
            "grid_template_areas": null,
            "grid_template_columns": null,
            "grid_template_rows": null,
            "height": null,
            "justify_content": null,
            "justify_items": null,
            "left": null,
            "margin": null,
            "max_height": null,
            "max_width": null,
            "min_height": null,
            "min_width": null,
            "object_fit": null,
            "object_position": null,
            "order": null,
            "overflow": null,
            "overflow_x": null,
            "overflow_y": null,
            "padding": null,
            "right": null,
            "top": null,
            "visibility": null,
            "width": null
          }
        },
        "8d5fb855045b41c3b3b72f641051f7c8": {
          "model_module": "@jupyter-widgets/base",
          "model_name": "LayoutModel",
          "model_module_version": "1.2.0",
          "state": {
            "_model_module": "@jupyter-widgets/base",
            "_model_module_version": "1.2.0",
            "_model_name": "LayoutModel",
            "_view_count": null,
            "_view_module": "@jupyter-widgets/base",
            "_view_module_version": "1.2.0",
            "_view_name": "LayoutView",
            "align_content": null,
            "align_items": null,
            "align_self": null,
            "border": null,
            "bottom": null,
            "display": null,
            "flex": null,
            "flex_flow": null,
            "grid_area": null,
            "grid_auto_columns": null,
            "grid_auto_flow": null,
            "grid_auto_rows": null,
            "grid_column": null,
            "grid_gap": null,
            "grid_row": null,
            "grid_template_areas": null,
            "grid_template_columns": null,
            "grid_template_rows": null,
            "height": null,
            "justify_content": null,
            "justify_items": null,
            "left": null,
            "margin": null,
            "max_height": null,
            "max_width": null,
            "min_height": null,
            "min_width": null,
            "object_fit": null,
            "object_position": null,
            "order": null,
            "overflow": null,
            "overflow_x": null,
            "overflow_y": null,
            "padding": null,
            "right": null,
            "top": null,
            "visibility": null,
            "width": null
          }
        },
        "91d195dfc00547f3a6d0293fad6217b4": {
          "model_module": "@jupyter-widgets/controls",
          "model_name": "DescriptionStyleModel",
          "model_module_version": "1.5.0",
          "state": {
            "_model_module": "@jupyter-widgets/controls",
            "_model_module_version": "1.5.0",
            "_model_name": "DescriptionStyleModel",
            "_view_count": null,
            "_view_module": "@jupyter-widgets/base",
            "_view_module_version": "1.2.0",
            "_view_name": "StyleView",
            "description_width": ""
          }
        },
        "6ba96a550ae84a129f7775b7d1a32a08": {
          "model_module": "@jupyter-widgets/base",
          "model_name": "LayoutModel",
          "model_module_version": "1.2.0",
          "state": {
            "_model_module": "@jupyter-widgets/base",
            "_model_module_version": "1.2.0",
            "_model_name": "LayoutModel",
            "_view_count": null,
            "_view_module": "@jupyter-widgets/base",
            "_view_module_version": "1.2.0",
            "_view_name": "LayoutView",
            "align_content": null,
            "align_items": null,
            "align_self": null,
            "border": null,
            "bottom": null,
            "display": null,
            "flex": null,
            "flex_flow": null,
            "grid_area": null,
            "grid_auto_columns": null,
            "grid_auto_flow": null,
            "grid_auto_rows": null,
            "grid_column": null,
            "grid_gap": null,
            "grid_row": null,
            "grid_template_areas": null,
            "grid_template_columns": null,
            "grid_template_rows": null,
            "height": null,
            "justify_content": null,
            "justify_items": null,
            "left": null,
            "margin": null,
            "max_height": null,
            "max_width": null,
            "min_height": null,
            "min_width": null,
            "object_fit": null,
            "object_position": null,
            "order": null,
            "overflow": null,
            "overflow_x": null,
            "overflow_y": null,
            "padding": null,
            "right": null,
            "top": null,
            "visibility": null,
            "width": null
          }
        },
        "eb411755ccf446609071694c4d960f53": {
          "model_module": "@jupyter-widgets/controls",
          "model_name": "ProgressStyleModel",
          "model_module_version": "1.5.0",
          "state": {
            "_model_module": "@jupyter-widgets/controls",
            "_model_module_version": "1.5.0",
            "_model_name": "ProgressStyleModel",
            "_view_count": null,
            "_view_module": "@jupyter-widgets/base",
            "_view_module_version": "1.2.0",
            "_view_name": "StyleView",
            "bar_color": null,
            "description_width": ""
          }
        },
        "438ef72fe3ef4622b19181bec075eccc": {
          "model_module": "@jupyter-widgets/base",
          "model_name": "LayoutModel",
          "model_module_version": "1.2.0",
          "state": {
            "_model_module": "@jupyter-widgets/base",
            "_model_module_version": "1.2.0",
            "_model_name": "LayoutModel",
            "_view_count": null,
            "_view_module": "@jupyter-widgets/base",
            "_view_module_version": "1.2.0",
            "_view_name": "LayoutView",
            "align_content": null,
            "align_items": null,
            "align_self": null,
            "border": null,
            "bottom": null,
            "display": null,
            "flex": null,
            "flex_flow": null,
            "grid_area": null,
            "grid_auto_columns": null,
            "grid_auto_flow": null,
            "grid_auto_rows": null,
            "grid_column": null,
            "grid_gap": null,
            "grid_row": null,
            "grid_template_areas": null,
            "grid_template_columns": null,
            "grid_template_rows": null,
            "height": null,
            "justify_content": null,
            "justify_items": null,
            "left": null,
            "margin": null,
            "max_height": null,
            "max_width": null,
            "min_height": null,
            "min_width": null,
            "object_fit": null,
            "object_position": null,
            "order": null,
            "overflow": null,
            "overflow_x": null,
            "overflow_y": null,
            "padding": null,
            "right": null,
            "top": null,
            "visibility": null,
            "width": null
          }
        },
        "72ea4c5eaffb400cab890b4a7556c95c": {
          "model_module": "@jupyter-widgets/controls",
          "model_name": "DescriptionStyleModel",
          "model_module_version": "1.5.0",
          "state": {
            "_model_module": "@jupyter-widgets/controls",
            "_model_module_version": "1.5.0",
            "_model_name": "DescriptionStyleModel",
            "_view_count": null,
            "_view_module": "@jupyter-widgets/base",
            "_view_module_version": "1.2.0",
            "_view_name": "StyleView",
            "description_width": ""
          }
        }
      }
    }
  },
  "cells": [
    {
      "cell_type": "markdown",
      "source": [
        "# Knowledge distillation\n",
        "In this notebook, we will try to distill the knowledge of a Vision Transformer into a MLP Mixer."
      ],
      "metadata": {
        "id": "dL7l7ZJI61rQ"
      }
    },
    {
      "cell_type": "markdown",
      "source": [
        "##0. Downloads and imports"
      ],
      "metadata": {
        "id": "ES_z2lrFzS4Q"
      }
    },
    {
      "cell_type": "code",
      "source": [
        "#@title Downloads\n",
        "!pip install -q transformers datasets[vision] pytorch-lightning\n",
        "!pip install einops"
      ],
      "metadata": {
        "cellView": "form",
        "id": "4Ol5yDer7LaO",
        "outputId": "cba25653-688a-4c14-bab7-d4feeaadfddd",
        "colab": {
          "base_uri": "https://localhost:8080/"
        }
      },
      "execution_count": null,
      "outputs": [
        {
          "output_type": "stream",
          "name": "stdout",
          "text": [
            "\u001b[K     |████████████████████████████████| 5.5 MB 4.7 MB/s \n",
            "\u001b[K     |████████████████████████████████| 451 kB 56.3 MB/s \n",
            "\u001b[K     |████████████████████████████████| 798 kB 73.3 MB/s \n",
            "\u001b[K     |████████████████████████████████| 182 kB 30.4 MB/s \n",
            "\u001b[K     |████████████████████████████████| 7.6 MB 16.4 MB/s \n",
            "\u001b[K     |████████████████████████████████| 125 kB 53.0 MB/s \n",
            "\u001b[K     |████████████████████████████████| 512 kB 50.4 MB/s \n",
            "\u001b[K     |████████████████████████████████| 87 kB 2.4 MB/s \n",
            "\u001b[K     |████████████████████████████████| 132 kB 47.1 MB/s \n",
            "\u001b[K     |████████████████████████████████| 212 kB 43.6 MB/s \n",
            "\u001b[K     |████████████████████████████████| 127 kB 48.5 MB/s \n",
            "\u001b[?25h  Building wheel for fire (setup.py) ... \u001b[?25l\u001b[?25hdone\n",
            "Looking in indexes: https://pypi.org/simple, https://us-python.pkg.dev/colab-wheels/public/simple/\n",
            "Collecting einops\n",
            "  Downloading einops-0.6.0-py3-none-any.whl (41 kB)\n",
            "\u001b[K     |████████████████████████████████| 41 kB 365 kB/s \n",
            "\u001b[?25hInstalling collected packages: einops\n",
            "Successfully installed einops-0.6.0\n"
          ]
        }
      ]
    },
    {
      "cell_type": "code",
      "source": [
        "#@title Imports\n",
        "\n",
        "# general imports\n",
        "from typing import *\n",
        "from google.colab import drive\n",
        "import os\n",
        "import matplotlib.pyplot as plt\n",
        "from tqdm import tqdm\n",
        "\n",
        "# pytorch imports\n",
        "import torchvision\n",
        "import transformers\n",
        "#from transformers import ViTFeatureExtractor, ViTForImageClassification\n",
        "import torch\n",
        "import numpy as np\n",
        "import einops\n",
        "import torch.nn as nn\n",
        "import torch.nn.functional as F\n",
        "\n",
        "device : str = \"cuda\" if torch.cuda.is_available() else \"cpu\""
      ],
      "metadata": {
        "cellView": "form",
        "id": "WumRkwLd7SKG"
      },
      "execution_count": null,
      "outputs": []
    },
    {
      "cell_type": "code",
      "source": [
        "#@title Move to the project folder\n",
        "drive.mount('/content/drive', force_remount=True)\n",
        "\n",
        "%cd /content/drive/MyDrive\n",
        "\n",
        "if not os.path.exists(\"ViT2MLP\"):\n",
        "  os.mkdir(\"ViT2MLP\")\n",
        "\n",
        "%cd ViT2MLP"
      ],
      "metadata": {
        "id": "GdzEa5BqwFOy",
        "cellView": "form",
        "outputId": "1b42c210-13c0-4f51-9353-e094fb3d3125",
        "colab": {
          "base_uri": "https://localhost:8080/"
        }
      },
      "execution_count": null,
      "outputs": [
        {
          "output_type": "stream",
          "name": "stdout",
          "text": [
            "Mounted at /content/drive\n",
            "/content/drive/MyDrive\n",
            "/content/drive/MyDrive/ViT2MLP\n"
          ]
        }
      ]
    },
    {
      "cell_type": "code",
      "source": [
        "#@title Download the datasets\n",
        "# TODO need to download it\n",
        "#imagenet = torchvision.datasets.ImageNet(root = \".\",split = \"val\")\n",
        "\n",
        "cifar100 = torchvision.datasets.CIFAR100(root = \".\", train = False, download = True)"
      ],
      "metadata": {
        "cellView": "form",
        "id": "_yAlyRDW8fwM",
        "outputId": "d22b5071-8051-45bd-8177-2777a9f9e982",
        "colab": {
          "base_uri": "https://localhost:8080/"
        }
      },
      "execution_count": null,
      "outputs": [
        {
          "output_type": "stream",
          "name": "stdout",
          "text": [
            "Files already downloaded and verified\n"
          ]
        }
      ]
    },
    {
      "cell_type": "code",
      "source": [
        "#@title Visualization function\n",
        "def visualize(datapoint : int, dataset : torchvision.datasets):\n",
        "    image, label = dataset[datapoint]\n",
        "    plt.title(f\"Ground truth: {dataset.classes[label]}\")\n",
        "    plt.imshow(image)"
      ],
      "metadata": {
        "cellView": "form",
        "id": "MLtary4p_Z_B"
      },
      "execution_count": null,
      "outputs": []
    },
    {
      "cell_type": "markdown",
      "source": [
        "##1. Code for the pre-trained transformer"
      ],
      "metadata": {
        "id": "AjYPKIo8zW_7"
      }
    },
    {
      "cell_type": "markdown",
      "source": [
        "References:\n",
        "- [main transformer docs](https:huggingface.co/docs/transformers/index) \n",
        "- [ViT Docs](https://huggingface.co/docs/transformers/model_doc/vit)\n",
        "- [lighting finetuning example](https://github.com/NielsRogge/Transformers-Tutorials/tree/master/VisionTransformer)"
      ],
      "metadata": {
        "id": "AcazhnqFv0Lx"
      }
    },
    {
      "cell_type": "markdown",
      "source": [
        "### Example of transformer model\n",
        "\n",
        "Load ViT finetuned on Imagenet1k or CIFAR100. To load the non fine-tuned version use **\"google/vit-base-patch16-224-im21k\"**"
      ],
      "metadata": {
        "id": "MKpdGxL59-Is"
      }
    },
    {
      "cell_type": "code",
      "source": [
        "#@title Load the model\n",
        "cifar100_vit = \"Ahmed9275/Vit-Cifar100\"\n",
        "imagenet1k_vit = \"google/vit-base-patch16-224\"\n",
        "tuned_on : str = \"cifar100\" #@param['cifar100', 'imagenet1k']\n",
        "if tuned_on == \"cifar100\":\n",
        "    model_str = cifar100_vit\n",
        "else:\n",
        "    model_str = imagenet1k_vit\n",
        "\n",
        "\n",
        "feature_extractor = transformers.ViTFeatureExtractor.from_pretrained(model_str)\n",
        "\n",
        "model = transformers.ViTForImageClassification.from_pretrained(model_str).to(device)"
      ],
      "metadata": {
        "cellView": "form",
        "id": "WsSKp30aAMah",
        "outputId": "c349ba30-5e49-4f57-ecf4-c6699523e1c1",
        "colab": {
          "base_uri": "https://localhost:8080/",
          "height": 113,
          "referenced_widgets": [
            "a0fbe94b71e44e3b861c79c9b8cb8aed",
            "25824fbcbbe9454e997378ab98f7e3df",
            "06e24d0ed3ee416faefc51e7b6ec827d",
            "6310d725ba9745598b60fcfd3095d3c2",
            "87e5e4b8b68544e1a7482a9ac47d33d3",
            "1efde901c1544699baacb81b85b40b64",
            "dae8db137fa84efd8bde0bc5cfe65680",
            "34742849c4e44ff2b938bbb777bcfbc8",
            "c7c855eed5af4bb7bfd18d6b6a21399c",
            "7823f37c280944958885d4df2b831e60",
            "7b1378f3a3264ea083745a0145082214",
            "ddac4fca45d34f02af20dbe4c5acec25",
            "7f2e63e049c24c1695e2c7c11a70e75a",
            "60b20e00bd2d4cba86e43cc63397b605",
            "e873c884de1647fc8efae36f7e11052c",
            "2a8fc5eb262f4672adf000cde07f36b1",
            "1aae04972c4f47909bca544830ecc60c",
            "7b1537cc3e4a40b0874edde6242441c2",
            "c24e0cf3fe2547618541428e3ec6d52b",
            "187e098caa354532a4a1b775c3b41395",
            "6359880880c64c9b8d35a1b12c8d0d20",
            "b786ee6e189748c89c53f586fa3f79e3",
            "2d5cf6c081b64b0fa0dc7195bc4c26c0",
            "d5786231a7fb492e9990e561c8cb09ce",
            "819b0f9dbb494e359a5804f95bdc6ec5",
            "b3f6cf752027430d80a9f56f9d2b7e9b",
            "08d29792452f4315946e7d3dc07f739c",
            "8d5fb855045b41c3b3b72f641051f7c8",
            "91d195dfc00547f3a6d0293fad6217b4",
            "6ba96a550ae84a129f7775b7d1a32a08",
            "eb411755ccf446609071694c4d960f53",
            "438ef72fe3ef4622b19181bec075eccc",
            "72ea4c5eaffb400cab890b4a7556c95c"
          ]
        }
      },
      "execution_count": null,
      "outputs": [
        {
          "output_type": "display_data",
          "data": {
            "text/plain": [
              "Downloading:   0%|          | 0.00/228 [00:00<?, ?B/s]"
            ],
            "application/vnd.jupyter.widget-view+json": {
              "version_major": 2,
              "version_minor": 0,
              "model_id": "a0fbe94b71e44e3b861c79c9b8cb8aed"
            }
          },
          "metadata": {}
        },
        {
          "output_type": "display_data",
          "data": {
            "text/plain": [
              "Downloading:   0%|          | 0.00/4.68k [00:00<?, ?B/s]"
            ],
            "application/vnd.jupyter.widget-view+json": {
              "version_major": 2,
              "version_minor": 0,
              "model_id": "ddac4fca45d34f02af20dbe4c5acec25"
            }
          },
          "metadata": {}
        },
        {
          "output_type": "display_data",
          "data": {
            "text/plain": [
              "Downloading:   0%|          | 0.00/344M [00:00<?, ?B/s]"
            ],
            "application/vnd.jupyter.widget-view+json": {
              "version_major": 2,
              "version_minor": 0,
              "model_id": "2d5cf6c081b64b0fa0dc7195bc4c26c0"
            }
          },
          "metadata": {}
        }
      ]
    },
    {
      "cell_type": "code",
      "source": [
        "#@title Function to predict\n",
        "def predict(image, only_label : bool = False) -> str:\n",
        "    inputs = feature_extractor(image, return_tensors=\"pt\").to(device)\n",
        "    with torch.no_grad():\n",
        "        logits = model(**inputs).logits\n",
        "\n",
        "    # model predicts one of the 1000 ImageNet classes\n",
        "    predicted_label : int = logits.argmax(-1).item()\n",
        "    if only_label:\n",
        "        return predicted_label\n",
        "    return model.config.id2label[predicted_label]\n"
      ],
      "metadata": {
        "cellView": "form",
        "id": "qW2bXu6dAYls"
      },
      "execution_count": null,
      "outputs": []
    },
    {
      "cell_type": "code",
      "source": [
        "#@title Qualitative comparison with ground truth {run : \"auto\"}\n",
        "datapoint_number : int = 900 #@param{type:\"integer\"}\n",
        "\n",
        "dataset = cifar100 if tuned_on == \"cifar100\" else imagenet1k\n",
        "try:\n",
        "    visualize(datapoint_number, dataset)\n",
        "    print(f\"Predicted: {predict(dataset[datapoint_number][0])}\")\n",
        "except IndexError:\n",
        "    print(f\"The dataset max index is {len(dataset)-1}\")\n"
      ],
      "metadata": {
        "colab": {
          "base_uri": "https://localhost:8080/",
          "height": 299
        },
        "id": "RBCle0TPyy2b",
        "outputId": "83896222-87c3-4cd8-8f4b-e3a35093de2c",
        "cellView": "form"
      },
      "execution_count": null,
      "outputs": [
        {
          "output_type": "stream",
          "name": "stdout",
          "text": [
            "Predicted: camel\n"
          ]
        },
        {
          "output_type": "display_data",
          "data": {
            "text/plain": [
              "<Figure size 432x288 with 1 Axes>"
            ],
            "image/png": "[encoded data removed]"
          },
          "metadata": {
            "needs_background": "light"
          }
        }
      ]
    },
    {
      "cell_type": "code",
      "source": [
        "#@title Quantitative result: Accuracy\n",
        "correct = 0\n",
        "for i in tqdm(range(len(dataset))):\n",
        "    pr_label = predict(dataset[i][0], only_label=True)\n",
        "    gt_label = dataset[i][1]\n",
        "    if pr_label == gt_label:\n",
        "        correct += 1\n",
        "accuracy = round(correct*100 / len(dataset),2)\n",
        "print(f\"The accuracy of the model for the dataset {tuned_on} is: {accuracy}%\")"
      ],
      "metadata": {
        "id": "jCqhJyWDHUgL",
        "outputId": "d63519bb-b8dd-415e-fb69-3b8a2d3fbe8d",
        "colab": {
          "base_uri": "https://localhost:8080/"
        }
      },
      "execution_count": null,
      "outputs": [
        {
          "output_type": "stream",
          "name": "stderr",
          "text": [
            "100%|██████████| 10000/10000 [03:01<00:00, 55.03it/s]\n"
          ]
        },
        {
          "output_type": "stream",
          "name": "stdout",
          "text": [
            "The accuracy of the model for the dataset cifar100 is: 89.85%\n"
          ]
        }
      ]
    },
    {
      "cell_type": "markdown",
      "source": [
        "##2. Code for MLP mixer"
      ],
      "metadata": {
        "id": "0m4IdUu7-7QI"
      }
    },
    {
      "cell_type": "code",
      "source": [
        "#tentative pytorch implementation for https://github.com/google-research/vision_transformer/blob/main/vit_jax/models_mixer.py\n",
        "#to include: apache license lol\n",
        "\n",
        "class MlpBlock(nn.Module):\n",
        "\n",
        "  #TODO: implement with sequential\n",
        "  def __init__(self, mlp_dim):\n",
        "    super().__init__()\n",
        "    #dense implementation only has out features specified, need to check input dim\n",
        "    self.mlp1 = nn.Linear(in_features=mlp_dim, out_features = mlp_dim)\n",
        "    self.mlp2 = nn.Linear(in_features=mlp_dim, out_features = mlp_dim)\n",
        "    self.activation = F.gelu\n",
        "\n",
        "  def forward(self, x):\n",
        "    y = self.mlp1(x)\n",
        "    y = self.activation(y)\n",
        "    y = self.mlp2(y)\n",
        "    return y\n",
        "\n",
        "class MixerBlock(nn.Module):\n",
        "\n",
        "  #TODO:??\n",
        "  def __init__(self, tokens_mlp_dim, channels_mlp_dim):\n",
        "    super().__init__()\n",
        "    self.layer_norm = torch.nn.LayerNorm([200,2])\n",
        "    self.mlpblock_token_mixer = MlpBlock(tokens_mlp_dim)\n",
        "    self.mlpblock_channel_mixer = MlpBlock(channels_mlp_dim)\n",
        "\n",
        "  def forward(self,x):\n",
        "    y = self.layer_norm(x)\n",
        "    y = np.swapaxes(y,1,2)\n",
        "    y = self.mlpblock_token_mixer(y)\n",
        "    y = np.swapaxes(y,1,2)\n",
        "    x = x + y\n",
        "    y = self.layer_norm(x)\n",
        "    return x + self.mlpblock_channel_mixer(y)\n",
        "\n",
        "class MlpMixer(nn.Module):\n",
        "  \"\"\"Mixer architecture\"\"\"\n",
        "\n",
        "  def __init__(self, hidden_dim : int, patches_size : int,\n",
        "               num_blocks: int, tokens_mlp_dim : int,\n",
        "               channels_mlp_dim : int, num_classes: int):\n",
        "    super().__init__()\n",
        "    self.hidden_dim = hidden_dim\n",
        "    #self.patches_size = patches_size\n",
        "    self.num_blocks = num_blocks\n",
        "    self.num_classes = num_classes\n",
        "    #per patch fully connected?\n",
        "    self.stem = nn.Conv2d(in_channels = 3, \n",
        "                          out_channels = self.hidden_dim,\n",
        "                          kernel_size = (patches_size,patches_size),\n",
        "                          stride = patches_size)\n",
        "    self.mixer_block = MixerBlock(tokens_mlp_dim, channels_mlp_dim)\n",
        "    self.layer_norm = torch.nn.LayerNorm([200,2])\n",
        "    #What is kernel init? Does it initialize everything to 0?\n",
        "    self.fc = nn.Linear(in_features = channels_mlp_dim, out_features = self.num_classes)\n",
        "\n",
        "  #what is * ?\n",
        "  def forward(self, inputs, *, train):\n",
        "    #why delete train?\n",
        "    del train\n",
        "    x = self.stem(inputs)\n",
        "    x = einops.rearrange(x, 'n h w c -> n (h w) c')\n",
        "    for _ in range(self.num_blocks):\n",
        "      x = self.mixer_block(x)\n",
        "    x = self.layer_norm(x)\n",
        "    x = x.mean(dim = 1)\n",
        "    if self.num_classes:\n",
        "      #add classification layer if num classes is specified\n",
        "      x = self.fc(x)\n",
        "    return x"
      ],
      "metadata": {
        "id": "Iqamb0Jj_ZjN"
      },
      "execution_count": null,
      "outputs": []
    },
    {
      "cell_type": "code",
      "source": [
        "net = MlpMixer(hidden_dim = 100,\n",
        "               patches_size = 16,\n",
        "               num_blocks = 1,\n",
        "               tokens_mlp_dim = 200,\n",
        "               channels_mlp_dim = 2,\n",
        "               num_classes = 100)"
      ],
      "metadata": {
        "id": "XMb4Dxiaxg4k"
      },
      "execution_count": null,
      "outputs": []
    },
    {
      "cell_type": "code",
      "source": [
        "import torchvision\n",
        "t = torchvision.transforms.functional.pil_to_tensor(cifar100[0][0]).float().unsqueeze(0)\n",
        "\n",
        "net(t,train=False)"
      ],
      "metadata": {
        "colab": {
          "base_uri": "https://localhost:8080/"
        },
        "id": "NiTeILzTzowd",
        "outputId": "fd6e9c10-c1eb-4c2e-bdf2-5232e3679bb0"
      },
      "execution_count": null,
      "outputs": [
        {
          "output_type": "execute_result",
          "data": {
            "text/plain": [
              "tensor([[-2.8227e-02,  2.4850e-01, -7.0823e-01,  8.8886e-02, -4.6152e-04,\n",
              "          3.6857e-01, -1.8585e-01, -4.2545e-01, -5.2763e-02,  2.9510e-02,\n",
              "         -2.2258e-01,  4.6731e-01,  2.2371e-01,  1.9726e-01, -3.3305e-02,\n",
              "          4.7737e-01,  3.1394e-01, -2.4279e-01, -6.9914e-01, -1.6508e-01,\n",
              "          5.9465e-01, -3.1115e-01,  7.6890e-02,  5.5939e-01,  2.3915e-01,\n",
              "         -3.9857e-01,  5.3749e-01,  2.4786e-01, -6.9891e-01, -1.3914e-01,\n",
              "         -6.5187e-01,  4.0456e-01, -4.2853e-01, -1.3425e-01,  4.6789e-01,\n",
              "         -6.4191e-01, -2.5745e-01,  6.0629e-01,  2.9037e-01, -6.9886e-01,\n",
              "         -2.6686e-01,  1.3916e-01,  6.8655e-01, -6.8173e-01,  5.8004e-01,\n",
              "         -4.0788e-02,  4.6059e-01,  3.2788e-01,  3.9768e-01, -5.9938e-01,\n",
              "         -9.1302e-02,  4.5215e-01,  5.9707e-01,  1.3698e-01,  5.5988e-01,\n",
              "          4.3595e-01, -3.9343e-02, -3.7967e-01, -5.6208e-01, -7.4624e-03,\n",
              "          5.4092e-01, -3.8611e-01, -4.3657e-01, -6.3130e-01,  5.0859e-01,\n",
              "         -2.5943e-01,  9.8461e-02, -3.2540e-01,  3.0056e-01,  4.6065e-01,\n",
              "          6.3910e-01,  6.2798e-01, -6.1148e-01, -4.3509e-01, -1.9812e-01,\n",
              "          7.0235e-01,  4.0821e-01,  1.2846e-01,  6.2010e-01,  3.2825e-01,\n",
              "          4.9844e-01, -4.9055e-01, -6.9825e-01, -3.6006e-02,  4.0774e-01,\n",
              "          2.4553e-01,  1.2937e-01, -3.2408e-01, -3.6259e-01, -5.4480e-01,\n",
              "          3.0182e-01,  4.3494e-01, -4.7824e-01,  5.4890e-01, -2.3671e-01,\n",
              "          2.9464e-01,  4.8293e-01,  6.0004e-01,  7.0910e-01, -5.0180e-01]],\n",
              "       grad_fn=<AddmmBackward0>)"
            ]
          },
          "metadata": {},
          "execution_count": 123
        }
      ]
    },
    {
      "cell_type": "code",
      "source": [
        "class DistillDataset(torch.utils.data.Dataset):\n",
        "    '''\n",
        "    A dataset for the distillation training.\n",
        "    This dataset wraps the original dataset toghether with the teacher ground truth.\n",
        "    '''\n",
        "    def __init__(self, \n",
        "                 original_dataset : torch.utils.data.Dataset,\n",
        "                 distill_label_path : Path = None,\n",
        "                 teacher_model : torch.nn.Module = None\n",
        "                 )\n",
        "        assert(distill_label_path is not None or teacher_model is not None)\n",
        "        self.dataset = dataset\n",
        "        if distill_label_path is not None:\n",
        "            with open(distill_label_path, \"rb\") as dl:\n",
        "                self.distill_label = torch.load(dl)\n",
        "        else:\n",
        "            self.distill_label = torch.zeros(len(dataset), len(dataset.classes))\n",
        "            for i,(image,gt) in enumerate(dataset): # TODO do it once for all the images\n",
        "                t = torchvision.transforms.functional.pil_to_tensor(image).float().unsqueeze(0)\n",
        "                self.distill_label[i] = model(t)\n",
        "    \n",
        "    def __len__(self):\n",
        "        return len(self.dataset)\n",
        "    \n",
        "    def get_item(self,idx):\n",
        "        return self.dataset[i], self.distill_label[i]"
      ],
      "metadata": {
        "id": "dpwMnJ1j6ODN"
      },
      "execution_count": null,
      "outputs": []
    }
  ]
}