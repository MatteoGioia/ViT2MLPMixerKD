{
  "cells": [
    {
      "cell_type": "markdown",
      "metadata": {
        "id": "view-in-github",
        "colab_type": "text"
      },
      "source": [
        "<a href=\"https://colab.research.google.com/github/MatteoGioia/ViT2MLPMixerKD/blob/main/ViT2MLPKD.ipynb\" target=\"_parent\"><img src=\"https://colab.research.google.com/assets/colab-badge.svg\" alt=\"Open In Colab\"/></a>"
      ]
    },
    {
      "cell_type": "markdown",
      "metadata": {
        "id": "dL7l7ZJI61rQ"
      },
      "source": [
        "# Knowledge distillation\n",
        "In this notebook, we will try to distill the knowledge of a Vision Transformer into a MLP Mixer."
      ]
    },
    {
      "cell_type": "markdown",
      "metadata": {
        "id": "ES_z2lrFzS4Q"
      },
      "source": [
        "##0. Setup"
      ]
    },
    {
      "cell_type": "markdown",
      "source": [
        "### 0.1 Downloads and imports"
      ],
      "metadata": {
        "id": "_EvwYoj0z8Ge"
      }
    },
    {
      "cell_type": "code",
      "execution_count": 1,
      "metadata": {
        "id": "4Ol5yDer7LaO",
        "cellView": "form",
        "colab": {
          "base_uri": "https://localhost:8080/"
        },
        "outputId": "3cdb1bf1-ac8c-4188-f282-71087bd46b48"
      },
      "outputs": [
        {
          "output_type": "stream",
          "name": "stdout",
          "text": [
            "\u001b[K     |████████████████████████████████| 5.8 MB 19.9 MB/s \n",
            "\u001b[K     |████████████████████████████████| 451 kB 77.2 MB/s \n",
            "\u001b[K     |████████████████████████████████| 798 kB 62.0 MB/s \n",
            "\u001b[K     |████████████████████████████████| 182 kB 66.2 MB/s \n",
            "\u001b[K     |████████████████████████████████| 7.6 MB 61.1 MB/s \n",
            "\u001b[K     |████████████████████████████████| 125 kB 77.8 MB/s \n",
            "\u001b[K     |████████████████████████████████| 512 kB 73.8 MB/s \n",
            "\u001b[K     |████████████████████████████████| 87 kB 7.3 MB/s \n",
            "\u001b[K     |████████████████████████████████| 132 kB 72.3 MB/s \n",
            "\u001b[K     |████████████████████████████████| 212 kB 12.8 MB/s \n",
            "\u001b[K     |████████████████████████████████| 127 kB 8.9 MB/s \n",
            "\u001b[?25h  Building wheel for fire (setup.py) ... \u001b[?25l\u001b[?25hdone\n",
            "\u001b[K     |████████████████████████████████| 1.9 MB 24.2 MB/s \n",
            "\u001b[K     |████████████████████████████████| 182 kB 75.7 MB/s \n",
            "\u001b[K     |████████████████████████████████| 168 kB 64.9 MB/s \n",
            "\u001b[K     |████████████████████████████████| 62 kB 1.1 MB/s \n",
            "\u001b[K     |████████████████████████████████| 168 kB 78.2 MB/s \n",
            "\u001b[K     |████████████████████████████████| 166 kB 80.1 MB/s \n",
            "\u001b[K     |████████████████████████████████| 166 kB 64.2 MB/s \n",
            "\u001b[K     |████████████████████████████████| 162 kB 84.4 MB/s \n",
            "\u001b[K     |████████████████████████████████| 162 kB 77.4 MB/s \n",
            "\u001b[K     |████████████████████████████████| 158 kB 84.3 MB/s \n",
            "\u001b[K     |████████████████████████████████| 157 kB 73.5 MB/s \n",
            "\u001b[K     |████████████████████████████████| 157 kB 81.8 MB/s \n",
            "\u001b[K     |████████████████████████████████| 157 kB 82.1 MB/s \n",
            "\u001b[K     |████████████████████████████████| 157 kB 82.5 MB/s \n",
            "\u001b[K     |████████████████████████████████| 157 kB 75.7 MB/s \n",
            "\u001b[K     |████████████████████████████████| 157 kB 85.6 MB/s \n",
            "\u001b[K     |████████████████████████████████| 157 kB 80.6 MB/s \n",
            "\u001b[K     |████████████████████████████████| 156 kB 81.7 MB/s \n",
            "\u001b[?25h  Building wheel for pathtools (setup.py) ... \u001b[?25l\u001b[?25hdone\n",
            "\u001b[K     |████████████████████████████████| 41 kB 225 kB/s \n",
            "\u001b[K     |████████████████████████████████| 549 kB 36.4 MB/s \n",
            "\u001b[?25h"
          ]
        }
      ],
      "source": [
        "#@title Downloads\n",
        "!pip install -q transformers datasets[vision] pytorch-lightning\n",
        "!pip install -q wandb\n",
        "!pip install -q einops\n",
        "!pip install -q timm"
      ]
    },
    {
      "cell_type": "code",
      "execution_count": 28,
      "metadata": {
        "id": "WumRkwLd7SKG",
        "colab": {
          "base_uri": "https://localhost:8080/"
        },
        "outputId": "65177514-249a-4f3d-f298-df396a9aa4c2",
        "cellView": "form"
      },
      "outputs": [
        {
          "output_type": "stream",
          "name": "stderr",
          "text": [
            "INFO:lightning_lite.utilities.seed:Global seed set to 42\n"
          ]
        },
        {
          "output_type": "stream",
          "name": "stdout",
          "text": [
            "You are going to train the distillation on cuda\n"
          ]
        }
      ],
      "source": [
        "#@title Imports\n",
        "\n",
        "# general imports\n",
        "from typing import *\n",
        "from google.colab import drive\n",
        "import os\n",
        "import random\n",
        "from pathlib import Path\n",
        "import matplotlib.pyplot as plt\n",
        "from tqdm import tqdm\n",
        "from PIL import Image\n",
        "import wandb\n",
        "\n",
        "# pytorch imports\n",
        "import torchvision\n",
        "import pytorch_lightning as pl\n",
        "from pytorch_lightning import callbacks\n",
        "import transformers\n",
        "#from transformers import ViTFeatureExtractor, ViTForImageClassification\n",
        "import torch\n",
        "import numpy as np\n",
        "import einops\n",
        "import torch.nn as nn\n",
        "import torch.nn.functional as F\n",
        "\n",
        "#mlp mixer import\n",
        "import timm\n",
        "\n",
        "seed : int = 42\n",
        "device : str = \"cuda\" if torch.cuda.is_available() else \"cpu\"\n",
        "pl.seed_everything(seed)\n",
        "print(f\"You are going to train the distillation on {device}\")"
      ]
    },
    {
      "cell_type": "code",
      "execution_count": 3,
      "metadata": {
        "cellView": "form",
        "colab": {
          "base_uri": "https://localhost:8080/"
        },
        "id": "GdzEa5BqwFOy",
        "outputId": "48aa71d1-f10d-489f-c6b1-4a4d4d3efb56"
      },
      "outputs": [
        {
          "output_type": "stream",
          "name": "stdout",
          "text": [
            "Mounted at /content/drive\n",
            "/content/drive/MyDrive\n",
            "/content/drive/MyDrive/ViT2MLP\n"
          ]
        }
      ],
      "source": [
        "#@title Move to the project folder\n",
        "drive.mount('/content/drive', force_remount=True)\n",
        "\n",
        "%cd /content/drive/MyDrive\n",
        "\n",
        "if not os.path.exists(\"ViT2MLP\"):\n",
        "  os.mkdir(\"ViT2MLP\")\n",
        "\n",
        "%cd ViT2MLP"
      ]
    },
    {
      "cell_type": "code",
      "execution_count": 4,
      "metadata": {
        "colab": {
          "base_uri": "https://localhost:8080/"
        },
        "id": "_yAlyRDW8fwM",
        "outputId": "a5dc6750-1852-434e-c941-2bd1649c4b14",
        "cellView": "form"
      },
      "outputs": [
        {
          "output_type": "stream",
          "name": "stdout",
          "text": [
            "Files already downloaded and verified\n",
            "Files already downloaded and verified\n"
          ]
        }
      ],
      "source": [
        "#@title Download the datasets\n",
        "# TODO need to download it\n",
        "#imagenet = torchvision.datasets.ImageNet(root = \".\",split = \"val\")\n",
        "cifar100_train = torchvision.datasets.CIFAR100(root = \".\",\n",
        "                                               train = True,\n",
        "                                               download = True,\n",
        "                                               transform=torchvision.transforms.functional.pil_to_tensor)\n",
        "cifar100_test = torchvision.datasets.CIFAR100(root = \".\",\n",
        "                                               train = False,\n",
        "                                               download = True,\n",
        "                                               transform=torchvision.transforms.functional.pil_to_tensor)"
      ]
    },
    {
      "cell_type": "markdown",
      "source": [
        "###0.2 Utility functions"
      ],
      "metadata": {
        "id": "TqXSkG6p0C5A"
      }
    },
    {
      "cell_type": "code",
      "execution_count": 5,
      "metadata": {
        "cellView": "form",
        "id": "MLtary4p_Z_B"
      },
      "outputs": [],
      "source": [
        "#@title Visualization function\n",
        "def visualize(datapoint : int, dataset : torchvision.datasets):\n",
        "    image, label = dataset[datapoint]\n",
        "    plt.title(f\"Ground truth: {dataset.classes[label]}\")\n",
        "    plt.imshow(torchvision.transforms.functional.to_pil_image(image))"
      ]
    },
    {
      "cell_type": "code",
      "execution_count": 6,
      "metadata": {
        "cellView": "form",
        "id": "qW2bXu6dAYls"
      },
      "outputs": [],
      "source": [
        "#@title Function to output a prediction of the teacher\n",
        "def predict(image : torch.Tensor,\n",
        "            model : nn.Module,\n",
        "            feature_extractor : Any = None) -> str:\n",
        "    with torch.no_grad():\n",
        "        if feature_extractor is None:\n",
        "            logits = model(image)\n",
        "        else:\n",
        "            inputs : torch.Tensor = feature_extractor(image, return_tensors=\"pt\").to(device)\n",
        "            logits = model(**inputs).logits\n",
        "      \n",
        "    # model predicts one of the classes\n",
        "    predicted_label : int = logits.argmax(-1).item()\n",
        "   \n",
        "    return predicted_label\n"
      ]
    },
    {
      "cell_type": "code",
      "source": [
        "#@title Count the parameters of a model\n",
        "def count_params(model : nn.Module) -> int:\n",
        "    parameters = filter(lambda p: p.requires_grad, model.parameters())\n",
        "    param_num = sum([np.prod(p.size()) for p in parameters]) / 1_000_000\n",
        "    return param_num"
      ],
      "metadata": {
        "cellView": "form",
        "id": "MKxP7OVI5pTb"
      },
      "execution_count": 7,
      "outputs": []
    },
    {
      "cell_type": "markdown",
      "metadata": {
        "id": "AjYPKIo8zW_7"
      },
      "source": [
        "##1. Code for the models"
      ]
    },
    {
      "cell_type": "markdown",
      "source": [
        "###1.1 Pre-trained teacher (ViT)\n",
        "Load ViT finetuned on Imagenet1k or CIFAR100. To load the non fine-tuned version use **\"google/vit-base-patch16-224-im21k\"**"
      ],
      "metadata": {
        "id": "GtgQ0OHG21PO"
      }
    },
    {
      "cell_type": "markdown",
      "metadata": {
        "id": "AcazhnqFv0Lx"
      },
      "source": [
        "References:\n",
        "- [main transformer docs](https:huggingface.co/docs/transformers/index) \n",
        "- [ViT Docs](https://huggingface.co/docs/transformers/model_doc/vit)\n",
        "- [lighting finetuning example](https://github.com/NielsRogge/Transformers-Tutorials/tree/master/VisionTransformer)"
      ]
    },
    {
      "cell_type": "code",
      "execution_count": null,
      "metadata": {
        "id": "WsSKp30aAMah",
        "colab": {
          "base_uri": "https://localhost:8080/"
        },
        "outputId": "c9556d6a-8c37-402a-b851-2d2790b598c3",
        "cellView": "form"
      },
      "outputs": [
        {
          "output_type": "stream",
          "name": "stdout",
          "text": [
            "Trainable Parameters: 85.876M\n"
          ]
        }
      ],
      "source": [
        "#@title Load the model\n",
        "cifar100_vit = \"Ahmed9275/Vit-Cifar100\"\n",
        "imagenet1k_vit = \"google/vit-base-patch16-224\"\n",
        "tuned_on : str = \"cifar100\" #@param['cifar100', 'imagenet1k']\n",
        "if tuned_on == \"cifar100\":\n",
        "    model_str = cifar100_vit\n",
        "else:\n",
        "    model_str = imagenet1k_vit\n",
        "\n",
        "\n",
        "feature_extractor = transformers.ViTFeatureExtractor.from_pretrained(model_str)\n",
        "\n",
        "teacher = transformers.ViTForImageClassification.from_pretrained(model_str).to(device)\n",
        "print('Trainable Parameters: %.3fM' % count_params(teacher))"
      ]
    },
    {
      "cell_type": "code",
      "execution_count": null,
      "metadata": {
        "cellView": "form",
        "colab": {
          "base_uri": "https://localhost:8080/",
          "height": 299
        },
        "id": "RBCle0TPyy2b",
        "outputId": "1181bc7e-5b3c-45f8-8ccd-38b9099bfa78"
      },
      "outputs": [
        {
          "output_type": "stream",
          "name": "stdout",
          "text": [
            "Predicted: lion\n"
          ]
        },
        {
          "output_type": "display_data",
          "data": {
            "text/plain": [
              "<Figure size 432x288 with 1 Axes>"
            ],
            "image/png": "[encoded data removed]"
          },
          "metadata": {
            "needs_background": "light"
          }
        }
      ],
      "source": [
        "#@title Qualitative comparison with ground truth {run : \"auto\"}\n",
        "datapoint_number : int = 1200 #@param{type:\"integer\"}\n",
        "\n",
        "dataset = cifar100_test if tuned_on == \"cifar100\" else imagenet1k\n",
        "try:\n",
        "    visualize(datapoint_number, dataset)\n",
        "    label : int = predict(dataset[datapoint_number][0], teacher, feature_extractor)\n",
        "    prediction : str = teacher.config.id2label[label]\n",
        "    print(f\"Predicted: {prediction}\")\n",
        "except IndexError:\n",
        "    print(f\"The dataset max index is {len(dataset)-1}\")\n"
      ]
    },
    {
      "cell_type": "code",
      "execution_count": null,
      "metadata": {
        "cellView": "form",
        "id": "jCqhJyWDHUgL",
        "colab": {
          "base_uri": "https://localhost:8080/",
          "height": 54
        },
        "outputId": "e2478eab-a09c-4731-e782-db2b7d6f5b68"
      },
      "outputs": [
        {
          "output_type": "execute_result",
          "data": {
            "text/plain": [
              "'\\ncorrect = 0\\nfor i in tqdm(range(len(dataset))):\\n    pr_label = predict(dataset[i][0], teacher, feature_extractor)\\n    gt_label = dataset[i][1]\\n    if pr_label == gt_label:\\n        correct += 1\\naccuracy = round(correct*100 / len(dataset),2)\\nprint(f\"The accuracy of the model for the dataset {tuned_on} is: {accuracy}%\")\\n'"
            ],
            "application/vnd.google.colaboratory.intrinsic+json": {
              "type": "string"
            }
          },
          "metadata": {},
          "execution_count": 10
        }
      ],
      "source": [
        "#@title Quantitative result: Accuracy\n",
        "'''\n",
        "Warning: this cell takes 15min to be executed (on GPU).\n",
        "Anyway, after the execution we verified that the accuracy is the same.\n",
        "'''\n",
        "'''\n",
        "correct = 0\n",
        "for i in tqdm(range(len(dataset))):\n",
        "    pr_label = predict(dataset[i][0], teacher, feature_extractor)\n",
        "    gt_label = dataset[i][1]\n",
        "    if pr_label == gt_label:\n",
        "        correct += 1\n",
        "accuracy = round(correct*100 / len(dataset),2)\n",
        "print(f\"The accuracy of the model for the dataset {tuned_on} is: {accuracy}%\")\n",
        "'''\n",
        "##### TODO remove (?) ####"
      ]
    },
    {
      "cell_type": "markdown",
      "metadata": {
        "id": "0m4IdUu7-7QI"
      },
      "source": [
        "###1.2 Student (MLP mixer)\n",
        "The code for the MLP mixer was taken from this repository: [image_models](https://github.com/rwightman/pytorch-image-models).\n",
        "\n",
        "Credit: [Ross Wightman](https://github.com/rwightman) "
      ]
    },
    {
      "cell_type": "code",
      "execution_count": null,
      "metadata": {
        "id": "Iqamb0Jj_ZjN",
        "cellView": "form"
      },
      "outputs": [],
      "source": [
        "#@title Our implementation\n",
        "#tentative pytorch implementation for https://github.com/google-research/vision_transformer/blob/main/vit_jax/models_mixer.py\n",
        "#to include: apache license lol\n",
        "\n",
        "class MlpBlock(nn.Module):\n",
        "  \"\"\"\n",
        "  MlpBlock for MixerBlock\n",
        "  \"\"\"\n",
        "\n",
        "  def __init__(self, dim, mlp_dim):\n",
        "    super().__init__()\n",
        "    #dense implementation only has out features specified, need to check input dim\n",
        "    self.mlp1 = nn.Linear(in_features=dim, out_features = mlp_dim)\n",
        "    self.mlp2 = nn.Linear(in_features=mlp_dim, out_features = dim)\n",
        "    self.activation = F.gelu\n",
        "\n",
        "  def forward(self, x):\n",
        "    y = self.mlp1(x)\n",
        "    y = self.activation(y)\n",
        "    y = self.mlp2(y)\n",
        "    return y\n",
        "\n",
        "class MixerBlock(nn.Module):\n",
        "  \"\"\"\n",
        "  Mixer block for the mlp mixer\n",
        "  \"\"\"\n",
        "\n",
        "  def __init__(self, num_patches, hidden_dim,\n",
        "               tokens_mlp_dim, channels_mlp_dim):\n",
        "    super().__init__()\n",
        "    self.layer_norm = torch.nn.LayerNorm([num_patches, hidden_dim])\n",
        "    self.mlpblock_token_mixer = MlpBlock(num_patches, tokens_mlp_dim)\n",
        "    self.mlpblock_channel_mixer = MlpBlock(hidden_dim, channels_mlp_dim)\n",
        "\n",
        "  def forward(self,x):\n",
        "    y = self.layer_norm(x)\n",
        "    y = np.swapaxes(y,1,2)\n",
        "    y = self.mlpblock_token_mixer(y)\n",
        "    y = np.swapaxes(y,1,2)\n",
        "    x = x + y\n",
        "    y = self.layer_norm(x)\n",
        "    return x + self.mlpblock_channel_mixer(y)\n",
        "\n",
        "class MlpMixerNotWorking(nn.Module):\n",
        "  \"\"\"\n",
        "  Mixer architecture\n",
        "  hidden_dim : number of hidden channels\n",
        "  img_size : the height/width of the image\n",
        "  patches_size : dimension of patches, must be a multiple of img_size\n",
        "  num_blocks : number of mixer blocks\n",
        "  hidden_dim : hidden dimensionality\n",
        "  tokens_mlp_dim : dimensionality of token mixer\n",
        "  channels_mlp_dim : dimensionality of channel mixer\n",
        "  \"\"\"\n",
        "\n",
        "  def __init__(self, hidden_dim : int, patches_size : int,\n",
        "               num_blocks: int, tokens_mlp_dim : int,\n",
        "               channels_mlp_dim : int, num_classes: int,\n",
        "               input_channels : int, img_size :int):\n",
        "    super().__init__()\n",
        "    self.hidden_dim = hidden_dim\n",
        "    self.num_blocks = num_blocks\n",
        "    self.num_classes = num_classes\n",
        "    self.num_patches = int((img_size / patches_size)**2)\n",
        "    #Per patch fully connected\n",
        "    self.stem = nn.Conv2d(in_channels = input_channels, \n",
        "                          out_channels = self.hidden_dim,\n",
        "                          kernel_size = (patches_size,patches_size),\n",
        "                          stride = patches_size)\n",
        "    self.mixer_blocks = nn.ModuleList([]) \n",
        "    for _ in range(num_blocks):\n",
        "      self.mixer_blocks.append(MixerBlock(num_patches = self.num_patches,\n",
        "                                  hidden_dim = hidden_dim,\n",
        "                                  tokens_mlp_dim = tokens_mlp_dim,\n",
        "                                  channels_mlp_dim = channels_mlp_dim))\n",
        "    self.layer_norm = torch.nn.LayerNorm([self.num_patches, hidden_dim])\n",
        "    #What is kernel init? Does it initialize everything to 0?\n",
        "    self.fc = nn.Linear(in_features = hidden_dim, out_features = self.num_classes)\n",
        "    self.softmax = F.softmax\n",
        "\n",
        "  def forward(self, inputs, *, train):\n",
        "    del train\n",
        "    x = self.stem(inputs)\n",
        "    x = einops.rearrange(x, 'n c h w -> n h w c')\n",
        "    x = einops.rearrange(x, 'n h w c -> n (h w) c')\n",
        "    for mixer_block in self.mixer_blocks:\n",
        "      x = mixer_block(x)\n",
        "    x = self.layer_norm(x)\n",
        "    x = x.mean(dim = 1)\n",
        "    if self.num_classes:\n",
        "      #add classification layer if num classes is specified\n",
        "      x = self.softmax(self.fc(x), dim=-1)\n",
        "    return x"
      ]
    },
    {
      "cell_type": "code",
      "source": [
        "#@title [Timm](https://huggingface.co/docs/timm/index) implementation\n",
        "class LitMixer(pl.LightningModule):\n",
        "    def __init__(self,\n",
        "                 num_classes : int,\n",
        "                 img_size : int,\n",
        "                 patch_size : int,\n",
        "                 num_blocks : int,\n",
        "                 embed_dim : int,\n",
        "                 in_chans : int = 3,\n",
        "                 drop_rate : float = 0.0,\n",
        "                 drop_path_rate : float = 0.0,\n",
        "                 act_layer : Callable = nn.GELU,\n",
        "                 distillating : str = None,\n",
        "                 distillation_prob : float = None):\n",
        "        super().__init__()\n",
        "        assert(distillation_prob is None or distillating != \"random\")\n",
        "\n",
        "        self.mixer = timm.models.mlp_mixer.MlpMixer(num_classes = num_classes,\n",
        "                     img_size = img_size,\n",
        "                     in_chans = in_chans,\n",
        "                     patch_size = patch_size,\n",
        "                     num_blocks = num_blocks,\n",
        "                     act_layer = act_layer,\n",
        "                     drop_rate = drop_rate,\n",
        "                     drop_path_rate = drop_path_rate,\n",
        "                     embed_dim = embed_dim)\n",
        "\n",
        "        self.distillating = distillating\n",
        "        self.distillation_prob = distillation_prob\n",
        "\n",
        "        self.loss_fn = nn.CrossEntropyLoss()\n",
        "\n",
        "        ## logging attributes\n",
        "        self.loss = { \"train\" : 0, \"val\" : 0, \"test\" : 0 }\n",
        "        self.accuracy = { \"train\" : 0, \"val\" : 0, \"test\" : 0 }\n",
        "        self.tot = { \"train\" : 0, \"val\" : 0, \"test\" : 0 }\n",
        "        self.first_test = True\n",
        "\n",
        "        super().save_hyperparameters()\n",
        "    \n",
        "    def step(self, batch : torch.Tensor ,step_type : str) -> torch.Tensor:\n",
        "        # get ground truth and data\n",
        "        if step_type == \"test\":\n",
        "            data, labels = batch\n",
        "            gt : torch.Tensor = labels\n",
        "        else:\n",
        "            data, labels, teacher_labels = batch\n",
        "            if self.distillating is None:\n",
        "                gt : torch.Tensor = labels\n",
        "            else:\n",
        "                teacher_labels = torch.nn.functional.softmax(teacher_labels, dim = -1)\n",
        "                if self.distillating == \"soft\":\n",
        "                    gt : torch.Tensor = teacher_labels\n",
        "                elif self.distillating == \"hard\":\n",
        "                    gt : torch.Tensor = teacher_labels.argmax(dim = -1)\n",
        "                elif self.distillating == \"random\":\n",
        "                    r : float = random.random()\n",
        "                    if r <= self.distillation_prob:\n",
        "                        gt : torch.Tensor = teacher_labels\n",
        "                    else:\n",
        "                        gt : torch.Tensor = labels\n",
        "                elif self.distillating == \"weighted\":\n",
        "                    pass # TODO\n",
        "        \n",
        "        batch_size : int = labels.shape[0]\n",
        "\n",
        "        # compute predictions\n",
        "        logits = self.mixer(data.float())\n",
        "        loss = self.loss_fn(logits,gt)\n",
        "        predictions = logits.argmax(dim = -1)\n",
        "\n",
        "        # update logging variables\n",
        "        self.loss[step_type] += loss.item()\n",
        "        self.accuracy[step_type]  += (predictions == labels).sum().item()\n",
        "        self.tot[step_type]  += batch_size\n",
        "\n",
        "        return loss\n",
        "\n",
        "    def training_step(self, batch : torch.Tensor ,batch_idx : int):\n",
        "        return self.step(batch,\"train\")\n",
        "    \n",
        "    def validation_step(self,batch,batch_idx):\n",
        "        return self.step(batch,\"val\")\n",
        "    \n",
        "    def test_step(self,batch,batch_idx):\n",
        "        return self.step(batch,\"test\")\n",
        "    \n",
        "    def epoch_end(self, step_type : str, num_outputs : int) -> None:\n",
        "        # compute loss\n",
        "        avg_loss = self.loss[step_type] / num_outputs\n",
        "        self.loss[step_type] = 0\n",
        "        # compute accuracy\n",
        "        accuracy = self.accuracy[step_type] / self.tot[step_type]\n",
        "        self.accuracy[step_type] = 0\n",
        "        self.tot[step_type] = 0\n",
        "        # log\n",
        "        self.log(\"epoch\", float(self.current_epoch))\n",
        "        if step_type != \"test\":\n",
        "            self.log(f\"{step_type}_loss\",avg_loss)\n",
        "            self.log(f\"{step_type}_accuracy\",accuracy)\n",
        "        elif self.first_test:\n",
        "          self.log(\"test_loss_before\",avg_loss)\n",
        "          self.log(\"test_accuracy_before\",accuracy)\n",
        "          self.first_test = False\n",
        "        else:\n",
        "          self.log(\"test_loss_after\",avg_loss)\n",
        "          self.log(\"test_accuracy_after\",accuracy)\n",
        "    \n",
        "    def training_epoch_end(self, outputs) -> None:\n",
        "        self.epoch_end(\"train\",len(outputs))\n",
        "    \n",
        "    def validation_epoch_end(self, outputs) -> None:\n",
        "        self.epoch_end(\"val\",len(outputs))\n",
        "    \n",
        "    def test_epoch_end(self, outputs) -> None:\n",
        "        self.epoch_end(\"test\",len(outputs))\n",
        "\n",
        "    def configure_optimizers(self) -> torch.optim:\n",
        "        return torch.optim.Adam(self.mixer.parameters(), lr = 0.005)"
      ],
      "metadata": {
        "id": "PM3JwgZGERRH",
        "cellView": "form"
      },
      "execution_count": 9,
      "outputs": []
    },
    {
      "cell_type": "code",
      "source": [
        "#@title Student instantiation\n",
        "trained_on : str = \"cifar100\" #@param[\"cifar100\",\"imagenet\"]\n",
        "patch_size : int = 4 #@param{type: \"integer\"}\n",
        "num_blocks : int = 8 #@param{type: \"integer\"}\n",
        "embed_dim  : int = 512 #@param{type: \"integer\"}\n",
        "distillating : str = \"no\" #@param[\"soft\",\"hard\",\"random\",\"weighted\",\"no\"]\n",
        "distillation_prob : float = 0. #@param{type:\"number\"}\n",
        "if trained_on == \"cifar100\":\n",
        "    num_classes = 100\n",
        "    img_size = 32\n",
        "else:\n",
        "    num_classes = 1000\n",
        "    img_size = 32 #TODO don't know\n",
        "student = LitMixer(num_classes = num_classes, #TODO add dropout\n",
        "                   img_size = img_size,\n",
        "                   patch_size = patch_size,\n",
        "                   num_blocks = num_blocks,\n",
        "                   embed_dim = embed_dim,\n",
        "                   distillating = distillating if distillating != \"no\" else None,\n",
        "                   distillation_prob = distillation_prob if distillating == \"random\" else None,\n",
        "                   )\n",
        "print('Trainable Parameters: %.3fM' % count_params(student))"
      ],
      "metadata": {
        "id": "4BA56dIAGl8L",
        "cellView": "form",
        "colab": {
          "base_uri": "https://localhost:8080/"
        },
        "outputId": "108c31d1-e96e-4406-f085-bd1eac33d958"
      },
      "execution_count": 29,
      "outputs": [
        {
          "output_type": "stream",
          "name": "stdout",
          "text": [
            "Trainable Parameters: 17.156M\n"
          ]
        }
      ]
    },
    {
      "cell_type": "markdown",
      "metadata": {
        "id": "xzwRW42KdMsj"
      },
      "source": [
        "##2. Distillation"
      ]
    },
    {
      "cell_type": "markdown",
      "source": [
        "###2.1 Computing labels\n"
      ],
      "metadata": {
        "id": "Td1p_uw8x7Pi"
      }
    },
    {
      "cell_type": "markdown",
      "metadata": {
        "id": "QryLx7P6dckq"
      },
      "source": [
        "First of all we want to compute once and for all the teacher scores of the images:"
      ]
    },
    {
      "cell_type": "code",
      "execution_count": null,
      "metadata": {
        "id": "oS1uIiojdb3D"
      },
      "outputs": [],
      "source": [
        "def compute_scores(dataset : torch.utils.data.Dataset,\n",
        "                   teacher : torch.nn.Module, \n",
        "                   teacher_extractor : Any, # a feature extractor\n",
        "                   num_classes : int) -> torch.Tensor:\n",
        "    teacher_label = torch.zeros(len(dataset), num_classes)\n",
        "    for i,(image,_) in tqdm(enumerate(dataset)):\n",
        "        features = teacher_extractor(image,return_tensors=\"pt\").to(device)\n",
        "        with torch.no_grad():\n",
        "            label = teacher(**features).logits\n",
        "        teacher_label[i,:] = label\n",
        "    return teacher_label"
      ]
    },
    {
      "cell_type": "markdown",
      "source": [
        "###2.2 Creating custom datasets"
      ],
      "metadata": {
        "id": "jOcxWqXqzGXK"
      }
    },
    {
      "cell_type": "code",
      "execution_count": 11,
      "metadata": {
        "id": "dpwMnJ1j6ODN",
        "cellView": "form"
      },
      "outputs": [],
      "source": [
        "#@title Distillation dataset\n",
        "class DistillDataset(torch.utils.data.Dataset):\n",
        "    '''\n",
        "    A dataset for the distillation training.\n",
        "    This dataset wraps the original dataset toghether with the teacher ground truth.\n",
        "    '''\n",
        "    def __init__(self, \n",
        "                 original_dataset : torch.utils.data.Dataset,\n",
        "                 teacher_label_path : Path = None,\n",
        "                 teacher_model : torch.nn.Module = None,\n",
        "                 teacher_extractor : Any = None,\n",
        "                 save : bool = True\n",
        "                 ):\n",
        "        assert(teacher_label_path is not None or teacher_model is not None)\n",
        "        super().__init__()\n",
        "        file_name = 'cifar100.pt'\n",
        "        self.dataset = original_dataset\n",
        "        if not os.path.exists(teacher_label_path):\n",
        "          os.makedirs(teacher_label_path)\n",
        "          self.teacher_label = compute_scores(self.dataset, \n",
        "                                                teacher_model,\n",
        "                                                teacher_extractor,\n",
        "                                                len(self.dataset.classes)\n",
        "                                                )\n",
        "          \n",
        "          if save:\n",
        "                with open(os.path.join(teacher_label_path , file_name), \"wb\") as tl:\n",
        "                    torch.save(self.teacher_label,tl)\n",
        "        \n",
        "        else:\n",
        "         \n",
        "            with open(os.path.join(teacher_label_path , file_name), \"rb\") as dl:\n",
        "                  self.teacher_label = torch.load(dl)\n",
        "\n",
        "    \n",
        "    def __len__(self):\n",
        "        return len(self.dataset)\n",
        "    \n",
        "    def __getitem__(self, index):\n",
        "        return self.dataset[index][0], self.dataset[index][1] , self.teacher_label[index]"
      ]
    },
    {
      "cell_type": "code",
      "execution_count": 15,
      "metadata": {
        "id": "E3gGWUDJxw9H",
        "cellView": "form"
      },
      "outputs": [],
      "source": [
        "#@title Train/Validation split\n",
        "val_perc : float = 0.15 #@param{type:\"number\"}\n",
        "dataset = DistillDataset(cifar100_train, \n",
        "                         \"teacher_labels/\",\n",
        "                         #teacher_model=teacher,\n",
        "                         #teacher_extractor = feature_extractor\n",
        "                         )\n",
        "train_len = int((1-val_perc) * len(dataset))\n",
        "val_len = len(dataset) - train_len\n",
        "train_dataset, val_dataset = torch.utils.data.random_split(dataset,\n",
        "                                                           lengths = [train_len, val_len],\n",
        "                                                           generator=torch.Generator(\"cpu\").manual_seed(seed))"
      ]
    },
    {
      "cell_type": "code",
      "source": [
        "#@title Pytorch Lightning datamodule definition\n",
        "class DistillDataModule(pl.LightningDataModule):\n",
        "    def __init__(self, train_dataset, val_dataset, test_dataset, batch_size):\n",
        "        super().__init__()\n",
        "        self.train_dataset = train_dataset\n",
        "        self.val_dataset = val_dataset\n",
        "        self.test_dataset = test_dataset\n",
        "        self.batch_size = batch_size\n",
        "    \n",
        "    def train_dataloader(self) -> torch.utils.data.DataLoader:\n",
        "       return torch.utils.data.DataLoader(self.train_dataset, batch_size = self.batch_size, shuffle = True)\n",
        "\n",
        "    def val_dataloader(self) -> torch.utils.data.DataLoader:\n",
        "       return torch.utils.data.DataLoader(self.val_dataset, batch_size = self.batch_size, shuffle = False)\n",
        "    \n",
        "    def test_dataloader(self) -> torch.utils.data.DataLoader:\n",
        "       return torch.utils.data.DataLoader(self.test_dataset, batch_size = self.batch_size, shuffle = False)"
      ],
      "metadata": {
        "id": "GjfDKYyqDGo-",
        "cellView": "form"
      },
      "execution_count": 16,
      "outputs": []
    },
    {
      "cell_type": "code",
      "source": [
        "#@title Create a datamodule\n",
        "batch_size : int = 128 #@param{type:\"integer\"}\n",
        "datamodule = DistillDataModule(train_dataset,val_dataset,cifar100_test,batch_size = batch_size)"
      ],
      "metadata": {
        "id": "yZfAFspcEEn4",
        "cellView": "form"
      },
      "execution_count": 17,
      "outputs": []
    },
    {
      "cell_type": "code",
      "execution_count": null,
      "metadata": {
        "id": "zZSrAlsIyF3l"
      },
      "outputs": [],
      "source": [
        "!wget --user Ale99 --password Vitmlpmixer99 https://huggingface.co/datasets/imagenet-1k/resolve/main/data/val_images.tar.gz"
      ]
    },
    {
      "cell_type": "code",
      "execution_count": null,
      "metadata": {
        "id": "9OBoo-ad6082"
      },
      "outputs": [],
      "source": [
        "!mkdir imagenet_val\n",
        "!tar -xvf val_images.tar.gz -C imagenet_val"
      ]
    },
    {
      "cell_type": "markdown",
      "source": [
        "###2.3 Training the student"
      ],
      "metadata": {
        "id": "89YUomqmx-pH"
      }
    },
    {
      "cell_type": "code",
      "source": [
        "#@title Weights & Biases initialization\n",
        "\n",
        "#login\n",
        "wandb.login\n",
        "wandb.init(project=\"mixer-kd\", entity='mixer-kd')\n",
        "\n",
        "#definition of the metrics to compute\n",
        "wandb.define_metric('epoch')\n",
        "wandb.define_metric('train_loss',step_metric='epoch')\n",
        "wandb.define_metric('test_loss_before',step_metric='epoch')\n",
        "wandb.define_metric('test_loss_after',step_metric='epoch')\n",
        "wandb.define_metric('val_loss',step_metric='epoch')\n",
        "wandb.define_metric('train_accuracy',step_metric='epoch')\n",
        "wandb.define_metric('val_accuracy',step_metric='epoch')\n",
        "wandb.define_metric('test_accuracy_before',step_metric='epoch')\n",
        "wandb.define_metric('test_accuracy_after',step_metric='epoch')\n",
        "\n",
        "#definition of the pytorch lightning logger\n",
        "logger = pl.loggers.WandbLogger(name='run_1', project='mixer-kd')"
      ],
      "metadata": {
        "colab": {
          "base_uri": "https://localhost:8080/",
          "height": 69
        },
        "id": "lp2LekQdQbDY",
        "outputId": "2e595073-f372-4ebc-f3d6-d4a54e72e8d5"
      },
      "execution_count": 30,
      "outputs": [
        {
          "output_type": "display_data",
          "data": {
            "text/plain": [
              "<IPython.core.display.HTML object>"
            ],
            "text/html": [
              "Tracking run with wandb version 0.13.6"
            ]
          },
          "metadata": {}
        },
        {
          "output_type": "display_data",
          "data": {
            "text/plain": [
              "<IPython.core.display.HTML object>"
            ],
            "text/html": [
              "Run data is saved locally in <code>/content/drive/MyDrive/ViT2MLP/wandb/run-20221207_172930-250tvmck</code>"
            ]
          },
          "metadata": {}
        },
        {
          "output_type": "display_data",
          "data": {
            "text/plain": [
              "<IPython.core.display.HTML object>"
            ],
            "text/html": [
              "Syncing run <strong><a href=\"https://wandb.ai/mixer-kd/mixer-kd/runs/250tvmck\" target=\"_blank\">giddy-shadow-20</a></strong> to <a href=\"https://wandb.ai/mixer-kd/mixer-kd\" target=\"_blank\">Weights & Biases</a> (<a href=\"https://wandb.me/run\" target=\"_blank\">docs</a>)<br/>"
            ]
          },
          "metadata": {}
        }
      ]
    },
    {
      "cell_type": "code",
      "source": [
        "#@title Train the student\n",
        "epochs : int = 60 #@param{type:\"integer\"}\n",
        "\n",
        "# checkpoint to save the model with the best validation loss\n",
        "checkpoint = callbacks.ModelCheckpoint(\"checkpoints/\",\n",
        "                                       monitor=\"val_loss\",\n",
        "                                       mode=\"min\")\n",
        "\n",
        "# definition of the triner\n",
        "trainer = pl.Trainer(max_epochs=epochs,\n",
        "                     accelerator=device,\n",
        "                     logger=logger,\n",
        "                     callbacks=[checkpoint]\n",
        "                     )\n",
        "\n",
        "# training\n",
        "logger.watch(student)\n",
        "trainer.test(datamodule=datamodule,model = student) #test before training\n",
        "trainer.fit(datamodule=datamodule,model = student) #trainng\n",
        "trainer.test(datamodule=datamodule,model = student) #test after training\n",
        "wandb.finish()"
      ],
      "metadata": {
        "id": "rHXGSY2o_q8E",
        "colab": {
          "base_uri": "https://localhost:8080/",
          "height": 553,
          "referenced_widgets": [
            "f31bc6842c894f1783a468fb543b5f8a",
            "805172070fe74c0eb7928b5cd90120e4",
            "509b4da72d0f49c381a2f3d967f31560",
            "d286e1bf6f2140abac35d13ef5686f96",
            "872efaaf04004700bded4b02286f0fcb",
            "638244640cd34f1fa87de361b132e902",
            "9281f54e05024186bde386418826a587",
            "74ba91a6af3f4805b9bf33adce905bb3",
            "652288843dfa45ce87bc68a89780034c",
            "7da664e1bc5449fca0625ba18a511cc8",
            "588b187f21f64d1db23d349cf4c2b7ce",
            "31e0b22d8b0243bdbdf1289240188ef4",
            "961617c98e9a4a8bbf0d348a49af2d23",
            "b4086e54f62b406e9c185e2bec87ffba",
            "66b4d1e2b36a4397bc3972db4fb5ce90",
            "eebb859faecc429d80eb5f2e1a77b188",
            "f95c9f44b36b4b528f645355be1ae6e0",
            "4299672afd47426d9a5ccae4da734b29",
            "881046ba956d4a7297e263ae079bd05d",
            "87a705076ef8432b8c9ec4e36c3aaf8f",
            "1c6114468e054566894151bab400942e",
            "6f9dc6a18d5544719fff8b46da53bc86",
            "0a145470c3b7448b9db2ed7f75a232eb",
            "dd58f01ec3864264ab8e77f563d4a075",
            "30b4e8ae1bb34e95af1b1ef4db91ad6e",
            "478426d96d854f3f8d89d3ed56d1bf8d",
            "224cdbd6f6a7413a846ee645967a1b68",
            "3ef504ca743e4269937bd934648bd003",
            "aa2c71bda06444219c2ccddc9c291006",
            "5d4612c3ec0f4e46899801472a283436",
            "07b702da651d402c80d3a14c85f33f9e",
            "6a1f9db3020b414c96303596448729f5",
            "e2e741abf26b46aa9ddd15cdc96a6704",
            "2dfc97bdb4c34d5bafc53f7e39161df1",
            "a213341804e54236a493f048297b976e",
            "e604e613814e482d9910155eeca13c47",
            "64ef37880b0c44759e4f004e5c6b6242",
            "9a2e8e665eac408ba313b86ef8907b2e",
            "1efec9e7bc164b23bc64231bf3664159",
            "48e4210104254ea58ca7e8a4a8a50397",
            "db0d75f9a3e04bbc89ea48e3b5bb8de1",
            "d5f87403bb204a58a1b0e6f875f0ec81",
            "5d98f8e605a74b1099fb662b89b8c3a2",
            "e532906f841342728926c0bb9b18ef38",
            "fedf2f82eb61427d9f13968f03c28183",
            "f22051f512b64ece88873a19a994b998",
            "ee49d30805c642b5964863bc14f9d7eb",
            "4777803ccd2146f28e8babf5c34e78ac",
            "c7671012958c4abaadeffcc419489ae3",
            "dc1e7f82dbf8451b905311a660c06869",
            "b60b878afa6e452ba4b743cc5940c1e6",
            "065041ffc378473f92a8bb58ce1ca434",
            "09b7bcdb013048e3b5034f37012676d0",
            "fcbfe1e3604b4a2485cc03a98d71914f",
            "aef326974f264fa093d2a087118b37d7",
            "77714dfddb7649929e14b1cbf928277e",
            "cb535a8358b64dc19cc3b3022124a597",
            "c5afbc7e7cee407792330e4f72f7a436",
            "0345ae7ceb1843999de82968be40d3a2",
            "cb1666ea69bd4359a4d14a57e0df26b2",
            "84ed3f28c8224992ad47a46cfb92722d",
            "6524a84caeb748c29bbbd3072c1a014b",
            "9a145238da524d44add48ca4fa8f2cbc",
            "2eb1c42ed7654f958cb9a9d8eca628f4",
            "a79ce9d89b954b97a954964136a343b1",
            "6ca0900df2ad47329215e80747194f19"
          ]
        },
        "outputId": "4ce89eb8-5f24-4636-aa75-5bba89c93055",
        "cellView": "form"
      },
      "execution_count": null,
      "outputs": [
        {
          "output_type": "stream",
          "name": "stderr",
          "text": [
            "INFO:pytorch_lightning.utilities.rank_zero:GPU available: True (cuda), used: True\n",
            "INFO:pytorch_lightning.utilities.rank_zero:TPU available: False, using: 0 TPU cores\n",
            "INFO:pytorch_lightning.utilities.rank_zero:IPU available: False, using: 0 IPUs\n",
            "INFO:pytorch_lightning.utilities.rank_zero:HPU available: False, using: 0 HPUs\n",
            "/usr/local/lib/python3.8/dist-packages/pytorch_lightning/loggers/wandb.py:396: UserWarning: There is a wandb run already in progress and newly created instances of `WandbLogger` will reuse this run. If this is not desired, call `wandb.finish()` before instantiating `WandbLogger`.\n",
            "  rank_zero_warn(\n",
            "\u001b[34m\u001b[1mwandb\u001b[0m: logging graph, to disable use `wandb.watch(log_graph=False)`\n",
            "INFO:pytorch_lightning.accelerators.cuda:LOCAL_RANK: 0 - CUDA_VISIBLE_DEVICES: [0]\n"
          ]
        },
        {
          "output_type": "display_data",
          "data": {
            "text/plain": [
              "Testing: 0it [00:00, ?it/s]"
            ],
            "application/vnd.jupyter.widget-view+json": {
              "version_major": 2,
              "version_minor": 0,
              "model_id": "f31bc6842c894f1783a468fb543b5f8a"
            }
          },
          "metadata": {}
        },
        {
          "output_type": "stream",
          "name": "stderr",
          "text": [
            "INFO:pytorch_lightning.accelerators.cuda:LOCAL_RANK: 0 - CUDA_VISIBLE_DEVICES: [0]\n",
            "INFO:pytorch_lightning.callbacks.model_summary:\n",
            "  | Name    | Type             | Params\n",
            "---------------------------------------------\n",
            "0 | mixer   | MlpMixer         | 17.2 M\n",
            "1 | loss_fn | CrossEntropyLoss | 0     \n",
            "---------------------------------------------\n",
            "17.2 M    Trainable params\n",
            "0         Non-trainable params\n",
            "17.2 M    Total params\n",
            "68.625    Total estimated model params size (MB)\n"
          ]
        },
        {
          "output_type": "stream",
          "name": "stdout",
          "text": [
            "────────────────────────────────────────────────────────────────────────────────────────────────────────────────────────\n",
            "       Test metric             DataLoader 0\n",
            "────────────────────────────────────────────────────────────────────────────────────────────────────────────────────────\n",
            "          epoch                     0.0\n",
            "  test_accuracy_before     0.009999999776482582\n",
            "    test_loss_before         4.605169773101807\n",
            "────────────────────────────────────────────────────────────────────────────────────────────────────────────────────────\n"
          ]
        },
        {
          "output_type": "display_data",
          "data": {
            "text/plain": [
              "Sanity Checking: 0it [00:00, ?it/s]"
            ],
            "application/vnd.jupyter.widget-view+json": {
              "version_major": 2,
              "version_minor": 0,
              "model_id": "31e0b22d8b0243bdbdf1289240188ef4"
            }
          },
          "metadata": {}
        },
        {
          "output_type": "display_data",
          "data": {
            "text/plain": [
              "Training: 0it [00:00, ?it/s]"
            ],
            "application/vnd.jupyter.widget-view+json": {
              "version_major": 2,
              "version_minor": 0,
              "model_id": "0a145470c3b7448b9db2ed7f75a232eb"
            }
          },
          "metadata": {}
        },
        {
          "output_type": "display_data",
          "data": {
            "text/plain": [
              "Validation: 0it [00:00, ?it/s]"
            ],
            "application/vnd.jupyter.widget-view+json": {
              "version_major": 2,
              "version_minor": 0,
              "model_id": "2dfc97bdb4c34d5bafc53f7e39161df1"
            }
          },
          "metadata": {}
        },
        {
          "output_type": "display_data",
          "data": {
            "text/plain": [
              "Validation: 0it [00:00, ?it/s]"
            ],
            "application/vnd.jupyter.widget-view+json": {
              "version_major": 2,
              "version_minor": 0,
              "model_id": "fedf2f82eb61427d9f13968f03c28183"
            }
          },
          "metadata": {}
        },
        {
          "output_type": "display_data",
          "data": {
            "text/plain": [
              "Validation: 0it [00:00, ?it/s]"
            ],
            "application/vnd.jupyter.widget-view+json": {
              "version_major": 2,
              "version_minor": 0,
              "model_id": "77714dfddb7649929e14b1cbf928277e"
            }
          },
          "metadata": {}
        }
      ]
    },
    {
      "cell_type": "code",
      "source": [
        "#@title Load a model from checkpoint\n",
        "checkpoint_path : str = \"last_checkpoint\" #@param{type:\"string\"}\n",
        "if checkpoint_path == \"last_checkpoint\":\n",
        "    checkpoint_path = checkpoint.best_model_path\n",
        "loaded_student = LitMixer.load_from_checkpoint(checkpoint_path)"
      ],
      "metadata": {
        "cellView": "form",
        "id": "by6pgVMpm8vi"
      },
      "execution_count": 25,
      "outputs": []
    },
    {
      "cell_type": "code",
      "source": [
        "#@title Test qualitative results {run : 'auto'}\n",
        "datapoint_number = 27 #@param{type : \"integer\"}\n",
        "image, gt = cifar100_test[datapoint_number]\n",
        "image_pixels = torchvision.transforms.functional.to_pil_image(image)\n",
        "plt.imshow(image_pixels)\n",
        "pr = loaded_student.mixer(image.unsqueeze(0).float())\n",
        "#print(pr)\n",
        "dataset.dataset.classes[gt],  dataset.dataset.classes[pr.argmax().item()]"
      ],
      "metadata": {
        "cellView": "form",
        "id": "buxcGxzpGJya",
        "colab": {
          "base_uri": "https://localhost:8080/",
          "height": 283
        },
        "outputId": "371ca787-c854-4d70-ce53-cca04932062c"
      },
      "execution_count": 27,
      "outputs": [
        {
          "output_type": "execute_result",
          "data": {
            "text/plain": [
              "('bicycle', 'bicycle')"
            ]
          },
          "metadata": {},
          "execution_count": 27
        },
        {
          "output_type": "display_data",
          "data": {
            "text/plain": [
              "<Figure size 432x288 with 1 Axes>"
            ],
            "image/png": "[encoded data removed]"
          },
          "metadata": {
            "needs_background": "light"
          }
        }
      ]
    }
  ],
  "metadata": {
    "colab": {
      "provenance": [],
      "collapsed_sections": [
        "ES_z2lrFzS4Q",
        "TqXSkG6p0C5A",
        "AjYPKIo8zW_7",
        "GtgQ0OHG21PO",
        "0m4IdUu7-7QI",
        "xzwRW42KdMsj",
        "Td1p_uw8x7Pi"
      ],
      "toc_visible": true,
      "include_colab_link": true
    },
    "gpuClass": "standard",
    "kernelspec": {
      "display_name": "Python 3.9.9 64-bit",
      "language": "python",
      "name": "python3"
    },
    "language_info": {
      "name": "python",
      "version": "3.9.9"
    },
    "vscode": {
      "interpreter": {
        "hash": "aee8b7b246df8f9039afb4144a1f6fd8d2ca17a180786b69acc140d282b71a49"
      }
    },
    "widgets": {
      "application/vnd.jupyter.widget-state+json": {
        "f31bc6842c894f1783a468fb543b5f8a": {
          "model_module": "@jupyter-widgets/controls",
          "model_name": "HBoxModel",
          "model_module_version": "1.5.0",
          "state": {
            "_dom_classes": [],
            "_model_module": "@jupyter-widgets/controls",
            "_model_module_version": "1.5.0",
            "_model_name": "HBoxModel",
            "_view_count": null,
            "_view_module": "@jupyter-widgets/controls",
            "_view_module_version": "1.5.0",
            "_view_name": "HBoxView",
            "box_style": "",
            "children": [
              "IPY_MODEL_805172070fe74c0eb7928b5cd90120e4",
              "IPY_MODEL_509b4da72d0f49c381a2f3d967f31560",
              "IPY_MODEL_d286e1bf6f2140abac35d13ef5686f96"
            ],
            "layout": "IPY_MODEL_872efaaf04004700bded4b02286f0fcb"
          }
        },
        "805172070fe74c0eb7928b5cd90120e4": {
          "model_module": "@jupyter-widgets/controls",
          "model_name": "HTMLModel",
          "model_module_version": "1.5.0",
          "state": {
            "_dom_classes": [],
            "_model_module": "@jupyter-widgets/controls",
            "_model_module_version": "1.5.0",
            "_model_name": "HTMLModel",
            "_view_count": null,
            "_view_module": "@jupyter-widgets/controls",
            "_view_module_version": "1.5.0",
            "_view_name": "HTMLView",
            "description": "",
            "description_tooltip": null,
            "layout": "IPY_MODEL_638244640cd34f1fa87de361b132e902",
            "placeholder": "​",
            "style": "IPY_MODEL_9281f54e05024186bde386418826a587",
            "value": "Testing DataLoader 0: 100%"
          }
        },
        "509b4da72d0f49c381a2f3d967f31560": {
          "model_module": "@jupyter-widgets/controls",
          "model_name": "FloatProgressModel",
          "model_module_version": "1.5.0",
          "state": {
            "_dom_classes": [],
            "_model_module": "@jupyter-widgets/controls",
            "_model_module_version": "1.5.0",
            "_model_name": "FloatProgressModel",
            "_view_count": null,
            "_view_module": "@jupyter-widgets/controls",
            "_view_module_version": "1.5.0",
            "_view_name": "ProgressView",
            "bar_style": "success",
            "description": "",
            "description_tooltip": null,
            "layout": "IPY_MODEL_74ba91a6af3f4805b9bf33adce905bb3",
            "max": 79,
            "min": 0,
            "orientation": "horizontal",
            "style": "IPY_MODEL_652288843dfa45ce87bc68a89780034c",
            "value": 79
          }
        },
        "d286e1bf6f2140abac35d13ef5686f96": {
          "model_module": "@jupyter-widgets/controls",
          "model_name": "HTMLModel",
          "model_module_version": "1.5.0",
          "state": {
            "_dom_classes": [],
            "_model_module": "@jupyter-widgets/controls",
            "_model_module_version": "1.5.0",
            "_model_name": "HTMLModel",
            "_view_count": null,
            "_view_module": "@jupyter-widgets/controls",
            "_view_module_version": "1.5.0",
            "_view_name": "HTMLView",
            "description": "",
            "description_tooltip": null,
            "layout": "IPY_MODEL_7da664e1bc5449fca0625ba18a511cc8",
            "placeholder": "​",
            "style": "IPY_MODEL_588b187f21f64d1db23d349cf4c2b7ce",
            "value": " 79/79 [00:09&lt;00:00,  8.22it/s]"
          }
        },
        "872efaaf04004700bded4b02286f0fcb": {
          "model_module": "@jupyter-widgets/base",
          "model_name": "LayoutModel",
          "model_module_version": "1.2.0",
          "state": {
            "_model_module": "@jupyter-widgets/base",
            "_model_module_version": "1.2.0",
            "_model_name": "LayoutModel",
            "_view_count": null,
            "_view_module": "@jupyter-widgets/base",
            "_view_module_version": "1.2.0",
            "_view_name": "LayoutView",
            "align_content": null,
            "align_items": null,
            "align_self": null,
            "border": null,
            "bottom": null,
            "display": "inline-flex",
            "flex": null,
            "flex_flow": "row wrap",
            "grid_area": null,
            "grid_auto_columns": null,
            "grid_auto_flow": null,
            "grid_auto_rows": null,
            "grid_column": null,
            "grid_gap": null,
            "grid_row": null,
            "grid_template_areas": null,
            "grid_template_columns": null,
            "grid_template_rows": null,
            "height": null,
            "justify_content": null,
            "justify_items": null,
            "left": null,
            "margin": null,
            "max_height": null,
            "max_width": null,
            "min_height": null,
            "min_width": null,
            "object_fit": null,
            "object_position": null,
            "order": null,
            "overflow": null,
            "overflow_x": null,
            "overflow_y": null,
            "padding": null,
            "right": null,
            "top": null,
            "visibility": null,
            "width": "100%"
          }
        },
        "638244640cd34f1fa87de361b132e902": {
          "model_module": "@jupyter-widgets/base",
          "model_name": "LayoutModel",
          "model_module_version": "1.2.0",
          "state": {
            "_model_module": "@jupyter-widgets/base",
            "_model_module_version": "1.2.0",
            "_model_name": "LayoutModel",
            "_view_count": null,
            "_view_module": "@jupyter-widgets/base",
            "_view_module_version": "1.2.0",
            "_view_name": "LayoutView",
            "align_content": null,
            "align_items": null,
            "align_self": null,
            "border": null,
            "bottom": null,
            "display": null,
            "flex": null,
            "flex_flow": null,
            "grid_area": null,
            "grid_auto_columns": null,
            "grid_auto_flow": null,
            "grid_auto_rows": null,
            "grid_column": null,
            "grid_gap": null,
            "grid_row": null,
            "grid_template_areas": null,
            "grid_template_columns": null,
            "grid_template_rows": null,
            "height": null,
            "justify_content": null,
            "justify_items": null,
            "left": null,
            "margin": null,
            "max_height": null,
            "max_width": null,
            "min_height": null,
            "min_width": null,
            "object_fit": null,
            "object_position": null,
            "order": null,
            "overflow": null,
            "overflow_x": null,
            "overflow_y": null,
            "padding": null,
            "right": null,
            "top": null,
            "visibility": null,
            "width": null
          }
        },
        "9281f54e05024186bde386418826a587": {
          "model_module": "@jupyter-widgets/controls",
          "model_name": "DescriptionStyleModel",
          "model_module_version": "1.5.0",
          "state": {
            "_model_module": "@jupyter-widgets/controls",
            "_model_module_version": "1.5.0",
            "_model_name": "DescriptionStyleModel",
            "_view_count": null,
            "_view_module": "@jupyter-widgets/base",
            "_view_module_version": "1.2.0",
            "_view_name": "StyleView",
            "description_width": ""
          }
        },
        "74ba91a6af3f4805b9bf33adce905bb3": {
          "model_module": "@jupyter-widgets/base",
          "model_name": "LayoutModel",
          "model_module_version": "1.2.0",
          "state": {
            "_model_module": "@jupyter-widgets/base",
            "_model_module_version": "1.2.0",
            "_model_name": "LayoutModel",
            "_view_count": null,
            "_view_module": "@jupyter-widgets/base",
            "_view_module_version": "1.2.0",
            "_view_name": "LayoutView",
            "align_content": null,
            "align_items": null,
            "align_self": null,
            "border": null,
            "bottom": null,
            "display": null,
            "flex": "2",
            "flex_flow": null,
            "grid_area": null,
            "grid_auto_columns": null,
            "grid_auto_flow": null,
            "grid_auto_rows": null,
            "grid_column": null,
            "grid_gap": null,
            "grid_row": null,
            "grid_template_areas": null,
            "grid_template_columns": null,
            "grid_template_rows": null,
            "height": null,
            "justify_content": null,
            "justify_items": null,
            "left": null,
            "margin": null,
            "max_height": null,
            "max_width": null,
            "min_height": null,
            "min_width": null,
            "object_fit": null,
            "object_position": null,
            "order": null,
            "overflow": null,
            "overflow_x": null,
            "overflow_y": null,
            "padding": null,
            "right": null,
            "top": null,
            "visibility": null,
            "width": null
          }
        },
        "652288843dfa45ce87bc68a89780034c": {
          "model_module": "@jupyter-widgets/controls",
          "model_name": "ProgressStyleModel",
          "model_module_version": "1.5.0",
          "state": {
            "_model_module": "@jupyter-widgets/controls",
            "_model_module_version": "1.5.0",
            "_model_name": "ProgressStyleModel",
            "_view_count": null,
            "_view_module": "@jupyter-widgets/base",
            "_view_module_version": "1.2.0",
            "_view_name": "StyleView",
            "bar_color": null,
            "description_width": ""
          }
        },
        "7da664e1bc5449fca0625ba18a511cc8": {
          "model_module": "@jupyter-widgets/base",
          "model_name": "LayoutModel",
          "model_module_version": "1.2.0",
          "state": {
            "_model_module": "@jupyter-widgets/base",
            "_model_module_version": "1.2.0",
            "_model_name": "LayoutModel",
            "_view_count": null,
            "_view_module": "@jupyter-widgets/base",
            "_view_module_version": "1.2.0",
            "_view_name": "LayoutView",
            "align_content": null,
            "align_items": null,
            "align_self": null,
            "border": null,
            "bottom": null,
            "display": null,
            "flex": null,
            "flex_flow": null,
            "grid_area": null,
            "grid_auto_columns": null,
            "grid_auto_flow": null,
            "grid_auto_rows": null,
            "grid_column": null,
            "grid_gap": null,
            "grid_row": null,
            "grid_template_areas": null,
            "grid_template_columns": null,
            "grid_template_rows": null,
            "height": null,
            "justify_content": null,
            "justify_items": null,
            "left": null,
            "margin": null,
            "max_height": null,
            "max_width": null,
            "min_height": null,
            "min_width": null,
            "object_fit": null,
            "object_position": null,
            "order": null,
            "overflow": null,
            "overflow_x": null,
            "overflow_y": null,
            "padding": null,
            "right": null,
            "top": null,
            "visibility": null,
            "width": null
          }
        },
        "588b187f21f64d1db23d349cf4c2b7ce": {
          "model_module": "@jupyter-widgets/controls",
          "model_name": "DescriptionStyleModel",
          "model_module_version": "1.5.0",
          "state": {
            "_model_module": "@jupyter-widgets/controls",
            "_model_module_version": "1.5.0",
            "_model_name": "DescriptionStyleModel",
            "_view_count": null,
            "_view_module": "@jupyter-widgets/base",
            "_view_module_version": "1.2.0",
            "_view_name": "StyleView",
            "description_width": ""
          }
        },
        "31e0b22d8b0243bdbdf1289240188ef4": {
          "model_module": "@jupyter-widgets/controls",
          "model_name": "HBoxModel",
          "model_module_version": "1.5.0",
          "state": {
            "_dom_classes": [],
            "_model_module": "@jupyter-widgets/controls",
            "_model_module_version": "1.5.0",
            "_model_name": "HBoxModel",
            "_view_count": null,
            "_view_module": "@jupyter-widgets/controls",
            "_view_module_version": "1.5.0",
            "_view_name": "HBoxView",
            "box_style": "",
            "children": [
              "IPY_MODEL_961617c98e9a4a8bbf0d348a49af2d23",
              "IPY_MODEL_b4086e54f62b406e9c185e2bec87ffba",
              "IPY_MODEL_66b4d1e2b36a4397bc3972db4fb5ce90"
            ],
            "layout": "IPY_MODEL_eebb859faecc429d80eb5f2e1a77b188"
          }
        },
        "961617c98e9a4a8bbf0d348a49af2d23": {
          "model_module": "@jupyter-widgets/controls",
          "model_name": "HTMLModel",
          "model_module_version": "1.5.0",
          "state": {
            "_dom_classes": [],
            "_model_module": "@jupyter-widgets/controls",
            "_model_module_version": "1.5.0",
            "_model_name": "HTMLModel",
            "_view_count": null,
            "_view_module": "@jupyter-widgets/controls",
            "_view_module_version": "1.5.0",
            "_view_name": "HTMLView",
            "description": "",
            "description_tooltip": null,
            "layout": "IPY_MODEL_f95c9f44b36b4b528f645355be1ae6e0",
            "placeholder": "​",
            "style": "IPY_MODEL_4299672afd47426d9a5ccae4da734b29",
            "value": "Sanity Checking DataLoader 0: 100%"
          }
        },
        "b4086e54f62b406e9c185e2bec87ffba": {
          "model_module": "@jupyter-widgets/controls",
          "model_name": "FloatProgressModel",
          "model_module_version": "1.5.0",
          "state": {
            "_dom_classes": [],
            "_model_module": "@jupyter-widgets/controls",
            "_model_module_version": "1.5.0",
            "_model_name": "FloatProgressModel",
            "_view_count": null,
            "_view_module": "@jupyter-widgets/controls",
            "_view_module_version": "1.5.0",
            "_view_name": "ProgressView",
            "bar_style": "",
            "description": "",
            "description_tooltip": null,
            "layout": "IPY_MODEL_881046ba956d4a7297e263ae079bd05d",
            "max": 2,
            "min": 0,
            "orientation": "horizontal",
            "style": "IPY_MODEL_87a705076ef8432b8c9ec4e36c3aaf8f",
            "value": 2
          }
        },
        "66b4d1e2b36a4397bc3972db4fb5ce90": {
          "model_module": "@jupyter-widgets/controls",
          "model_name": "HTMLModel",
          "model_module_version": "1.5.0",
          "state": {
            "_dom_classes": [],
            "_model_module": "@jupyter-widgets/controls",
            "_model_module_version": "1.5.0",
            "_model_name": "HTMLModel",
            "_view_count": null,
            "_view_module": "@jupyter-widgets/controls",
            "_view_module_version": "1.5.0",
            "_view_name": "HTMLView",
            "description": "",
            "description_tooltip": null,
            "layout": "IPY_MODEL_1c6114468e054566894151bab400942e",
            "placeholder": "​",
            "style": "IPY_MODEL_6f9dc6a18d5544719fff8b46da53bc86",
            "value": " 2/2 [00:00&lt;00:00,  8.65it/s]"
          }
        },
        "eebb859faecc429d80eb5f2e1a77b188": {
          "model_module": "@jupyter-widgets/base",
          "model_name": "LayoutModel",
          "model_module_version": "1.2.0",
          "state": {
            "_model_module": "@jupyter-widgets/base",
            "_model_module_version": "1.2.0",
            "_model_name": "LayoutModel",
            "_view_count": null,
            "_view_module": "@jupyter-widgets/base",
            "_view_module_version": "1.2.0",
            "_view_name": "LayoutView",
            "align_content": null,
            "align_items": null,
            "align_self": null,
            "border": null,
            "bottom": null,
            "display": "inline-flex",
            "flex": null,
            "flex_flow": "row wrap",
            "grid_area": null,
            "grid_auto_columns": null,
            "grid_auto_flow": null,
            "grid_auto_rows": null,
            "grid_column": null,
            "grid_gap": null,
            "grid_row": null,
            "grid_template_areas": null,
            "grid_template_columns": null,
            "grid_template_rows": null,
            "height": null,
            "justify_content": null,
            "justify_items": null,
            "left": null,
            "margin": null,
            "max_height": null,
            "max_width": null,
            "min_height": null,
            "min_width": null,
            "object_fit": null,
            "object_position": null,
            "order": null,
            "overflow": null,
            "overflow_x": null,
            "overflow_y": null,
            "padding": null,
            "right": null,
            "top": null,
            "visibility": "hidden",
            "width": "100%"
          }
        },
        "f95c9f44b36b4b528f645355be1ae6e0": {
          "model_module": "@jupyter-widgets/base",
          "model_name": "LayoutModel",
          "model_module_version": "1.2.0",
          "state": {
            "_model_module": "@jupyter-widgets/base",
            "_model_module_version": "1.2.0",
            "_model_name": "LayoutModel",
            "_view_count": null,
            "_view_module": "@jupyter-widgets/base",
            "_view_module_version": "1.2.0",
            "_view_name": "LayoutView",
            "align_content": null,
            "align_items": null,
            "align_self": null,
            "border": null,
            "bottom": null,
            "display": null,
            "flex": null,
            "flex_flow": null,
            "grid_area": null,
            "grid_auto_columns": null,
            "grid_auto_flow": null,
            "grid_auto_rows": null,
            "grid_column": null,
            "grid_gap": null,
            "grid_row": null,
            "grid_template_areas": null,
            "grid_template_columns": null,
            "grid_template_rows": null,
            "height": null,
            "justify_content": null,
            "justify_items": null,
            "left": null,
            "margin": null,
            "max_height": null,
            "max_width": null,
            "min_height": null,
            "min_width": null,
            "object_fit": null,
            "object_position": null,
            "order": null,
            "overflow": null,
            "overflow_x": null,
            "overflow_y": null,
            "padding": null,
            "right": null,
            "top": null,
            "visibility": null,
            "width": null
          }
        },
        "4299672afd47426d9a5ccae4da734b29": {
          "model_module": "@jupyter-widgets/controls",
          "model_name": "DescriptionStyleModel",
          "model_module_version": "1.5.0",
          "state": {
            "_model_module": "@jupyter-widgets/controls",
            "_model_module_version": "1.5.0",
            "_model_name": "DescriptionStyleModel",
            "_view_count": null,
            "_view_module": "@jupyter-widgets/base",
            "_view_module_version": "1.2.0",
            "_view_name": "StyleView",
            "description_width": ""
          }
        },
        "881046ba956d4a7297e263ae079bd05d": {
          "model_module": "@jupyter-widgets/base",
          "model_name": "LayoutModel",
          "model_module_version": "1.2.0",
          "state": {
            "_model_module": "@jupyter-widgets/base",
            "_model_module_version": "1.2.0",
            "_model_name": "LayoutModel",
            "_view_count": null,
            "_view_module": "@jupyter-widgets/base",
            "_view_module_version": "1.2.0",
            "_view_name": "LayoutView",
            "align_content": null,
            "align_items": null,
            "align_self": null,
            "border": null,
            "bottom": null,
            "display": null,
            "flex": "2",
            "flex_flow": null,
            "grid_area": null,
            "grid_auto_columns": null,
            "grid_auto_flow": null,
            "grid_auto_rows": null,
            "grid_column": null,
            "grid_gap": null,
            "grid_row": null,
            "grid_template_areas": null,
            "grid_template_columns": null,
            "grid_template_rows": null,
            "height": null,
            "justify_content": null,
            "justify_items": null,
            "left": null,
            "margin": null,
            "max_height": null,
            "max_width": null,
            "min_height": null,
            "min_width": null,
            "object_fit": null,
            "object_position": null,
            "order": null,
            "overflow": null,
            "overflow_x": null,
            "overflow_y": null,
            "padding": null,
            "right": null,
            "top": null,
            "visibility": null,
            "width": null
          }
        },
        "87a705076ef8432b8c9ec4e36c3aaf8f": {
          "model_module": "@jupyter-widgets/controls",
          "model_name": "ProgressStyleModel",
          "model_module_version": "1.5.0",
          "state": {
            "_model_module": "@jupyter-widgets/controls",
            "_model_module_version": "1.5.0",
            "_model_name": "ProgressStyleModel",
            "_view_count": null,
            "_view_module": "@jupyter-widgets/base",
            "_view_module_version": "1.2.0",
            "_view_name": "StyleView",
            "bar_color": null,
            "description_width": ""
          }
        },
        "1c6114468e054566894151bab400942e": {
          "model_module": "@jupyter-widgets/base",
          "model_name": "LayoutModel",
          "model_module_version": "1.2.0",
          "state": {
            "_model_module": "@jupyter-widgets/base",
            "_model_module_version": "1.2.0",
            "_model_name": "LayoutModel",
            "_view_count": null,
            "_view_module": "@jupyter-widgets/base",
            "_view_module_version": "1.2.0",
            "_view_name": "LayoutView",
            "align_content": null,
            "align_items": null,
            "align_self": null,
            "border": null,
            "bottom": null,
            "display": null,
            "flex": null,
            "flex_flow": null,
            "grid_area": null,
            "grid_auto_columns": null,
            "grid_auto_flow": null,
            "grid_auto_rows": null,
            "grid_column": null,
            "grid_gap": null,
            "grid_row": null,
            "grid_template_areas": null,
            "grid_template_columns": null,
            "grid_template_rows": null,
            "height": null,
            "justify_content": null,
            "justify_items": null,
            "left": null,
            "margin": null,
            "max_height": null,
            "max_width": null,
            "min_height": null,
            "min_width": null,
            "object_fit": null,
            "object_position": null,
            "order": null,
            "overflow": null,
            "overflow_x": null,
            "overflow_y": null,
            "padding": null,
            "right": null,
            "top": null,
            "visibility": null,
            "width": null
          }
        },
        "6f9dc6a18d5544719fff8b46da53bc86": {
          "model_module": "@jupyter-widgets/controls",
          "model_name": "DescriptionStyleModel",
          "model_module_version": "1.5.0",
          "state": {
            "_model_module": "@jupyter-widgets/controls",
            "_model_module_version": "1.5.0",
            "_model_name": "DescriptionStyleModel",
            "_view_count": null,
            "_view_module": "@jupyter-widgets/base",
            "_view_module_version": "1.2.0",
            "_view_name": "StyleView",
            "description_width": ""
          }
        },
        "0a145470c3b7448b9db2ed7f75a232eb": {
          "model_module": "@jupyter-widgets/controls",
          "model_name": "HBoxModel",
          "model_module_version": "1.5.0",
          "state": {
            "_dom_classes": [],
            "_model_module": "@jupyter-widgets/controls",
            "_model_module_version": "1.5.0",
            "_model_name": "HBoxModel",
            "_view_count": null,
            "_view_module": "@jupyter-widgets/controls",
            "_view_module_version": "1.5.0",
            "_view_name": "HBoxView",
            "box_style": "",
            "children": [
              "IPY_MODEL_dd58f01ec3864264ab8e77f563d4a075",
              "IPY_MODEL_30b4e8ae1bb34e95af1b1ef4db91ad6e",
              "IPY_MODEL_478426d96d854f3f8d89d3ed56d1bf8d"
            ],
            "layout": "IPY_MODEL_224cdbd6f6a7413a846ee645967a1b68"
          }
        },
        "dd58f01ec3864264ab8e77f563d4a075": {
          "model_module": "@jupyter-widgets/controls",
          "model_name": "HTMLModel",
          "model_module_version": "1.5.0",
          "state": {
            "_dom_classes": [],
            "_model_module": "@jupyter-widgets/controls",
            "_model_module_version": "1.5.0",
            "_model_name": "HTMLModel",
            "_view_count": null,
            "_view_module": "@jupyter-widgets/controls",
            "_view_module_version": "1.5.0",
            "_view_name": "HTMLView",
            "description": "",
            "description_tooltip": null,
            "layout": "IPY_MODEL_3ef504ca743e4269937bd934648bd003",
            "placeholder": "​",
            "style": "IPY_MODEL_aa2c71bda06444219c2ccddc9c291006",
            "value": "Epoch 3:  70%"
          }
        },
        "30b4e8ae1bb34e95af1b1ef4db91ad6e": {
          "model_module": "@jupyter-widgets/controls",
          "model_name": "FloatProgressModel",
          "model_module_version": "1.5.0",
          "state": {
            "_dom_classes": [],
            "_model_module": "@jupyter-widgets/controls",
            "_model_module_version": "1.5.0",
            "_model_name": "FloatProgressModel",
            "_view_count": null,
            "_view_module": "@jupyter-widgets/controls",
            "_view_module_version": "1.5.0",
            "_view_name": "ProgressView",
            "bar_style": "",
            "description": "",
            "description_tooltip": null,
            "layout": "IPY_MODEL_5d4612c3ec0f4e46899801472a283436",
            "max": 392,
            "min": 0,
            "orientation": "horizontal",
            "style": "IPY_MODEL_07b702da651d402c80d3a14c85f33f9e",
            "value": 276
          }
        },
        "478426d96d854f3f8d89d3ed56d1bf8d": {
          "model_module": "@jupyter-widgets/controls",
          "model_name": "HTMLModel",
          "model_module_version": "1.5.0",
          "state": {
            "_dom_classes": [],
            "_model_module": "@jupyter-widgets/controls",
            "_model_module_version": "1.5.0",
            "_model_name": "HTMLModel",
            "_view_count": null,
            "_view_module": "@jupyter-widgets/controls",
            "_view_module_version": "1.5.0",
            "_view_name": "HTMLView",
            "description": "",
            "description_tooltip": null,
            "layout": "IPY_MODEL_6a1f9db3020b414c96303596448729f5",
            "placeholder": "​",
            "style": "IPY_MODEL_e2e741abf26b46aa9ddd15cdc96a6704",
            "value": " 276/392 [01:34&lt;00:39,  2.91it/s, loss=2.5, v_num=vmck]"
          }
        },
        "224cdbd6f6a7413a846ee645967a1b68": {
          "model_module": "@jupyter-widgets/base",
          "model_name": "LayoutModel",
          "model_module_version": "1.2.0",
          "state": {
            "_model_module": "@jupyter-widgets/base",
            "_model_module_version": "1.2.0",
            "_model_name": "LayoutModel",
            "_view_count": null,
            "_view_module": "@jupyter-widgets/base",
            "_view_module_version": "1.2.0",
            "_view_name": "LayoutView",
            "align_content": null,
            "align_items": null,
            "align_self": null,
            "border": null,
            "bottom": null,
            "display": "inline-flex",
            "flex": null,
            "flex_flow": "row wrap",
            "grid_area": null,
            "grid_auto_columns": null,
            "grid_auto_flow": null,
            "grid_auto_rows": null,
            "grid_column": null,
            "grid_gap": null,
            "grid_row": null,
            "grid_template_areas": null,
            "grid_template_columns": null,
            "grid_template_rows": null,
            "height": null,
            "justify_content": null,
            "justify_items": null,
            "left": null,
            "margin": null,
            "max_height": null,
            "max_width": null,
            "min_height": null,
            "min_width": null,
            "object_fit": null,
            "object_position": null,
            "order": null,
            "overflow": null,
            "overflow_x": null,
            "overflow_y": null,
            "padding": null,
            "right": null,
            "top": null,
            "visibility": null,
            "width": "100%"
          }
        },
        "3ef504ca743e4269937bd934648bd003": {
          "model_module": "@jupyter-widgets/base",
          "model_name": "LayoutModel",
          "model_module_version": "1.2.0",
          "state": {
            "_model_module": "@jupyter-widgets/base",
            "_model_module_version": "1.2.0",
            "_model_name": "LayoutModel",
            "_view_count": null,
            "_view_module": "@jupyter-widgets/base",
            "_view_module_version": "1.2.0",
            "_view_name": "LayoutView",
            "align_content": null,
            "align_items": null,
            "align_self": null,
            "border": null,
            "bottom": null,
            "display": null,
            "flex": null,
            "flex_flow": null,
            "grid_area": null,
            "grid_auto_columns": null,
            "grid_auto_flow": null,
            "grid_auto_rows": null,
            "grid_column": null,
            "grid_gap": null,
            "grid_row": null,
            "grid_template_areas": null,
            "grid_template_columns": null,
            "grid_template_rows": null,
            "height": null,
            "justify_content": null,
            "justify_items": null,
            "left": null,
            "margin": null,
            "max_height": null,
            "max_width": null,
            "min_height": null,
            "min_width": null,
            "object_fit": null,
            "object_position": null,
            "order": null,
            "overflow": null,
            "overflow_x": null,
            "overflow_y": null,
            "padding": null,
            "right": null,
            "top": null,
            "visibility": null,
            "width": null
          }
        },
        "aa2c71bda06444219c2ccddc9c291006": {
          "model_module": "@jupyter-widgets/controls",
          "model_name": "DescriptionStyleModel",
          "model_module_version": "1.5.0",
          "state": {
            "_model_module": "@jupyter-widgets/controls",
            "_model_module_version": "1.5.0",
            "_model_name": "DescriptionStyleModel",
            "_view_count": null,
            "_view_module": "@jupyter-widgets/base",
            "_view_module_version": "1.2.0",
            "_view_name": "StyleView",
            "description_width": ""
          }
        },
        "5d4612c3ec0f4e46899801472a283436": {
          "model_module": "@jupyter-widgets/base",
          "model_name": "LayoutModel",
          "model_module_version": "1.2.0",
          "state": {
            "_model_module": "@jupyter-widgets/base",
            "_model_module_version": "1.2.0",
            "_model_name": "LayoutModel",
            "_view_count": null,
            "_view_module": "@jupyter-widgets/base",
            "_view_module_version": "1.2.0",
            "_view_name": "LayoutView",
            "align_content": null,
            "align_items": null,
            "align_self": null,
            "border": null,
            "bottom": null,
            "display": null,
            "flex": "2",
            "flex_flow": null,
            "grid_area": null,
            "grid_auto_columns": null,
            "grid_auto_flow": null,
            "grid_auto_rows": null,
            "grid_column": null,
            "grid_gap": null,
            "grid_row": null,
            "grid_template_areas": null,
            "grid_template_columns": null,
            "grid_template_rows": null,
            "height": null,
            "justify_content": null,
            "justify_items": null,
            "left": null,
            "margin": null,
            "max_height": null,
            "max_width": null,
            "min_height": null,
            "min_width": null,
            "object_fit": null,
            "object_position": null,
            "order": null,
            "overflow": null,
            "overflow_x": null,
            "overflow_y": null,
            "padding": null,
            "right": null,
            "top": null,
            "visibility": null,
            "width": null
          }
        },
        "07b702da651d402c80d3a14c85f33f9e": {
          "model_module": "@jupyter-widgets/controls",
          "model_name": "ProgressStyleModel",
          "model_module_version": "1.5.0",
          "state": {
            "_model_module": "@jupyter-widgets/controls",
            "_model_module_version": "1.5.0",
            "_model_name": "ProgressStyleModel",
            "_view_count": null,
            "_view_module": "@jupyter-widgets/base",
            "_view_module_version": "1.2.0",
            "_view_name": "StyleView",
            "bar_color": null,
            "description_width": ""
          }
        },
        "6a1f9db3020b414c96303596448729f5": {
          "model_module": "@jupyter-widgets/base",
          "model_name": "LayoutModel",
          "model_module_version": "1.2.0",
          "state": {
            "_model_module": "@jupyter-widgets/base",
            "_model_module_version": "1.2.0",
            "_model_name": "LayoutModel",
            "_view_count": null,
            "_view_module": "@jupyter-widgets/base",
            "_view_module_version": "1.2.0",
            "_view_name": "LayoutView",
            "align_content": null,
            "align_items": null,
            "align_self": null,
            "border": null,
            "bottom": null,
            "display": null,
            "flex": null,
            "flex_flow": null,
            "grid_area": null,
            "grid_auto_columns": null,
            "grid_auto_flow": null,
            "grid_auto_rows": null,
            "grid_column": null,
            "grid_gap": null,
            "grid_row": null,
            "grid_template_areas": null,
            "grid_template_columns": null,
            "grid_template_rows": null,
            "height": null,
            "justify_content": null,
            "justify_items": null,
            "left": null,
            "margin": null,
            "max_height": null,
            "max_width": null,
            "min_height": null,
            "min_width": null,
            "object_fit": null,
            "object_position": null,
            "order": null,
            "overflow": null,
            "overflow_x": null,
            "overflow_y": null,
            "padding": null,
            "right": null,
            "top": null,
            "visibility": null,
            "width": null
          }
        },
        "e2e741abf26b46aa9ddd15cdc96a6704": {
          "model_module": "@jupyter-widgets/controls",
          "model_name": "DescriptionStyleModel",
          "model_module_version": "1.5.0",
          "state": {
            "_model_module": "@jupyter-widgets/controls",
            "_model_module_version": "1.5.0",
            "_model_name": "DescriptionStyleModel",
            "_view_count": null,
            "_view_module": "@jupyter-widgets/base",
            "_view_module_version": "1.2.0",
            "_view_name": "StyleView",
            "description_width": ""
          }
        },
        "2dfc97bdb4c34d5bafc53f7e39161df1": {
          "model_module": "@jupyter-widgets/controls",
          "model_name": "HBoxModel",
          "model_module_version": "1.5.0",
          "state": {
            "_dom_classes": [],
            "_model_module": "@jupyter-widgets/controls",
            "_model_module_version": "1.5.0",
            "_model_name": "HBoxModel",
            "_view_count": null,
            "_view_module": "@jupyter-widgets/controls",
            "_view_module_version": "1.5.0",
            "_view_name": "HBoxView",
            "box_style": "",
            "children": [
              "IPY_MODEL_a213341804e54236a493f048297b976e",
              "IPY_MODEL_e604e613814e482d9910155eeca13c47",
              "IPY_MODEL_64ef37880b0c44759e4f004e5c6b6242"
            ],
            "layout": "IPY_MODEL_9a2e8e665eac408ba313b86ef8907b2e"
          }
        },
        "a213341804e54236a493f048297b976e": {
          "model_module": "@jupyter-widgets/controls",
          "model_name": "HTMLModel",
          "model_module_version": "1.5.0",
          "state": {
            "_dom_classes": [],
            "_model_module": "@jupyter-widgets/controls",
            "_model_module_version": "1.5.0",
            "_model_name": "HTMLModel",
            "_view_count": null,
            "_view_module": "@jupyter-widgets/controls",
            "_view_module_version": "1.5.0",
            "_view_name": "HTMLView",
            "description": "",
            "description_tooltip": null,
            "layout": "IPY_MODEL_1efec9e7bc164b23bc64231bf3664159",
            "placeholder": "​",
            "style": "IPY_MODEL_48e4210104254ea58ca7e8a4a8a50397",
            "value": "Validation DataLoader 0: 100%"
          }
        },
        "e604e613814e482d9910155eeca13c47": {
          "model_module": "@jupyter-widgets/controls",
          "model_name": "FloatProgressModel",
          "model_module_version": "1.5.0",
          "state": {
            "_dom_classes": [],
            "_model_module": "@jupyter-widgets/controls",
            "_model_module_version": "1.5.0",
            "_model_name": "FloatProgressModel",
            "_view_count": null,
            "_view_module": "@jupyter-widgets/controls",
            "_view_module_version": "1.5.0",
            "_view_name": "ProgressView",
            "bar_style": "",
            "description": "",
            "description_tooltip": null,
            "layout": "IPY_MODEL_db0d75f9a3e04bbc89ea48e3b5bb8de1",
            "max": 59,
            "min": 0,
            "orientation": "horizontal",
            "style": "IPY_MODEL_d5f87403bb204a58a1b0e6f875f0ec81",
            "value": 59
          }
        },
        "64ef37880b0c44759e4f004e5c6b6242": {
          "model_module": "@jupyter-widgets/controls",
          "model_name": "HTMLModel",
          "model_module_version": "1.5.0",
          "state": {
            "_dom_classes": [],
            "_model_module": "@jupyter-widgets/controls",
            "_model_module_version": "1.5.0",
            "_model_name": "HTMLModel",
            "_view_count": null,
            "_view_module": "@jupyter-widgets/controls",
            "_view_module_version": "1.5.0",
            "_view_name": "HTMLView",
            "description": "",
            "description_tooltip": null,
            "layout": "IPY_MODEL_5d98f8e605a74b1099fb662b89b8c3a2",
            "placeholder": "​",
            "style": "IPY_MODEL_e532906f841342728926c0bb9b18ef38",
            "value": " 59/59 [00:10&lt;00:00,  5.90it/s]"
          }
        },
        "9a2e8e665eac408ba313b86ef8907b2e": {
          "model_module": "@jupyter-widgets/base",
          "model_name": "LayoutModel",
          "model_module_version": "1.2.0",
          "state": {
            "_model_module": "@jupyter-widgets/base",
            "_model_module_version": "1.2.0",
            "_model_name": "LayoutModel",
            "_view_count": null,
            "_view_module": "@jupyter-widgets/base",
            "_view_module_version": "1.2.0",
            "_view_name": "LayoutView",
            "align_content": null,
            "align_items": null,
            "align_self": null,
            "border": null,
            "bottom": null,
            "display": "inline-flex",
            "flex": null,
            "flex_flow": "row wrap",
            "grid_area": null,
            "grid_auto_columns": null,
            "grid_auto_flow": null,
            "grid_auto_rows": null,
            "grid_column": null,
            "grid_gap": null,
            "grid_row": null,
            "grid_template_areas": null,
            "grid_template_columns": null,
            "grid_template_rows": null,
            "height": null,
            "justify_content": null,
            "justify_items": null,
            "left": null,
            "margin": null,
            "max_height": null,
            "max_width": null,
            "min_height": null,
            "min_width": null,
            "object_fit": null,
            "object_position": null,
            "order": null,
            "overflow": null,
            "overflow_x": null,
            "overflow_y": null,
            "padding": null,
            "right": null,
            "top": null,
            "visibility": "hidden",
            "width": "100%"
          }
        },
        "1efec9e7bc164b23bc64231bf3664159": {
          "model_module": "@jupyter-widgets/base",
          "model_name": "LayoutModel",
          "model_module_version": "1.2.0",
          "state": {
            "_model_module": "@jupyter-widgets/base",
            "_model_module_version": "1.2.0",
            "_model_name": "LayoutModel",
            "_view_count": null,
            "_view_module": "@jupyter-widgets/base",
            "_view_module_version": "1.2.0",
            "_view_name": "LayoutView",
            "align_content": null,
            "align_items": null,
            "align_self": null,
            "border": null,
            "bottom": null,
            "display": null,
            "flex": null,
            "flex_flow": null,
            "grid_area": null,
            "grid_auto_columns": null,
            "grid_auto_flow": null,
            "grid_auto_rows": null,
            "grid_column": null,
            "grid_gap": null,
            "grid_row": null,
            "grid_template_areas": null,
            "grid_template_columns": null,
            "grid_template_rows": null,
            "height": null,
            "justify_content": null,
            "justify_items": null,
            "left": null,
            "margin": null,
            "max_height": null,
            "max_width": null,
            "min_height": null,
            "min_width": null,
            "object_fit": null,
            "object_position": null,
            "order": null,
            "overflow": null,
            "overflow_x": null,
            "overflow_y": null,
            "padding": null,
            "right": null,
            "top": null,
            "visibility": null,
            "width": null
          }
        },
        "48e4210104254ea58ca7e8a4a8a50397": {
          "model_module": "@jupyter-widgets/controls",
          "model_name": "DescriptionStyleModel",
          "model_module_version": "1.5.0",
          "state": {
            "_model_module": "@jupyter-widgets/controls",
            "_model_module_version": "1.5.0",
            "_model_name": "DescriptionStyleModel",
            "_view_count": null,
            "_view_module": "@jupyter-widgets/base",
            "_view_module_version": "1.2.0",
            "_view_name": "StyleView",
            "description_width": ""
          }
        },
        "db0d75f9a3e04bbc89ea48e3b5bb8de1": {
          "model_module": "@jupyter-widgets/base",
          "model_name": "LayoutModel",
          "model_module_version": "1.2.0",
          "state": {
            "_model_module": "@jupyter-widgets/base",
            "_model_module_version": "1.2.0",
            "_model_name": "LayoutModel",
            "_view_count": null,
            "_view_module": "@jupyter-widgets/base",
            "_view_module_version": "1.2.0",
            "_view_name": "LayoutView",
            "align_content": null,
            "align_items": null,
            "align_self": null,
            "border": null,
            "bottom": null,
            "display": null,
            "flex": "2",
            "flex_flow": null,
            "grid_area": null,
            "grid_auto_columns": null,
            "grid_auto_flow": null,
            "grid_auto_rows": null,
            "grid_column": null,
            "grid_gap": null,
            "grid_row": null,
            "grid_template_areas": null,
            "grid_template_columns": null,
            "grid_template_rows": null,
            "height": null,
            "justify_content": null,
            "justify_items": null,
            "left": null,
            "margin": null,
            "max_height": null,
            "max_width": null,
            "min_height": null,
            "min_width": null,
            "object_fit": null,
            "object_position": null,
            "order": null,
            "overflow": null,
            "overflow_x": null,
            "overflow_y": null,
            "padding": null,
            "right": null,
            "top": null,
            "visibility": null,
            "width": null
          }
        },
        "d5f87403bb204a58a1b0e6f875f0ec81": {
          "model_module": "@jupyter-widgets/controls",
          "model_name": "ProgressStyleModel",
          "model_module_version": "1.5.0",
          "state": {
            "_model_module": "@jupyter-widgets/controls",
            "_model_module_version": "1.5.0",
            "_model_name": "ProgressStyleModel",
            "_view_count": null,
            "_view_module": "@jupyter-widgets/base",
            "_view_module_version": "1.2.0",
            "_view_name": "StyleView",
            "bar_color": null,
            "description_width": ""
          }
        },
        "5d98f8e605a74b1099fb662b89b8c3a2": {
          "model_module": "@jupyter-widgets/base",
          "model_name": "LayoutModel",
          "model_module_version": "1.2.0",
          "state": {
            "_model_module": "@jupyter-widgets/base",
            "_model_module_version": "1.2.0",
            "_model_name": "LayoutModel",
            "_view_count": null,
            "_view_module": "@jupyter-widgets/base",
            "_view_module_version": "1.2.0",
            "_view_name": "LayoutView",
            "align_content": null,
            "align_items": null,
            "align_self": null,
            "border": null,
            "bottom": null,
            "display": null,
            "flex": null,
            "flex_flow": null,
            "grid_area": null,
            "grid_auto_columns": null,
            "grid_auto_flow": null,
            "grid_auto_rows": null,
            "grid_column": null,
            "grid_gap": null,
            "grid_row": null,
            "grid_template_areas": null,
            "grid_template_columns": null,
            "grid_template_rows": null,
            "height": null,
            "justify_content": null,
            "justify_items": null,
            "left": null,
            "margin": null,
            "max_height": null,
            "max_width": null,
            "min_height": null,
            "min_width": null,
            "object_fit": null,
            "object_position": null,
            "order": null,
            "overflow": null,
            "overflow_x": null,
            "overflow_y": null,
            "padding": null,
            "right": null,
            "top": null,
            "visibility": null,
            "width": null
          }
        },
        "e532906f841342728926c0bb9b18ef38": {
          "model_module": "@jupyter-widgets/controls",
          "model_name": "DescriptionStyleModel",
          "model_module_version": "1.5.0",
          "state": {
            "_model_module": "@jupyter-widgets/controls",
            "_model_module_version": "1.5.0",
            "_model_name": "DescriptionStyleModel",
            "_view_count": null,
            "_view_module": "@jupyter-widgets/base",
            "_view_module_version": "1.2.0",
            "_view_name": "StyleView",
            "description_width": ""
          }
        },
        "fedf2f82eb61427d9f13968f03c28183": {
          "model_module": "@jupyter-widgets/controls",
          "model_name": "HBoxModel",
          "model_module_version": "1.5.0",
          "state": {
            "_dom_classes": [],
            "_model_module": "@jupyter-widgets/controls",
            "_model_module_version": "1.5.0",
            "_model_name": "HBoxModel",
            "_view_count": null,
            "_view_module": "@jupyter-widgets/controls",
            "_view_module_version": "1.5.0",
            "_view_name": "HBoxView",
            "box_style": "",
            "children": [
              "IPY_MODEL_f22051f512b64ece88873a19a994b998",
              "IPY_MODEL_ee49d30805c642b5964863bc14f9d7eb",
              "IPY_MODEL_4777803ccd2146f28e8babf5c34e78ac"
            ],
            "layout": "IPY_MODEL_c7671012958c4abaadeffcc419489ae3"
          }
        },
        "f22051f512b64ece88873a19a994b998": {
          "model_module": "@jupyter-widgets/controls",
          "model_name": "HTMLModel",
          "model_module_version": "1.5.0",
          "state": {
            "_dom_classes": [],
            "_model_module": "@jupyter-widgets/controls",
            "_model_module_version": "1.5.0",
            "_model_name": "HTMLModel",
            "_view_count": null,
            "_view_module": "@jupyter-widgets/controls",
            "_view_module_version": "1.5.0",
            "_view_name": "HTMLView",
            "description": "",
            "description_tooltip": null,
            "layout": "IPY_MODEL_dc1e7f82dbf8451b905311a660c06869",
            "placeholder": "​",
            "style": "IPY_MODEL_b60b878afa6e452ba4b743cc5940c1e6",
            "value": "Validation DataLoader 0: 100%"
          }
        },
        "ee49d30805c642b5964863bc14f9d7eb": {
          "model_module": "@jupyter-widgets/controls",
          "model_name": "FloatProgressModel",
          "model_module_version": "1.5.0",
          "state": {
            "_dom_classes": [],
            "_model_module": "@jupyter-widgets/controls",
            "_model_module_version": "1.5.0",
            "_model_name": "FloatProgressModel",
            "_view_count": null,
            "_view_module": "@jupyter-widgets/controls",
            "_view_module_version": "1.5.0",
            "_view_name": "ProgressView",
            "bar_style": "",
            "description": "",
            "description_tooltip": null,
            "layout": "IPY_MODEL_065041ffc378473f92a8bb58ce1ca434",
            "max": 59,
            "min": 0,
            "orientation": "horizontal",
            "style": "IPY_MODEL_09b7bcdb013048e3b5034f37012676d0",
            "value": 59
          }
        },
        "4777803ccd2146f28e8babf5c34e78ac": {
          "model_module": "@jupyter-widgets/controls",
          "model_name": "HTMLModel",
          "model_module_version": "1.5.0",
          "state": {
            "_dom_classes": [],
            "_model_module": "@jupyter-widgets/controls",
            "_model_module_version": "1.5.0",
            "_model_name": "HTMLModel",
            "_view_count": null,
            "_view_module": "@jupyter-widgets/controls",
            "_view_module_version": "1.5.0",
            "_view_name": "HTMLView",
            "description": "",
            "description_tooltip": null,
            "layout": "IPY_MODEL_fcbfe1e3604b4a2485cc03a98d71914f",
            "placeholder": "​",
            "style": "IPY_MODEL_aef326974f264fa093d2a087118b37d7",
            "value": " 59/59 [00:08&lt;00:00,  7.22it/s]"
          }
        },
        "c7671012958c4abaadeffcc419489ae3": {
          "model_module": "@jupyter-widgets/base",
          "model_name": "LayoutModel",
          "model_module_version": "1.2.0",
          "state": {
            "_model_module": "@jupyter-widgets/base",
            "_model_module_version": "1.2.0",
            "_model_name": "LayoutModel",
            "_view_count": null,
            "_view_module": "@jupyter-widgets/base",
            "_view_module_version": "1.2.0",
            "_view_name": "LayoutView",
            "align_content": null,
            "align_items": null,
            "align_self": null,
            "border": null,
            "bottom": null,
            "display": "inline-flex",
            "flex": null,
            "flex_flow": "row wrap",
            "grid_area": null,
            "grid_auto_columns": null,
            "grid_auto_flow": null,
            "grid_auto_rows": null,
            "grid_column": null,
            "grid_gap": null,
            "grid_row": null,
            "grid_template_areas": null,
            "grid_template_columns": null,
            "grid_template_rows": null,
            "height": null,
            "justify_content": null,
            "justify_items": null,
            "left": null,
            "margin": null,
            "max_height": null,
            "max_width": null,
            "min_height": null,
            "min_width": null,
            "object_fit": null,
            "object_position": null,
            "order": null,
            "overflow": null,
            "overflow_x": null,
            "overflow_y": null,
            "padding": null,
            "right": null,
            "top": null,
            "visibility": "hidden",
            "width": "100%"
          }
        },
        "dc1e7f82dbf8451b905311a660c06869": {
          "model_module": "@jupyter-widgets/base",
          "model_name": "LayoutModel",
          "model_module_version": "1.2.0",
          "state": {
            "_model_module": "@jupyter-widgets/base",
            "_model_module_version": "1.2.0",
            "_model_name": "LayoutModel",
            "_view_count": null,
            "_view_module": "@jupyter-widgets/base",
            "_view_module_version": "1.2.0",
            "_view_name": "LayoutView",
            "align_content": null,
            "align_items": null,
            "align_self": null,
            "border": null,
            "bottom": null,
            "display": null,
            "flex": null,
            "flex_flow": null,
            "grid_area": null,
            "grid_auto_columns": null,
            "grid_auto_flow": null,
            "grid_auto_rows": null,
            "grid_column": null,
            "grid_gap": null,
            "grid_row": null,
            "grid_template_areas": null,
            "grid_template_columns": null,
            "grid_template_rows": null,
            "height": null,
            "justify_content": null,
            "justify_items": null,
            "left": null,
            "margin": null,
            "max_height": null,
            "max_width": null,
            "min_height": null,
            "min_width": null,
            "object_fit": null,
            "object_position": null,
            "order": null,
            "overflow": null,
            "overflow_x": null,
            "overflow_y": null,
            "padding": null,
            "right": null,
            "top": null,
            "visibility": null,
            "width": null
          }
        },
        "b60b878afa6e452ba4b743cc5940c1e6": {
          "model_module": "@jupyter-widgets/controls",
          "model_name": "DescriptionStyleModel",
          "model_module_version": "1.5.0",
          "state": {
            "_model_module": "@jupyter-widgets/controls",
            "_model_module_version": "1.5.0",
            "_model_name": "DescriptionStyleModel",
            "_view_count": null,
            "_view_module": "@jupyter-widgets/base",
            "_view_module_version": "1.2.0",
            "_view_name": "StyleView",
            "description_width": ""
          }
        },
        "065041ffc378473f92a8bb58ce1ca434": {
          "model_module": "@jupyter-widgets/base",
          "model_name": "LayoutModel",
          "model_module_version": "1.2.0",
          "state": {
            "_model_module": "@jupyter-widgets/base",
            "_model_module_version": "1.2.0",
            "_model_name": "LayoutModel",
            "_view_count": null,
            "_view_module": "@jupyter-widgets/base",
            "_view_module_version": "1.2.0",
            "_view_name": "LayoutView",
            "align_content": null,
            "align_items": null,
            "align_self": null,
            "border": null,
            "bottom": null,
            "display": null,
            "flex": "2",
            "flex_flow": null,
            "grid_area": null,
            "grid_auto_columns": null,
            "grid_auto_flow": null,
            "grid_auto_rows": null,
            "grid_column": null,
            "grid_gap": null,
            "grid_row": null,
            "grid_template_areas": null,
            "grid_template_columns": null,
            "grid_template_rows": null,
            "height": null,
            "justify_content": null,
            "justify_items": null,
            "left": null,
            "margin": null,
            "max_height": null,
            "max_width": null,
            "min_height": null,
            "min_width": null,
            "object_fit": null,
            "object_position": null,
            "order": null,
            "overflow": null,
            "overflow_x": null,
            "overflow_y": null,
            "padding": null,
            "right": null,
            "top": null,
            "visibility": null,
            "width": null
          }
        },
        "09b7bcdb013048e3b5034f37012676d0": {
          "model_module": "@jupyter-widgets/controls",
          "model_name": "ProgressStyleModel",
          "model_module_version": "1.5.0",
          "state": {
            "_model_module": "@jupyter-widgets/controls",
            "_model_module_version": "1.5.0",
            "_model_name": "ProgressStyleModel",
            "_view_count": null,
            "_view_module": "@jupyter-widgets/base",
            "_view_module_version": "1.2.0",
            "_view_name": "StyleView",
            "bar_color": null,
            "description_width": ""
          }
        },
        "fcbfe1e3604b4a2485cc03a98d71914f": {
          "model_module": "@jupyter-widgets/base",
          "model_name": "LayoutModel",
          "model_module_version": "1.2.0",
          "state": {
            "_model_module": "@jupyter-widgets/base",
            "_model_module_version": "1.2.0",
            "_model_name": "LayoutModel",
            "_view_count": null,
            "_view_module": "@jupyter-widgets/base",
            "_view_module_version": "1.2.0",
            "_view_name": "LayoutView",
            "align_content": null,
            "align_items": null,
            "align_self": null,
            "border": null,
            "bottom": null,
            "display": null,
            "flex": null,
            "flex_flow": null,
            "grid_area": null,
            "grid_auto_columns": null,
            "grid_auto_flow": null,
            "grid_auto_rows": null,
            "grid_column": null,
            "grid_gap": null,
            "grid_row": null,
            "grid_template_areas": null,
            "grid_template_columns": null,
            "grid_template_rows": null,
            "height": null,
            "justify_content": null,
            "justify_items": null,
            "left": null,
            "margin": null,
            "max_height": null,
            "max_width": null,
            "min_height": null,
            "min_width": null,
            "object_fit": null,
            "object_position": null,
            "order": null,
            "overflow": null,
            "overflow_x": null,
            "overflow_y": null,
            "padding": null,
            "right": null,
            "top": null,
            "visibility": null,
            "width": null
          }
        },
        "aef326974f264fa093d2a087118b37d7": {
          "model_module": "@jupyter-widgets/controls",
          "model_name": "DescriptionStyleModel",
          "model_module_version": "1.5.0",
          "state": {
            "_model_module": "@jupyter-widgets/controls",
            "_model_module_version": "1.5.0",
            "_model_name": "DescriptionStyleModel",
            "_view_count": null,
            "_view_module": "@jupyter-widgets/base",
            "_view_module_version": "1.2.0",
            "_view_name": "StyleView",
            "description_width": ""
          }
        },
        "77714dfddb7649929e14b1cbf928277e": {
          "model_module": "@jupyter-widgets/controls",
          "model_name": "HBoxModel",
          "model_module_version": "1.5.0",
          "state": {
            "_dom_classes": [],
            "_model_module": "@jupyter-widgets/controls",
            "_model_module_version": "1.5.0",
            "_model_name": "HBoxModel",
            "_view_count": null,
            "_view_module": "@jupyter-widgets/controls",
            "_view_module_version": "1.5.0",
            "_view_name": "HBoxView",
            "box_style": "",
            "children": [
              "IPY_MODEL_cb535a8358b64dc19cc3b3022124a597",
              "IPY_MODEL_c5afbc7e7cee407792330e4f72f7a436",
              "IPY_MODEL_0345ae7ceb1843999de82968be40d3a2"
            ],
            "layout": "IPY_MODEL_cb1666ea69bd4359a4d14a57e0df26b2"
          }
        },
        "cb535a8358b64dc19cc3b3022124a597": {
          "model_module": "@jupyter-widgets/controls",
          "model_name": "HTMLModel",
          "model_module_version": "1.5.0",
          "state": {
            "_dom_classes": [],
            "_model_module": "@jupyter-widgets/controls",
            "_model_module_version": "1.5.0",
            "_model_name": "HTMLModel",
            "_view_count": null,
            "_view_module": "@jupyter-widgets/controls",
            "_view_module_version": "1.5.0",
            "_view_name": "HTMLView",
            "description": "",
            "description_tooltip": null,
            "layout": "IPY_MODEL_84ed3f28c8224992ad47a46cfb92722d",
            "placeholder": "​",
            "style": "IPY_MODEL_6524a84caeb748c29bbbd3072c1a014b",
            "value": "Validation DataLoader 0: 100%"
          }
        },
        "c5afbc7e7cee407792330e4f72f7a436": {
          "model_module": "@jupyter-widgets/controls",
          "model_name": "FloatProgressModel",
          "model_module_version": "1.5.0",
          "state": {
            "_dom_classes": [],
            "_model_module": "@jupyter-widgets/controls",
            "_model_module_version": "1.5.0",
            "_model_name": "FloatProgressModel",
            "_view_count": null,
            "_view_module": "@jupyter-widgets/controls",
            "_view_module_version": "1.5.0",
            "_view_name": "ProgressView",
            "bar_style": "",
            "description": "",
            "description_tooltip": null,
            "layout": "IPY_MODEL_9a145238da524d44add48ca4fa8f2cbc",
            "max": 59,
            "min": 0,
            "orientation": "horizontal",
            "style": "IPY_MODEL_2eb1c42ed7654f958cb9a9d8eca628f4",
            "value": 59
          }
        },
        "0345ae7ceb1843999de82968be40d3a2": {
          "model_module": "@jupyter-widgets/controls",
          "model_name": "HTMLModel",
          "model_module_version": "1.5.0",
          "state": {
            "_dom_classes": [],
            "_model_module": "@jupyter-widgets/controls",
            "_model_module_version": "1.5.0",
            "_model_name": "HTMLModel",
            "_view_count": null,
            "_view_module": "@jupyter-widgets/controls",
            "_view_module_version": "1.5.0",
            "_view_name": "HTMLView",
            "description": "",
            "description_tooltip": null,
            "layout": "IPY_MODEL_a79ce9d89b954b97a954964136a343b1",
            "placeholder": "​",
            "style": "IPY_MODEL_6ca0900df2ad47329215e80747194f19",
            "value": " 59/59 [00:08&lt;00:00,  7.15it/s]"
          }
        },
        "cb1666ea69bd4359a4d14a57e0df26b2": {
          "model_module": "@jupyter-widgets/base",
          "model_name": "LayoutModel",
          "model_module_version": "1.2.0",
          "state": {
            "_model_module": "@jupyter-widgets/base",
            "_model_module_version": "1.2.0",
            "_model_name": "LayoutModel",
            "_view_count": null,
            "_view_module": "@jupyter-widgets/base",
            "_view_module_version": "1.2.0",
            "_view_name": "LayoutView",
            "align_content": null,
            "align_items": null,
            "align_self": null,
            "border": null,
            "bottom": null,
            "display": "inline-flex",
            "flex": null,
            "flex_flow": "row wrap",
            "grid_area": null,
            "grid_auto_columns": null,
            "grid_auto_flow": null,
            "grid_auto_rows": null,
            "grid_column": null,
            "grid_gap": null,
            "grid_row": null,
            "grid_template_areas": null,
            "grid_template_columns": null,
            "grid_template_rows": null,
            "height": null,
            "justify_content": null,
            "justify_items": null,
            "left": null,
            "margin": null,
            "max_height": null,
            "max_width": null,
            "min_height": null,
            "min_width": null,
            "object_fit": null,
            "object_position": null,
            "order": null,
            "overflow": null,
            "overflow_x": null,
            "overflow_y": null,
            "padding": null,
            "right": null,
            "top": null,
            "visibility": "hidden",
            "width": "100%"
          }
        },
        "84ed3f28c8224992ad47a46cfb92722d": {
          "model_module": "@jupyter-widgets/base",
          "model_name": "LayoutModel",
          "model_module_version": "1.2.0",
          "state": {
            "_model_module": "@jupyter-widgets/base",
            "_model_module_version": "1.2.0",
            "_model_name": "LayoutModel",
            "_view_count": null,
            "_view_module": "@jupyter-widgets/base",
            "_view_module_version": "1.2.0",
            "_view_name": "LayoutView",
            "align_content": null,
            "align_items": null,
            "align_self": null,
            "border": null,
            "bottom": null,
            "display": null,
            "flex": null,
            "flex_flow": null,
            "grid_area": null,
            "grid_auto_columns": null,
            "grid_auto_flow": null,
            "grid_auto_rows": null,
            "grid_column": null,
            "grid_gap": null,
            "grid_row": null,
            "grid_template_areas": null,
            "grid_template_columns": null,
            "grid_template_rows": null,
            "height": null,
            "justify_content": null,
            "justify_items": null,
            "left": null,
            "margin": null,
            "max_height": null,
            "max_width": null,
            "min_height": null,
            "min_width": null,
            "object_fit": null,
            "object_position": null,
            "order": null,
            "overflow": null,
            "overflow_x": null,
            "overflow_y": null,
            "padding": null,
            "right": null,
            "top": null,
            "visibility": null,
            "width": null
          }
        },
        "6524a84caeb748c29bbbd3072c1a014b": {
          "model_module": "@jupyter-widgets/controls",
          "model_name": "DescriptionStyleModel",
          "model_module_version": "1.5.0",
          "state": {
            "_model_module": "@jupyter-widgets/controls",
            "_model_module_version": "1.5.0",
            "_model_name": "DescriptionStyleModel",
            "_view_count": null,
            "_view_module": "@jupyter-widgets/base",
            "_view_module_version": "1.2.0",
            "_view_name": "StyleView",
            "description_width": ""
          }
        },
        "9a145238da524d44add48ca4fa8f2cbc": {
          "model_module": "@jupyter-widgets/base",
          "model_name": "LayoutModel",
          "model_module_version": "1.2.0",
          "state": {
            "_model_module": "@jupyter-widgets/base",
            "_model_module_version": "1.2.0",
            "_model_name": "LayoutModel",
            "_view_count": null,
            "_view_module": "@jupyter-widgets/base",
            "_view_module_version": "1.2.0",
            "_view_name": "LayoutView",
            "align_content": null,
            "align_items": null,
            "align_self": null,
            "border": null,
            "bottom": null,
            "display": null,
            "flex": "2",
            "flex_flow": null,
            "grid_area": null,
            "grid_auto_columns": null,
            "grid_auto_flow": null,
            "grid_auto_rows": null,
            "grid_column": null,
            "grid_gap": null,
            "grid_row": null,
            "grid_template_areas": null,
            "grid_template_columns": null,
            "grid_template_rows": null,
            "height": null,
            "justify_content": null,
            "justify_items": null,
            "left": null,
            "margin": null,
            "max_height": null,
            "max_width": null,
            "min_height": null,
            "min_width": null,
            "object_fit": null,
            "object_position": null,
            "order": null,
            "overflow": null,
            "overflow_x": null,
            "overflow_y": null,
            "padding": null,
            "right": null,
            "top": null,
            "visibility": null,
            "width": null
          }
        },
        "2eb1c42ed7654f958cb9a9d8eca628f4": {
          "model_module": "@jupyter-widgets/controls",
          "model_name": "ProgressStyleModel",
          "model_module_version": "1.5.0",
          "state": {
            "_model_module": "@jupyter-widgets/controls",
            "_model_module_version": "1.5.0",
            "_model_name": "ProgressStyleModel",
            "_view_count": null,
            "_view_module": "@jupyter-widgets/base",
            "_view_module_version": "1.2.0",
            "_view_name": "StyleView",
            "bar_color": null,
            "description_width": ""
          }
        },
        "a79ce9d89b954b97a954964136a343b1": {
          "model_module": "@jupyter-widgets/base",
          "model_name": "LayoutModel",
          "model_module_version": "1.2.0",
          "state": {
            "_model_module": "@jupyter-widgets/base",
            "_model_module_version": "1.2.0",
            "_model_name": "LayoutModel",
            "_view_count": null,
            "_view_module": "@jupyter-widgets/base",
            "_view_module_version": "1.2.0",
            "_view_name": "LayoutView",
            "align_content": null,
            "align_items": null,
            "align_self": null,
            "border": null,
            "bottom": null,
            "display": null,
            "flex": null,
            "flex_flow": null,
            "grid_area": null,
            "grid_auto_columns": null,
            "grid_auto_flow": null,
            "grid_auto_rows": null,
            "grid_column": null,
            "grid_gap": null,
            "grid_row": null,
            "grid_template_areas": null,
            "grid_template_columns": null,
            "grid_template_rows": null,
            "height": null,
            "justify_content": null,
            "justify_items": null,
            "left": null,
            "margin": null,
            "max_height": null,
            "max_width": null,
            "min_height": null,
            "min_width": null,
            "object_fit": null,
            "object_position": null,
            "order": null,
            "overflow": null,
            "overflow_x": null,
            "overflow_y": null,
            "padding": null,
            "right": null,
            "top": null,
            "visibility": null,
            "width": null
          }
        },
        "6ca0900df2ad47329215e80747194f19": {
          "model_module": "@jupyter-widgets/controls",
          "model_name": "DescriptionStyleModel",
          "model_module_version": "1.5.0",
          "state": {
            "_model_module": "@jupyter-widgets/controls",
            "_model_module_version": "1.5.0",
            "_model_name": "DescriptionStyleModel",
            "_view_count": null,
            "_view_module": "@jupyter-widgets/base",
            "_view_module_version": "1.2.0",
            "_view_name": "StyleView",
            "description_width": ""
          }
        }
      }
    },
    "accelerator": "GPU"
  },
  "nbformat": 4,
  "nbformat_minor": 0
}