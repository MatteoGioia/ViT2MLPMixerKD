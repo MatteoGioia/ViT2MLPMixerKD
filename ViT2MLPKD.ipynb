{
  "cells": [
    {
      "cell_type": "markdown",
      "metadata": {
        "id": "view-in-github",
        "colab_type": "text"
      },
      "source": [
        "<a href=\"https://colab.research.google.com/github/MatteoGioia/ViT2MLPMixerKD/blob/main/ViT2MLPKD.ipynb\" target=\"_parent\"><img src=\"https://colab.research.google.com/assets/colab-badge.svg\" alt=\"Open In Colab\"/></a>"
      ]
    },
    {
      "cell_type": "markdown",
      "metadata": {
        "id": "bL9gi0pu36B3"
      },
      "source": [
        "### Team info\n",
        "\n",
        "| Team member | Mail | Responsibilities |\n",
        "|---|---|---|\n",
        "|Torri Alessandro | torri.1835715@studenti.uniroma1.it | First code draft, contributed equally to the rest |\n",
        "|Gioia Matteo | gioia.1995989@studenti.uniroma1.it | First report draft, contributed equally to the rest|\n",
        "|Madeddu Francesco | madeddu.1838662@studenti.uniroma1.it | Testing on imnet64, contributed equally to the rest|\n",
        "|Lucchesi Andrea | lucchesi.1659599@studenti.uniroma1.it  | General testing, contributed equallty to the rest |\n",
        "\n",
        "Other responsibilities include testing, minor fixes to code, etc..."
      ]
    },
    {
      "cell_type": "markdown",
      "metadata": {
        "id": "dL7l7ZJI61rQ"
      },
      "source": [
        "# Knowledge distillation - report\n",
        "In this notebook, we will try to distillate the knowledge of a Vision Transformer into a MLP Mixer. \n"
      ]
    },
    {
      "cell_type": "markdown",
      "metadata": {
        "id": "dkJexCtS48p7"
      },
      "source": [
        "## Introduction \n",
        "\n",
        "Knowledge distillation is a relatively recent technique developed in order to decrease the size of deep neural networks. In practice, it revolves around transferring the \"knowledge\" of a **big teacher model** to a much **smaller student** that has the same architecture but less parameters. The teacher model thus learns to emulate the teacher, attaining close performances while being considerably simpler/smaller.<br>\n",
        "The distillation process is achieved by applying the chosen loss function over the outputs of the teacher and the outputs of the student. These can either be their **softmaxes**, in which case we refer to them as **soft labels**, or the **actual predictions**, also known as **hard labels**. Other variants of this process exist, for instance using a **weighted mix of soft/hard labels** and the actual ground truth, or **choosing the one to use randomly at each iteration**.\n",
        "\n",
        "**[Motivation of our work]** Knowledge Distillation has been so far mostly limited to homogenous models, i.e. models that have the same architecture. This should intuitively work as the bigger model, which we'll call $T$, has the ability to explore a bigger hypotesis space $H$ than the student $S$ given the greater amount of parameters. However, not all of its expressive power it's possibly needed to find an optimal function $f_{\\theta}$ w.r.t. to the loss. As such, it is possible to distillate the knowledge acquired in this \"exploration\" process into a much smaller model which can approximate $f_{\\theta}$ but that would have explored a much smaller hypotesis space if trained on its own. <br>\n",
        "This project focuses on exploring **whether it's actually possible to perform distillation between 2 different model architectures**, i.e. if it's actually possible to not only distillate the knowledge but also perform a \"translation\" from a model to another. Ideally, the closer the two architectures are the easier this process should be, however we intentionally choose two very different models to see if even in this case it is somehow possible to attain comparably good performances. \n"
      ]
    },
    {
      "cell_type": "markdown",
      "metadata": {
        "id": "CEsKrXvH48gi"
      },
      "source": [
        "## Related work\n",
        "\n",
        "The idea behind KD was first presented back in 2015 in [Distilling the Knowledge in a Neural Network](https://arxiv.org/pdf/1503.02531.pdf). For what regards KD with Vision Transformers, a model called DeiT was presented in [Training data-efficient image transformers & distillation through attention](https://arxiv.org/pdf/2012.12877v2.pdf). To the best of our knowledge, heterogenous KD has been explored in [Heterogeneous Knowledge Distillation Using Information Flow Modeling](https://openaccess.thecvf.com/content_CVPR_2020/html/Passalis_Heterogeneous_Knowledge_Distillation_Using_Information_Flow_Modeling_CVPR_2020_paper.html). However, the models explored are different from the ones we propose. A full list of references is available at https://github.com/MatteoGioia/ViT2MLPMixerKD "
      ]
    },
    {
      "cell_type": "markdown",
      "metadata": {
        "id": "-MamFNLJ48Zx"
      },
      "source": [
        "## Methodology and setup\n",
        "\n",
        "To perform distillation, we first defined the datasets that we wanted to use.\n",
        "Given the complexity of the study (heterogeneous KD) we opted for a relatively simple task: classification on **CIFAR100** and **Imagenet1k**. Eventually, we had to subsistute **Imagenet1k** for it's downscaled variant **Imagenet64**, which has the same samples of the original dataset but downscaled to $64 \\times 64$ images. <br> \n",
        "After that, we decided the models that we were going to use as teacher and student. We used a (large) Vision Transformer as the teacher, as it's a model with very good performance on both CIFAR100 and Imagenet64 (around 90% accuracy)and has a great number of parameters (around 90 millions). For what regards the student, we tested the following configurations of MLP Mixers:\n",
        "\n",
        "|Name|#Blocks|Embedding Dim|MLP ratio| #Parameters |\n",
        "|---|---|---|---|---|\n",
        "|Small student| 6 | 128 | (0.5, 4)| 0.863 mln|\n",
        "|Medium student 1 | 6 | 256 | (0.5, 4) | 3.298 mln |\n",
        "|Medium student 2 | 8 | 256 | (0.5, 4) | 4.384 mln |\n",
        "|Big student | 12 | 256 | (0.5, 4) | 6.557 mln |\n",
        "\n",
        "We conducted 4 different experiments:\n",
        "- KD between a ViT and MLP mixer on CIFAR100\n",
        "- KD between a ViT and MLP mixer on Imagenet64\n",
        "- KD between a ViT and MLP mixer using a linear embedding of the teacher labels\n",
        "- KD between a ViT and a different student (a small ResNet)\n",
        "\n",
        "Each experiment was conducted for at least 60 epochs using AdamW as the optimizer (with default parameters) with default weight decay and a CosineAnnealing learning scheduler. <br>\n",
        "For what regards knowledge distillation, we tested the following variants:\n",
        "- **soft distillation**, applying a CrossEntropyLoss on the logits of the student and the teacher;\n",
        "- **hard distillation**, applying a CrossEntropyLoss on the logits of the student and the hard label (predictions) of the teacher;\n",
        "- **weighted distillation**, computing the loss as a combination of a CrossEntropyLoss on the logits of the student and the teacher and a CrossEntropyLoss on the logits of the student and the actual ground truths;\n",
        "- **random distillation**, choosing randomly at each iteration whether to compute the loss as in a soft distillation or using the actual ground truths.\n",
        "\n",
        "Other libraries used include Pytorch Lighting, HuggingFace, Pytorch Image Models and Weights&Biases to track the experiments.\n",
        "\n"
      ]
    },
    {
      "cell_type": "markdown",
      "metadata": {
        "id": "PHLHXh2h48RK"
      },
      "source": [
        "## Experimental results (quantitative and qualitative)\n",
        "\n",
        "**[KD on CIFAR]** The first round of experiments on CIFAR100 showed average results, with most of the models performing very well on training data and reaching upwards of 80% of accuracy but not able to go over 50% on the validation and test. Putting aside possible implementation errors, we initially thought that this was due to overfitting on the relatively small amount of data and the training plots seemed to confirm our hypotesis. In fact, as the training went by the accuracy on training data continued to improve, but the accuracy on validation did not.\n",
        "\n",
        "<img src=\"https://drive.google.com/uc?id=1wnA0MLP4ycaPC_htcqZtnOwSzsr-ehjC\"\n",
        "     alt=\"label\"\n",
        "     height=400\n",
        "     width=1000\n",
        "     style=\"display: block; margin-right: auto; margin-left: auto; height: 2%;\" />\n",
        "\n",
        "\n",
        "**[KD on Imagenet64]** To verify the validity of our hypotesis, we then procedeed to test the KD process on the very same models that we believed were overfitting on CIFAR100. Ideally, the greater amount of data in Imagenet64 should have helped against overfitting. However, after extensive testing, we observed that performance on this dataset was even worse, capping around 20% of validation accuracy with the smallest student.\n",
        "\n",
        "Note that: the models on imagenet needed a lot of time to be trained, so we restarted some runs from checkpoints and we called the new run \"run_name_restart\"\n",
        "\n",
        "<img src=\"https://drive.google.com/uc?id=1rhNWeFW7XXhewHYiFhisMeH-hTidnuXR\"\n",
        "     alt=\"label\"\n",
        "     height=400\n",
        "     width=1000\n",
        "     style=\"display: block; margin-right: auto; margin-left: auto; height: 2%;\" />\n",
        "\n",
        "**[KD with linear embeddings]** With overfitting out of the picture, we investigated whether using a linear embedding of the labels would somehow help the student model in the learning process. Ideally, this small MLP network should have acted as a \"translator\" between the teacher and the student. This idea was motivated by the fact that altough the outputs of the 2 models might not be \"compatible\" due to the different architectures and might need a little extra help during training. Sadly, this did not help at all and actually tanked the performance to a mere 10% validation accuracy on CIFAR100. It would be interesting to see whether this approach could work on embedding produced at earlier stages of the teacher model.\n",
        "\n",
        "<img src=\"https://drive.google.com/uc?id=1FYaPXL0CvqZ9ZI7rC-gfRJLA_RRX5-wF\"\n",
        "     alt=\"label\"\n",
        "     height=400\n",
        "     width=1000\n",
        "     style=\"display: block; margin-right: auto; margin-left: auto; height: 2%;\" />\n",
        "\n",
        "**[KD with a different student]** To exclude the possibility that our student was actually \"unable\" to learn, we decided to try for a different student. This time, we tested a Resnet18 and a Resnet101 and we saw even worse performances than the mixer, with the ResNets heavily overfitting on the training data from the first few epochs. \n",
        "\n",
        "<img src=\"https://drive.google.com/uc?id=1bFL0kUyvubR1-Lt_49mc5VR6UBaLUEUr\"\n",
        "     alt=\"label\"\n",
        "     height=400\n",
        "     width=1000\n",
        "     style=\"display: block; margin-right: auto; margin-left: auto; height: 2%;\" />\n",
        "\n",
        "**[KD with different strategies]** We tested different kinds of distillations, but we did not notice a significant difference. However, the weighted distillation seemed to provide a slight improvement (+2% on test set accuracy), suggesting that the distillation is somehow aiding training.\n",
        "\n",
        "<img src=\"https://drive.google.com/uc?id=1crydHyvYptVjKg_2cntSfCsXQDZd2qho\"\n",
        "     alt=\"label\"\n",
        "     height=400\n",
        "     width=1000\n",
        "     style=\"display: block; margin-right: auto; margin-left: auto; height: 2%;\" />"
      ]
    },
    {
      "cell_type": "markdown",
      "metadata": {
        "id": "SlVOdKKE5PKy"
      },
      "source": [
        "## Conclusions and future work\n",
        "\n",
        "Heterogenous Knowledge Distillation proved to be not an easy task given the intristic complexity of transferring knowledge between 2 different models. However, we don't feel like saying it cannot work at all, but rather that more time and resources must be invested to come to a definitive conclusion. Thus, we provide some insights on what could be the direction of future works regarding this topic.\n",
        "\n",
        "For what regards future work, one possible idea would be to **test more extensively on bigger datasets**, namely on the full size Imagenet. As of now, testing on Imagenet64 is still hardly viable because it requires a lot of time (at least on our hardware). It would also be interesting to investigate the performance of a **teacher/student combination in which the architecture is more simila**r, e.g. 2 convolutional networks. Finally, it **could be worth  testing whether using embeddings at earlier layers** of the teacher network could produce a better performance when used to train the student."
      ]
    },
    {
      "cell_type": "markdown",
      "metadata": {
        "id": "i87LgWdD4ouZ"
      },
      "source": [
        "# Knowledge distillation - code"
      ]
    },
    {
      "cell_type": "markdown",
      "metadata": {
        "id": "ES_z2lrFzS4Q"
      },
      "source": [
        "##0. Setup"
      ]
    },
    {
      "cell_type": "markdown",
      "metadata": {
        "id": "_EvwYoj0z8Ge"
      },
      "source": [
        "### 0.1 Downloads and imports"
      ]
    },
    {
      "cell_type": "code",
      "execution_count": 1,
      "metadata": {
        "cellView": "form",
        "colab": {
          "base_uri": "https://localhost:8080/"
        },
        "id": "4Ol5yDer7LaO",
        "outputId": "c88d576a-2571-4745-f9d0-bb4bcee2ace2"
      },
      "outputs": [
        {
          "output_type": "stream",
          "name": "stdout",
          "text": [
            "\u001b[K     |████████████████████████████████| 5.8 MB 38.9 MB/s \n",
            "\u001b[K     |████████████████████████████████| 452 kB 68.9 MB/s \n",
            "\u001b[K     |████████████████████████████████| 800 kB 69.6 MB/s \n",
            "\u001b[K     |████████████████████████████████| 7.6 MB 67.6 MB/s \n",
            "\u001b[K     |████████████████████████████████| 182 kB 73.6 MB/s \n",
            "\u001b[K     |████████████████████████████████| 125 kB 79.0 MB/s \n",
            "\u001b[K     |████████████████████████████████| 512 kB 75.8 MB/s \n",
            "\u001b[K     |████████████████████████████████| 212 kB 80.2 MB/s \n",
            "\u001b[K     |████████████████████████████████| 132 kB 68.5 MB/s \n",
            "\u001b[K     |████████████████████████████████| 127 kB 59.6 MB/s \n",
            "\u001b[K     |████████████████████████████████| 1.9 MB 39.3 MB/s \n",
            "\u001b[K     |████████████████████████████████| 174 kB 57.3 MB/s \n",
            "\u001b[K     |████████████████████████████████| 182 kB 81.4 MB/s \n",
            "\u001b[K     |████████████████████████████████| 62 kB 1.5 MB/s \n",
            "\u001b[K     |████████████████████████████████| 173 kB 82.3 MB/s \n",
            "\u001b[K     |████████████████████████████████| 168 kB 80.5 MB/s \n",
            "\u001b[K     |████████████████████████████████| 168 kB 85.2 MB/s \n",
            "\u001b[K     |████████████████████████████████| 166 kB 84.7 MB/s \n",
            "\u001b[K     |████████████████████████████████| 166 kB 62.5 MB/s \n",
            "\u001b[K     |████████████████████████████████| 162 kB 87.2 MB/s \n",
            "\u001b[K     |████████████████████████████████| 162 kB 76.2 MB/s \n",
            "\u001b[K     |████████████████████████████████| 158 kB 89.7 MB/s \n",
            "\u001b[K     |████████████████████████████████| 157 kB 88.7 MB/s \n",
            "\u001b[K     |████████████████████████████████| 157 kB 78.7 MB/s \n",
            "\u001b[K     |████████████████████████████████| 157 kB 88.2 MB/s \n",
            "\u001b[K     |████████████████████████████████| 157 kB 84.3 MB/s \n",
            "\u001b[K     |████████████████████████████████| 157 kB 89.4 MB/s \n",
            "\u001b[K     |████████████████████████████████| 157 kB 90.5 MB/s \n",
            "\u001b[K     |████████████████████████████████| 157 kB 90.6 MB/s \n",
            "\u001b[K     |████████████████████████████████| 156 kB 89.5 MB/s \n",
            "\u001b[?25h  Building wheel for pathtools (setup.py) ... \u001b[?25l\u001b[?25hdone\n",
            "\u001b[K     |████████████████████████████████| 41 kB 445 kB/s \n",
            "\u001b[K     |████████████████████████████████| 549 kB 37.9 MB/s \n",
            "\u001b[?25h"
          ]
        }
      ],
      "source": [
        "#@title Downloads\n",
        "!pip install -q transformers datasets[vision] pytorch-lightning\n",
        "!pip install -q wandb\n",
        "!pip install -q einops\n",
        "!pip install -q timm"
      ]
    },
    {
      "cell_type": "code",
      "execution_count": 2,
      "metadata": {
        "cellView": "form",
        "colab": {
          "base_uri": "https://localhost:8080/"
        },
        "id": "WumRkwLd7SKG",
        "outputId": "77f20a97-f6fd-4138-8e95-31c9a2c1889b"
      },
      "outputs": [
        {
          "output_type": "stream",
          "name": "stderr",
          "text": [
            "INFO:lightning_lite.utilities.seed:Global seed set to 42\n"
          ]
        },
        {
          "output_type": "stream",
          "name": "stdout",
          "text": [
            "You are going to train the distillation on cuda\n"
          ]
        }
      ],
      "source": [
        "#@title Imports\n",
        "\n",
        "# general imports\n",
        "from google.colab import drive\n",
        "from typing import *\n",
        "import os\n",
        "import random\n",
        "from pathlib import Path\n",
        "import matplotlib.pyplot as plt\n",
        "from tqdm import tqdm\n",
        "from PIL import Image\n",
        "import wandb\n",
        "\n",
        "# pytorch imports\n",
        "import torchvision\n",
        "import pytorch_lightning as pl\n",
        "from pytorch_lightning import callbacks\n",
        "import transformers\n",
        "import torch\n",
        "\n",
        "import numpy as np\n",
        "import einops\n",
        "import torch.nn as nn\n",
        "import torch.nn.functional as F\n",
        "\n",
        "#mlp mixer import\n",
        "import timm\n",
        "\n",
        "seed : int = 42\n",
        "device : str = \"cuda\" if torch.cuda.is_available() else \"cpu\"\n",
        "pl.seed_everything(seed)\n",
        "print(f\"You are going to train the distillation on {device}\")"
      ]
    },
    {
      "cell_type": "code",
      "execution_count": 3,
      "metadata": {
        "cellView": "form",
        "colab": {
          "base_uri": "https://localhost:8080/"
        },
        "id": "GrSlopjiUeLp",
        "outputId": "6a1d01b7-35fa-44c0-a3e5-b38e150dc368"
      },
      "outputs": [
        {
          "output_type": "stream",
          "name": "stdout",
          "text": [
            "Mounted at /content/drive\n",
            "/content/drive/MyDrive\n",
            "/content/drive/MyDrive/ViT2MLP\n"
          ]
        }
      ],
      "source": [
        "#@title Move to the project folder (GDrive)\n",
        "#This creates the folder if it does not already exist\n",
        "drive.mount('/content/drive', force_remount=True)\n",
        "\n",
        "%cd /content/drive/MyDrive\n",
        "\n",
        "if not os.path.exists(\"ViT2MLP\"):\n",
        "  os.mkdir(\"ViT2MLP\")\n",
        "\n",
        "%cd ViT2MLP"
      ]
    },
    {
      "cell_type": "code",
      "execution_count": null,
      "metadata": {
        "id": "m7LPJLqcTDwa"
      },
      "outputs": [],
      "source": [
        "#@title Download imagenet64\n",
        "#Warning: the total size (zip + untarred file) is 20 gb!\n",
        "\n",
        "#!wget https://pjreddie.com/media/files/imagenet64.tar \n",
        "#!tar -xvf imagenet64.tar\n",
        "#!rm -rf imagenet64.tar\n",
        "\n",
        "def get_imagenet64_data():\n",
        "  # Data augmentation transformations. Not for Testing!\n",
        "  transform_train = torchvision.transforms.Compose([\n",
        "    torchvision.transforms.Resize(64), # Takes images smaller than 64 and enlarges them\n",
        "    torchvision.transforms.RandomCrop(64, padding=4, padding_mode='edge'), # Take 64x64 crops from 72x72 padded images\n",
        "    torchvision.transforms.RandomHorizontalFlip(),    # 50% of time flip image along y-axis\n",
        "    torchvision.transforms.ToTensor(),\n",
        "  ])\n",
        "\n",
        "  transform_test = torchvision.transforms.Compose([\n",
        "    torchvision.transforms.ToTensor(),\n",
        "  ])\n",
        "\n",
        "  trainset = torchvision.datasets.ImageFolder(root='./imagenet64/train/', transform=transform_train)\n",
        "  testset = torchvision.datasets.ImageFolder(root='./imagenet64/val/', transform=transform_test)\n",
        "\n",
        "  return trainset, testset\n",
        "\n",
        "imnet64_train, imnet64_test = get_imagenet64_data()"
      ]
    },
    {
      "cell_type": "code",
      "execution_count": 4,
      "metadata": {
        "cellView": "form",
        "colab": {
          "base_uri": "https://localhost:8080/"
        },
        "id": "_yAlyRDW8fwM",
        "outputId": "f4cab9c3-cee6-4056-fd82-67f1e49cd9ba"
      },
      "outputs": [
        {
          "output_type": "stream",
          "name": "stdout",
          "text": [
            "Files already downloaded and verified\n",
            "Files already downloaded and verified\n"
          ]
        }
      ],
      "source": [
        "#@title Download cifar100\n",
        "cifar100_train = torchvision.datasets.CIFAR100(root = \".\",\n",
        "                                               train = True,\n",
        "                                               download = True,\n",
        "                                               transform=torchvision.transforms.functional.pil_to_tensor)\n",
        "cifar100_test = torchvision.datasets.CIFAR100(root = \".\",\n",
        "                                               train = False,\n",
        "                                               download = True,\n",
        "                                               transform=torchvision.transforms.functional.pil_to_tensor)"
      ]
    },
    {
      "cell_type": "markdown",
      "metadata": {
        "id": "TqXSkG6p0C5A"
      },
      "source": [
        "###0.2 Utility functions"
      ]
    },
    {
      "cell_type": "code",
      "execution_count": 5,
      "metadata": {
        "cellView": "form",
        "id": "MLtary4p_Z_B"
      },
      "outputs": [],
      "source": [
        "#@title Visualization function\n",
        "def visualize(datapoint : int, dataset : torchvision.datasets):\n",
        "    image, label = dataset[datapoint]\n",
        "    plt.title(f\"Ground truth: {dataset.classes[label]}\")\n",
        "    plt.imshow(torchvision.transforms.functional.to_pil_image(image))"
      ]
    },
    {
      "cell_type": "code",
      "execution_count": 6,
      "metadata": {
        "cellView": "form",
        "id": "qW2bXu6dAYls"
      },
      "outputs": [],
      "source": [
        "#@title Function to output a prediction of the teacher\n",
        "def predict(image : torch.Tensor,\n",
        "            model : nn.Module,\n",
        "            feature_extractor : Any = None) -> str:\n",
        "    with torch.no_grad():\n",
        "        if feature_extractor is None:\n",
        "            logits = model(image)\n",
        "        else:\n",
        "            inputs : torch.Tensor = feature_extractor(image, return_tensors=\"pt\").to(device)\n",
        "            logits = model(**inputs).logits\n",
        "      \n",
        "    # model predicts one of the classes\n",
        "    predicted_label : int = logits.argmax(-1).item()\n",
        "   \n",
        "    return predicted_label\n"
      ]
    },
    {
      "cell_type": "code",
      "execution_count": 7,
      "metadata": {
        "cellView": "form",
        "id": "MKxP7OVI5pTb"
      },
      "outputs": [],
      "source": [
        "#@title Count the parameters of a model\n",
        "def count_params(model : nn.Module) -> int:\n",
        "    parameters = filter(lambda p: p.requires_grad, model.parameters())\n",
        "    param_num = sum([np.prod(p.size()) for p in parameters]) / 1_000_000\n",
        "    return param_num"
      ]
    },
    {
      "cell_type": "markdown",
      "metadata": {
        "id": "AjYPKIo8zW_7"
      },
      "source": [
        "##1. Code for the models"
      ]
    },
    {
      "cell_type": "markdown",
      "metadata": {
        "id": "GtgQ0OHG21PO"
      },
      "source": [
        "###1.1 Pre-trained teacher (ViT)\n",
        "Load ViT finetuned on Imagenet1k or CIFAR100. To load the non fine-tuned version use **\"google/vit-base-patch16-224-im21k\"**"
      ]
    },
    {
      "cell_type": "markdown",
      "metadata": {
        "id": "AcazhnqFv0Lx"
      },
      "source": [
        "References:\n",
        "- [main transformer docs](https:huggingface.co/docs/transformers/index) \n",
        "- [ViT Docs](https://huggingface.co/docs/transformers/model_doc/vit)\n",
        "- [lighting finetuning example](https://github.com/NielsRogge/Transformers-Tutorials/tree/master/VisionTransformer)"
      ]
    },
    {
      "cell_type": "code",
      "execution_count": null,
      "metadata": {
        "cellView": "form",
        "colab": {
          "base_uri": "https://localhost:8080/",
          "referenced_widgets": [
            "5b133d38fdc244adaae2aa780467acbe",
            "2e03333546194f0fa9a38d9c3ea12bf8",
            "b759dd3c3b784fbc87398976d641c97a"
          ]
        },
        "id": "WsSKp30aAMah",
        "outputId": "c9556d6a-8c37-402a-b851-2d2790b598c3"
      },
      "outputs": [
        {
          "data": {
            "application/vnd.jupyter.widget-view+json": {
              "model_id": "5b133d38fdc244adaae2aa780467acbe",
              "version_major": 2,
              "version_minor": 0
            },
            "text/plain": [
              "Downloading:   0%|          | 0.00/265 [00:00<?, ?B/s]"
            ]
          },
          "metadata": {},
          "output_type": "display_data"
        },
        {
          "data": {
            "application/vnd.jupyter.widget-view+json": {
              "model_id": "2e03333546194f0fa9a38d9c3ea12bf8",
              "version_major": 2,
              "version_minor": 0
            },
            "text/plain": [
              "Downloading:   0%|          | 0.00/68.0k [00:00<?, ?B/s]"
            ]
          },
          "metadata": {},
          "output_type": "display_data"
        },
        {
          "data": {
            "application/vnd.jupyter.widget-view+json": {
              "model_id": "b759dd3c3b784fbc87398976d641c97a",
              "version_major": 2,
              "version_minor": 0
            },
            "text/plain": [
              "Downloading:   0%|          | 0.00/755M [00:00<?, ?B/s]"
            ]
          },
          "metadata": {},
          "output_type": "display_data"
        },
        {
          "name": "stdout",
          "output_type": "stream",
          "text": [
            "Trainable Parameters: 197.767M\n"
          ]
        }
      ],
      "source": [
        "#@title Load the model\n",
        "cifar100_vit = \"Ahmed9275/Vit-Cifar100\"\n",
        "imagenet1k_vit = \"google/vit-base-patch16-224\"\n",
        "tuned_on : str = \"imagenet1k\" #@param['cifar100', 'imagenet1k']\n",
        "if tuned_on == \"cifar100\":\n",
        "    model_str = cifar100_vit\n",
        "else:\n",
        "    model_str = imagenet1k_vit\n",
        "\n",
        "\n",
        "feature_extractor = transformers.ViTFeatureExtractor.from_pretrained(model_str) \n",
        "\n",
        "teacher = transformers.ViTForImageClassification.from_pretrained(model_str).to(device)\n",
        "print('Trainable Parameters: %.3fM' % count_params(teacher))"
      ]
    },
    {
      "cell_type": "code",
      "execution_count": null,
      "metadata": {
        "colab": {
          "base_uri": "https://localhost:8080/",
          "height": 299
        },
        "id": "RBCle0TPyy2b",
        "outputId": "1181bc7e-5b3c-45f8-8ccd-38b9099bfa78"
      },
      "outputs": [
        {
          "name": "stdout",
          "output_type": "stream",
          "text": [
            "0\n",
            "Predicted: tench, Tinca tinca\n"
          ]
        },
        {
          "data": {
            "image/png": "[encoded data removed]",
            "text/plain": [
              "<Figure size 432x288 with 1 Axes>"
            ]
          },
          "metadata": {},
          "output_type": "display_data"
        }
      ],
      "source": [
        "#@title Qualitative comparison with ground truth {run : \"auto\"}\n",
        "datapoint_number : int = 1 #@param{type:\"integer\"}\n",
        "\n",
        "dataset = cifar100_test if tuned_on == \"cifar100\" else imnet64_test\n",
        "try:\n",
        "    visualize(datapoint_number, dataset)\n",
        "    label : int = predict(dataset[datapoint_number][0], teacher, feature_extractor)\n",
        "    prediction : str = teacher.config.id2label[label]\n",
        "    print(f\"Predicted: {prediction}\")\n",
        "except IndexError:\n",
        "    print(f\"The dataset max index is {len(dataset)-1}\")\n"
      ]
    },
    {
      "cell_type": "code",
      "execution_count": null,
      "metadata": {
        "cellView": "form",
        "id": "jCqhJyWDHUgL"
      },
      "outputs": [],
      "source": [
        "#@title Quantitative result: Accuracy\n",
        "'''\n",
        "Warning: this cell takes 15min to be executed (on GPU).\n",
        "'''\n",
        "\n",
        "#correct = 0\n",
        "#for i in tqdm(range(len(dataset))):\n",
        "#    pr_label = predict(dataset[i][0], teacher, feature_extractor)\n",
        "#    gt_label = dataset[i][1]\n",
        "#    if pr_label == gt_label:\n",
        "#        correct += 1\n",
        "#accuracy = round(correct*100 / len(dataset),2)\n",
        "#print(f\"The accuracy of the model for the dataset {tuned_on} is: {accuracy}%\")\n",
        "\n",
        "##### TODO remove (?) ####"
      ]
    },
    {
      "cell_type": "markdown",
      "metadata": {
        "id": "bJMoPrC43XI0"
      },
      "source": [
        "###1.2.0 Generic student"
      ]
    },
    {
      "cell_type": "code",
      "execution_count": 8,
      "metadata": {
        "id": "b-4wQr5z3bTM"
      },
      "outputs": [],
      "source": [
        "class GenericStudent(pl.LightningModule):\n",
        "    def __init__(self,\n",
        "                 learning_rate : float = 0.001,\n",
        "                 distillating : str = None,\n",
        "                 distillation_prob : float = None):\n",
        "        super().__init__()\n",
        "        assert(distillation_prob is None or distillating != \"random\")\n",
        "\n",
        "        self.lr = learning_rate\n",
        "        self.distillating = distillating\n",
        "        self.distillation_prob = distillation_prob\n",
        "\n",
        "        self.loss_fn = nn.CrossEntropyLoss()\n",
        "\n",
        "        ## logging attributes\n",
        "        self.loss = { \"train\" : 0, \"val\" : 0, \"test\" : 0 }\n",
        "        self.accuracy = { \"train\" : 0, \"val\" : 0, \"test\" : 0 }\n",
        "        self.tot = { \"train\" : 0, \"val\" : 0, \"test\" : 0 }\n",
        "        self.first_test = True\n",
        "\n",
        "        super().save_hyperparameters()\n",
        "    \n",
        "    def step(self, batch : torch.Tensor ,step_type : str) -> torch.Tensor:\n",
        "        # get ground truth and data\n",
        "        if step_type == \"test\":\n",
        "            data, labels = batch\n",
        "            gt : torch.Tensor = labels\n",
        "        else:\n",
        "            data, labels, teacher_labels = batch\n",
        "            if self.distillating is None:\n",
        "                gt : torch.Tensor = labels\n",
        "            else:\n",
        "                teacher_labels = torch.nn.functional.softmax(teacher_labels, dim = -1)\n",
        "                if self.distillating == \"soft\":\n",
        "                    gt : torch.Tensor = teacher_labels\n",
        "                elif self.distillating == \"hard\":\n",
        "                    gt : torch.Tensor = teacher_labels.argmax(dim = -1)\n",
        "                elif self.distillating == \"random\":\n",
        "                    r : float = random.random()\n",
        "                    if r <= self.distillation_prob:\n",
        "                        gt : torch.Tensor = teacher_labels\n",
        "                    else:\n",
        "                        gt : torch.Tensor = labels\n",
        "                elif self.distillating == \"weighted\":\n",
        "                    gt = labels\n",
        "                    gt_t : torch.Tensor = teacher_labels\n",
        "        \n",
        "        batch_size : int = labels.shape[0]\n",
        "\n",
        "        # compute predictions\n",
        "        logits = self(data.float())\n",
        "        if self.distillating == \"weighted\" and step_type != \"test\":\n",
        "          loss = 0.3 * self.loss_fn(logits,gt) + 0.7 * self.loss_fn(logits,gt_t)\n",
        "        else:\n",
        "          loss = self.loss_fn(logits,gt)\n",
        "        predictions = logits.argmax(dim = -1)\n",
        "\n",
        "        # update logging variables\n",
        "        self.loss[step_type] += loss.item()\n",
        "        self.accuracy[step_type]  += (predictions == labels).sum().item()\n",
        "        self.tot[step_type]  += batch_size\n",
        "\n",
        "        return loss\n",
        "\n",
        "    def training_step(self, batch : torch.Tensor ,batch_idx : int):\n",
        "        return self.step(batch,\"train\")\n",
        "    \n",
        "    def validation_step(self,batch,batch_idx):\n",
        "        return self.step(batch,\"val\")\n",
        "    \n",
        "    def test_step(self,batch,batch_idx):\n",
        "        return self.step(batch,\"test\")\n",
        "    \n",
        "    def epoch_end(self, step_type : str, num_outputs : int) -> None:\n",
        "        # compute loss\n",
        "        avg_loss = self.loss[step_type] / num_outputs\n",
        "        self.loss[step_type] = 0\n",
        "        # compute accuracy\n",
        "        accuracy = self.accuracy[step_type] / self.tot[step_type]\n",
        "        self.accuracy[step_type] = 0\n",
        "        self.tot[step_type] = 0\n",
        "        # log\n",
        "        self.log(\"epoch\", float(self.current_epoch))\n",
        "        if step_type != \"test\":\n",
        "            self.log(f\"{step_type}_loss\",avg_loss)\n",
        "            self.log(f\"{step_type}_accuracy\",accuracy)\n",
        "        elif self.first_test:\n",
        "          self.log(\"test_loss_before\",avg_loss)\n",
        "          self.log(\"test_accuracy_before\",accuracy)\n",
        "          self.first_test = False\n",
        "        else:\n",
        "          self.log(\"test_loss_after\",avg_loss)\n",
        "          self.log(\"test_accuracy_after\",accuracy)\n",
        "    \n",
        "    def training_epoch_end(self, outputs) -> None:\n",
        "        self.epoch_end(\"train\",len(outputs))\n",
        "    \n",
        "    def validation_epoch_end(self, outputs) -> None:\n",
        "        self.epoch_end(\"val\",len(outputs))\n",
        "    \n",
        "    def test_epoch_end(self, outputs) -> None:\n",
        "        self.epoch_end(\"test\",len(outputs))\n",
        "\n",
        "    def configure_optimizers(self) -> torch.optim:\n",
        "        return torch.optim.AdamW(self.parameters(), lr = self.lr)    "
      ]
    },
    {
      "cell_type": "markdown",
      "metadata": {
        "id": "0m4IdUu7-7QI"
      },
      "source": [
        "###1.2.1 Student (MLP mixer)\n",
        "The code for the MLP mixer was taken from this repository: [image_models](https://github.com/rwightman/pytorch-image-models).\n",
        "\n",
        "Credit: [Ross Wightman](https://github.com/rwightman) "
      ]
    },
    {
      "cell_type": "code",
      "execution_count": 9,
      "metadata": {
        "id": "PM3JwgZGERRH"
      },
      "outputs": [],
      "source": [
        "#@title [Timm](https://huggingface.co/docs/timm/index) implementation\n",
        "class LitMixer(GenericStudent):\n",
        "    def __init__(self,\n",
        "                 num_classes : int,\n",
        "                 img_size : int,\n",
        "                 patch_size : int,\n",
        "                 num_blocks : int,\n",
        "                 embed_dim : int,\n",
        "                 in_chans : int = 3,\n",
        "                 drop_rate : float = 0.0,\n",
        "                 drop_path_rate : float = 0.0,\n",
        "                 learning_rate : float = 0.001,\n",
        "                 act_layer : Callable = nn.GELU,\n",
        "                 distillating : str = None,\n",
        "                 distillation_prob : float = None):\n",
        "        super().__init__(learning_rate,distillating,distillation_prob)\n",
        "        assert(distillation_prob is None or distillating != \"random\")\n",
        "\n",
        "        self.mixer = timm.models.mlp_mixer.MlpMixer(num_classes = num_classes,\n",
        "                     img_size = img_size,\n",
        "                     in_chans = in_chans,\n",
        "                     patch_size = patch_size,\n",
        "                     num_blocks = num_blocks,\n",
        "                     act_layer = act_layer,\n",
        "                     drop_rate = drop_rate,\n",
        "                     drop_path_rate = drop_path_rate,\n",
        "                     embed_dim = embed_dim)\n",
        "\n",
        "        self.lr = learning_rate\n",
        "        self.distillating = distillating\n",
        "        self.distillation_prob = distillation_prob\n",
        "\n",
        "        self.loss_fn = nn.CrossEntropyLoss()\n",
        "\n",
        "        ## logging attributes\n",
        "        self.loss = { \"train\" : 0, \"val\" : 0, \"test\" : 0 }\n",
        "        self.accuracy = { \"train\" : 0, \"val\" : 0, \"test\" : 0 }\n",
        "        self.tot = { \"train\" : 0, \"val\" : 0, \"test\" : 0 }\n",
        "        self.first_test = True\n",
        "\n",
        "        super().save_hyperparameters()\n",
        "    \n",
        "    def forward(self, batch : torch.Tensor) -> torch.Tensor:\n",
        "        return self.mixer(batch)"
      ]
    },
    {
      "cell_type": "code",
      "execution_count": null,
      "metadata": {
        "cellView": "form",
        "colab": {
          "base_uri": "https://localhost:8080/"
        },
        "id": "4BA56dIAGl8L",
        "outputId": "c7df9ad2-fcb2-40d9-f7c1-9ab9be07dd51"
      },
      "outputs": [
        {
          "name": "stdout",
          "output_type": "stream",
          "text": [
            "Trainable Parameters: 0.863M\n"
          ]
        }
      ],
      "source": [
        "#@title Student instantiation\n",
        "trained_on : str = \"cifar100\" #@param[\"cifar100\",\"imagenet\"]\n",
        "patch_size : int = 4 #@param{type: \"integer\"}\n",
        "num_blocks : int = 6 #@param{type: \"integer\"}\n",
        "embed_dim  : int = 128 #@param{type: \"integer\"}\n",
        "drop_rate : float = 0.24 #@param{type:\"number\"}\n",
        "drop_path_rate : float = 0.25 #@param{type:\"number\"}\n",
        "learning_rate : float = 0.0025 #@param{type:\"number\"}\n",
        "distillating : str = \"weighted\" #@param[\"soft\",\"hard\",\"random\",\"weighted\",\"no\"]\n",
        "distillation_prob : float = 0. #@param{type:\"number\"}\n",
        "if trained_on == \"cifar100\":\n",
        "    num_classes = 100\n",
        "    img_size = 32\n",
        "else:\n",
        "    num_classes = 1000\n",
        "    img_size = 64 \n",
        "student = LitMixer(num_classes = num_classes, \n",
        "                   img_size = img_size,\n",
        "                   patch_size = patch_size,\n",
        "                   num_blocks = num_blocks,\n",
        "                   embed_dim = embed_dim,\n",
        "                   drop_rate = drop_rate,\n",
        "                   drop_path_rate = drop_path_rate,\n",
        "                   learning_rate = learning_rate,\n",
        "                   distillating = distillating if distillating != \"no\" else None,\n",
        "                   distillation_prob = distillation_prob if distillating == \"random\" else None,\n",
        "                   )\n",
        "print('Trainable Parameters: %.3fM' % count_params(student))"
      ]
    },
    {
      "cell_type": "markdown",
      "metadata": {
        "id": "p8poIsrY146e"
      },
      "source": [
        "###1.2.2. Resnet student"
      ]
    },
    {
      "cell_type": "code",
      "execution_count": null,
      "metadata": {
        "id": "EjsDWo6Y135K"
      },
      "outputs": [],
      "source": [
        "class ResnetStudent(GenericStudent):\n",
        "    def __init__(self,\n",
        "                 num_classes : int,\n",
        "                 drop_rate : float,\n",
        "                 resnet_num : int,\n",
        "                 learning_rate : float = 0.001,\n",
        "                 distillating : str = None,\n",
        "                 distillation_prob : float = None,\n",
        "                 pretrained : bool = False) -> None:\n",
        "        super().__init__(learning_rate,distillating,distillation_prob)\n",
        "        self.resnet = torch.hub.load('pytorch/vision:v0.10.0', f'resnet{resnet_num}', pretrained=pretrained)\n",
        "        self.dropout = torch.nn.Dropout(p = drop_rate)\n",
        "        self.linear = torch.nn.Linear(1000, num_classes)\n",
        "\n",
        "        super().save_hyperparameters()\n",
        "    \n",
        "    def forward(self, batch: torch.Tensor) -> torch.Tensor:\n",
        "        return self.linear(self.dropout(self.resnet(batch)))"
      ]
    },
    {
      "cell_type": "code",
      "execution_count": null,
      "metadata": {
        "colab": {
          "base_uri": "https://localhost:8080/"
        },
        "id": "LgbMcpP-7rnN",
        "outputId": "007db6f7-9857-4e8b-f4ac-00f80004868f"
      },
      "outputs": [
        {
          "name": "stderr",
          "output_type": "stream",
          "text": [
            "Using cache found in /root/.cache/torch/hub/pytorch_vision_v0.10.0\n"
          ]
        },
        {
          "name": "stdout",
          "output_type": "stream",
          "text": [
            "Trainable Parameters: 21.898M\n"
          ]
        }
      ],
      "source": [
        "#@title Resnet instantiation\n",
        "trained_on : str = \"cifar100\" #@param[\"cifar100\", \"imagenet\"]\n",
        "num_classes = 100 if trained_on == \"cifar100\" else 1000\n",
        "drop_rate : float = 0 #@param{type:\"number\"}\n",
        "resnet_num : int = \"34\" #@param[18,34,50,101,152]\n",
        "learning_rate : float = 0.001 #@param{type:\"number\"}\n",
        "distillating : str = \"weighted\" #@param[\"soft\",\"hard\",\"random\",\"weighted\",\"no\"]\n",
        "distillation_prob : float = 0. #@param{type:\"number\"}\n",
        "pretrained : bool = False #@param{type:\"boolean\"}\n",
        "\n",
        "student = ResnetStudent(num_classes = num_classes,\n",
        "                        drop_rate = drop_rate,\n",
        "                        resnet_num = resnet_num,\n",
        "                        learning_rate = learning_rate,\n",
        "                        distillating = distillating,\n",
        "                        distillation_prob = distillation_prob,\n",
        "                        pretrained = pretrained)\n",
        "print('Trainable Parameters: %.3fM' % count_params(student))"
      ]
    },
    {
      "cell_type": "markdown",
      "metadata": {
        "id": "xzwRW42KdMsj"
      },
      "source": [
        "##2. Distillation"
      ]
    },
    {
      "cell_type": "markdown",
      "metadata": {
        "id": "Td1p_uw8x7Pi"
      },
      "source": [
        "###2.1 Computing labels\n"
      ]
    },
    {
      "cell_type": "markdown",
      "metadata": {
        "id": "QryLx7P6dckq"
      },
      "source": [
        "First of all we want to compute once and for all the teacher scores of the images:"
      ]
    },
    {
      "cell_type": "code",
      "execution_count": null,
      "metadata": {
        "id": "oS1uIiojdb3D"
      },
      "outputs": [],
      "source": [
        "def compute_scores(dataset : torch.utils.data.Dataset,\n",
        "                   teacher : torch.nn.Module, \n",
        "                   teacher_extractor : Any, # a feature extractor\n",
        "                   num_classes : int) -> torch.Tensor:\n",
        "    teacher_label = torch.zeros(len(dataset), num_classes)\n",
        "    for i,(image,_) in tqdm(enumerate(dataset)):\n",
        "        features = teacher_extractor(image,return_tensors=\"pt\").to(device)\n",
        "        with torch.no_grad():\n",
        "            label = teacher(**features).logits\n",
        "        teacher_label[i,:] = label\n",
        "    return teacher_label"
      ]
    },
    {
      "cell_type": "markdown",
      "metadata": {
        "id": "jOcxWqXqzGXK"
      },
      "source": [
        "###2.2 Creating custom datasets"
      ]
    },
    {
      "cell_type": "code",
      "execution_count": 12,
      "metadata": {
        "cellView": "form",
        "id": "dpwMnJ1j6ODN"
      },
      "outputs": [],
      "source": [
        "#@title Distillation dataset\n",
        "class DistillDataset(torch.utils.data.Dataset):\n",
        "    '''\n",
        "    A dataset for the distillation training.\n",
        "    This dataset wraps the original dataset toghether with the teacher ground truth.\n",
        "    '''\n",
        "    def __init__(self, \n",
        "                 original_dataset : torch.utils.data.Dataset,\n",
        "                 teacher_label_path : Path = None,\n",
        "                 teacher_model : torch.nn.Module = None,\n",
        "                 teacher_extractor : Any = None,\n",
        "                 save : bool = True, \n",
        "                 dataset_name : str = \"cifar100\"\n",
        "                 ):\n",
        "        assert(teacher_label_path is not None or teacher_model is not None)\n",
        "        super().__init__()\n",
        "        file_name = 'cifar100.pt' if dataset_name == \"cifar100\" else \"imnet64.pt\"\n",
        "        self.dataset = original_dataset\n",
        "        \n",
        "        num_classes = len(self.dataset.classes) if dataset_name == \"cifar100\" else 1000\n",
        "        \n",
        "        if not os.path.exists(teacher_label_path):\n",
        "          os.makedirs(teacher_label_path)\n",
        "          self.teacher_label = compute_scores(self.dataset, \n",
        "                                                teacher_model,\n",
        "                                                teacher_extractor,\n",
        "                                                num_classes\n",
        "                                                )\n",
        "          \n",
        "          if save:\n",
        "                with open(os.path.join(teacher_label_path , file_name), \"wb\") as tl:\n",
        "                    torch.save(self.teacher_label,tl)\n",
        "        \n",
        "        else:\n",
        "         \n",
        "            with open(os.path.join(teacher_label_path , file_name), \"rb\") as dl:\n",
        "                  self.teacher_label = torch.load(dl)\n",
        "\n",
        "    \n",
        "    def __len__(self):\n",
        "        return len(self.dataset)\n",
        "    \n",
        "    def __getitem__(self, index):\n",
        "        return self.dataset[index][0], self.dataset[index][1] , self.teacher_label[index]"
      ]
    },
    {
      "cell_type": "code",
      "execution_count": 14,
      "metadata": {
        "id": "E3gGWUDJxw9H"
      },
      "outputs": [],
      "source": [
        "#@title Train/Validation split\n",
        "train_on : str = \"cifar100\" #@param[\"cifar100\", \"imagenet\"]\n",
        "if train_on == \"cifar100\":\n",
        "    dataset = DistillDataset(cifar100_train, \n",
        "                         \"teacher_labels/\",\n",
        "                          teacher_model=teacher,\n",
        "                          teacher_extractor = feature_extractor,\n",
        "                          dataset_name = \"cifar100\"\n",
        "                         )\n",
        "else:\n",
        "    dataset = DistillDataset(imnet64_train, \n",
        "                         \"teacher_labels_imnet/\",\n",
        "                          teacher_model=teacher,\n",
        "                          teacher_extractor = feature_extractor,\n",
        "                          dataset_name = \"imnet64\"\n",
        "                         )\n",
        "\n",
        "use_perc = False #@param {type: \"boolean\"}\n",
        "if use_perc:\n",
        "  unused_data_perc = 25 #@param {type: \"integer\", max: \"100\", min: \"0\", step: \"5\"}\n",
        "  used = int((1-unused_data_perc) * len(dataset))\n",
        "  unused = len(dataset) - used\n",
        "  used_data, _ = torch.utils.data.random_split(dataset,lengths = [used, unused],\n",
        "                                               generator=torch.Generator(\"cpu\").manual_seed(seed))\n",
        "else:\n",
        "  used_data = dataset\n",
        "  \n",
        "val_perc : float = 0.15 #@param{type:\"number\"}\n",
        "train_len = int((1-val_perc) * len(used_data))\n",
        "val_len = len(used_data) - train_len\n",
        "train_dataset, val_dataset = torch.utils.data.random_split(used_data,\n",
        "                                                           lengths = [train_len, val_len],\n",
        "                                                           generator=torch.Generator(\"cpu\").manual_seed(seed))"
      ]
    },
    {
      "cell_type": "code",
      "execution_count": 15,
      "metadata": {
        "cellView": "form",
        "id": "GjfDKYyqDGo-"
      },
      "outputs": [],
      "source": [
        "#@title Pytorch Lightning datamodule definition\n",
        "class DistillDataModule(pl.LightningDataModule):\n",
        "    def __init__(self, train_dataset, val_dataset, test_dataset, batch_size):\n",
        "        super().__init__()\n",
        "        self.train_dataset = train_dataset\n",
        "        self.val_dataset = val_dataset\n",
        "        self.test_dataset = test_dataset\n",
        "        self.batch_size = batch_size\n",
        "    \n",
        "    def train_dataloader(self) -> torch.utils.data.DataLoader:\n",
        "       return torch.utils.data.DataLoader(self.train_dataset, batch_size = self.batch_size, shuffle = True)\n",
        "\n",
        "    def val_dataloader(self) -> torch.utils.data.DataLoader:\n",
        "       return torch.utils.data.DataLoader(self.val_dataset, batch_size = self.batch_size, shuffle = False)\n",
        "    \n",
        "    def test_dataloader(self) -> torch.utils.data.DataLoader:\n",
        "       return torch.utils.data.DataLoader(self.test_dataset, batch_size = self.batch_size, shuffle = False)"
      ]
    },
    {
      "cell_type": "code",
      "execution_count": 16,
      "metadata": {
        "cellView": "form",
        "id": "yZfAFspcEEn4"
      },
      "outputs": [],
      "source": [
        "#@title Create a datamodule\n",
        "batch_size : int = 128 #@param{type:\"integer\"}\n",
        "datamodule = DistillDataModule(train_dataset,val_dataset,imnet64_test if train_on == \"Imagenet64\" else cifar100_test,batch_size = batch_size)"
      ]
    },
    {
      "cell_type": "markdown",
      "metadata": {
        "id": "89YUomqmx-pH"
      },
      "source": [
        "###2.3 Training the student"
      ]
    },
    {
      "cell_type": "code",
      "execution_count": null,
      "metadata": {
        "cellView": "form",
        "colab": {
          "base_uri": "https://localhost:8080/",
          "height": 69
        },
        "id": "lp2LekQdQbDY",
        "outputId": "e821a8ea-3636-460b-c529-841a622c1e55"
      },
      "outputs": [
        {
          "data": {
            "text/html": [
              "Tracking run with wandb version 0.13.7"
            ],
            "text/plain": [
              "<IPython.core.display.HTML object>"
            ]
          },
          "metadata": {},
          "output_type": "display_data"
        },
        {
          "data": {
            "text/html": [
              "Run data is saved locally in <code>/content/drive/MyDrive/ViT2MLP/wandb/run-20221227_142833-1eymibjm</code>"
            ],
            "text/plain": [
              "<IPython.core.display.HTML object>"
            ]
          },
          "metadata": {},
          "output_type": "display_data"
        },
        {
          "data": {
            "text/html": [
              "Syncing run <strong><a href=\"https://wandb.ai/mixer-kd/mixer-kd/runs/1eymibjm\" target=\"_blank\">neat-lake-102</a></strong> to <a href=\"https://wandb.ai/mixer-kd/mixer-kd\" target=\"_blank\">Weights & Biases</a> (<a href=\"https://wandb.me/run\" target=\"_blank\">docs</a>)<br/>"
            ],
            "text/plain": [
              "<IPython.core.display.HTML object>"
            ]
          },
          "metadata": {},
          "output_type": "display_data"
        }
      ],
      "source": [
        "#@title Weights & Biases initialization\n",
        "\n",
        "run_name : str = \"bohmixer\" #@param{type:\"string\"}\n",
        "\n",
        "#login\n",
        "wandb.login\n",
        "wandb.init(project=\"mixer-kd\", entity='mixer-kd')\n",
        "wandb.run.name = run_name\n",
        "\n",
        "#definition of the metrics to compute\n",
        "wandb.define_metric('epoch')\n",
        "wandb.define_metric('train_loss',step_metric='epoch')\n",
        "wandb.define_metric('test_loss_before',step_metric='epoch')\n",
        "wandb.define_metric('test_loss_after',step_metric='epoch')\n",
        "wandb.define_metric('val_loss',step_metric='epoch')\n",
        "wandb.define_metric('train_accuracy',step_metric='epoch')\n",
        "wandb.define_metric('val_accuracy',step_metric='epoch')\n",
        "wandb.define_metric('test_accuracy_before',step_metric='epoch')\n",
        "wandb.define_metric('test_accuracy_after',step_metric='epoch')\n",
        "\n",
        "#config of the run\n",
        "wandb.config.batch_size = batch_size\n",
        "wandb.config.val_perc = val_perc\n",
        "\n",
        "#definition of the pytorch lightning logger\n",
        "logger = pl.loggers.WandbLogger(name='run_1', project='mixer-kd')"
      ]
    },
    {
      "cell_type": "code",
      "execution_count": null,
      "metadata": {
        "cellView": "form",
        "colab": {
          "base_uri": "https://localhost:8080/",
          "height": 1000,
          "referenced_widgets": [
            "532299dcfcf546429f6c3020369d9d84",
            "e25510f7928b4edbaddc62c7c7a26219",
            "20746c8d3f74462d9683a615fc0f8cc4",
            "57485860e98f4398a0a81304c2b4ad70",
            "8e3f9905a4324e2e8e0b956fe78aa9fd",
            "6272b0c6451f449ebd073d556807da33",
            "3a8c7fa78eea425f9954680c6065a1f4",
            "5fb7265d97664f0aaa0d35cff06fda7b",
            "11ce175587754ac89fc99928b64e375e",
            "b45214c05b504d51900a3d964920249c",
            "cf2ec98dedf44c75b7ab31a7eaf890fa",
            "605ff93bc1b342fa9848fb88dec7da51",
            "8e69604703404114949ed6ba2107c709",
            "330bf6bfd3e340d2a92176e7c4e86387",
            "5637de5928cd4c6b9907338995d88c52",
            "53564683a80a44739af742be69d7dd48",
            "7b238d1332d043e6b9e61bbfb9a85ed2",
            "9ff639c05c3d4e35834deec6d35220f6",
            "ce8348fdf88448c3b452f642447a6748",
            "58e50955acf44f3eacfbd449c080cac8",
            "ea50bc19c34e47efb561fa0ab4f74774",
            "da619a4ac66444d980f033d6e00c2645",
            "5f8e13bf1ed34e818c52b5d328288d52",
            "07ab41d773e54b41bb309676ba0b99bd",
            "4aec3ffd27424f1f8c38574f597ba536",
            "d3fac85785ea4a98b12d7bec3dfda3ce",
            "607699fb06d04b668fbe8c4497346eed",
            "8cc8471a897c465ca0c62f7e071f3040",
            "0905460a6e914135b6c9193700bebb0f",
            "1fa55941bfab43f38da000fb17627831",
            "6aac92c593d24575a7540cfc88e97275",
            "aeb4723337114b4e9b11afb5e06b9c34",
            "d0fba15ba554445a8e65ec3f1ad9ff4c",
            "f9e9c0b783fa4919999b09cb13a7d777",
            "2c182c73faed47ba8eb7f8892692830e",
            "af4c000517914514ba3de7bc52a3a15e",
            "e0a3475a7d8648e7ac94339767889291",
            "8654a043cd044b64993a6ea232547f6d",
            "dc450ae5f7494483b3be28c0a81a685a",
            "b6d3c3e643bd41369d9f468c8005d7db",
            "e78d6777e775457588860ce91b112b84",
            "3103237e73cc47fd9c2d835381843c4b",
            "8962548f001840718483f51b995f4e92",
            "5ed3007de6af46e89d71402bb184a790",
            "adf3182e6b754cbfbc3ac2a9f1ffbfc5",
            "720e60b3263f483aa3c49f7026753c82",
            "2b9f29e7a7b341998f6c3f98132e4410",
            "942384aa89ce4bfb87630a09bcfc74e1",
            "614465b031fc4d70b4d37e03de1e43ea",
            "69fe9faf4285462a9d15999a0b964a1e",
            "1f840beacd214faebbdb04f1ac2955c9",
            "6ddc951d3b3f4dd1856da8cc4f33c845",
            "76f5ac48986247cf96a48d8d15ef5c7f",
            "94f60555e9c949909b9ed83eab8b4bf5",
            "8c4eeb2f257e49d385a9594854eadd28",
            "395d630c222040b99b1091c50605ad69",
            "be3af10682dd4c7cb78a5335ad2bb17c",
            "90b44acdaabe4354a0340c59c1df8311",
            "f5b6e9496eca49b3af6aebe28576e549",
            "c6a558e20ed34176aab000a64be56384",
            "5625606c2b454063832f35fb0ae00536",
            "5d630f18efd449c8a9448075017b18e5",
            "386f1c36294340bba4921e86aba8917e",
            "4499aa1457e94c7780283c3e310d7e0e",
            "27b4f84bb2fe492d9f0805127f2d91a2",
            "68927bc2cf504fd587cba9e98f2f4c72"
          ]
        },
        "id": "rHXGSY2o_q8E",
        "outputId": "a8f59caf-e9f5-4b88-fa16-756bd8c8dd5e"
      },
      "outputs": [
        {
          "name": "stderr",
          "output_type": "stream",
          "text": [
            "INFO:pytorch_lightning.utilities.rank_zero:GPU available: True (cuda), used: True\n",
            "INFO:pytorch_lightning.utilities.rank_zero:TPU available: False, using: 0 TPU cores\n",
            "INFO:pytorch_lightning.utilities.rank_zero:IPU available: False, using: 0 IPUs\n",
            "INFO:pytorch_lightning.utilities.rank_zero:HPU available: False, using: 0 HPUs\n",
            "INFO:pytorch_lightning.accelerators.cuda:LOCAL_RANK: 0 - CUDA_VISIBLE_DEVICES: [0]\n"
          ]
        },
        {
          "data": {
            "application/vnd.jupyter.widget-view+json": {
              "model_id": "532299dcfcf546429f6c3020369d9d84",
              "version_major": 2,
              "version_minor": 0
            },
            "text/plain": [
              "Testing: 0it [00:00, ?it/s]"
            ]
          },
          "metadata": {},
          "output_type": "display_data"
        },
        {
          "name": "stderr",
          "output_type": "stream",
          "text": [
            "INFO:pytorch_lightning.accelerators.cuda:LOCAL_RANK: 0 - CUDA_VISIBLE_DEVICES: [0]\n",
            "INFO:pytorch_lightning.callbacks.model_summary:\n",
            "  | Name    | Type             | Params\n",
            "---------------------------------------------\n",
            "0 | loss_fn | CrossEntropyLoss | 0     \n",
            "1 | mixer   | MlpMixer         | 862 K \n",
            "---------------------------------------------\n",
            "862 K     Trainable params\n",
            "0         Non-trainable params\n",
            "862 K     Total params\n",
            "3.451     Total estimated model params size (MB)\n"
          ]
        },
        {
          "name": "stdout",
          "output_type": "stream",
          "text": [
            "────────────────────────────────────────────────────────────────────────────────────────────────────────────────────────\n",
            "       Test metric             DataLoader 0\n",
            "────────────────────────────────────────────────────────────────────────────────────────────────────────────────────────\n",
            "          epoch                     0.0\n",
            "  test_accuracy_before     0.009999999776482582\n",
            "    test_loss_before         4.605169773101807\n",
            "────────────────────────────────────────────────────────────────────────────────────────────────────────────────────────\n"
          ]
        },
        {
          "data": {
            "application/vnd.jupyter.widget-view+json": {
              "model_id": "605ff93bc1b342fa9848fb88dec7da51",
              "version_major": 2,
              "version_minor": 0
            },
            "text/plain": [
              "Sanity Checking: 0it [00:00, ?it/s]"
            ]
          },
          "metadata": {},
          "output_type": "display_data"
        },
        {
          "data": {
            "application/vnd.jupyter.widget-view+json": {
              "model_id": "5f8e13bf1ed34e818c52b5d328288d52",
              "version_major": 2,
              "version_minor": 0
            },
            "text/plain": [
              "Training: 0it [00:00, ?it/s]"
            ]
          },
          "metadata": {},
          "output_type": "display_data"
        },
        {
          "data": {
            "application/vnd.jupyter.widget-view+json": {
              "model_id": "f9e9c0b783fa4919999b09cb13a7d777",
              "version_major": 2,
              "version_minor": 0
            },
            "text/plain": [
              "Validation: 0it [00:00, ?it/s]"
            ]
          },
          "metadata": {},
          "output_type": "display_data"
        },
        {
          "data": {
            "application/vnd.jupyter.widget-view+json": {
              "model_id": "adf3182e6b754cbfbc3ac2a9f1ffbfc5",
              "version_major": 2,
              "version_minor": 0
            },
            "text/plain": [
              "Validation: 0it [00:00, ?it/s]"
            ]
          },
          "metadata": {},
          "output_type": "display_data"
        },
        {
          "name": "stderr",
          "output_type": "stream",
          "text": [
            "INFO:pytorch_lightning.utilities.rank_zero:`Trainer.fit` stopped: `max_epochs=2` reached.\n",
            "INFO:pytorch_lightning.accelerators.cuda:LOCAL_RANK: 0 - CUDA_VISIBLE_DEVICES: [0]\n"
          ]
        },
        {
          "data": {
            "application/vnd.jupyter.widget-view+json": {
              "model_id": "395d630c222040b99b1091c50605ad69",
              "version_major": 2,
              "version_minor": 0
            },
            "text/plain": [
              "Testing: 0it [00:00, ?it/s]"
            ]
          },
          "metadata": {},
          "output_type": "display_data"
        },
        {
          "name": "stdout",
          "output_type": "stream",
          "text": [
            "────────────────────────────────────────────────────────────────────────────────────────────────────────────────────────\n",
            "       Test metric             DataLoader 0\n",
            "────────────────────────────────────────────────────────────────────────────────────────────────────────────────────────\n",
            "          epoch                     2.0\n",
            "   test_accuracy_after      0.19930000603199005\n",
            "     test_loss_after         3.28615140914917\n",
            "────────────────────────────────────────────────────────────────────────────────────────────────────────────────────────\n"
          ]
        },
        {
          "data": {
            "text/html": [
              "Waiting for W&B process to finish... <strong style=\"color:green\">(success).</strong>"
            ],
            "text/plain": [
              "<IPython.core.display.HTML object>"
            ]
          },
          "metadata": {},
          "output_type": "display_data"
        },
        {
          "data": {
            "text/html": [
              "<style>\n",
              "    table.wandb td:nth-child(1) { padding: 0 10px; text-align: left ; width: auto;} td:nth-child(2) {text-align: left ; width: 100%}\n",
              "    .wandb-row { display: flex; flex-direction: row; flex-wrap: wrap; justify-content: flex-start; width: 100% }\n",
              "    .wandb-col { display: flex; flex-direction: column; flex-basis: 100%; flex: 1; padding: 10px; }\n",
              "    </style>\n",
              "<div class=\"wandb-row\"><div class=\"wandb-col\"><h3>Run history:</h3><br/><table class=\"wandb\"><tr><td>epoch</td><td>▁▁▁▅▅█</td></tr><tr><td>test_accuracy_after</td><td>▁</td></tr><tr><td>test_accuracy_before</td><td>▁</td></tr><tr><td>test_loss_after</td><td>▁</td></tr><tr><td>test_loss_before</td><td>▁</td></tr><tr><td>train_accuracy</td><td>▁█</td></tr><tr><td>train_loss</td><td>█▁</td></tr><tr><td>trainer/global_step</td><td>▁▄▄███</td></tr><tr><td>val_accuracy</td><td>▁█</td></tr><tr><td>val_loss</td><td>█▁</td></tr></table><br/></div><div class=\"wandb-col\"><h3>Run summary:</h3><br/><table class=\"wandb\"><tr><td>epoch</td><td>2.0</td></tr><tr><td>test_accuracy_after</td><td>0.1993</td></tr><tr><td>test_accuracy_before</td><td>0.01</td></tr><tr><td>test_loss_after</td><td>3.28615</td></tr><tr><td>test_loss_before</td><td>4.60517</td></tr><tr><td>train_accuracy</td><td>0.16226</td></tr><tr><td>train_loss</td><td>3.51321</td></tr><tr><td>trainer/global_step</td><td>666</td></tr><tr><td>val_accuracy</td><td>0.19467</td></tr><tr><td>val_loss</td><td>3.27595</td></tr></table><br/></div></div>"
            ],
            "text/plain": [
              "<IPython.core.display.HTML object>"
            ]
          },
          "metadata": {},
          "output_type": "display_data"
        },
        {
          "data": {
            "text/html": [
              "Synced <strong style=\"color:#cdcd00\">neat-lake-102</strong>: <a href=\"https://wandb.ai/mixer-kd/mixer-kd/runs/1eymibjm\" target=\"_blank\">https://wandb.ai/mixer-kd/mixer-kd/runs/1eymibjm</a><br/>Synced 5 W&B file(s), 0 media file(s), 0 artifact file(s) and 0 other file(s)"
            ],
            "text/plain": [
              "<IPython.core.display.HTML object>"
            ]
          },
          "metadata": {},
          "output_type": "display_data"
        },
        {
          "data": {
            "text/html": [
              "Find logs at: <code>./wandb/run-20221227_142833-1eymibjm/logs</code>"
            ],
            "text/plain": [
              "<IPython.core.display.HTML object>"
            ]
          },
          "metadata": {},
          "output_type": "display_data"
        }
      ],
      "source": [
        "#@title Train the student\n",
        "epochs : int = 2 #@param{type:\"integer\"}\n",
        "\n",
        "# checkpoint to save the model with the best validation loss\n",
        "checkpoint = callbacks.ModelCheckpoint(\"checkpoints/\",\n",
        "                                       monitor=\"val_loss\",\n",
        "                                       mode=\"min\")\n",
        "\n",
        "# definition of the triner\n",
        "trainer = pl.Trainer(max_epochs=epochs,\n",
        "                     accelerator=device,\n",
        "                     logger=logger,\n",
        "                     callbacks=[checkpoint]\n",
        "                     )\n",
        "\n",
        "# training\n",
        "logger.watch(student)\n",
        "trainer.test(datamodule=datamodule,model = student) #test before training\n",
        "trainer.fit(datamodule=datamodule,model = student) #trainng\n",
        "student = type(student).load_from_checkpoint(checkpoint.best_model_path)\n",
        "student.first_test = False\n",
        "trainer.test(datamodule=datamodule,model = student) #test after training\n",
        "wandb.finish()"
      ]
    },
    {
      "cell_type": "code",
      "execution_count": 10,
      "metadata": {
        "cellView": "form",
        "id": "by6pgVMpm8vi"
      },
      "outputs": [],
      "source": [
        "#@title Load a model from checkpoint\n",
        "checkpoint_path : str = \"last_checkpoint\" #@param{type:\"string\"}\n",
        "if checkpoint_path == \"last_checkpoint\":\n",
        "    checkpoint_path = checkpoint.best_model_path\n",
        "loaded_student = LitMixer.load_from_checkpoint(checkpoint_path)"
      ]
    },
    {
      "cell_type": "code",
      "execution_count": 19,
      "metadata": {
        "cellView": "form",
        "colab": {
          "base_uri": "https://localhost:8080/",
          "height": 284
        },
        "id": "buxcGxzpGJya",
        "outputId": "ad1f592b-b605-41f1-add2-96dd8b6237f0"
      },
      "outputs": [
        {
          "output_type": "execute_result",
          "data": {
            "text/plain": [
              "('aquarium_fish', 'aquarium_fish')"
            ]
          },
          "metadata": {},
          "execution_count": 19
        },
        {
          "output_type": "display_data",
          "data": {
            "text/plain": [
              "<Figure size 432x288 with 1 Axes>"
            ],
            "image/png": "[encoded data removed]"
          },
          "metadata": {
            "needs_background": "light"
          }
        }
      ],
      "source": [
        "#@title Test qualitative results {run : 'auto'}\n",
        "datapoint_number = 598 #@param{type : \"integer\"}\n",
        "image, gt = cifar100_test[datapoint_number]\n",
        "image_pixels = torchvision.transforms.functional.to_pil_image(image)\n",
        "plt.imshow(image_pixels)\n",
        "pr = loaded_student.mixer(image.unsqueeze(0).float())\n",
        "#print(pr)\n",
        "dataset.dataset.classes[gt],  dataset.dataset.classes[pr.argmax().item()]"
      ]
    }
  ],
  "metadata": {
    "accelerator": "GPU",
    "colab": {
      "collapsed_sections": [
        "GtgQ0OHG21PO"
      ],
      "provenance": [],
      "include_colab_link": true
    },
    "gpuClass": "standard",
    "kernelspec": {
      "display_name": "Python 3 (ipykernel)",
      "language": "python",
      "name": "python3"
    },
    "language_info": {
      "codemirror_mode": {
        "name": "ipython",
        "version": 3
      },
      "file_extension": ".py",
      "mimetype": "text/x-python",
      "name": "python",
      "nbconvert_exporter": "python",
      "pygments_lexer": "ipython3",
      "version": "3.9.13"
    },
    "vscode": {
      "interpreter": {
        "hash": "aee8b7b246df8f9039afb4144a1f6fd8d2ca17a180786b69acc140d282b71a49"
      }
    },
    "widgets": {
      "application/vnd.jupyter.widget-state+json": {
        "07ab41d773e54b41bb309676ba0b99bd": {
          "model_module": "@jupyter-widgets/controls",
          "model_module_version": "1.5.0",
          "model_name": "HTMLModel",
          "state": {
            "_dom_classes": [],
            "_model_module": "@jupyter-widgets/controls",
            "_model_module_version": "1.5.0",
            "_model_name": "HTMLModel",
            "_view_count": null,
            "_view_module": "@jupyter-widgets/controls",
            "_view_module_version": "1.5.0",
            "_view_name": "HTMLView",
            "description": "",
            "description_tooltip": null,
            "layout": "IPY_MODEL_8cc8471a897c465ca0c62f7e071f3040",
            "placeholder": "​",
            "style": "IPY_MODEL_0905460a6e914135b6c9193700bebb0f",
            "value": "Epoch 1: 100%"
          }
        },
        "0905460a6e914135b6c9193700bebb0f": {
          "model_module": "@jupyter-widgets/controls",
          "model_module_version": "1.5.0",
          "model_name": "DescriptionStyleModel",
          "state": {
            "_model_module": "@jupyter-widgets/controls",
            "_model_module_version": "1.5.0",
            "_model_name": "DescriptionStyleModel",
            "_view_count": null,
            "_view_module": "@jupyter-widgets/base",
            "_view_module_version": "1.2.0",
            "_view_name": "StyleView",
            "description_width": ""
          }
        },
        "11ce175587754ac89fc99928b64e375e": {
          "model_module": "@jupyter-widgets/controls",
          "model_module_version": "1.5.0",
          "model_name": "ProgressStyleModel",
          "state": {
            "_model_module": "@jupyter-widgets/controls",
            "_model_module_version": "1.5.0",
            "_model_name": "ProgressStyleModel",
            "_view_count": null,
            "_view_module": "@jupyter-widgets/base",
            "_view_module_version": "1.2.0",
            "_view_name": "StyleView",
            "bar_color": null,
            "description_width": ""
          }
        },
        "1f840beacd214faebbdb04f1ac2955c9": {
          "model_module": "@jupyter-widgets/controls",
          "model_module_version": "1.5.0",
          "model_name": "DescriptionStyleModel",
          "state": {
            "_model_module": "@jupyter-widgets/controls",
            "_model_module_version": "1.5.0",
            "_model_name": "DescriptionStyleModel",
            "_view_count": null,
            "_view_module": "@jupyter-widgets/base",
            "_view_module_version": "1.2.0",
            "_view_name": "StyleView",
            "description_width": ""
          }
        },
        "1fa55941bfab43f38da000fb17627831": {
          "model_module": "@jupyter-widgets/base",
          "model_module_version": "1.2.0",
          "model_name": "LayoutModel",
          "state": {
            "_model_module": "@jupyter-widgets/base",
            "_model_module_version": "1.2.0",
            "_model_name": "LayoutModel",
            "_view_count": null,
            "_view_module": "@jupyter-widgets/base",
            "_view_module_version": "1.2.0",
            "_view_name": "LayoutView",
            "align_content": null,
            "align_items": null,
            "align_self": null,
            "border": null,
            "bottom": null,
            "display": null,
            "flex": "2",
            "flex_flow": null,
            "grid_area": null,
            "grid_auto_columns": null,
            "grid_auto_flow": null,
            "grid_auto_rows": null,
            "grid_column": null,
            "grid_gap": null,
            "grid_row": null,
            "grid_template_areas": null,
            "grid_template_columns": null,
            "grid_template_rows": null,
            "height": null,
            "justify_content": null,
            "justify_items": null,
            "left": null,
            "margin": null,
            "max_height": null,
            "max_width": null,
            "min_height": null,
            "min_width": null,
            "object_fit": null,
            "object_position": null,
            "order": null,
            "overflow": null,
            "overflow_x": null,
            "overflow_y": null,
            "padding": null,
            "right": null,
            "top": null,
            "visibility": null,
            "width": null
          }
        },
        "20746c8d3f74462d9683a615fc0f8cc4": {
          "model_module": "@jupyter-widgets/controls",
          "model_module_version": "1.5.0",
          "model_name": "FloatProgressModel",
          "state": {
            "_dom_classes": [],
            "_model_module": "@jupyter-widgets/controls",
            "_model_module_version": "1.5.0",
            "_model_name": "FloatProgressModel",
            "_view_count": null,
            "_view_module": "@jupyter-widgets/controls",
            "_view_module_version": "1.5.0",
            "_view_name": "ProgressView",
            "bar_style": "success",
            "description": "",
            "description_tooltip": null,
            "layout": "IPY_MODEL_5fb7265d97664f0aaa0d35cff06fda7b",
            "max": 79,
            "min": 0,
            "orientation": "horizontal",
            "style": "IPY_MODEL_11ce175587754ac89fc99928b64e375e",
            "value": 79
          }
        },
        "27b4f84bb2fe492d9f0805127f2d91a2": {
          "model_module": "@jupyter-widgets/base",
          "model_module_version": "1.2.0",
          "model_name": "LayoutModel",
          "state": {
            "_model_module": "@jupyter-widgets/base",
            "_model_module_version": "1.2.0",
            "_model_name": "LayoutModel",
            "_view_count": null,
            "_view_module": "@jupyter-widgets/base",
            "_view_module_version": "1.2.0",
            "_view_name": "LayoutView",
            "align_content": null,
            "align_items": null,
            "align_self": null,
            "border": null,
            "bottom": null,
            "display": null,
            "flex": null,
            "flex_flow": null,
            "grid_area": null,
            "grid_auto_columns": null,
            "grid_auto_flow": null,
            "grid_auto_rows": null,
            "grid_column": null,
            "grid_gap": null,
            "grid_row": null,
            "grid_template_areas": null,
            "grid_template_columns": null,
            "grid_template_rows": null,
            "height": null,
            "justify_content": null,
            "justify_items": null,
            "left": null,
            "margin": null,
            "max_height": null,
            "max_width": null,
            "min_height": null,
            "min_width": null,
            "object_fit": null,
            "object_position": null,
            "order": null,
            "overflow": null,
            "overflow_x": null,
            "overflow_y": null,
            "padding": null,
            "right": null,
            "top": null,
            "visibility": null,
            "width": null
          }
        },
        "2b9f29e7a7b341998f6c3f98132e4410": {
          "model_module": "@jupyter-widgets/controls",
          "model_module_version": "1.5.0",
          "model_name": "FloatProgressModel",
          "state": {
            "_dom_classes": [],
            "_model_module": "@jupyter-widgets/controls",
            "_model_module_version": "1.5.0",
            "_model_name": "FloatProgressModel",
            "_view_count": null,
            "_view_module": "@jupyter-widgets/controls",
            "_view_module_version": "1.5.0",
            "_view_name": "ProgressView",
            "bar_style": "",
            "description": "",
            "description_tooltip": null,
            "layout": "IPY_MODEL_6ddc951d3b3f4dd1856da8cc4f33c845",
            "max": 59,
            "min": 0,
            "orientation": "horizontal",
            "style": "IPY_MODEL_76f5ac48986247cf96a48d8d15ef5c7f",
            "value": 59
          }
        },
        "2c182c73faed47ba8eb7f8892692830e": {
          "model_module": "@jupyter-widgets/controls",
          "model_module_version": "1.5.0",
          "model_name": "HTMLModel",
          "state": {
            "_dom_classes": [],
            "_model_module": "@jupyter-widgets/controls",
            "_model_module_version": "1.5.0",
            "_model_name": "HTMLModel",
            "_view_count": null,
            "_view_module": "@jupyter-widgets/controls",
            "_view_module_version": "1.5.0",
            "_view_name": "HTMLView",
            "description": "",
            "description_tooltip": null,
            "layout": "IPY_MODEL_dc450ae5f7494483b3be28c0a81a685a",
            "placeholder": "​",
            "style": "IPY_MODEL_b6d3c3e643bd41369d9f468c8005d7db",
            "value": "Validation DataLoader 0: 100%"
          }
        },
        "3103237e73cc47fd9c2d835381843c4b": {
          "model_module": "@jupyter-widgets/controls",
          "model_module_version": "1.5.0",
          "model_name": "ProgressStyleModel",
          "state": {
            "_model_module": "@jupyter-widgets/controls",
            "_model_module_version": "1.5.0",
            "_model_name": "ProgressStyleModel",
            "_view_count": null,
            "_view_module": "@jupyter-widgets/base",
            "_view_module_version": "1.2.0",
            "_view_name": "StyleView",
            "bar_color": null,
            "description_width": ""
          }
        },
        "330bf6bfd3e340d2a92176e7c4e86387": {
          "model_module": "@jupyter-widgets/controls",
          "model_module_version": "1.5.0",
          "model_name": "FloatProgressModel",
          "state": {
            "_dom_classes": [],
            "_model_module": "@jupyter-widgets/controls",
            "_model_module_version": "1.5.0",
            "_model_name": "FloatProgressModel",
            "_view_count": null,
            "_view_module": "@jupyter-widgets/controls",
            "_view_module_version": "1.5.0",
            "_view_name": "ProgressView",
            "bar_style": "",
            "description": "",
            "description_tooltip": null,
            "layout": "IPY_MODEL_ce8348fdf88448c3b452f642447a6748",
            "max": 2,
            "min": 0,
            "orientation": "horizontal",
            "style": "IPY_MODEL_58e50955acf44f3eacfbd449c080cac8",
            "value": 2
          }
        },
        "386f1c36294340bba4921e86aba8917e": {
          "model_module": "@jupyter-widgets/base",
          "model_module_version": "1.2.0",
          "model_name": "LayoutModel",
          "state": {
            "_model_module": "@jupyter-widgets/base",
            "_model_module_version": "1.2.0",
            "_model_name": "LayoutModel",
            "_view_count": null,
            "_view_module": "@jupyter-widgets/base",
            "_view_module_version": "1.2.0",
            "_view_name": "LayoutView",
            "align_content": null,
            "align_items": null,
            "align_self": null,
            "border": null,
            "bottom": null,
            "display": null,
            "flex": "2",
            "flex_flow": null,
            "grid_area": null,
            "grid_auto_columns": null,
            "grid_auto_flow": null,
            "grid_auto_rows": null,
            "grid_column": null,
            "grid_gap": null,
            "grid_row": null,
            "grid_template_areas": null,
            "grid_template_columns": null,
            "grid_template_rows": null,
            "height": null,
            "justify_content": null,
            "justify_items": null,
            "left": null,
            "margin": null,
            "max_height": null,
            "max_width": null,
            "min_height": null,
            "min_width": null,
            "object_fit": null,
            "object_position": null,
            "order": null,
            "overflow": null,
            "overflow_x": null,
            "overflow_y": null,
            "padding": null,
            "right": null,
            "top": null,
            "visibility": null,
            "width": null
          }
        },
        "395d630c222040b99b1091c50605ad69": {
          "model_module": "@jupyter-widgets/controls",
          "model_module_version": "1.5.0",
          "model_name": "HBoxModel",
          "state": {
            "_dom_classes": [],
            "_model_module": "@jupyter-widgets/controls",
            "_model_module_version": "1.5.0",
            "_model_name": "HBoxModel",
            "_view_count": null,
            "_view_module": "@jupyter-widgets/controls",
            "_view_module_version": "1.5.0",
            "_view_name": "HBoxView",
            "box_style": "",
            "children": [
              "IPY_MODEL_be3af10682dd4c7cb78a5335ad2bb17c",
              "IPY_MODEL_90b44acdaabe4354a0340c59c1df8311",
              "IPY_MODEL_f5b6e9496eca49b3af6aebe28576e549"
            ],
            "layout": "IPY_MODEL_c6a558e20ed34176aab000a64be56384"
          }
        },
        "3a8c7fa78eea425f9954680c6065a1f4": {
          "model_module": "@jupyter-widgets/controls",
          "model_module_version": "1.5.0",
          "model_name": "DescriptionStyleModel",
          "state": {
            "_model_module": "@jupyter-widgets/controls",
            "_model_module_version": "1.5.0",
            "_model_name": "DescriptionStyleModel",
            "_view_count": null,
            "_view_module": "@jupyter-widgets/base",
            "_view_module_version": "1.2.0",
            "_view_name": "StyleView",
            "description_width": ""
          }
        },
        "4499aa1457e94c7780283c3e310d7e0e": {
          "model_module": "@jupyter-widgets/controls",
          "model_module_version": "1.5.0",
          "model_name": "ProgressStyleModel",
          "state": {
            "_model_module": "@jupyter-widgets/controls",
            "_model_module_version": "1.5.0",
            "_model_name": "ProgressStyleModel",
            "_view_count": null,
            "_view_module": "@jupyter-widgets/base",
            "_view_module_version": "1.2.0",
            "_view_name": "StyleView",
            "bar_color": null,
            "description_width": ""
          }
        },
        "4aec3ffd27424f1f8c38574f597ba536": {
          "model_module": "@jupyter-widgets/controls",
          "model_module_version": "1.5.0",
          "model_name": "FloatProgressModel",
          "state": {
            "_dom_classes": [],
            "_model_module": "@jupyter-widgets/controls",
            "_model_module_version": "1.5.0",
            "_model_name": "FloatProgressModel",
            "_view_count": null,
            "_view_module": "@jupyter-widgets/controls",
            "_view_module_version": "1.5.0",
            "_view_name": "ProgressView",
            "bar_style": "success",
            "description": "",
            "description_tooltip": null,
            "layout": "IPY_MODEL_1fa55941bfab43f38da000fb17627831",
            "max": 392,
            "min": 0,
            "orientation": "horizontal",
            "style": "IPY_MODEL_6aac92c593d24575a7540cfc88e97275",
            "value": 392
          }
        },
        "532299dcfcf546429f6c3020369d9d84": {
          "model_module": "@jupyter-widgets/controls",
          "model_module_version": "1.5.0",
          "model_name": "HBoxModel",
          "state": {
            "_dom_classes": [],
            "_model_module": "@jupyter-widgets/controls",
            "_model_module_version": "1.5.0",
            "_model_name": "HBoxModel",
            "_view_count": null,
            "_view_module": "@jupyter-widgets/controls",
            "_view_module_version": "1.5.0",
            "_view_name": "HBoxView",
            "box_style": "",
            "children": [
              "IPY_MODEL_e25510f7928b4edbaddc62c7c7a26219",
              "IPY_MODEL_20746c8d3f74462d9683a615fc0f8cc4",
              "IPY_MODEL_57485860e98f4398a0a81304c2b4ad70"
            ],
            "layout": "IPY_MODEL_8e3f9905a4324e2e8e0b956fe78aa9fd"
          }
        },
        "53564683a80a44739af742be69d7dd48": {
          "model_module": "@jupyter-widgets/base",
          "model_module_version": "1.2.0",
          "model_name": "LayoutModel",
          "state": {
            "_model_module": "@jupyter-widgets/base",
            "_model_module_version": "1.2.0",
            "_model_name": "LayoutModel",
            "_view_count": null,
            "_view_module": "@jupyter-widgets/base",
            "_view_module_version": "1.2.0",
            "_view_name": "LayoutView",
            "align_content": null,
            "align_items": null,
            "align_self": null,
            "border": null,
            "bottom": null,
            "display": "inline-flex",
            "flex": null,
            "flex_flow": "row wrap",
            "grid_area": null,
            "grid_auto_columns": null,
            "grid_auto_flow": null,
            "grid_auto_rows": null,
            "grid_column": null,
            "grid_gap": null,
            "grid_row": null,
            "grid_template_areas": null,
            "grid_template_columns": null,
            "grid_template_rows": null,
            "height": null,
            "justify_content": null,
            "justify_items": null,
            "left": null,
            "margin": null,
            "max_height": null,
            "max_width": null,
            "min_height": null,
            "min_width": null,
            "object_fit": null,
            "object_position": null,
            "order": null,
            "overflow": null,
            "overflow_x": null,
            "overflow_y": null,
            "padding": null,
            "right": null,
            "top": null,
            "visibility": "hidden",
            "width": "100%"
          }
        },
        "5625606c2b454063832f35fb0ae00536": {
          "model_module": "@jupyter-widgets/base",
          "model_module_version": "1.2.0",
          "model_name": "LayoutModel",
          "state": {
            "_model_module": "@jupyter-widgets/base",
            "_model_module_version": "1.2.0",
            "_model_name": "LayoutModel",
            "_view_count": null,
            "_view_module": "@jupyter-widgets/base",
            "_view_module_version": "1.2.0",
            "_view_name": "LayoutView",
            "align_content": null,
            "align_items": null,
            "align_self": null,
            "border": null,
            "bottom": null,
            "display": null,
            "flex": null,
            "flex_flow": null,
            "grid_area": null,
            "grid_auto_columns": null,
            "grid_auto_flow": null,
            "grid_auto_rows": null,
            "grid_column": null,
            "grid_gap": null,
            "grid_row": null,
            "grid_template_areas": null,
            "grid_template_columns": null,
            "grid_template_rows": null,
            "height": null,
            "justify_content": null,
            "justify_items": null,
            "left": null,
            "margin": null,
            "max_height": null,
            "max_width": null,
            "min_height": null,
            "min_width": null,
            "object_fit": null,
            "object_position": null,
            "order": null,
            "overflow": null,
            "overflow_x": null,
            "overflow_y": null,
            "padding": null,
            "right": null,
            "top": null,
            "visibility": null,
            "width": null
          }
        },
        "5637de5928cd4c6b9907338995d88c52": {
          "model_module": "@jupyter-widgets/controls",
          "model_module_version": "1.5.0",
          "model_name": "HTMLModel",
          "state": {
            "_dom_classes": [],
            "_model_module": "@jupyter-widgets/controls",
            "_model_module_version": "1.5.0",
            "_model_name": "HTMLModel",
            "_view_count": null,
            "_view_module": "@jupyter-widgets/controls",
            "_view_module_version": "1.5.0",
            "_view_name": "HTMLView",
            "description": "",
            "description_tooltip": null,
            "layout": "IPY_MODEL_ea50bc19c34e47efb561fa0ab4f74774",
            "placeholder": "​",
            "style": "IPY_MODEL_da619a4ac66444d980f033d6e00c2645",
            "value": " 2/2 [00:00&lt;00:00, 35.50it/s]"
          }
        },
        "57485860e98f4398a0a81304c2b4ad70": {
          "model_module": "@jupyter-widgets/controls",
          "model_module_version": "1.5.0",
          "model_name": "HTMLModel",
          "state": {
            "_dom_classes": [],
            "_model_module": "@jupyter-widgets/controls",
            "_model_module_version": "1.5.0",
            "_model_name": "HTMLModel",
            "_view_count": null,
            "_view_module": "@jupyter-widgets/controls",
            "_view_module_version": "1.5.0",
            "_view_name": "HTMLView",
            "description": "",
            "description_tooltip": null,
            "layout": "IPY_MODEL_b45214c05b504d51900a3d964920249c",
            "placeholder": "​",
            "style": "IPY_MODEL_cf2ec98dedf44c75b7ab31a7eaf890fa",
            "value": " 79/79 [00:02&lt;00:00, 35.93it/s]"
          }
        },
        "58e50955acf44f3eacfbd449c080cac8": {
          "model_module": "@jupyter-widgets/controls",
          "model_module_version": "1.5.0",
          "model_name": "ProgressStyleModel",
          "state": {
            "_model_module": "@jupyter-widgets/controls",
            "_model_module_version": "1.5.0",
            "_model_name": "ProgressStyleModel",
            "_view_count": null,
            "_view_module": "@jupyter-widgets/base",
            "_view_module_version": "1.2.0",
            "_view_name": "StyleView",
            "bar_color": null,
            "description_width": ""
          }
        },
        "5d630f18efd449c8a9448075017b18e5": {
          "model_module": "@jupyter-widgets/controls",
          "model_module_version": "1.5.0",
          "model_name": "DescriptionStyleModel",
          "state": {
            "_model_module": "@jupyter-widgets/controls",
            "_model_module_version": "1.5.0",
            "_model_name": "DescriptionStyleModel",
            "_view_count": null,
            "_view_module": "@jupyter-widgets/base",
            "_view_module_version": "1.2.0",
            "_view_name": "StyleView",
            "description_width": ""
          }
        },
        "5ed3007de6af46e89d71402bb184a790": {
          "model_module": "@jupyter-widgets/controls",
          "model_module_version": "1.5.0",
          "model_name": "DescriptionStyleModel",
          "state": {
            "_model_module": "@jupyter-widgets/controls",
            "_model_module_version": "1.5.0",
            "_model_name": "DescriptionStyleModel",
            "_view_count": null,
            "_view_module": "@jupyter-widgets/base",
            "_view_module_version": "1.2.0",
            "_view_name": "StyleView",
            "description_width": ""
          }
        },
        "5f8e13bf1ed34e818c52b5d328288d52": {
          "model_module": "@jupyter-widgets/controls",
          "model_module_version": "1.5.0",
          "model_name": "HBoxModel",
          "state": {
            "_dom_classes": [],
            "_model_module": "@jupyter-widgets/controls",
            "_model_module_version": "1.5.0",
            "_model_name": "HBoxModel",
            "_view_count": null,
            "_view_module": "@jupyter-widgets/controls",
            "_view_module_version": "1.5.0",
            "_view_name": "HBoxView",
            "box_style": "",
            "children": [
              "IPY_MODEL_07ab41d773e54b41bb309676ba0b99bd",
              "IPY_MODEL_4aec3ffd27424f1f8c38574f597ba536",
              "IPY_MODEL_d3fac85785ea4a98b12d7bec3dfda3ce"
            ],
            "layout": "IPY_MODEL_607699fb06d04b668fbe8c4497346eed"
          }
        },
        "5fb7265d97664f0aaa0d35cff06fda7b": {
          "model_module": "@jupyter-widgets/base",
          "model_module_version": "1.2.0",
          "model_name": "LayoutModel",
          "state": {
            "_model_module": "@jupyter-widgets/base",
            "_model_module_version": "1.2.0",
            "_model_name": "LayoutModel",
            "_view_count": null,
            "_view_module": "@jupyter-widgets/base",
            "_view_module_version": "1.2.0",
            "_view_name": "LayoutView",
            "align_content": null,
            "align_items": null,
            "align_self": null,
            "border": null,
            "bottom": null,
            "display": null,
            "flex": "2",
            "flex_flow": null,
            "grid_area": null,
            "grid_auto_columns": null,
            "grid_auto_flow": null,
            "grid_auto_rows": null,
            "grid_column": null,
            "grid_gap": null,
            "grid_row": null,
            "grid_template_areas": null,
            "grid_template_columns": null,
            "grid_template_rows": null,
            "height": null,
            "justify_content": null,
            "justify_items": null,
            "left": null,
            "margin": null,
            "max_height": null,
            "max_width": null,
            "min_height": null,
            "min_width": null,
            "object_fit": null,
            "object_position": null,
            "order": null,
            "overflow": null,
            "overflow_x": null,
            "overflow_y": null,
            "padding": null,
            "right": null,
            "top": null,
            "visibility": null,
            "width": null
          }
        },
        "605ff93bc1b342fa9848fb88dec7da51": {
          "model_module": "@jupyter-widgets/controls",
          "model_module_version": "1.5.0",
          "model_name": "HBoxModel",
          "state": {
            "_dom_classes": [],
            "_model_module": "@jupyter-widgets/controls",
            "_model_module_version": "1.5.0",
            "_model_name": "HBoxModel",
            "_view_count": null,
            "_view_module": "@jupyter-widgets/controls",
            "_view_module_version": "1.5.0",
            "_view_name": "HBoxView",
            "box_style": "",
            "children": [
              "IPY_MODEL_8e69604703404114949ed6ba2107c709",
              "IPY_MODEL_330bf6bfd3e340d2a92176e7c4e86387",
              "IPY_MODEL_5637de5928cd4c6b9907338995d88c52"
            ],
            "layout": "IPY_MODEL_53564683a80a44739af742be69d7dd48"
          }
        },
        "607699fb06d04b668fbe8c4497346eed": {
          "model_module": "@jupyter-widgets/base",
          "model_module_version": "1.2.0",
          "model_name": "LayoutModel",
          "state": {
            "_model_module": "@jupyter-widgets/base",
            "_model_module_version": "1.2.0",
            "_model_name": "LayoutModel",
            "_view_count": null,
            "_view_module": "@jupyter-widgets/base",
            "_view_module_version": "1.2.0",
            "_view_name": "LayoutView",
            "align_content": null,
            "align_items": null,
            "align_self": null,
            "border": null,
            "bottom": null,
            "display": "inline-flex",
            "flex": null,
            "flex_flow": "row wrap",
            "grid_area": null,
            "grid_auto_columns": null,
            "grid_auto_flow": null,
            "grid_auto_rows": null,
            "grid_column": null,
            "grid_gap": null,
            "grid_row": null,
            "grid_template_areas": null,
            "grid_template_columns": null,
            "grid_template_rows": null,
            "height": null,
            "justify_content": null,
            "justify_items": null,
            "left": null,
            "margin": null,
            "max_height": null,
            "max_width": null,
            "min_height": null,
            "min_width": null,
            "object_fit": null,
            "object_position": null,
            "order": null,
            "overflow": null,
            "overflow_x": null,
            "overflow_y": null,
            "padding": null,
            "right": null,
            "top": null,
            "visibility": null,
            "width": "100%"
          }
        },
        "614465b031fc4d70b4d37e03de1e43ea": {
          "model_module": "@jupyter-widgets/base",
          "model_module_version": "1.2.0",
          "model_name": "LayoutModel",
          "state": {
            "_model_module": "@jupyter-widgets/base",
            "_model_module_version": "1.2.0",
            "_model_name": "LayoutModel",
            "_view_count": null,
            "_view_module": "@jupyter-widgets/base",
            "_view_module_version": "1.2.0",
            "_view_name": "LayoutView",
            "align_content": null,
            "align_items": null,
            "align_self": null,
            "border": null,
            "bottom": null,
            "display": "inline-flex",
            "flex": null,
            "flex_flow": "row wrap",
            "grid_area": null,
            "grid_auto_columns": null,
            "grid_auto_flow": null,
            "grid_auto_rows": null,
            "grid_column": null,
            "grid_gap": null,
            "grid_row": null,
            "grid_template_areas": null,
            "grid_template_columns": null,
            "grid_template_rows": null,
            "height": null,
            "justify_content": null,
            "justify_items": null,
            "left": null,
            "margin": null,
            "max_height": null,
            "max_width": null,
            "min_height": null,
            "min_width": null,
            "object_fit": null,
            "object_position": null,
            "order": null,
            "overflow": null,
            "overflow_x": null,
            "overflow_y": null,
            "padding": null,
            "right": null,
            "top": null,
            "visibility": "hidden",
            "width": "100%"
          }
        },
        "6272b0c6451f449ebd073d556807da33": {
          "model_module": "@jupyter-widgets/base",
          "model_module_version": "1.2.0",
          "model_name": "LayoutModel",
          "state": {
            "_model_module": "@jupyter-widgets/base",
            "_model_module_version": "1.2.0",
            "_model_name": "LayoutModel",
            "_view_count": null,
            "_view_module": "@jupyter-widgets/base",
            "_view_module_version": "1.2.0",
            "_view_name": "LayoutView",
            "align_content": null,
            "align_items": null,
            "align_self": null,
            "border": null,
            "bottom": null,
            "display": null,
            "flex": null,
            "flex_flow": null,
            "grid_area": null,
            "grid_auto_columns": null,
            "grid_auto_flow": null,
            "grid_auto_rows": null,
            "grid_column": null,
            "grid_gap": null,
            "grid_row": null,
            "grid_template_areas": null,
            "grid_template_columns": null,
            "grid_template_rows": null,
            "height": null,
            "justify_content": null,
            "justify_items": null,
            "left": null,
            "margin": null,
            "max_height": null,
            "max_width": null,
            "min_height": null,
            "min_width": null,
            "object_fit": null,
            "object_position": null,
            "order": null,
            "overflow": null,
            "overflow_x": null,
            "overflow_y": null,
            "padding": null,
            "right": null,
            "top": null,
            "visibility": null,
            "width": null
          }
        },
        "68927bc2cf504fd587cba9e98f2f4c72": {
          "model_module": "@jupyter-widgets/controls",
          "model_module_version": "1.5.0",
          "model_name": "DescriptionStyleModel",
          "state": {
            "_model_module": "@jupyter-widgets/controls",
            "_model_module_version": "1.5.0",
            "_model_name": "DescriptionStyleModel",
            "_view_count": null,
            "_view_module": "@jupyter-widgets/base",
            "_view_module_version": "1.2.0",
            "_view_name": "StyleView",
            "description_width": ""
          }
        },
        "69fe9faf4285462a9d15999a0b964a1e": {
          "model_module": "@jupyter-widgets/base",
          "model_module_version": "1.2.0",
          "model_name": "LayoutModel",
          "state": {
            "_model_module": "@jupyter-widgets/base",
            "_model_module_version": "1.2.0",
            "_model_name": "LayoutModel",
            "_view_count": null,
            "_view_module": "@jupyter-widgets/base",
            "_view_module_version": "1.2.0",
            "_view_name": "LayoutView",
            "align_content": null,
            "align_items": null,
            "align_self": null,
            "border": null,
            "bottom": null,
            "display": null,
            "flex": null,
            "flex_flow": null,
            "grid_area": null,
            "grid_auto_columns": null,
            "grid_auto_flow": null,
            "grid_auto_rows": null,
            "grid_column": null,
            "grid_gap": null,
            "grid_row": null,
            "grid_template_areas": null,
            "grid_template_columns": null,
            "grid_template_rows": null,
            "height": null,
            "justify_content": null,
            "justify_items": null,
            "left": null,
            "margin": null,
            "max_height": null,
            "max_width": null,
            "min_height": null,
            "min_width": null,
            "object_fit": null,
            "object_position": null,
            "order": null,
            "overflow": null,
            "overflow_x": null,
            "overflow_y": null,
            "padding": null,
            "right": null,
            "top": null,
            "visibility": null,
            "width": null
          }
        },
        "6aac92c593d24575a7540cfc88e97275": {
          "model_module": "@jupyter-widgets/controls",
          "model_module_version": "1.5.0",
          "model_name": "ProgressStyleModel",
          "state": {
            "_model_module": "@jupyter-widgets/controls",
            "_model_module_version": "1.5.0",
            "_model_name": "ProgressStyleModel",
            "_view_count": null,
            "_view_module": "@jupyter-widgets/base",
            "_view_module_version": "1.2.0",
            "_view_name": "StyleView",
            "bar_color": null,
            "description_width": ""
          }
        },
        "6ddc951d3b3f4dd1856da8cc4f33c845": {
          "model_module": "@jupyter-widgets/base",
          "model_module_version": "1.2.0",
          "model_name": "LayoutModel",
          "state": {
            "_model_module": "@jupyter-widgets/base",
            "_model_module_version": "1.2.0",
            "_model_name": "LayoutModel",
            "_view_count": null,
            "_view_module": "@jupyter-widgets/base",
            "_view_module_version": "1.2.0",
            "_view_name": "LayoutView",
            "align_content": null,
            "align_items": null,
            "align_self": null,
            "border": null,
            "bottom": null,
            "display": null,
            "flex": "2",
            "flex_flow": null,
            "grid_area": null,
            "grid_auto_columns": null,
            "grid_auto_flow": null,
            "grid_auto_rows": null,
            "grid_column": null,
            "grid_gap": null,
            "grid_row": null,
            "grid_template_areas": null,
            "grid_template_columns": null,
            "grid_template_rows": null,
            "height": null,
            "justify_content": null,
            "justify_items": null,
            "left": null,
            "margin": null,
            "max_height": null,
            "max_width": null,
            "min_height": null,
            "min_width": null,
            "object_fit": null,
            "object_position": null,
            "order": null,
            "overflow": null,
            "overflow_x": null,
            "overflow_y": null,
            "padding": null,
            "right": null,
            "top": null,
            "visibility": null,
            "width": null
          }
        },
        "720e60b3263f483aa3c49f7026753c82": {
          "model_module": "@jupyter-widgets/controls",
          "model_module_version": "1.5.0",
          "model_name": "HTMLModel",
          "state": {
            "_dom_classes": [],
            "_model_module": "@jupyter-widgets/controls",
            "_model_module_version": "1.5.0",
            "_model_name": "HTMLModel",
            "_view_count": null,
            "_view_module": "@jupyter-widgets/controls",
            "_view_module_version": "1.5.0",
            "_view_name": "HTMLView",
            "description": "",
            "description_tooltip": null,
            "layout": "IPY_MODEL_69fe9faf4285462a9d15999a0b964a1e",
            "placeholder": "​",
            "style": "IPY_MODEL_1f840beacd214faebbdb04f1ac2955c9",
            "value": "Validation DataLoader 0: 100%"
          }
        },
        "76f5ac48986247cf96a48d8d15ef5c7f": {
          "model_module": "@jupyter-widgets/controls",
          "model_module_version": "1.5.0",
          "model_name": "ProgressStyleModel",
          "state": {
            "_model_module": "@jupyter-widgets/controls",
            "_model_module_version": "1.5.0",
            "_model_name": "ProgressStyleModel",
            "_view_count": null,
            "_view_module": "@jupyter-widgets/base",
            "_view_module_version": "1.2.0",
            "_view_name": "StyleView",
            "bar_color": null,
            "description_width": ""
          }
        },
        "7b238d1332d043e6b9e61bbfb9a85ed2": {
          "model_module": "@jupyter-widgets/base",
          "model_module_version": "1.2.0",
          "model_name": "LayoutModel",
          "state": {
            "_model_module": "@jupyter-widgets/base",
            "_model_module_version": "1.2.0",
            "_model_name": "LayoutModel",
            "_view_count": null,
            "_view_module": "@jupyter-widgets/base",
            "_view_module_version": "1.2.0",
            "_view_name": "LayoutView",
            "align_content": null,
            "align_items": null,
            "align_self": null,
            "border": null,
            "bottom": null,
            "display": null,
            "flex": null,
            "flex_flow": null,
            "grid_area": null,
            "grid_auto_columns": null,
            "grid_auto_flow": null,
            "grid_auto_rows": null,
            "grid_column": null,
            "grid_gap": null,
            "grid_row": null,
            "grid_template_areas": null,
            "grid_template_columns": null,
            "grid_template_rows": null,
            "height": null,
            "justify_content": null,
            "justify_items": null,
            "left": null,
            "margin": null,
            "max_height": null,
            "max_width": null,
            "min_height": null,
            "min_width": null,
            "object_fit": null,
            "object_position": null,
            "order": null,
            "overflow": null,
            "overflow_x": null,
            "overflow_y": null,
            "padding": null,
            "right": null,
            "top": null,
            "visibility": null,
            "width": null
          }
        },
        "8654a043cd044b64993a6ea232547f6d": {
          "model_module": "@jupyter-widgets/base",
          "model_module_version": "1.2.0",
          "model_name": "LayoutModel",
          "state": {
            "_model_module": "@jupyter-widgets/base",
            "_model_module_version": "1.2.0",
            "_model_name": "LayoutModel",
            "_view_count": null,
            "_view_module": "@jupyter-widgets/base",
            "_view_module_version": "1.2.0",
            "_view_name": "LayoutView",
            "align_content": null,
            "align_items": null,
            "align_self": null,
            "border": null,
            "bottom": null,
            "display": "inline-flex",
            "flex": null,
            "flex_flow": "row wrap",
            "grid_area": null,
            "grid_auto_columns": null,
            "grid_auto_flow": null,
            "grid_auto_rows": null,
            "grid_column": null,
            "grid_gap": null,
            "grid_row": null,
            "grid_template_areas": null,
            "grid_template_columns": null,
            "grid_template_rows": null,
            "height": null,
            "justify_content": null,
            "justify_items": null,
            "left": null,
            "margin": null,
            "max_height": null,
            "max_width": null,
            "min_height": null,
            "min_width": null,
            "object_fit": null,
            "object_position": null,
            "order": null,
            "overflow": null,
            "overflow_x": null,
            "overflow_y": null,
            "padding": null,
            "right": null,
            "top": null,
            "visibility": "hidden",
            "width": "100%"
          }
        },
        "8962548f001840718483f51b995f4e92": {
          "model_module": "@jupyter-widgets/base",
          "model_module_version": "1.2.0",
          "model_name": "LayoutModel",
          "state": {
            "_model_module": "@jupyter-widgets/base",
            "_model_module_version": "1.2.0",
            "_model_name": "LayoutModel",
            "_view_count": null,
            "_view_module": "@jupyter-widgets/base",
            "_view_module_version": "1.2.0",
            "_view_name": "LayoutView",
            "align_content": null,
            "align_items": null,
            "align_self": null,
            "border": null,
            "bottom": null,
            "display": null,
            "flex": null,
            "flex_flow": null,
            "grid_area": null,
            "grid_auto_columns": null,
            "grid_auto_flow": null,
            "grid_auto_rows": null,
            "grid_column": null,
            "grid_gap": null,
            "grid_row": null,
            "grid_template_areas": null,
            "grid_template_columns": null,
            "grid_template_rows": null,
            "height": null,
            "justify_content": null,
            "justify_items": null,
            "left": null,
            "margin": null,
            "max_height": null,
            "max_width": null,
            "min_height": null,
            "min_width": null,
            "object_fit": null,
            "object_position": null,
            "order": null,
            "overflow": null,
            "overflow_x": null,
            "overflow_y": null,
            "padding": null,
            "right": null,
            "top": null,
            "visibility": null,
            "width": null
          }
        },
        "8c4eeb2f257e49d385a9594854eadd28": {
          "model_module": "@jupyter-widgets/controls",
          "model_module_version": "1.5.0",
          "model_name": "DescriptionStyleModel",
          "state": {
            "_model_module": "@jupyter-widgets/controls",
            "_model_module_version": "1.5.0",
            "_model_name": "DescriptionStyleModel",
            "_view_count": null,
            "_view_module": "@jupyter-widgets/base",
            "_view_module_version": "1.2.0",
            "_view_name": "StyleView",
            "description_width": ""
          }
        },
        "8cc8471a897c465ca0c62f7e071f3040": {
          "model_module": "@jupyter-widgets/base",
          "model_module_version": "1.2.0",
          "model_name": "LayoutModel",
          "state": {
            "_model_module": "@jupyter-widgets/base",
            "_model_module_version": "1.2.0",
            "_model_name": "LayoutModel",
            "_view_count": null,
            "_view_module": "@jupyter-widgets/base",
            "_view_module_version": "1.2.0",
            "_view_name": "LayoutView",
            "align_content": null,
            "align_items": null,
            "align_self": null,
            "border": null,
            "bottom": null,
            "display": null,
            "flex": null,
            "flex_flow": null,
            "grid_area": null,
            "grid_auto_columns": null,
            "grid_auto_flow": null,
            "grid_auto_rows": null,
            "grid_column": null,
            "grid_gap": null,
            "grid_row": null,
            "grid_template_areas": null,
            "grid_template_columns": null,
            "grid_template_rows": null,
            "height": null,
            "justify_content": null,
            "justify_items": null,
            "left": null,
            "margin": null,
            "max_height": null,
            "max_width": null,
            "min_height": null,
            "min_width": null,
            "object_fit": null,
            "object_position": null,
            "order": null,
            "overflow": null,
            "overflow_x": null,
            "overflow_y": null,
            "padding": null,
            "right": null,
            "top": null,
            "visibility": null,
            "width": null
          }
        },
        "8e3f9905a4324e2e8e0b956fe78aa9fd": {
          "model_module": "@jupyter-widgets/base",
          "model_module_version": "1.2.0",
          "model_name": "LayoutModel",
          "state": {
            "_model_module": "@jupyter-widgets/base",
            "_model_module_version": "1.2.0",
            "_model_name": "LayoutModel",
            "_view_count": null,
            "_view_module": "@jupyter-widgets/base",
            "_view_module_version": "1.2.0",
            "_view_name": "LayoutView",
            "align_content": null,
            "align_items": null,
            "align_self": null,
            "border": null,
            "bottom": null,
            "display": "inline-flex",
            "flex": null,
            "flex_flow": "row wrap",
            "grid_area": null,
            "grid_auto_columns": null,
            "grid_auto_flow": null,
            "grid_auto_rows": null,
            "grid_column": null,
            "grid_gap": null,
            "grid_row": null,
            "grid_template_areas": null,
            "grid_template_columns": null,
            "grid_template_rows": null,
            "height": null,
            "justify_content": null,
            "justify_items": null,
            "left": null,
            "margin": null,
            "max_height": null,
            "max_width": null,
            "min_height": null,
            "min_width": null,
            "object_fit": null,
            "object_position": null,
            "order": null,
            "overflow": null,
            "overflow_x": null,
            "overflow_y": null,
            "padding": null,
            "right": null,
            "top": null,
            "visibility": null,
            "width": "100%"
          }
        },
        "8e69604703404114949ed6ba2107c709": {
          "model_module": "@jupyter-widgets/controls",
          "model_module_version": "1.5.0",
          "model_name": "HTMLModel",
          "state": {
            "_dom_classes": [],
            "_model_module": "@jupyter-widgets/controls",
            "_model_module_version": "1.5.0",
            "_model_name": "HTMLModel",
            "_view_count": null,
            "_view_module": "@jupyter-widgets/controls",
            "_view_module_version": "1.5.0",
            "_view_name": "HTMLView",
            "description": "",
            "description_tooltip": null,
            "layout": "IPY_MODEL_7b238d1332d043e6b9e61bbfb9a85ed2",
            "placeholder": "​",
            "style": "IPY_MODEL_9ff639c05c3d4e35834deec6d35220f6",
            "value": "Sanity Checking DataLoader 0: 100%"
          }
        },
        "90b44acdaabe4354a0340c59c1df8311": {
          "model_module": "@jupyter-widgets/controls",
          "model_module_version": "1.5.0",
          "model_name": "FloatProgressModel",
          "state": {
            "_dom_classes": [],
            "_model_module": "@jupyter-widgets/controls",
            "_model_module_version": "1.5.0",
            "_model_name": "FloatProgressModel",
            "_view_count": null,
            "_view_module": "@jupyter-widgets/controls",
            "_view_module_version": "1.5.0",
            "_view_name": "ProgressView",
            "bar_style": "success",
            "description": "",
            "description_tooltip": null,
            "layout": "IPY_MODEL_386f1c36294340bba4921e86aba8917e",
            "max": 79,
            "min": 0,
            "orientation": "horizontal",
            "style": "IPY_MODEL_4499aa1457e94c7780283c3e310d7e0e",
            "value": 79
          }
        },
        "942384aa89ce4bfb87630a09bcfc74e1": {
          "model_module": "@jupyter-widgets/controls",
          "model_module_version": "1.5.0",
          "model_name": "HTMLModel",
          "state": {
            "_dom_classes": [],
            "_model_module": "@jupyter-widgets/controls",
            "_model_module_version": "1.5.0",
            "_model_name": "HTMLModel",
            "_view_count": null,
            "_view_module": "@jupyter-widgets/controls",
            "_view_module_version": "1.5.0",
            "_view_name": "HTMLView",
            "description": "",
            "description_tooltip": null,
            "layout": "IPY_MODEL_94f60555e9c949909b9ed83eab8b4bf5",
            "placeholder": "​",
            "style": "IPY_MODEL_8c4eeb2f257e49d385a9594854eadd28",
            "value": " 59/59 [00:02&lt;00:00, 25.54it/s]"
          }
        },
        "94f60555e9c949909b9ed83eab8b4bf5": {
          "model_module": "@jupyter-widgets/base",
          "model_module_version": "1.2.0",
          "model_name": "LayoutModel",
          "state": {
            "_model_module": "@jupyter-widgets/base",
            "_model_module_version": "1.2.0",
            "_model_name": "LayoutModel",
            "_view_count": null,
            "_view_module": "@jupyter-widgets/base",
            "_view_module_version": "1.2.0",
            "_view_name": "LayoutView",
            "align_content": null,
            "align_items": null,
            "align_self": null,
            "border": null,
            "bottom": null,
            "display": null,
            "flex": null,
            "flex_flow": null,
            "grid_area": null,
            "grid_auto_columns": null,
            "grid_auto_flow": null,
            "grid_auto_rows": null,
            "grid_column": null,
            "grid_gap": null,
            "grid_row": null,
            "grid_template_areas": null,
            "grid_template_columns": null,
            "grid_template_rows": null,
            "height": null,
            "justify_content": null,
            "justify_items": null,
            "left": null,
            "margin": null,
            "max_height": null,
            "max_width": null,
            "min_height": null,
            "min_width": null,
            "object_fit": null,
            "object_position": null,
            "order": null,
            "overflow": null,
            "overflow_x": null,
            "overflow_y": null,
            "padding": null,
            "right": null,
            "top": null,
            "visibility": null,
            "width": null
          }
        },
        "9ff639c05c3d4e35834deec6d35220f6": {
          "model_module": "@jupyter-widgets/controls",
          "model_module_version": "1.5.0",
          "model_name": "DescriptionStyleModel",
          "state": {
            "_model_module": "@jupyter-widgets/controls",
            "_model_module_version": "1.5.0",
            "_model_name": "DescriptionStyleModel",
            "_view_count": null,
            "_view_module": "@jupyter-widgets/base",
            "_view_module_version": "1.2.0",
            "_view_name": "StyleView",
            "description_width": ""
          }
        },
        "adf3182e6b754cbfbc3ac2a9f1ffbfc5": {
          "model_module": "@jupyter-widgets/controls",
          "model_module_version": "1.5.0",
          "model_name": "HBoxModel",
          "state": {
            "_dom_classes": [],
            "_model_module": "@jupyter-widgets/controls",
            "_model_module_version": "1.5.0",
            "_model_name": "HBoxModel",
            "_view_count": null,
            "_view_module": "@jupyter-widgets/controls",
            "_view_module_version": "1.5.0",
            "_view_name": "HBoxView",
            "box_style": "",
            "children": [
              "IPY_MODEL_720e60b3263f483aa3c49f7026753c82",
              "IPY_MODEL_2b9f29e7a7b341998f6c3f98132e4410",
              "IPY_MODEL_942384aa89ce4bfb87630a09bcfc74e1"
            ],
            "layout": "IPY_MODEL_614465b031fc4d70b4d37e03de1e43ea"
          }
        },
        "aeb4723337114b4e9b11afb5e06b9c34": {
          "model_module": "@jupyter-widgets/base",
          "model_module_version": "1.2.0",
          "model_name": "LayoutModel",
          "state": {
            "_model_module": "@jupyter-widgets/base",
            "_model_module_version": "1.2.0",
            "_model_name": "LayoutModel",
            "_view_count": null,
            "_view_module": "@jupyter-widgets/base",
            "_view_module_version": "1.2.0",
            "_view_name": "LayoutView",
            "align_content": null,
            "align_items": null,
            "align_self": null,
            "border": null,
            "bottom": null,
            "display": null,
            "flex": null,
            "flex_flow": null,
            "grid_area": null,
            "grid_auto_columns": null,
            "grid_auto_flow": null,
            "grid_auto_rows": null,
            "grid_column": null,
            "grid_gap": null,
            "grid_row": null,
            "grid_template_areas": null,
            "grid_template_columns": null,
            "grid_template_rows": null,
            "height": null,
            "justify_content": null,
            "justify_items": null,
            "left": null,
            "margin": null,
            "max_height": null,
            "max_width": null,
            "min_height": null,
            "min_width": null,
            "object_fit": null,
            "object_position": null,
            "order": null,
            "overflow": null,
            "overflow_x": null,
            "overflow_y": null,
            "padding": null,
            "right": null,
            "top": null,
            "visibility": null,
            "width": null
          }
        },
        "af4c000517914514ba3de7bc52a3a15e": {
          "model_module": "@jupyter-widgets/controls",
          "model_module_version": "1.5.0",
          "model_name": "FloatProgressModel",
          "state": {
            "_dom_classes": [],
            "_model_module": "@jupyter-widgets/controls",
            "_model_module_version": "1.5.0",
            "_model_name": "FloatProgressModel",
            "_view_count": null,
            "_view_module": "@jupyter-widgets/controls",
            "_view_module_version": "1.5.0",
            "_view_name": "ProgressView",
            "bar_style": "",
            "description": "",
            "description_tooltip": null,
            "layout": "IPY_MODEL_e78d6777e775457588860ce91b112b84",
            "max": 59,
            "min": 0,
            "orientation": "horizontal",
            "style": "IPY_MODEL_3103237e73cc47fd9c2d835381843c4b",
            "value": 59
          }
        },
        "b45214c05b504d51900a3d964920249c": {
          "model_module": "@jupyter-widgets/base",
          "model_module_version": "1.2.0",
          "model_name": "LayoutModel",
          "state": {
            "_model_module": "@jupyter-widgets/base",
            "_model_module_version": "1.2.0",
            "_model_name": "LayoutModel",
            "_view_count": null,
            "_view_module": "@jupyter-widgets/base",
            "_view_module_version": "1.2.0",
            "_view_name": "LayoutView",
            "align_content": null,
            "align_items": null,
            "align_self": null,
            "border": null,
            "bottom": null,
            "display": null,
            "flex": null,
            "flex_flow": null,
            "grid_area": null,
            "grid_auto_columns": null,
            "grid_auto_flow": null,
            "grid_auto_rows": null,
            "grid_column": null,
            "grid_gap": null,
            "grid_row": null,
            "grid_template_areas": null,
            "grid_template_columns": null,
            "grid_template_rows": null,
            "height": null,
            "justify_content": null,
            "justify_items": null,
            "left": null,
            "margin": null,
            "max_height": null,
            "max_width": null,
            "min_height": null,
            "min_width": null,
            "object_fit": null,
            "object_position": null,
            "order": null,
            "overflow": null,
            "overflow_x": null,
            "overflow_y": null,
            "padding": null,
            "right": null,
            "top": null,
            "visibility": null,
            "width": null
          }
        },
        "b6d3c3e643bd41369d9f468c8005d7db": {
          "model_module": "@jupyter-widgets/controls",
          "model_module_version": "1.5.0",
          "model_name": "DescriptionStyleModel",
          "state": {
            "_model_module": "@jupyter-widgets/controls",
            "_model_module_version": "1.5.0",
            "_model_name": "DescriptionStyleModel",
            "_view_count": null,
            "_view_module": "@jupyter-widgets/base",
            "_view_module_version": "1.2.0",
            "_view_name": "StyleView",
            "description_width": ""
          }
        },
        "be3af10682dd4c7cb78a5335ad2bb17c": {
          "model_module": "@jupyter-widgets/controls",
          "model_module_version": "1.5.0",
          "model_name": "HTMLModel",
          "state": {
            "_dom_classes": [],
            "_model_module": "@jupyter-widgets/controls",
            "_model_module_version": "1.5.0",
            "_model_name": "HTMLModel",
            "_view_count": null,
            "_view_module": "@jupyter-widgets/controls",
            "_view_module_version": "1.5.0",
            "_view_name": "HTMLView",
            "description": "",
            "description_tooltip": null,
            "layout": "IPY_MODEL_5625606c2b454063832f35fb0ae00536",
            "placeholder": "​",
            "style": "IPY_MODEL_5d630f18efd449c8a9448075017b18e5",
            "value": "Testing DataLoader 0: 100%"
          }
        },
        "c6a558e20ed34176aab000a64be56384": {
          "model_module": "@jupyter-widgets/base",
          "model_module_version": "1.2.0",
          "model_name": "LayoutModel",
          "state": {
            "_model_module": "@jupyter-widgets/base",
            "_model_module_version": "1.2.0",
            "_model_name": "LayoutModel",
            "_view_count": null,
            "_view_module": "@jupyter-widgets/base",
            "_view_module_version": "1.2.0",
            "_view_name": "LayoutView",
            "align_content": null,
            "align_items": null,
            "align_self": null,
            "border": null,
            "bottom": null,
            "display": "inline-flex",
            "flex": null,
            "flex_flow": "row wrap",
            "grid_area": null,
            "grid_auto_columns": null,
            "grid_auto_flow": null,
            "grid_auto_rows": null,
            "grid_column": null,
            "grid_gap": null,
            "grid_row": null,
            "grid_template_areas": null,
            "grid_template_columns": null,
            "grid_template_rows": null,
            "height": null,
            "justify_content": null,
            "justify_items": null,
            "left": null,
            "margin": null,
            "max_height": null,
            "max_width": null,
            "min_height": null,
            "min_width": null,
            "object_fit": null,
            "object_position": null,
            "order": null,
            "overflow": null,
            "overflow_x": null,
            "overflow_y": null,
            "padding": null,
            "right": null,
            "top": null,
            "visibility": null,
            "width": "100%"
          }
        },
        "ce8348fdf88448c3b452f642447a6748": {
          "model_module": "@jupyter-widgets/base",
          "model_module_version": "1.2.0",
          "model_name": "LayoutModel",
          "state": {
            "_model_module": "@jupyter-widgets/base",
            "_model_module_version": "1.2.0",
            "_model_name": "LayoutModel",
            "_view_count": null,
            "_view_module": "@jupyter-widgets/base",
            "_view_module_version": "1.2.0",
            "_view_name": "LayoutView",
            "align_content": null,
            "align_items": null,
            "align_self": null,
            "border": null,
            "bottom": null,
            "display": null,
            "flex": "2",
            "flex_flow": null,
            "grid_area": null,
            "grid_auto_columns": null,
            "grid_auto_flow": null,
            "grid_auto_rows": null,
            "grid_column": null,
            "grid_gap": null,
            "grid_row": null,
            "grid_template_areas": null,
            "grid_template_columns": null,
            "grid_template_rows": null,
            "height": null,
            "justify_content": null,
            "justify_items": null,
            "left": null,
            "margin": null,
            "max_height": null,
            "max_width": null,
            "min_height": null,
            "min_width": null,
            "object_fit": null,
            "object_position": null,
            "order": null,
            "overflow": null,
            "overflow_x": null,
            "overflow_y": null,
            "padding": null,
            "right": null,
            "top": null,
            "visibility": null,
            "width": null
          }
        },
        "cf2ec98dedf44c75b7ab31a7eaf890fa": {
          "model_module": "@jupyter-widgets/controls",
          "model_module_version": "1.5.0",
          "model_name": "DescriptionStyleModel",
          "state": {
            "_model_module": "@jupyter-widgets/controls",
            "_model_module_version": "1.5.0",
            "_model_name": "DescriptionStyleModel",
            "_view_count": null,
            "_view_module": "@jupyter-widgets/base",
            "_view_module_version": "1.2.0",
            "_view_name": "StyleView",
            "description_width": ""
          }
        },
        "d0fba15ba554445a8e65ec3f1ad9ff4c": {
          "model_module": "@jupyter-widgets/controls",
          "model_module_version": "1.5.0",
          "model_name": "DescriptionStyleModel",
          "state": {
            "_model_module": "@jupyter-widgets/controls",
            "_model_module_version": "1.5.0",
            "_model_name": "DescriptionStyleModel",
            "_view_count": null,
            "_view_module": "@jupyter-widgets/base",
            "_view_module_version": "1.2.0",
            "_view_name": "StyleView",
            "description_width": ""
          }
        },
        "d3fac85785ea4a98b12d7bec3dfda3ce": {
          "model_module": "@jupyter-widgets/controls",
          "model_module_version": "1.5.0",
          "model_name": "HTMLModel",
          "state": {
            "_dom_classes": [],
            "_model_module": "@jupyter-widgets/controls",
            "_model_module_version": "1.5.0",
            "_model_name": "HTMLModel",
            "_view_count": null,
            "_view_module": "@jupyter-widgets/controls",
            "_view_module_version": "1.5.0",
            "_view_name": "HTMLView",
            "description": "",
            "description_tooltip": null,
            "layout": "IPY_MODEL_aeb4723337114b4e9b11afb5e06b9c34",
            "placeholder": "​",
            "style": "IPY_MODEL_d0fba15ba554445a8e65ec3f1ad9ff4c",
            "value": " 392/392 [00:20&lt;00:00, 19.59it/s, loss=3.37, v_num=ibjm]"
          }
        },
        "da619a4ac66444d980f033d6e00c2645": {
          "model_module": "@jupyter-widgets/controls",
          "model_module_version": "1.5.0",
          "model_name": "DescriptionStyleModel",
          "state": {
            "_model_module": "@jupyter-widgets/controls",
            "_model_module_version": "1.5.0",
            "_model_name": "DescriptionStyleModel",
            "_view_count": null,
            "_view_module": "@jupyter-widgets/base",
            "_view_module_version": "1.2.0",
            "_view_name": "StyleView",
            "description_width": ""
          }
        },
        "dc450ae5f7494483b3be28c0a81a685a": {
          "model_module": "@jupyter-widgets/base",
          "model_module_version": "1.2.0",
          "model_name": "LayoutModel",
          "state": {
            "_model_module": "@jupyter-widgets/base",
            "_model_module_version": "1.2.0",
            "_model_name": "LayoutModel",
            "_view_count": null,
            "_view_module": "@jupyter-widgets/base",
            "_view_module_version": "1.2.0",
            "_view_name": "LayoutView",
            "align_content": null,
            "align_items": null,
            "align_self": null,
            "border": null,
            "bottom": null,
            "display": null,
            "flex": null,
            "flex_flow": null,
            "grid_area": null,
            "grid_auto_columns": null,
            "grid_auto_flow": null,
            "grid_auto_rows": null,
            "grid_column": null,
            "grid_gap": null,
            "grid_row": null,
            "grid_template_areas": null,
            "grid_template_columns": null,
            "grid_template_rows": null,
            "height": null,
            "justify_content": null,
            "justify_items": null,
            "left": null,
            "margin": null,
            "max_height": null,
            "max_width": null,
            "min_height": null,
            "min_width": null,
            "object_fit": null,
            "object_position": null,
            "order": null,
            "overflow": null,
            "overflow_x": null,
            "overflow_y": null,
            "padding": null,
            "right": null,
            "top": null,
            "visibility": null,
            "width": null
          }
        },
        "e0a3475a7d8648e7ac94339767889291": {
          "model_module": "@jupyter-widgets/controls",
          "model_module_version": "1.5.0",
          "model_name": "HTMLModel",
          "state": {
            "_dom_classes": [],
            "_model_module": "@jupyter-widgets/controls",
            "_model_module_version": "1.5.0",
            "_model_name": "HTMLModel",
            "_view_count": null,
            "_view_module": "@jupyter-widgets/controls",
            "_view_module_version": "1.5.0",
            "_view_name": "HTMLView",
            "description": "",
            "description_tooltip": null,
            "layout": "IPY_MODEL_8962548f001840718483f51b995f4e92",
            "placeholder": "​",
            "style": "IPY_MODEL_5ed3007de6af46e89d71402bb184a790",
            "value": " 59/59 [00:02&lt;00:00, 25.58it/s]"
          }
        },
        "e25510f7928b4edbaddc62c7c7a26219": {
          "model_module": "@jupyter-widgets/controls",
          "model_module_version": "1.5.0",
          "model_name": "HTMLModel",
          "state": {
            "_dom_classes": [],
            "_model_module": "@jupyter-widgets/controls",
            "_model_module_version": "1.5.0",
            "_model_name": "HTMLModel",
            "_view_count": null,
            "_view_module": "@jupyter-widgets/controls",
            "_view_module_version": "1.5.0",
            "_view_name": "HTMLView",
            "description": "",
            "description_tooltip": null,
            "layout": "IPY_MODEL_6272b0c6451f449ebd073d556807da33",
            "placeholder": "​",
            "style": "IPY_MODEL_3a8c7fa78eea425f9954680c6065a1f4",
            "value": "Testing DataLoader 0: 100%"
          }
        },
        "e78d6777e775457588860ce91b112b84": {
          "model_module": "@jupyter-widgets/base",
          "model_module_version": "1.2.0",
          "model_name": "LayoutModel",
          "state": {
            "_model_module": "@jupyter-widgets/base",
            "_model_module_version": "1.2.0",
            "_model_name": "LayoutModel",
            "_view_count": null,
            "_view_module": "@jupyter-widgets/base",
            "_view_module_version": "1.2.0",
            "_view_name": "LayoutView",
            "align_content": null,
            "align_items": null,
            "align_self": null,
            "border": null,
            "bottom": null,
            "display": null,
            "flex": "2",
            "flex_flow": null,
            "grid_area": null,
            "grid_auto_columns": null,
            "grid_auto_flow": null,
            "grid_auto_rows": null,
            "grid_column": null,
            "grid_gap": null,
            "grid_row": null,
            "grid_template_areas": null,
            "grid_template_columns": null,
            "grid_template_rows": null,
            "height": null,
            "justify_content": null,
            "justify_items": null,
            "left": null,
            "margin": null,
            "max_height": null,
            "max_width": null,
            "min_height": null,
            "min_width": null,
            "object_fit": null,
            "object_position": null,
            "order": null,
            "overflow": null,
            "overflow_x": null,
            "overflow_y": null,
            "padding": null,
            "right": null,
            "top": null,
            "visibility": null,
            "width": null
          }
        },
        "ea50bc19c34e47efb561fa0ab4f74774": {
          "model_module": "@jupyter-widgets/base",
          "model_module_version": "1.2.0",
          "model_name": "LayoutModel",
          "state": {
            "_model_module": "@jupyter-widgets/base",
            "_model_module_version": "1.2.0",
            "_model_name": "LayoutModel",
            "_view_count": null,
            "_view_module": "@jupyter-widgets/base",
            "_view_module_version": "1.2.0",
            "_view_name": "LayoutView",
            "align_content": null,
            "align_items": null,
            "align_self": null,
            "border": null,
            "bottom": null,
            "display": null,
            "flex": null,
            "flex_flow": null,
            "grid_area": null,
            "grid_auto_columns": null,
            "grid_auto_flow": null,
            "grid_auto_rows": null,
            "grid_column": null,
            "grid_gap": null,
            "grid_row": null,
            "grid_template_areas": null,
            "grid_template_columns": null,
            "grid_template_rows": null,
            "height": null,
            "justify_content": null,
            "justify_items": null,
            "left": null,
            "margin": null,
            "max_height": null,
            "max_width": null,
            "min_height": null,
            "min_width": null,
            "object_fit": null,
            "object_position": null,
            "order": null,
            "overflow": null,
            "overflow_x": null,
            "overflow_y": null,
            "padding": null,
            "right": null,
            "top": null,
            "visibility": null,
            "width": null
          }
        },
        "f5b6e9496eca49b3af6aebe28576e549": {
          "model_module": "@jupyter-widgets/controls",
          "model_module_version": "1.5.0",
          "model_name": "HTMLModel",
          "state": {
            "_dom_classes": [],
            "_model_module": "@jupyter-widgets/controls",
            "_model_module_version": "1.5.0",
            "_model_name": "HTMLModel",
            "_view_count": null,
            "_view_module": "@jupyter-widgets/controls",
            "_view_module_version": "1.5.0",
            "_view_name": "HTMLView",
            "description": "",
            "description_tooltip": null,
            "layout": "IPY_MODEL_27b4f84bb2fe492d9f0805127f2d91a2",
            "placeholder": "​",
            "style": "IPY_MODEL_68927bc2cf504fd587cba9e98f2f4c72",
            "value": " 79/79 [00:02&lt;00:00, 36.36it/s]"
          }
        },
        "f9e9c0b783fa4919999b09cb13a7d777": {
          "model_module": "@jupyter-widgets/controls",
          "model_module_version": "1.5.0",
          "model_name": "HBoxModel",
          "state": {
            "_dom_classes": [],
            "_model_module": "@jupyter-widgets/controls",
            "_model_module_version": "1.5.0",
            "_model_name": "HBoxModel",
            "_view_count": null,
            "_view_module": "@jupyter-widgets/controls",
            "_view_module_version": "1.5.0",
            "_view_name": "HBoxView",
            "box_style": "",
            "children": [
              "IPY_MODEL_2c182c73faed47ba8eb7f8892692830e",
              "IPY_MODEL_af4c000517914514ba3de7bc52a3a15e",
              "IPY_MODEL_e0a3475a7d8648e7ac94339767889291"
            ],
            "layout": "IPY_MODEL_8654a043cd044b64993a6ea232547f6d"
          }
        }
      }
    }
  },
  "nbformat": 4,
  "nbformat_minor": 0
}