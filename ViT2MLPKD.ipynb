{
  "cells": [
    {
      "cell_type": "markdown",
      "metadata": {
        "id": "view-in-github"
      },
      "source": [
        "<a href=\"https://colab.research.google.com/github/MatteoGioia/ViT2MLPMixerKD/blob/main/ViT2MLPKD.ipynb\" target=\"_parent\"><img src=\"https://colab.research.google.com/assets/colab-badge.svg\" alt=\"Open In Colab\"/></a>"
      ]
    },
    {
      "cell_type": "markdown",
      "metadata": {
        "id": "dL7l7ZJI61rQ"
      },
      "source": [
        "# Knowledge distillation\n",
        "In this notebook, we will try to distill the knowledge of a Vision Transformer into a MLP Mixer."
      ]
    },
    {
      "cell_type": "markdown",
      "metadata": {
        "id": "ES_z2lrFzS4Q"
      },
      "source": [
        "##0. Setup"
      ]
    },
    {
      "cell_type": "markdown",
      "metadata": {
        "id": "_EvwYoj0z8Ge"
      },
      "source": [
        "### 0.1 Downloads and imports"
      ]
    },
    {
      "cell_type": "code",
      "execution_count": 1,
      "metadata": {
        "cellView": "form",
        "colab": {
          "base_uri": "https://localhost:8080/"
        },
        "execution": {
          "iopub.execute_input": "2022-12-13T14:10:23.954779Z",
          "iopub.status.busy": "2022-12-13T14:10:23.954411Z",
          "iopub.status.idle": "2022-12-13T14:10:39.872727Z",
          "shell.execute_reply": "2022-12-13T14:10:39.871578Z",
          "shell.execute_reply.started": "2022-12-13T14:10:23.954713Z"
        },
        "id": "4Ol5yDer7LaO",
        "outputId": "8fbc1655-b6c2-4d0b-c958-d030d7ba9029"
      },
      "outputs": [
        {
          "output_type": "stream",
          "name": "stdout",
          "text": [
            "\u001b[K     |████████████████████████████████| 5.8 MB 27.5 MB/s \n",
            "\u001b[K     |████████████████████████████████| 451 kB 66.0 MB/s \n",
            "\u001b[K     |████████████████████████████████| 800 kB 57.7 MB/s \n",
            "\u001b[K     |████████████████████████████████| 7.6 MB 68.1 MB/s \n",
            "\u001b[K     |████████████████████████████████| 182 kB 27.0 MB/s \n",
            "\u001b[K     |████████████████████████████████| 125 kB 68.9 MB/s \n",
            "\u001b[K     |████████████████████████████████| 512 kB 68.3 MB/s \n",
            "\u001b[K     |████████████████████████████████| 132 kB 79.0 MB/s \n",
            "\u001b[K     |████████████████████████████████| 212 kB 72.8 MB/s \n",
            "\u001b[K     |████████████████████████████████| 127 kB 74.6 MB/s \n",
            "\u001b[K     |████████████████████████████████| 1.9 MB 38.7 MB/s \n",
            "\u001b[K     |████████████████████████████████| 168 kB 68.7 MB/s \n",
            "\u001b[K     |████████████████████████████████| 182 kB 74.4 MB/s \n",
            "\u001b[K     |████████████████████████████████| 62 kB 1.5 MB/s \n",
            "\u001b[K     |████████████████████████████████| 168 kB 77.2 MB/s \n",
            "\u001b[K     |████████████████████████████████| 166 kB 63.2 MB/s \n",
            "\u001b[K     |████████████████████████████████| 166 kB 77.1 MB/s \n",
            "\u001b[K     |████████████████████████████████| 162 kB 79.3 MB/s \n",
            "\u001b[K     |████████████████████████████████| 162 kB 71.3 MB/s \n",
            "\u001b[K     |████████████████████████████████| 158 kB 99.7 MB/s \n",
            "\u001b[K     |████████████████████████████████| 157 kB 78.5 MB/s \n",
            "\u001b[K     |████████████████████████████████| 157 kB 73.4 MB/s \n",
            "\u001b[K     |████████████████████████████████| 157 kB 80.2 MB/s \n",
            "\u001b[K     |████████████████████████████████| 157 kB 85.3 MB/s \n",
            "\u001b[K     |████████████████████████████████| 157 kB 86.4 MB/s \n",
            "\u001b[K     |████████████████████████████████| 157 kB 84.0 MB/s \n",
            "\u001b[K     |████████████████████████████████| 157 kB 78.4 MB/s \n",
            "\u001b[K     |████████████████████████████████| 156 kB 69.5 MB/s \n",
            "\u001b[?25h  Building wheel for pathtools (setup.py) ... \u001b[?25l\u001b[?25hdone\n",
            "\u001b[K     |████████████████████████████████| 41 kB 582 kB/s \n",
            "\u001b[K     |████████████████████████████████| 549 kB 32.7 MB/s \n",
            "\u001b[?25h"
          ]
        }
      ],
      "source": [
        "#@title Downloads\n",
        "!pip install -q transformers datasets[vision] pytorch-lightning\n",
        "!pip install -q wandb\n",
        "!pip install -q einops\n",
        "!pip install -q timm"
      ]
    },
    {
      "cell_type": "code",
      "execution_count": 5,
      "metadata": {
        "colab": {
          "base_uri": "https://localhost:8080/"
        },
        "execution": {
          "iopub.execute_input": "2022-12-13T14:10:39.875167Z",
          "iopub.status.busy": "2022-12-13T14:10:39.874826Z",
          "iopub.status.idle": "2022-12-13T14:10:42.240821Z",
          "shell.execute_reply": "2022-12-13T14:10:42.240056Z",
          "shell.execute_reply.started": "2022-12-13T14:10:39.875130Z"
        },
        "id": "WumRkwLd7SKG",
        "outputId": "636e0f80-bd3f-49cd-f09b-c2e1164bb649"
      },
      "outputs": [
        {
          "output_type": "stream",
          "name": "stderr",
          "text": [
            "INFO:lightning_lite.utilities.seed:Global seed set to 42\n"
          ]
        },
        {
          "output_type": "stream",
          "name": "stdout",
          "text": [
            "You are going to train the distillation on cuda\n"
          ]
        }
      ],
      "source": [
        "#@title Imports\n",
        "\n",
        "# general imports\n",
        "from google.colab import drive\n",
        "from typing import *\n",
        "import os\n",
        "import random\n",
        "from pathlib import Path\n",
        "import matplotlib.pyplot as plt\n",
        "from tqdm import tqdm\n",
        "from PIL import Image\n",
        "import wandb\n",
        "\n",
        "# pytorch imports\n",
        "import torchvision\n",
        "import pytorch_lightning as pl\n",
        "from pytorch_lightning import callbacks\n",
        "import transformers\n",
        "#from transformers import ViTFeatureExtractor, ViTForImageClassification\n",
        "import torch\n",
        "\n",
        "import numpy as np\n",
        "import einops\n",
        "import torch.nn as nn\n",
        "import torch.nn.functional as F\n",
        "\n",
        "#mlp mixer import\n",
        "import timm\n",
        "\n",
        "seed : int = 42\n",
        "device : str = \"cuda\" if torch.cuda.is_available() else \"cpu\"\n",
        "pl.seed_everything(seed)\n",
        "print(f\"You are going to train the distillation on {device}\")"
      ]
    },
    {
      "cell_type": "code",
      "source": [
        "#@title Move to the project folder\n",
        "drive.mount('/content/drive', force_remount=True)\n",
        "\n",
        "%cd /content/drive/MyDrive\n",
        "\n",
        "if not os.path.exists(\"ViT2MLP\"):\n",
        "  os.mkdir(\"ViT2MLP\")\n",
        "\n",
        "%cd ViT2MLP"
      ],
      "metadata": {
        "id": "GrSlopjiUeLp"
      },
      "execution_count": null,
      "outputs": []
    },
    {
      "cell_type": "code",
      "execution_count": null,
      "metadata": {
        "collapsed": true,
        "execution": {
          "iopub.execute_input": "2022-12-13T14:15:03.886461Z",
          "iopub.status.busy": "2022-12-13T14:15:03.886055Z",
          "iopub.status.idle": "2022-12-13T14:25:02.508847Z",
          "shell.execute_reply": "2022-12-13T14:25:02.507616Z",
          "shell.execute_reply.started": "2022-12-13T14:15:03.886436Z"
        },
        "jupyter": {
          "outputs_hidden": true
        },
        "id": "m7LPJLqcTDwa",
        "outputId": "38e74689-625b-4695-a488-0d237e691ea9"
      },
      "outputs": [
        {
          "name": "stdout",
          "output_type": "stream",
          "text": [
            "--2022-12-13 14:15:04--  https://pjreddie.com/media/files/imagenet64.tar\n",
            "Resolving pjreddie.com (pjreddie.com)... 128.208.4.108\n",
            "Connecting to pjreddie.com (pjreddie.com)|128.208.4.108|:443... connected.\n",
            "HTTP request sent, awaiting response... 200 OK\n",
            "Length: 10033909760 (9.3G) [application/octet-stream]\n",
            "Saving to: ‘imagenet64.tar’\n",
            "\n",
            "imagenet64.tar      100%[===================>]   9.34G  23.9MB/s    in 9m 57s  \n",
            "\n",
            "2022-12-13 14:25:01 (16.0 MB/s) - ‘imagenet64.tar’ saved [10033909760/10033909760]\n",
            "\n"
          ]
        },
        {
          "ename": "FileNotFoundError",
          "evalue": "[Errno 2] No such file or directory: './imagenet64/train/'",
          "output_type": "error",
          "traceback": [
            "\u001b[0;31m---------------------------------------------------------------------------\u001b[0m",
            "\u001b[0;31mFileNotFoundError\u001b[0m                         Traceback (most recent call last)",
            "Input \u001b[0;32mIn [3]\u001b[0m, in \u001b[0;36m<cell line: 27>\u001b[0;34m()\u001b[0m\n\u001b[1;32m     23\u001b[0m   \u001b[38;5;66;03m#testloader = torch.utils.data.DataLoader(testset, batch_size=128, shuffle=False, num_workers=4)\u001b[39;00m\n\u001b[1;32m     25\u001b[0m   \u001b[38;5;28;01mreturn\u001b[39;00m trainset, testset\n\u001b[0;32m---> 27\u001b[0m imnet64_train, imnet64_test \u001b[38;5;241m=\u001b[39m \u001b[43mget_imagenet64_data\u001b[49m\u001b[43m(\u001b[49m\u001b[43m)\u001b[49m\n",
            "Input \u001b[0;32mIn [3]\u001b[0m, in \u001b[0;36mget_imagenet64_data\u001b[0;34m()\u001b[0m\n\u001b[1;32m      8\u001b[0m transform_train \u001b[38;5;241m=\u001b[39m torchvision\u001b[38;5;241m.\u001b[39mtransforms\u001b[38;5;241m.\u001b[39mCompose([\n\u001b[1;32m      9\u001b[0m   torchvision\u001b[38;5;241m.\u001b[39mtransforms\u001b[38;5;241m.\u001b[39mResize(\u001b[38;5;241m64\u001b[39m), \u001b[38;5;66;03m# Takes images smaller than 64 and enlarges them\u001b[39;00m\n\u001b[1;32m     10\u001b[0m   torchvision\u001b[38;5;241m.\u001b[39mtransforms\u001b[38;5;241m.\u001b[39mRandomCrop(\u001b[38;5;241m64\u001b[39m, padding\u001b[38;5;241m=\u001b[39m\u001b[38;5;241m4\u001b[39m, padding_mode\u001b[38;5;241m=\u001b[39m\u001b[38;5;124m'\u001b[39m\u001b[38;5;124medge\u001b[39m\u001b[38;5;124m'\u001b[39m), \u001b[38;5;66;03m# Take 64x64 crops from 72x72 padded images\u001b[39;00m\n\u001b[1;32m     11\u001b[0m   torchvision\u001b[38;5;241m.\u001b[39mtransforms\u001b[38;5;241m.\u001b[39mRandomHorizontalFlip(),    \u001b[38;5;66;03m# 50% of time flip image along y-axis\u001b[39;00m\n\u001b[1;32m     12\u001b[0m   torchvision\u001b[38;5;241m.\u001b[39mtransforms\u001b[38;5;241m.\u001b[39mToTensor(),\n\u001b[1;32m     13\u001b[0m ])\n\u001b[1;32m     15\u001b[0m transform_test \u001b[38;5;241m=\u001b[39m torchvision\u001b[38;5;241m.\u001b[39mtransforms\u001b[38;5;241m.\u001b[39mCompose([\n\u001b[1;32m     16\u001b[0m   torchvision\u001b[38;5;241m.\u001b[39mtransforms\u001b[38;5;241m.\u001b[39mToTensor(),\n\u001b[1;32m     17\u001b[0m ])\n\u001b[0;32m---> 19\u001b[0m trainset \u001b[38;5;241m=\u001b[39m \u001b[43mtorchvision\u001b[49m\u001b[38;5;241;43m.\u001b[39;49m\u001b[43mdatasets\u001b[49m\u001b[38;5;241;43m.\u001b[39;49m\u001b[43mImageFolder\u001b[49m\u001b[43m(\u001b[49m\u001b[43mroot\u001b[49m\u001b[38;5;241;43m=\u001b[39;49m\u001b[38;5;124;43m'\u001b[39;49m\u001b[38;5;124;43m./imagenet64/train/\u001b[39;49m\u001b[38;5;124;43m'\u001b[39;49m\u001b[43m,\u001b[49m\u001b[43m \u001b[49m\u001b[43mtransform\u001b[49m\u001b[38;5;241;43m=\u001b[39;49m\u001b[43mtransform_train\u001b[49m\u001b[43m)\u001b[49m\n\u001b[1;32m     20\u001b[0m \u001b[38;5;66;03m#trainloader = torch.utils.data.DataLoader(trainset, batch_size=128, shuffle=True, num_workers=4)\u001b[39;00m\n\u001b[1;32m     22\u001b[0m testset \u001b[38;5;241m=\u001b[39m torchvision\u001b[38;5;241m.\u001b[39mdatasets\u001b[38;5;241m.\u001b[39mImageFolder(root\u001b[38;5;241m=\u001b[39m\u001b[38;5;124m'\u001b[39m\u001b[38;5;124m./imagenet64/val/\u001b[39m\u001b[38;5;124m'\u001b[39m, transform\u001b[38;5;241m=\u001b[39mtransform_test)\n",
            "File \u001b[0;32m/usr/local/lib/python3.9/dist-packages/torchvision/datasets/folder.py:310\u001b[0m, in \u001b[0;36mImageFolder.__init__\u001b[0;34m(self, root, transform, target_transform, loader, is_valid_file)\u001b[0m\n\u001b[1;32m    302\u001b[0m \u001b[38;5;28;01mdef\u001b[39;00m \u001b[38;5;21m__init__\u001b[39m(\n\u001b[1;32m    303\u001b[0m     \u001b[38;5;28mself\u001b[39m,\n\u001b[1;32m    304\u001b[0m     root: \u001b[38;5;28mstr\u001b[39m,\n\u001b[0;32m   (...)\u001b[0m\n\u001b[1;32m    308\u001b[0m     is_valid_file: Optional[Callable[[\u001b[38;5;28mstr\u001b[39m], \u001b[38;5;28mbool\u001b[39m]] \u001b[38;5;241m=\u001b[39m \u001b[38;5;28;01mNone\u001b[39;00m,\n\u001b[1;32m    309\u001b[0m ):\n\u001b[0;32m--> 310\u001b[0m     \u001b[38;5;28;43msuper\u001b[39;49m\u001b[43m(\u001b[49m\u001b[43m)\u001b[49m\u001b[38;5;241;43m.\u001b[39;49m\u001b[38;5;21;43m__init__\u001b[39;49m\u001b[43m(\u001b[49m\n\u001b[1;32m    311\u001b[0m \u001b[43m        \u001b[49m\u001b[43mroot\u001b[49m\u001b[43m,\u001b[49m\n\u001b[1;32m    312\u001b[0m \u001b[43m        \u001b[49m\u001b[43mloader\u001b[49m\u001b[43m,\u001b[49m\n\u001b[1;32m    313\u001b[0m \u001b[43m        \u001b[49m\u001b[43mIMG_EXTENSIONS\u001b[49m\u001b[43m \u001b[49m\u001b[38;5;28;43;01mif\u001b[39;49;00m\u001b[43m \u001b[49m\u001b[43mis_valid_file\u001b[49m\u001b[43m \u001b[49m\u001b[38;5;129;43;01mis\u001b[39;49;00m\u001b[43m \u001b[49m\u001b[38;5;28;43;01mNone\u001b[39;49;00m\u001b[43m \u001b[49m\u001b[38;5;28;43;01melse\u001b[39;49;00m\u001b[43m \u001b[49m\u001b[38;5;28;43;01mNone\u001b[39;49;00m\u001b[43m,\u001b[49m\n\u001b[1;32m    314\u001b[0m \u001b[43m        \u001b[49m\u001b[43mtransform\u001b[49m\u001b[38;5;241;43m=\u001b[39;49m\u001b[43mtransform\u001b[49m\u001b[43m,\u001b[49m\n\u001b[1;32m    315\u001b[0m \u001b[43m        \u001b[49m\u001b[43mtarget_transform\u001b[49m\u001b[38;5;241;43m=\u001b[39;49m\u001b[43mtarget_transform\u001b[49m\u001b[43m,\u001b[49m\n\u001b[1;32m    316\u001b[0m \u001b[43m        \u001b[49m\u001b[43mis_valid_file\u001b[49m\u001b[38;5;241;43m=\u001b[39;49m\u001b[43mis_valid_file\u001b[49m\u001b[43m,\u001b[49m\n\u001b[1;32m    317\u001b[0m \u001b[43m    \u001b[49m\u001b[43m)\u001b[49m\n\u001b[1;32m    318\u001b[0m     \u001b[38;5;28mself\u001b[39m\u001b[38;5;241m.\u001b[39mimgs \u001b[38;5;241m=\u001b[39m \u001b[38;5;28mself\u001b[39m\u001b[38;5;241m.\u001b[39msamples\n",
            "File \u001b[0;32m/usr/local/lib/python3.9/dist-packages/torchvision/datasets/folder.py:145\u001b[0m, in \u001b[0;36mDatasetFolder.__init__\u001b[0;34m(self, root, loader, extensions, transform, target_transform, is_valid_file)\u001b[0m\n\u001b[1;32m    135\u001b[0m \u001b[38;5;28;01mdef\u001b[39;00m \u001b[38;5;21m__init__\u001b[39m(\n\u001b[1;32m    136\u001b[0m     \u001b[38;5;28mself\u001b[39m,\n\u001b[1;32m    137\u001b[0m     root: \u001b[38;5;28mstr\u001b[39m,\n\u001b[0;32m   (...)\u001b[0m\n\u001b[1;32m    142\u001b[0m     is_valid_file: Optional[Callable[[\u001b[38;5;28mstr\u001b[39m], \u001b[38;5;28mbool\u001b[39m]] \u001b[38;5;241m=\u001b[39m \u001b[38;5;28;01mNone\u001b[39;00m,\n\u001b[1;32m    143\u001b[0m ) \u001b[38;5;241m-\u001b[39m\u001b[38;5;241m>\u001b[39m \u001b[38;5;28;01mNone\u001b[39;00m:\n\u001b[1;32m    144\u001b[0m     \u001b[38;5;28msuper\u001b[39m()\u001b[38;5;241m.\u001b[39m\u001b[38;5;21m__init__\u001b[39m(root, transform\u001b[38;5;241m=\u001b[39mtransform, target_transform\u001b[38;5;241m=\u001b[39mtarget_transform)\n\u001b[0;32m--> 145\u001b[0m     classes, class_to_idx \u001b[38;5;241m=\u001b[39m \u001b[38;5;28;43mself\u001b[39;49m\u001b[38;5;241;43m.\u001b[39;49m\u001b[43mfind_classes\u001b[49m\u001b[43m(\u001b[49m\u001b[38;5;28;43mself\u001b[39;49m\u001b[38;5;241;43m.\u001b[39;49m\u001b[43mroot\u001b[49m\u001b[43m)\u001b[49m\n\u001b[1;32m    146\u001b[0m     samples \u001b[38;5;241m=\u001b[39m \u001b[38;5;28mself\u001b[39m\u001b[38;5;241m.\u001b[39mmake_dataset(\u001b[38;5;28mself\u001b[39m\u001b[38;5;241m.\u001b[39mroot, class_to_idx, extensions, is_valid_file)\n\u001b[1;32m    148\u001b[0m     \u001b[38;5;28mself\u001b[39m\u001b[38;5;241m.\u001b[39mloader \u001b[38;5;241m=\u001b[39m loader\n",
            "File \u001b[0;32m/usr/local/lib/python3.9/dist-packages/torchvision/datasets/folder.py:219\u001b[0m, in \u001b[0;36mDatasetFolder.find_classes\u001b[0;34m(self, directory)\u001b[0m\n\u001b[1;32m    192\u001b[0m \u001b[38;5;28;01mdef\u001b[39;00m \u001b[38;5;21mfind_classes\u001b[39m(\u001b[38;5;28mself\u001b[39m, directory: \u001b[38;5;28mstr\u001b[39m) \u001b[38;5;241m-\u001b[39m\u001b[38;5;241m>\u001b[39m Tuple[List[\u001b[38;5;28mstr\u001b[39m], Dict[\u001b[38;5;28mstr\u001b[39m, \u001b[38;5;28mint\u001b[39m]]:\n\u001b[1;32m    193\u001b[0m     \u001b[38;5;124;03m\"\"\"Find the class folders in a dataset structured as follows::\u001b[39;00m\n\u001b[1;32m    194\u001b[0m \n\u001b[1;32m    195\u001b[0m \u001b[38;5;124;03m        directory/\u001b[39;00m\n\u001b[0;32m   (...)\u001b[0m\n\u001b[1;32m    217\u001b[0m \u001b[38;5;124;03m        (Tuple[List[str], Dict[str, int]]): List of all classes and dictionary mapping each class to an index.\u001b[39;00m\n\u001b[1;32m    218\u001b[0m \u001b[38;5;124;03m    \"\"\"\u001b[39;00m\n\u001b[0;32m--> 219\u001b[0m     \u001b[38;5;28;01mreturn\u001b[39;00m \u001b[43mfind_classes\u001b[49m\u001b[43m(\u001b[49m\u001b[43mdirectory\u001b[49m\u001b[43m)\u001b[49m\n",
            "File \u001b[0;32m/usr/local/lib/python3.9/dist-packages/torchvision/datasets/folder.py:41\u001b[0m, in \u001b[0;36mfind_classes\u001b[0;34m(directory)\u001b[0m\n\u001b[1;32m     36\u001b[0m \u001b[38;5;28;01mdef\u001b[39;00m \u001b[38;5;21mfind_classes\u001b[39m(directory: \u001b[38;5;28mstr\u001b[39m) \u001b[38;5;241m-\u001b[39m\u001b[38;5;241m>\u001b[39m Tuple[List[\u001b[38;5;28mstr\u001b[39m], Dict[\u001b[38;5;28mstr\u001b[39m, \u001b[38;5;28mint\u001b[39m]]:\n\u001b[1;32m     37\u001b[0m     \u001b[38;5;124;03m\"\"\"Finds the class folders in a dataset.\u001b[39;00m\n\u001b[1;32m     38\u001b[0m \n\u001b[1;32m     39\u001b[0m \u001b[38;5;124;03m    See :class:`DatasetFolder` for details.\u001b[39;00m\n\u001b[1;32m     40\u001b[0m \u001b[38;5;124;03m    \"\"\"\u001b[39;00m\n\u001b[0;32m---> 41\u001b[0m     classes \u001b[38;5;241m=\u001b[39m \u001b[38;5;28msorted\u001b[39m(entry\u001b[38;5;241m.\u001b[39mname \u001b[38;5;28;01mfor\u001b[39;00m entry \u001b[38;5;129;01min\u001b[39;00m \u001b[43mos\u001b[49m\u001b[38;5;241;43m.\u001b[39;49m\u001b[43mscandir\u001b[49m\u001b[43m(\u001b[49m\u001b[43mdirectory\u001b[49m\u001b[43m)\u001b[49m \u001b[38;5;28;01mif\u001b[39;00m entry\u001b[38;5;241m.\u001b[39mis_dir())\n\u001b[1;32m     42\u001b[0m     \u001b[38;5;28;01mif\u001b[39;00m \u001b[38;5;129;01mnot\u001b[39;00m classes:\n\u001b[1;32m     43\u001b[0m         \u001b[38;5;28;01mraise\u001b[39;00m \u001b[38;5;167;01mFileNotFoundError\u001b[39;00m(\u001b[38;5;124mf\u001b[39m\u001b[38;5;124m\"\u001b[39m\u001b[38;5;124mCouldn\u001b[39m\u001b[38;5;124m'\u001b[39m\u001b[38;5;124mt find any class folder in \u001b[39m\u001b[38;5;132;01m{\u001b[39;00mdirectory\u001b[38;5;132;01m}\u001b[39;00m\u001b[38;5;124m.\u001b[39m\u001b[38;5;124m\"\u001b[39m)\n",
            "\u001b[0;31mFileNotFoundError\u001b[0m: [Errno 2] No such file or directory: './imagenet64/train/'"
          ]
        }
      ],
      "source": [
        "#@title Download imagenet64\n",
        "#Warning: the total size (zip + untarred file) is 20 gb!\n",
        "\n",
        "!wget https://pjreddie.com/media/files/imagenet64.tar \n",
        "!tar -xvf imagenet64.tar\n",
        "!rm -rf imagenet64.tar\n",
        "\n",
        "def get_imagenet64_data():\n",
        "  # Data augmentation transformations. Not for Testing!\n",
        "  transform_train = torchvision.transforms.Compose([\n",
        "    torchvision.transforms.Resize(64), # Takes images smaller than 64 and enlarges them\n",
        "    torchvision.transforms.RandomCrop(64, padding=4, padding_mode='edge'), # Take 64x64 crops from 72x72 padded images\n",
        "    torchvision.transforms.RandomHorizontalFlip(),    # 50% of time flip image along y-axis\n",
        "    torchvision.transforms.ToTensor(),\n",
        "  ])\n",
        "\n",
        "  transform_test = torchvision.transforms.Compose([\n",
        "    torchvision.transforms.ToTensor(),\n",
        "  ])\n",
        "\n",
        "  trainset = torchvision.datasets.ImageFolder(root='./imagenet64/train/', transform=transform_train)\n",
        "  #trainloader = torch.utils.data.DataLoader(trainset, batch_size=128, shuffle=True, num_workers=4)\n",
        "\n",
        "  testset = torchvision.datasets.ImageFolder(root='./imagenet64/val/', transform=transform_test)\n",
        "  #testloader = torch.utils.data.DataLoader(testset, batch_size=128, shuffle=False, num_workers=4)\n",
        "\n",
        "  return trainset, testset\n",
        "\n",
        "imnet64_train, imnet64_test = get_imagenet64_data()"
      ]
    },
    {
      "cell_type": "code",
      "execution_count": null,
      "metadata": {
        "cellView": "form",
        "colab": {
          "base_uri": "https://localhost:8080/",
          "referenced_widgets": [
            "a752f2fc3ae9421da030d4070b652d86"
          ]
        },
        "execution": {
          "iopub.execute_input": "2022-12-13T16:04:18.250777Z",
          "iopub.status.busy": "2022-12-13T16:04:18.250498Z"
        },
        "id": "_yAlyRDW8fwM",
        "outputId": "50dea1cd-0c24-4a70-8774-6b5df3740c5c"
      },
      "outputs": [
        {
          "name": "stdout",
          "output_type": "stream",
          "text": [
            "Downloading https://www.cs.toronto.edu/~kriz/cifar-100-python.tar.gz to ./cifar-100-python.tar.gz\n"
          ]
        },
        {
          "data": {
            "application/vnd.jupyter.widget-view+json": {
              "model_id": "a752f2fc3ae9421da030d4070b652d86",
              "version_major": 2,
              "version_minor": 0
            },
            "text/plain": [
              "  0%|          | 0/169001437 [00:00<?, ?it/s]"
            ]
          },
          "metadata": {},
          "output_type": "display_data"
        },
        {
          "name": "stdout",
          "output_type": "stream",
          "text": [
            "Extracting ./cifar-100-python.tar.gz to .\n",
            "Files already downloaded and verified\n"
          ]
        }
      ],
      "source": [
        "#@title Download cifar100\n",
        "cifar100_train = torchvision.datasets.CIFAR100(root = \".\",\n",
        "                                               train = True,\n",
        "                                               download = True,\n",
        "                                               transform=torchvision.transforms.functional.pil_to_tensor)\n",
        "cifar100_test = torchvision.datasets.CIFAR100(root = \".\",\n",
        "                                               train = False,\n",
        "                                               download = True,\n",
        "                                               transform=torchvision.transforms.functional.pil_to_tensor)"
      ]
    },
    {
      "cell_type": "markdown",
      "metadata": {
        "id": "TqXSkG6p0C5A"
      },
      "source": [
        "###0.2 Utility functions"
      ]
    },
    {
      "cell_type": "code",
      "execution_count": null,
      "metadata": {
        "cellView": "form",
        "execution": {
          "iopub.execute_input": "2022-12-13T11:27:24.656197Z",
          "iopub.status.busy": "2022-12-13T11:27:24.655858Z",
          "iopub.status.idle": "2022-12-13T11:27:24.661024Z",
          "shell.execute_reply": "2022-12-13T11:27:24.660167Z",
          "shell.execute_reply.started": "2022-12-13T11:27:24.656173Z"
        },
        "id": "MLtary4p_Z_B"
      },
      "outputs": [],
      "source": [
        "#@title Visualization function\n",
        "def visualize(datapoint : int, dataset : torchvision.datasets):\n",
        "    image, label = dataset[datapoint]\n",
        "    plt.title(f\"Ground truth: {dataset.classes[label]}\")\n",
        "    plt.imshow(torchvision.transforms.functional.to_pil_image(image))"
      ]
    },
    {
      "cell_type": "code",
      "execution_count": null,
      "metadata": {
        "cellView": "form",
        "execution": {
          "iopub.execute_input": "2022-12-13T11:21:35.481533Z",
          "iopub.status.busy": "2022-12-13T11:21:35.480512Z",
          "iopub.status.idle": "2022-12-13T11:21:35.486426Z",
          "shell.execute_reply": "2022-12-13T11:21:35.485924Z",
          "shell.execute_reply.started": "2022-12-13T11:21:35.481504Z"
        },
        "id": "qW2bXu6dAYls"
      },
      "outputs": [],
      "source": [
        "#@title Function to output a prediction of the teacher\n",
        "def predict(image : torch.Tensor,\n",
        "            model : nn.Module,\n",
        "            feature_extractor : Any = None) -> str:\n",
        "    with torch.no_grad():\n",
        "        if feature_extractor is None:\n",
        "            logits = model(image)\n",
        "        else:\n",
        "            inputs : torch.Tensor = feature_extractor(image, return_tensors=\"pt\").to(device)\n",
        "            logits = model(**inputs).logits\n",
        "      \n",
        "    # model predicts one of the classes\n",
        "    predicted_label : int = logits.argmax(-1).item()\n",
        "   \n",
        "    return predicted_label\n"
      ]
    },
    {
      "cell_type": "code",
      "execution_count": null,
      "metadata": {
        "cellView": "form",
        "execution": {
          "iopub.execute_input": "2022-12-13T11:21:50.516187Z",
          "iopub.status.busy": "2022-12-13T11:21:50.515291Z",
          "iopub.status.idle": "2022-12-13T11:21:50.520086Z",
          "shell.execute_reply": "2022-12-13T11:21:50.519416Z",
          "shell.execute_reply.started": "2022-12-13T11:21:50.516156Z"
        },
        "id": "MKxP7OVI5pTb"
      },
      "outputs": [],
      "source": [
        "#@title Count the parameters of a model\n",
        "def count_params(model : nn.Module) -> int:\n",
        "    parameters = filter(lambda p: p.requires_grad, model.parameters())\n",
        "    param_num = sum([np.prod(p.size()) for p in parameters]) / 1_000_000\n",
        "    return param_num"
      ]
    },
    {
      "cell_type": "markdown",
      "metadata": {
        "id": "AjYPKIo8zW_7"
      },
      "source": [
        "##1. Code for the models"
      ]
    },
    {
      "cell_type": "markdown",
      "metadata": {
        "id": "GtgQ0OHG21PO"
      },
      "source": [
        "###1.1 Pre-trained teacher (ViT)\n",
        "Load ViT finetuned on Imagenet1k or CIFAR100. To load the non fine-tuned version use **\"google/vit-base-patch16-224-im21k\"**"
      ]
    },
    {
      "cell_type": "markdown",
      "metadata": {
        "id": "AcazhnqFv0Lx"
      },
      "source": [
        "References:\n",
        "- [main transformer docs](https:huggingface.co/docs/transformers/index) \n",
        "- [ViT Docs](https://huggingface.co/docs/transformers/model_doc/vit)\n",
        "- [lighting finetuning example](https://github.com/NielsRogge/Transformers-Tutorials/tree/master/VisionTransformer)"
      ]
    },
    {
      "cell_type": "code",
      "execution_count": null,
      "metadata": {
        "cellView": "form",
        "colab": {
          "base_uri": "https://localhost:8080/"
        },
        "execution": {
          "iopub.execute_input": "2022-12-13T11:25:03.117029Z",
          "iopub.status.busy": "2022-12-13T11:25:03.116686Z",
          "iopub.status.idle": "2022-12-13T11:25:04.457114Z",
          "shell.execute_reply": "2022-12-13T11:25:04.456038Z",
          "shell.execute_reply.started": "2022-12-13T11:25:03.117004Z"
        },
        "id": "WsSKp30aAMah",
        "outputId": "c9556d6a-8c37-402a-b851-2d2790b598c3"
      },
      "outputs": [
        {
          "data": {
            "application/vnd.jupyter.widget-view+json": {
              "model_id": "5b133d38fdc244adaae2aa780467acbe",
              "version_major": 2,
              "version_minor": 0
            },
            "text/plain": [
              "Downloading:   0%|          | 0.00/265 [00:00<?, ?B/s]"
            ]
          },
          "metadata": {},
          "output_type": "display_data"
        },
        {
          "data": {
            "application/vnd.jupyter.widget-view+json": {
              "model_id": "2e03333546194f0fa9a38d9c3ea12bf8",
              "version_major": 2,
              "version_minor": 0
            },
            "text/plain": [
              "Downloading:   0%|          | 0.00/68.0k [00:00<?, ?B/s]"
            ]
          },
          "metadata": {},
          "output_type": "display_data"
        },
        {
          "data": {
            "application/vnd.jupyter.widget-view+json": {
              "model_id": "b759dd3c3b784fbc87398976d641c97a",
              "version_major": 2,
              "version_minor": 0
            },
            "text/plain": [
              "Downloading:   0%|          | 0.00/755M [00:00<?, ?B/s]"
            ]
          },
          "metadata": {},
          "output_type": "display_data"
        },
        {
          "name": "stdout",
          "output_type": "stream",
          "text": [
            "Trainable Parameters: 197.767M\n"
          ]
        }
      ],
      "source": [
        "#@title Load the model\n",
        "cifar100_vit = \"Ahmed9275/Vit-Cifar100\"\n",
        "imagenet1k_vit = \"google/vit-base-patch16-224\"\n",
        "tuned_on : str = \"imagenet1k\" #@param['cifar100', 'imagenet1k']\n",
        "if tuned_on == \"cifar100\":\n",
        "    model_str = cifar100_vit\n",
        "else:\n",
        "    model_str = imagenet1k_vit\n",
        "\n",
        "\n",
        "feature_extractor = transformers.ViTFeatureExtractor.from_pretrained(model_str)if \n",
        "\n",
        "teacher = transformers.ViTForImageClassification.from_pretrained(model_str).to(device)\n",
        "print('Trainable Parameters: %.3fM' % count_params(teacher))"
      ]
    },
    {
      "cell_type": "code",
      "execution_count": null,
      "metadata": {
        "cellView": "form",
        "colab": {
          "base_uri": "https://localhost:8080/",
          "height": 299
        },
        "execution": {
          "iopub.execute_input": "2022-12-13T11:27:26.473005Z",
          "iopub.status.busy": "2022-12-13T11:27:26.472664Z",
          "iopub.status.idle": "2022-12-13T11:27:26.593420Z",
          "shell.execute_reply": "2022-12-13T11:27:26.592613Z",
          "shell.execute_reply.started": "2022-12-13T11:27:26.472980Z"
        },
        "id": "RBCle0TPyy2b",
        "outputId": "1181bc7e-5b3c-45f8-8ccd-38b9099bfa78"
      },
      "outputs": [
        {
          "name": "stdout",
          "output_type": "stream",
          "text": [
            "0\n",
            "Predicted: tench, Tinca tinca\n"
          ]
        },
        {
          "data": {
            "image/png": "[encoded data removed]",
            "text/plain": [
              "<Figure size 432x288 with 1 Axes>"
            ]
          },
          "metadata": {
            "needs_background": "light"
          },
          "output_type": "display_data"
        }
      ],
      "source": [
        "#@title Qualitative comparison with ground truth {run : \"auto\"}\n",
        "datapoint_number : int = 1 #@param{type:\"integer\"}\n",
        "\n",
        "dataset = cifar100_test if tuned_on == \"cifar100\" else imnet64_test\n",
        "try:\n",
        "    visualize(datapoint_number, dataset)\n",
        "    label : int = predict(dataset[datapoint_number][0], teacher, feature_extractor)\n",
        "    prediction : str = teacher.config.id2label[label]\n",
        "    print(f\"Predicted: {prediction}\")\n",
        "except IndexError:\n",
        "    print(f\"The dataset max index is {len(dataset)-1}\")\n"
      ]
    },
    {
      "cell_type": "code",
      "execution_count": null,
      "metadata": {
        "cellView": "form",
        "colab": {
          "base_uri": "https://localhost:8080/",
          "height": 54
        },
        "execution": {
          "iopub.execute_input": "2022-12-12T22:04:48.515398Z",
          "iopub.status.busy": "2022-12-12T22:04:48.514547Z",
          "iopub.status.idle": "2022-12-12T22:04:48.522270Z",
          "shell.execute_reply": "2022-12-12T22:04:48.521331Z",
          "shell.execute_reply.started": "2022-12-12T22:04:48.515370Z"
        },
        "id": "jCqhJyWDHUgL",
        "outputId": "e2478eab-a09c-4731-e782-db2b7d6f5b68"
      },
      "outputs": [
        {
          "data": {
            "text/plain": [
              "'\\ncorrect = 0\\nfor i in tqdm(range(len(dataset))):\\n    pr_label = predict(dataset[i][0], teacher, feature_extractor)\\n    gt_label = dataset[i][1]\\n    if pr_label == gt_label:\\n        correct += 1\\naccuracy = round(correct*100 / len(dataset),2)\\nprint(f\"The accuracy of the model for the dataset {tuned_on} is: {accuracy}%\")\\n'"
            ]
          },
          "execution_count": 11,
          "metadata": {},
          "output_type": "execute_result"
        }
      ],
      "source": [
        "#@title Quantitative result: Accuracy\n",
        "'''\n",
        "Warning: this cell takes 15min to be executed (on GPU).\n",
        "'''\n",
        "'''\n",
        "correct = 0\n",
        "for i in tqdm(range(len(dataset))):\n",
        "    pr_label = predict(dataset[i][0], teacher, feature_extractor)\n",
        "    gt_label = dataset[i][1]\n",
        "    if pr_label == gt_label:\n",
        "        correct += 1\n",
        "accuracy = round(correct*100 / len(dataset),2)\n",
        "print(f\"The accuracy of the model for the dataset {tuned_on} is: {accuracy}%\")\n",
        "'''\n",
        "##### TODO remove (?) ####"
      ]
    },
    {
      "cell_type": "markdown",
      "metadata": {
        "id": "0m4IdUu7-7QI"
      },
      "source": [
        "###1.2 Student (MLP mixer)\n",
        "The code for the MLP mixer was taken from this repository: [image_models](https://github.com/rwightman/pytorch-image-models).\n",
        "\n",
        "Credit: [Ross Wightman](https://github.com/rwightman) "
      ]
    },
    {
      "cell_type": "code",
      "execution_count": null,
      "metadata": {
        "cellView": "form",
        "execution": {
          "iopub.execute_input": "2022-12-13T11:27:40.321681Z",
          "iopub.status.busy": "2022-12-13T11:27:40.321335Z",
          "iopub.status.idle": "2022-12-13T11:27:40.338091Z",
          "shell.execute_reply": "2022-12-13T11:27:40.337307Z",
          "shell.execute_reply.started": "2022-12-13T11:27:40.321656Z"
        },
        "id": "PM3JwgZGERRH"
      },
      "outputs": [],
      "source": [
        "#@title [Timm](https://huggingface.co/docs/timm/index) implementation\n",
        "class LitMixer(pl.LightningModule):\n",
        "    def __init__(self,\n",
        "                 num_classes : int,\n",
        "                 img_size : int,\n",
        "                 patch_size : int,\n",
        "                 num_blocks : int,\n",
        "                 embed_dim : int,\n",
        "                 in_chans : int = 3,\n",
        "                 drop_rate : float = 0.0,\n",
        "                 drop_path_rate : float = 0.0,\n",
        "                 learning_rate : float = 0.001,\n",
        "                 act_layer : Callable = nn.GELU,\n",
        "                 distillating : str = None,\n",
        "                 distillation_prob : float = None):\n",
        "        super().__init__()\n",
        "        assert(distillation_prob is None or distillating != \"random\")\n",
        "\n",
        "        self.mixer = timm.models.mlp_mixer.MlpMixer(num_classes = num_classes,\n",
        "                     img_size = img_size,\n",
        "                     in_chans = in_chans,\n",
        "                     patch_size = patch_size,\n",
        "                     num_blocks = num_blocks,\n",
        "                     act_layer = act_layer,\n",
        "                     drop_rate = drop_rate,\n",
        "                     drop_path_rate = drop_path_rate,\n",
        "                     embed_dim = embed_dim)\n",
        "\n",
        "        self.lr = learning_rate\n",
        "        self.distillating = distillating\n",
        "        self.distillation_prob = distillation_prob\n",
        "\n",
        "        self.loss_fn = nn.CrossEntropyLoss()\n",
        "\n",
        "        ## logging attributes\n",
        "        self.loss = { \"train\" : 0, \"val\" : 0, \"test\" : 0 }\n",
        "        self.accuracy = { \"train\" : 0, \"val\" : 0, \"test\" : 0 }\n",
        "        self.tot = { \"train\" : 0, \"val\" : 0, \"test\" : 0 }\n",
        "        self.first_test = True\n",
        "\n",
        "        super().save_hyperparameters()\n",
        "    \n",
        "    def step(self, batch : torch.Tensor ,step_type : str) -> torch.Tensor:\n",
        "        # get ground truth and data\n",
        "        if step_type == \"test\":\n",
        "            data, labels = batch\n",
        "            gt : torch.Tensor = labels\n",
        "        else:\n",
        "            data, labels, teacher_labels = batch\n",
        "            if self.distillating is None:\n",
        "                gt : torch.Tensor = labels\n",
        "            else:\n",
        "                teacher_labels = torch.nn.functional.softmax(teacher_labels, dim = -1)\n",
        "                if self.distillating == \"soft\":\n",
        "                    gt : torch.Tensor = teacher_labels\n",
        "                elif self.distillating == \"hard\":\n",
        "                    gt : torch.Tensor = teacher_labels.argmax(dim = -1)\n",
        "                elif self.distillating == \"random\":\n",
        "                    r : float = random.random()\n",
        "                    if r <= self.distillation_prob:\n",
        "                        gt : torch.Tensor = teacher_labels\n",
        "                    else:\n",
        "                        gt : torch.Tensor = labels\n",
        "                elif self.distillating == \"weighted\":\n",
        "                    gt = labels\n",
        "                    gt_t : torch.Tensor = teacher_labels\n",
        "        \n",
        "        batch_size : int = labels.shape[0]\n",
        "\n",
        "        # compute predictions\n",
        "        logits = self.mixer(data.float())\n",
        "        if self.distillating == \"weighted\" and step_type != \"test\":\n",
        "          loss = 0.3 * self.loss_fn(logits,gt) + 0.7 * self.loss_fn(logits,gt_t)\n",
        "        else:\n",
        "          loss = self.loss_fn(logits,gt)\n",
        "        predictions = logits.argmax(dim = -1)\n",
        "\n",
        "        # update logging variables\n",
        "        self.loss[step_type] += loss.item()\n",
        "        self.accuracy[step_type]  += (predictions == labels).sum().item()\n",
        "        self.tot[step_type]  += batch_size\n",
        "\n",
        "        return loss\n",
        "\n",
        "    def training_step(self, batch : torch.Tensor ,batch_idx : int):\n",
        "        return self.step(batch,\"train\")\n",
        "    \n",
        "    def validation_step(self,batch,batch_idx):\n",
        "        return self.step(batch,\"val\")\n",
        "    \n",
        "    def test_step(self,batch,batch_idx):\n",
        "        return self.step(batch,\"test\")\n",
        "    \n",
        "    def epoch_end(self, step_type : str, num_outputs : int) -> None:\n",
        "        # compute loss\n",
        "        avg_loss = self.loss[step_type] / num_outputs\n",
        "        self.loss[step_type] = 0\n",
        "        # compute accuracy\n",
        "        accuracy = self.accuracy[step_type] / self.tot[step_type]\n",
        "        self.accuracy[step_type] = 0\n",
        "        self.tot[step_type] = 0\n",
        "        # log\n",
        "        self.log(\"epoch\", float(self.current_epoch))\n",
        "        if step_type != \"test\":\n",
        "            self.log(f\"{step_type}_loss\",avg_loss)\n",
        "            self.log(f\"{step_type}_accuracy\",accuracy)\n",
        "        elif self.first_test:\n",
        "          self.log(\"test_loss_before\",avg_loss)\n",
        "          self.log(\"test_accuracy_before\",accuracy)\n",
        "          self.first_test = False\n",
        "        else:\n",
        "          self.log(\"test_loss_after\",avg_loss)\n",
        "          self.log(\"test_accuracy_after\",accuracy)\n",
        "    \n",
        "    def training_epoch_end(self, outputs) -> None:\n",
        "        self.epoch_end(\"train\",len(outputs))\n",
        "    \n",
        "    def validation_epoch_end(self, outputs) -> None:\n",
        "        self.epoch_end(\"val\",len(outputs))\n",
        "    \n",
        "    def test_epoch_end(self, outputs) -> None:\n",
        "        self.epoch_end(\"test\",len(outputs))\n",
        "\n",
        "    def configure_optimizers(self) -> torch.optim:\n",
        "        return torch.optim.AdamW(self.mixer.parameters(), lr = self.lr)"
      ]
    },
    {
      "cell_type": "code",
      "execution_count": null,
      "metadata": {
        "colab": {
          "base_uri": "https://localhost:8080/"
        },
        "execution": {
          "iopub.execute_input": "2022-12-13T11:27:48.042596Z",
          "iopub.status.busy": "2022-12-13T11:27:48.041979Z",
          "iopub.status.idle": "2022-12-13T11:27:48.086235Z",
          "shell.execute_reply": "2022-12-13T11:27:48.085460Z",
          "shell.execute_reply.started": "2022-12-13T11:27:48.042567Z"
        },
        "id": "4BA56dIAGl8L",
        "outputId": "21e5bb33-d8db-46d3-bb11-03afa24023ed"
      },
      "outputs": [
        {
          "name": "stdout",
          "output_type": "stream",
          "text": [
            "Trainable Parameters: 0.863M\n"
          ]
        }
      ],
      "source": [
        "#@title Student instantiation\n",
        "trained_on : str = \"imagenet\" #@param[\"cifar100\",\"imagenet\"]\n",
        "patch_size : int = 4 #@param{type: \"integer\"}\n",
        "num_blocks : int = 6 #@param{type: \"integer\"}\n",
        "embed_dim  : int = 128 #@param{type: \"integer\"}\n",
        "drop_rate : float = 0.24 #@param{type:\"number\"}\n",
        "drop_path_rate : float = 0.25 #@param{type:\"number\"}\n",
        "learning_rate : float = 0.0025 #@param{type:\"number\"}\n",
        "distillating : str = \"weighted\" #@param[\"soft\",\"hard\",\"random\",\"weighted\",\"no\"]\n",
        "distillation_prob : float = 0. #@param{type:\"number\"}\n",
        "if trained_on == \"cifar100\":\n",
        "    num_classes = 100\n",
        "    img_size = 32\n",
        "else:\n",
        "    num_classes = 1000\n",
        "    img_size = 64 \n",
        "student = LitMixer(num_classes = num_classes, \n",
        "                   img_size = img_size,\n",
        "                   patch_size = patch_size,\n",
        "                   num_blocks = num_blocks,\n",
        "                   embed_dim = embed_dim,\n",
        "                   drop_rate = drop_rate,\n",
        "                   drop_path_rate = drop_path_rate,\n",
        "                   learning_rate = learning_rate,\n",
        "                   distillating = distillating if distillating != \"no\" else None,\n",
        "                   distillation_prob = distillation_prob if distillating == \"random\" else None,\n",
        "                   )\n",
        "print('Trainable Parameters: %.3fM' % count_params(student))"
      ]
    },
    {
      "cell_type": "markdown",
      "metadata": {
        "id": "xzwRW42KdMsj"
      },
      "source": [
        "##2. Distillation"
      ]
    },
    {
      "cell_type": "markdown",
      "metadata": {
        "id": "Td1p_uw8x7Pi"
      },
      "source": [
        "###2.1 Computing labels\n"
      ]
    },
    {
      "cell_type": "markdown",
      "metadata": {
        "id": "QryLx7P6dckq"
      },
      "source": [
        "First of all we want to compute once and for all the teacher scores of the images:"
      ]
    },
    {
      "cell_type": "code",
      "execution_count": null,
      "metadata": {
        "execution": {
          "iopub.execute_input": "2022-12-13T11:27:50.646992Z",
          "iopub.status.busy": "2022-12-13T11:27:50.646272Z",
          "iopub.status.idle": "2022-12-13T11:27:50.652500Z",
          "shell.execute_reply": "2022-12-13T11:27:50.651512Z",
          "shell.execute_reply.started": "2022-12-13T11:27:50.646964Z"
        },
        "id": "oS1uIiojdb3D"
      },
      "outputs": [],
      "source": [
        "def compute_scores(dataset : torch.utils.data.Dataset,\n",
        "                   teacher : torch.nn.Module, \n",
        "                   teacher_extractor : Any, # a feature extractor\n",
        "                   num_classes : int) -> torch.Tensor:\n",
        "    teacher_label = torch.zeros(len(dataset), num_classes)\n",
        "    for i,(image,_) in tqdm(enumerate(dataset)):\n",
        "        features = teacher_extractor(image,return_tensors=\"pt\").to(device)\n",
        "        with torch.no_grad():\n",
        "            label = teacher(**features).logits\n",
        "        teacher_label[i,:] = label\n",
        "    return teacher_label"
      ]
    },
    {
      "cell_type": "markdown",
      "metadata": {
        "id": "jOcxWqXqzGXK"
      },
      "source": [
        "###2.2 Creating custom datasets"
      ]
    },
    {
      "cell_type": "code",
      "execution_count": null,
      "metadata": {
        "cellView": "form",
        "execution": {
          "iopub.execute_input": "2022-12-13T11:31:01.756045Z",
          "iopub.status.busy": "2022-12-13T11:31:01.755381Z",
          "iopub.status.idle": "2022-12-13T11:31:01.768748Z",
          "shell.execute_reply": "2022-12-13T11:31:01.768123Z",
          "shell.execute_reply.started": "2022-12-13T11:31:01.756017Z"
        },
        "id": "dpwMnJ1j6ODN"
      },
      "outputs": [],
      "source": [
        "#@title Distillation dataset\n",
        "class DistillDataset(torch.utils.data.Dataset):\n",
        "    '''\n",
        "    A dataset for the distillation training.\n",
        "    This dataset wraps the original dataset toghether with the teacher ground truth.\n",
        "    '''\n",
        "    def __init__(self, \n",
        "                 original_dataset : torch.utils.data.Dataset,\n",
        "                 teacher_label_path : Path = None,\n",
        "                 teacher_model : torch.nn.Module = None,\n",
        "                 teacher_extractor : Any = None,\n",
        "                 save : bool = True, \n",
        "                 dataset_name : str = \"cifar100\"\n",
        "                 ):\n",
        "        assert(teacher_label_path is not None or teacher_model is not None)\n",
        "        super().__init__()\n",
        "        file_name = 'cifar100.pt' if dataset_name == \"cifar100\" else \"imnet64.pt\"\n",
        "        self.dataset = original_dataset\n",
        "        \n",
        "        num_classes = len(self.dataset.classes) if dataset_name == \"cifar100\" else 1000\n",
        "        \n",
        "        if not os.path.exists(teacher_label_path):\n",
        "          os.makedirs(teacher_label_path)\n",
        "          self.teacher_label = compute_scores(self.dataset, \n",
        "                                                teacher_model,\n",
        "                                                teacher_extractor,\n",
        "                                                num_classes\n",
        "                                                )\n",
        "          \n",
        "          if save:\n",
        "                with open(os.path.join(teacher_label_path , file_name), \"wb\") as tl:\n",
        "                    torch.save(self.teacher_label,tl)\n",
        "        \n",
        "        else:\n",
        "         \n",
        "            with open(os.path.join(teacher_label_path , file_name), \"rb\") as dl:\n",
        "                  self.teacher_label = torch.load(dl)\n",
        "\n",
        "    \n",
        "    def __len__(self):\n",
        "        return len(self.dataset)\n",
        "    \n",
        "    def __getitem__(self, index):\n",
        "        return self.dataset[index][0], self.dataset[index][1] , self.teacher_label[index]"
      ]
    },
    {
      "cell_type": "code",
      "execution_count": null,
      "metadata": {
        "cellView": "form",
        "execution": {
          "iopub.execute_input": "2022-12-13T11:31:57.981514Z",
          "iopub.status.busy": "2022-12-13T11:31:57.981164Z",
          "iopub.status.idle": "2022-12-13T12:02:25.066417Z",
          "shell.execute_reply": "2022-12-13T12:02:25.064842Z",
          "shell.execute_reply.started": "2022-12-13T11:31:57.981487Z"
        },
        "id": "E3gGWUDJxw9H",
        "outputId": "173653ce-7ed5-47fa-b347-39d83c53b173"
      },
      "outputs": [
        {
          "name": "stderr",
          "output_type": "stream",
          "text": [
            "70964it [30:26, 38.86it/s]\n"
          ]
        },
        {
          "ename": "KeyboardInterrupt",
          "evalue": "",
          "output_type": "error",
          "traceback": [
            "\u001b[0;31m---------------------------------------------------------------------------\u001b[0m",
            "\u001b[0;31mKeyboardInterrupt\u001b[0m                         Traceback (most recent call last)",
            "Input \u001b[0;32mIn [43]\u001b[0m, in \u001b[0;36m<cell line: 3>\u001b[0;34m()\u001b[0m\n\u001b[1;32m      1\u001b[0m \u001b[38;5;66;03m#@title Train/Validation split\u001b[39;00m\n\u001b[1;32m      2\u001b[0m val_perc : \u001b[38;5;28mfloat\u001b[39m \u001b[38;5;241m=\u001b[39m \u001b[38;5;241m0.15\u001b[39m \u001b[38;5;66;03m#@param{type:\"number\"}\u001b[39;00m\n\u001b[0;32m----> 3\u001b[0m dataset \u001b[38;5;241m=\u001b[39m \u001b[43mDistillDataset\u001b[49m\u001b[43m(\u001b[49m\u001b[43mimnet64_train\u001b[49m\u001b[43m,\u001b[49m\u001b[43m \u001b[49m\n\u001b[1;32m      4\u001b[0m \u001b[43m                         \u001b[49m\u001b[38;5;124;43m\"\u001b[39;49m\u001b[38;5;124;43mteacher_labels_imnet/\u001b[39;49m\u001b[38;5;124;43m\"\u001b[39;49m\u001b[43m,\u001b[49m\n\u001b[1;32m      5\u001b[0m \u001b[43m                          \u001b[49m\u001b[43mteacher_model\u001b[49m\u001b[38;5;241;43m=\u001b[39;49m\u001b[43mteacher\u001b[49m\u001b[43m,\u001b[49m\n\u001b[1;32m      6\u001b[0m \u001b[43m                          \u001b[49m\u001b[43mteacher_extractor\u001b[49m\u001b[43m \u001b[49m\u001b[38;5;241;43m=\u001b[39;49m\u001b[43m \u001b[49m\u001b[43mfeature_extractor\u001b[49m\u001b[43m,\u001b[49m\n\u001b[1;32m      7\u001b[0m \u001b[43m                          \u001b[49m\u001b[43mdataset_name\u001b[49m\u001b[43m \u001b[49m\u001b[38;5;241;43m=\u001b[39;49m\u001b[43m \u001b[49m\u001b[38;5;124;43m\"\u001b[39;49m\u001b[38;5;124;43mimnet64\u001b[39;49m\u001b[38;5;124;43m\"\u001b[39;49m\n\u001b[1;32m      8\u001b[0m \u001b[43m                         \u001b[49m\u001b[43m)\u001b[49m\n\u001b[1;32m      9\u001b[0m train_len \u001b[38;5;241m=\u001b[39m \u001b[38;5;28mint\u001b[39m((\u001b[38;5;241m1\u001b[39m\u001b[38;5;241m-\u001b[39mval_perc) \u001b[38;5;241m*\u001b[39m \u001b[38;5;28mlen\u001b[39m(dataset))\n\u001b[1;32m     10\u001b[0m val_len \u001b[38;5;241m=\u001b[39m \u001b[38;5;28mlen\u001b[39m(dataset) \u001b[38;5;241m-\u001b[39m train_len\n",
            "Input \u001b[0;32mIn [41]\u001b[0m, in \u001b[0;36mDistillDataset.__init__\u001b[0;34m(self, original_dataset, teacher_label_path, teacher_model, teacher_extractor, save, dataset_name)\u001b[0m\n\u001b[1;32m     22\u001b[0m \u001b[38;5;28;01mif\u001b[39;00m \u001b[38;5;129;01mnot\u001b[39;00m os\u001b[38;5;241m.\u001b[39mpath\u001b[38;5;241m.\u001b[39mexists(teacher_label_path):\n\u001b[1;32m     23\u001b[0m   os\u001b[38;5;241m.\u001b[39mmakedirs(teacher_label_path)\n\u001b[0;32m---> 24\u001b[0m   \u001b[38;5;28mself\u001b[39m\u001b[38;5;241m.\u001b[39mteacher_label \u001b[38;5;241m=\u001b[39m \u001b[43mcompute_scores\u001b[49m\u001b[43m(\u001b[49m\u001b[38;5;28;43mself\u001b[39;49m\u001b[38;5;241;43m.\u001b[39;49m\u001b[43mdataset\u001b[49m\u001b[43m,\u001b[49m\u001b[43m \u001b[49m\n\u001b[1;32m     25\u001b[0m \u001b[43m                                        \u001b[49m\u001b[43mteacher_model\u001b[49m\u001b[43m,\u001b[49m\n\u001b[1;32m     26\u001b[0m \u001b[43m                                        \u001b[49m\u001b[43mteacher_extractor\u001b[49m\u001b[43m,\u001b[49m\n\u001b[1;32m     27\u001b[0m \u001b[43m                                        \u001b[49m\u001b[43mnum_classes\u001b[49m\n\u001b[1;32m     28\u001b[0m \u001b[43m                                        \u001b[49m\u001b[43m)\u001b[49m\n\u001b[1;32m     30\u001b[0m   \u001b[38;5;28;01mif\u001b[39;00m save:\n\u001b[1;32m     31\u001b[0m         \u001b[38;5;28;01mwith\u001b[39;00m \u001b[38;5;28mopen\u001b[39m(os\u001b[38;5;241m.\u001b[39mpath\u001b[38;5;241m.\u001b[39mjoin(teacher_label_path , file_name), \u001b[38;5;124m\"\u001b[39m\u001b[38;5;124mwb\u001b[39m\u001b[38;5;124m\"\u001b[39m) \u001b[38;5;28;01mas\u001b[39;00m tl:\n",
            "Input \u001b[0;32mIn [40]\u001b[0m, in \u001b[0;36mcompute_scores\u001b[0;34m(dataset, teacher, teacher_extractor, num_classes)\u001b[0m\n\u001b[1;32m      5\u001b[0m teacher_label \u001b[38;5;241m=\u001b[39m torch\u001b[38;5;241m.\u001b[39mzeros(\u001b[38;5;28mlen\u001b[39m(dataset), num_classes)\n\u001b[1;32m      6\u001b[0m \u001b[38;5;28;01mfor\u001b[39;00m i,(image,_) \u001b[38;5;129;01min\u001b[39;00m tqdm(\u001b[38;5;28menumerate\u001b[39m(dataset)):\n\u001b[0;32m----> 7\u001b[0m     features \u001b[38;5;241m=\u001b[39m \u001b[43mteacher_extractor\u001b[49m\u001b[43m(\u001b[49m\u001b[43mimage\u001b[49m\u001b[43m,\u001b[49m\u001b[43mreturn_tensors\u001b[49m\u001b[38;5;241;43m=\u001b[39;49m\u001b[38;5;124;43m\"\u001b[39;49m\u001b[38;5;124;43mpt\u001b[39;49m\u001b[38;5;124;43m\"\u001b[39;49m\u001b[43m)\u001b[49m\u001b[38;5;241m.\u001b[39mto(device)\n\u001b[1;32m      8\u001b[0m     \u001b[38;5;28;01mwith\u001b[39;00m torch\u001b[38;5;241m.\u001b[39mno_grad():\n\u001b[1;32m      9\u001b[0m         label \u001b[38;5;241m=\u001b[39m teacher(\u001b[38;5;241m*\u001b[39m\u001b[38;5;241m*\u001b[39mfeatures)\u001b[38;5;241m.\u001b[39mlogits\n",
            "File \u001b[0;32m/usr/local/lib/python3.9/dist-packages/transformers/models/vit/feature_extraction_vit.py:143\u001b[0m, in \u001b[0;36mViTFeatureExtractor.__call__\u001b[0;34m(self, images, return_tensors, **kwargs)\u001b[0m\n\u001b[1;32m    141\u001b[0m     images \u001b[38;5;241m=\u001b[39m [\u001b[38;5;28mself\u001b[39m\u001b[38;5;241m.\u001b[39mresize(image\u001b[38;5;241m=\u001b[39mimage, size\u001b[38;5;241m=\u001b[39m\u001b[38;5;28mself\u001b[39m\u001b[38;5;241m.\u001b[39msize, resample\u001b[38;5;241m=\u001b[39m\u001b[38;5;28mself\u001b[39m\u001b[38;5;241m.\u001b[39mresample) \u001b[38;5;28;01mfor\u001b[39;00m image \u001b[38;5;129;01min\u001b[39;00m images]\n\u001b[1;32m    142\u001b[0m \u001b[38;5;28;01mif\u001b[39;00m \u001b[38;5;28mself\u001b[39m\u001b[38;5;241m.\u001b[39mdo_normalize:\n\u001b[0;32m--> 143\u001b[0m     images \u001b[38;5;241m=\u001b[39m [\u001b[38;5;28mself\u001b[39m\u001b[38;5;241m.\u001b[39mnormalize(image\u001b[38;5;241m=\u001b[39mimage, mean\u001b[38;5;241m=\u001b[39m\u001b[38;5;28mself\u001b[39m\u001b[38;5;241m.\u001b[39mimage_mean, std\u001b[38;5;241m=\u001b[39m\u001b[38;5;28mself\u001b[39m\u001b[38;5;241m.\u001b[39mimage_std) \u001b[38;5;28;01mfor\u001b[39;00m image \u001b[38;5;129;01min\u001b[39;00m images]\n\u001b[1;32m    145\u001b[0m \u001b[38;5;66;03m# return as BatchFeature\u001b[39;00m\n\u001b[1;32m    146\u001b[0m data \u001b[38;5;241m=\u001b[39m {\u001b[38;5;124m\"\u001b[39m\u001b[38;5;124mpixel_values\u001b[39m\u001b[38;5;124m\"\u001b[39m: images}\n",
            "File \u001b[0;32m/usr/local/lib/python3.9/dist-packages/transformers/models/vit/feature_extraction_vit.py:143\u001b[0m, in \u001b[0;36m<listcomp>\u001b[0;34m(.0)\u001b[0m\n\u001b[1;32m    141\u001b[0m     images \u001b[38;5;241m=\u001b[39m [\u001b[38;5;28mself\u001b[39m\u001b[38;5;241m.\u001b[39mresize(image\u001b[38;5;241m=\u001b[39mimage, size\u001b[38;5;241m=\u001b[39m\u001b[38;5;28mself\u001b[39m\u001b[38;5;241m.\u001b[39msize, resample\u001b[38;5;241m=\u001b[39m\u001b[38;5;28mself\u001b[39m\u001b[38;5;241m.\u001b[39mresample) \u001b[38;5;28;01mfor\u001b[39;00m image \u001b[38;5;129;01min\u001b[39;00m images]\n\u001b[1;32m    142\u001b[0m \u001b[38;5;28;01mif\u001b[39;00m \u001b[38;5;28mself\u001b[39m\u001b[38;5;241m.\u001b[39mdo_normalize:\n\u001b[0;32m--> 143\u001b[0m     images \u001b[38;5;241m=\u001b[39m [\u001b[38;5;28;43mself\u001b[39;49m\u001b[38;5;241;43m.\u001b[39;49m\u001b[43mnormalize\u001b[49m\u001b[43m(\u001b[49m\u001b[43mimage\u001b[49m\u001b[38;5;241;43m=\u001b[39;49m\u001b[43mimage\u001b[49m\u001b[43m,\u001b[49m\u001b[43m \u001b[49m\u001b[43mmean\u001b[49m\u001b[38;5;241;43m=\u001b[39;49m\u001b[38;5;28;43mself\u001b[39;49m\u001b[38;5;241;43m.\u001b[39;49m\u001b[43mimage_mean\u001b[49m\u001b[43m,\u001b[49m\u001b[43m \u001b[49m\u001b[43mstd\u001b[49m\u001b[38;5;241;43m=\u001b[39;49m\u001b[38;5;28;43mself\u001b[39;49m\u001b[38;5;241;43m.\u001b[39;49m\u001b[43mimage_std\u001b[49m\u001b[43m)\u001b[49m \u001b[38;5;28;01mfor\u001b[39;00m image \u001b[38;5;129;01min\u001b[39;00m images]\n\u001b[1;32m    145\u001b[0m \u001b[38;5;66;03m# return as BatchFeature\u001b[39;00m\n\u001b[1;32m    146\u001b[0m data \u001b[38;5;241m=\u001b[39m {\u001b[38;5;124m\"\u001b[39m\u001b[38;5;124mpixel_values\u001b[39m\u001b[38;5;124m\"\u001b[39m: images}\n",
            "File \u001b[0;32m/usr/local/lib/python3.9/dist-packages/transformers/image_utils.py:202\u001b[0m, in \u001b[0;36mImageFeatureExtractionMixin.normalize\u001b[0;34m(self, image, mean, std)\u001b[0m\n\u001b[1;32m    199\u001b[0m \u001b[38;5;28mself\u001b[39m\u001b[38;5;241m.\u001b[39m_ensure_format_supported(image)\n\u001b[1;32m    201\u001b[0m \u001b[38;5;28;01mif\u001b[39;00m \u001b[38;5;28misinstance\u001b[39m(image, PIL\u001b[38;5;241m.\u001b[39mImage\u001b[38;5;241m.\u001b[39mImage):\n\u001b[0;32m--> 202\u001b[0m     image \u001b[38;5;241m=\u001b[39m \u001b[38;5;28;43mself\u001b[39;49m\u001b[38;5;241;43m.\u001b[39;49m\u001b[43mto_numpy_array\u001b[49m\u001b[43m(\u001b[49m\u001b[43mimage\u001b[49m\u001b[43m)\u001b[49m\n\u001b[1;32m    204\u001b[0m \u001b[38;5;28;01mif\u001b[39;00m \u001b[38;5;28misinstance\u001b[39m(image, np\u001b[38;5;241m.\u001b[39mndarray):\n\u001b[1;32m    205\u001b[0m     \u001b[38;5;28;01mif\u001b[39;00m \u001b[38;5;129;01mnot\u001b[39;00m \u001b[38;5;28misinstance\u001b[39m(mean, np\u001b[38;5;241m.\u001b[39mndarray):\n",
            "File \u001b[0;32m/usr/local/lib/python3.9/dist-packages/transformers/image_utils.py:161\u001b[0m, in \u001b[0;36mImageFeatureExtractionMixin.to_numpy_array\u001b[0;34m(self, image, rescale, channel_first)\u001b[0m\n\u001b[1;32m    158\u001b[0m \u001b[38;5;28;01mif\u001b[39;00m rescale:\n\u001b[1;32m    159\u001b[0m     image \u001b[38;5;241m=\u001b[39m image\u001b[38;5;241m.\u001b[39mastype(np\u001b[38;5;241m.\u001b[39mfloat32) \u001b[38;5;241m/\u001b[39m \u001b[38;5;241m255.0\u001b[39m\n\u001b[0;32m--> 161\u001b[0m \u001b[38;5;28;01mif\u001b[39;00m channel_first \u001b[38;5;129;01mand\u001b[39;00m \u001b[43mimage\u001b[49m\u001b[38;5;241;43m.\u001b[39;49m\u001b[43mndim\u001b[49m \u001b[38;5;241m==\u001b[39m \u001b[38;5;241m3\u001b[39m:\n\u001b[1;32m    162\u001b[0m     image \u001b[38;5;241m=\u001b[39m image\u001b[38;5;241m.\u001b[39mtranspose(\u001b[38;5;241m2\u001b[39m, \u001b[38;5;241m0\u001b[39m, \u001b[38;5;241m1\u001b[39m)\n\u001b[1;32m    164\u001b[0m \u001b[38;5;28;01mreturn\u001b[39;00m image\n",
            "\u001b[0;31mKeyboardInterrupt\u001b[0m: "
          ]
        }
      ],
      "source": [
        "#@title Train/Validation split\n",
        "val_perc : float = 0.15 #@param{type:\"number\"}\n",
        "dataset = DistillDataset(imnet64_train, \n",
        "                         \"teacher_labels_imnet/\",\n",
        "                          teacher_model=teacher,\n",
        "                          teacher_extractor = feature_extractor,\n",
        "                          dataset_name = \"imnet64\"\n",
        "                         )\n",
        "train_len = int((1-val_perc) * len(dataset))\n",
        "val_len = len(dataset) - train_len\n",
        "train_dataset, val_dataset = torch.utils.data.random_split(dataset,\n",
        "                                                           lengths = [train_len, val_len],\n",
        "                                                           generator=torch.Generator(\"cpu\").manual_seed(seed))"
      ]
    },
    {
      "cell_type": "code",
      "execution_count": null,
      "metadata": {
        "cellView": "form",
        "execution": {
          "iopub.status.busy": "2022-12-13T12:02:25.067045Z",
          "iopub.status.idle": "2022-12-13T12:02:25.067325Z",
          "shell.execute_reply": "2022-12-13T12:02:25.067202Z",
          "shell.execute_reply.started": "2022-12-13T12:02:25.067188Z"
        },
        "id": "GjfDKYyqDGo-"
      },
      "outputs": [],
      "source": [
        "#@title Pytorch Lightning datamodule definition\n",
        "class DistillDataModule(pl.LightningDataModule):\n",
        "    def __init__(self, train_dataset, val_dataset, test_dataset, batch_size):\n",
        "        super().__init__()\n",
        "        self.train_dataset = train_dataset\n",
        "        self.val_dataset = val_dataset\n",
        "        self.test_dataset = test_dataset\n",
        "        self.batch_size = batch_size\n",
        "    \n",
        "    def train_dataloader(self) -> torch.utils.data.DataLoader:\n",
        "       return torch.utils.data.DataLoader(self.train_dataset, batch_size = self.batch_size, shuffle = True)\n",
        "\n",
        "    def val_dataloader(self) -> torch.utils.data.DataLoader:\n",
        "       return torch.utils.data.DataLoader(self.val_dataset, batch_size = self.batch_size, shuffle = False)\n",
        "    \n",
        "    def test_dataloader(self) -> torch.utils.data.DataLoader:\n",
        "       return torch.utils.data.DataLoader(self.test_dataset, batch_size = self.batch_size, shuffle = False)"
      ]
    },
    {
      "cell_type": "code",
      "execution_count": null,
      "metadata": {
        "cellView": "form",
        "execution": {
          "iopub.status.busy": "2022-12-13T12:02:25.068686Z",
          "iopub.status.idle": "2022-12-13T12:02:25.068947Z",
          "shell.execute_reply": "2022-12-13T12:02:25.068838Z",
          "shell.execute_reply.started": "2022-12-13T12:02:25.068825Z"
        },
        "id": "yZfAFspcEEn4"
      },
      "outputs": [],
      "source": [
        "#@title Create a datamodule\n",
        "batch_size : int = 128 #@param{type:\"integer\"}\n",
        "datamodule = DistillDataModule(train_dataset,val_dataset,imnet64_test,batch_size = batch_size)"
      ]
    },
    {
      "cell_type": "markdown",
      "metadata": {
        "id": "89YUomqmx-pH"
      },
      "source": [
        "###2.3 Training the student"
      ]
    },
    {
      "cell_type": "code",
      "execution_count": null,
      "metadata": {
        "execution": {
          "iopub.status.busy": "2022-12-13T12:02:25.069929Z",
          "iopub.status.idle": "2022-12-13T12:02:25.070186Z",
          "shell.execute_reply": "2022-12-13T12:02:25.070076Z",
          "shell.execute_reply.started": "2022-12-13T12:02:25.070064Z"
        },
        "id": "lp2LekQdQbDY"
      },
      "outputs": [],
      "source": [
        "#@title Weights & Biases initialization\n",
        "\n",
        "run_name : str = \"imnet_small_student\" #@param{type:\"string\"}\n",
        "\n",
        "#login\n",
        "wandb.login\n",
        "wandb.init(project=\"mixer-kd\", entity='mixer-kd')\n",
        "wandb.run.name = run_name\n",
        "\n",
        "#definition of the metrics to compute\n",
        "wandb.define_metric('epoch')\n",
        "wandb.define_metric('train_loss',step_metric='epoch')\n",
        "wandb.define_metric('test_loss_before',step_metric='epoch')\n",
        "wandb.define_metric('test_loss_after',step_metric='epoch')\n",
        "wandb.define_metric('val_loss',step_metric='epoch')\n",
        "wandb.define_metric('train_accuracy',step_metric='epoch')\n",
        "wandb.define_metric('val_accuracy',step_metric='epoch')\n",
        "wandb.define_metric('test_accuracy_before',step_metric='epoch')\n",
        "wandb.define_metric('test_accuracy_after',step_metric='epoch')\n",
        "\n",
        "#config of the run\n",
        "wandb.config.batch_size = batch_size\n",
        "wandb.config.val_perc = val_perc\n",
        "\n",
        "#definition of the pytorch lightning logger\n",
        "logger = pl.loggers.WandbLogger(name='run_1', project='mixer-kd')"
      ]
    },
    {
      "cell_type": "code",
      "execution_count": null,
      "metadata": {
        "execution": {
          "iopub.status.busy": "2022-12-13T12:02:25.071449Z",
          "iopub.status.idle": "2022-12-13T12:02:25.071757Z",
          "shell.execute_reply": "2022-12-13T12:02:25.071596Z",
          "shell.execute_reply.started": "2022-12-13T12:02:25.071584Z"
        },
        "id": "rHXGSY2o_q8E"
      },
      "outputs": [],
      "source": [
        "#@title Train the student\n",
        "epochs : int = 60 #@param{type:\"integer\"}\n",
        "\n",
        "# checkpoint to save the model with the best validation loss\n",
        "checkpoint = callbacks.ModelCheckpoint(\"checkpoints/\",\n",
        "                                       monitor=\"val_loss\",\n",
        "                                       mode=\"min\")\n",
        "\n",
        "# definition of the triner\n",
        "trainer = pl.Trainer(max_epochs=epochs,\n",
        "                     accelerator=device,\n",
        "                     logger=logger,\n",
        "                     callbacks=[checkpoint]\n",
        "                     )\n",
        "\n",
        "# training\n",
        "logger.watch(student)\n",
        "trainer.test(datamodule=datamodule,model = student) #test before training\n",
        "trainer.fit(datamodule=datamodule,model = student) #trainng\n",
        "student = LitMixer.load_from_checkpoint(checkpoint.best_model_path)\n",
        "student.first_test = False\n",
        "trainer.test(datamodule=datamodule,model = student) #test after training\n",
        "wandb.finish()"
      ]
    },
    {
      "cell_type": "code",
      "execution_count": null,
      "metadata": {
        "cellView": "form",
        "execution": {
          "iopub.execute_input": "2022-12-12T22:42:24.391813Z",
          "iopub.status.busy": "2022-12-12T22:42:24.390895Z",
          "iopub.status.idle": "2022-12-12T22:42:24.572812Z",
          "shell.execute_reply": "2022-12-12T22:42:24.571778Z",
          "shell.execute_reply.started": "2022-12-12T22:42:24.391785Z"
        },
        "id": "by6pgVMpm8vi"
      },
      "outputs": [],
      "source": [
        "#@title Load a model from checkpoint\n",
        "checkpoint_path : str = \"last_checkpoint\" #@param{type:\"string\"}\n",
        "if checkpoint_path == \"last_checkpoint\":\n",
        "    checkpoint_path = checkpoint.best_model_path\n",
        "loaded_student = LitMixer.load_from_checkpoint(checkpoint_path)"
      ]
    },
    {
      "cell_type": "code",
      "execution_count": null,
      "metadata": {
        "cellView": "form",
        "colab": {
          "base_uri": "https://localhost:8080/",
          "height": 283
        },
        "execution": {
          "iopub.execute_input": "2022-12-12T22:42:33.343936Z",
          "iopub.status.busy": "2022-12-12T22:42:33.342990Z",
          "iopub.status.idle": "2022-12-12T22:42:33.507679Z",
          "shell.execute_reply": "2022-12-12T22:42:33.506827Z",
          "shell.execute_reply.started": "2022-12-12T22:42:33.343895Z"
        },
        "id": "buxcGxzpGJya",
        "outputId": "461b708a-00d8-4a66-c881-a5814988ec08"
      },
      "outputs": [
        {
          "data": {
            "text/plain": [
              "('woman', 'lamp')"
            ]
          },
          "execution_count": 24,
          "metadata": {},
          "output_type": "execute_result"
        },
        {
          "data": {
            "image/png": "[encoded data removed]",
            "text/plain": [
              "<Figure size 432x288 with 1 Axes>"
            ]
          },
          "metadata": {
            "needs_background": "light"
          },
          "output_type": "display_data"
        }
      ],
      "source": [
        "#@title Test qualitative results {run : 'auto'}\n",
        "datapoint_number = 600 #@param{type : \"integer\"}\n",
        "image, gt = cifar100_test[datapoint_number]\n",
        "image_pixels = torchvision.transforms.functional.to_pil_image(image)\n",
        "plt.imshow(image_pixels)\n",
        "pr = loaded_student.mixer(image.unsqueeze(0).float())\n",
        "#print(pr)\n",
        "dataset.dataset.classes[gt],  dataset.dataset.classes[pr.argmax().item()]"
      ]
    }
  ],
  "metadata": {
    "accelerator": "GPU",
    "colab": {
      "collapsed_sections": [
        "ES_z2lrFzS4Q",
        "TqXSkG6p0C5A",
        "AjYPKIo8zW_7",
        "GtgQ0OHG21PO",
        "0m4IdUu7-7QI",
        "xzwRW42KdMsj",
        "Td1p_uw8x7Pi"
      ],
      "provenance": []
    },
    "gpuClass": "standard",
    "kernelspec": {
      "display_name": "Python 3 (ipykernel)",
      "language": "python",
      "name": "python3"
    },
    "language_info": {
      "codemirror_mode": {
        "name": "ipython",
        "version": 3
      },
      "file_extension": ".py",
      "mimetype": "text/x-python",
      "name": "python",
      "nbconvert_exporter": "python",
      "pygments_lexer": "ipython3",
      "version": "3.9.13"
    },
    "vscode": {
      "interpreter": {
        "hash": "aee8b7b246df8f9039afb4144a1f6fd8d2ca17a180786b69acc140d282b71a49"
      }
    },
    "widgets": {
      "application/vnd.jupyter.widget-state+json": {}
    }
  },
  "nbformat": 4,
  "nbformat_minor": 0
}